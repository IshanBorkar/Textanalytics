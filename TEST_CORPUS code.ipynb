{
 "cells": [
  {
   "cell_type": "markdown",
   "metadata": {},
   "source": [
    "## Analyzing the text"
   ]
  },
  {
   "cell_type": "markdown",
   "metadata": {},
   "source": [
    "## Load the dataset"
   ]
  },
  {
   "cell_type": "code",
   "execution_count": 82,
   "metadata": {},
   "outputs": [
    {
     "data": {
      "text/plain": [
       "'TEST_CORPUS.txt'"
      ]
     },
     "execution_count": 82,
     "metadata": {},
     "output_type": "execute_result"
    }
   ],
   "source": [
    "corpus_test=('TEST_CORPUS.txt')\n",
    "corpus_test"
   ]
  },
  {
   "cell_type": "code",
   "execution_count": 83,
   "metadata": {},
   "outputs": [
    {
     "data": {
      "text/plain": [
       "<_io.TextIOWrapper name='TEST_CORPUS.txt' mode='a' encoding='cp1252'>"
      ]
     },
     "execution_count": 83,
     "metadata": {},
     "output_type": "execute_result"
    }
   ],
   "source": [
    "corpus_test = open(\"TEST_CORPUS.txt\",\"a\") \n",
    "corpus_test"
   ]
  },
  {
   "cell_type": "code",
   "execution_count": 84,
   "metadata": {},
   "outputs": [
    {
     "name": "stdout",
     "output_type": "stream",
     "text": [
      "1\tSubsonic Potentials in Ultra dense Plasmas\tThe existence of the subsonic dynamic potential for a test charge in extremely dense quantum plasmas is pointed out the first time where usually found supersonic potential is suppressed. The dispersion equation of Ion Acoustic Wave(IAW) in relativistic dense plasmas is derived on employing the Quantum Hydrodynamic Model(QHM). In addition, the standard model of wake potential is hereafter applied for the derivation of dynamic potential of the test particle. The quantized relativistic electrons obey Fermi statistics whereas ions contribute classically. It is noticed that the oscillatory wake potential does exist at very small length scales. Its significant features are further analyzed on the varying magnetic field as well as the number density of plasma systems. It is found that the dynamic potential exists only with the condition $v_t&lt;C_s$ reflecting the subsonic region contrary to the usual $v_t&gt;C_s$ where $v_t$ is the test particle speed and $C_s$ is the acoustic speed defined with the Fermi temperature of the electrons. The work is significant in order to describe the structure formation in the astrophysical environment\n",
      "2\tOvertaking interaction of two weakly nonlinear acoustic solitons in plasmas at critical densities\tAcoustic solitons obtained through a reductive perturbation scheme are normallysgoverned by a Korteweg-de Vries (KdV) equation. In multispecies plasmas at critical densities the coefficient of the quadratic nonlinearity vanishes. Extending the analytic treatment then leads to a modified KdV (mKdV) equation, characterized by a cubic nonlinearity. This is even in the electrostatic potential and thus can admit solitons having opposite electrostatic polarities, in contrast to KdV solitons in plasmas which can only be of one polarity at a time. The original application of the KdV theory to surface waves on shallow water yielded only compressive solitons. To study the overtaking interactions between two solitons in the KdV case, the Hirota formalism had been applied to either two compressive or two rarefactive plasma modes, and can deal with more interacting waves because the KdV equation is completely integrable. This integrability property also holds for the mKdV equation in plasmas at critical densities, but the Hirota formalism for the mKdV equation is more complicated. This formalism can cover the overtaking interaction between a compressive and a rarefactive soliton, with the larger-amplitude and faster soliton overtaking the smaller-amplitude and slower soliton.sExamples of multispecies plasmas where this applies are given. In contrast, there is no Hirota formalism for head-on collisions, neither for the KdV nor mKdV equation.\n",
      "3\tBroadband Focusing Acoustic Lens Based on H-fractal Metamaterials\tAcoustic metamaterials are a kind of well-known artificial structures, which can provide unconventional effective properties to manipulate sound waves. Different from the traditional resonant elements proposed in earlier studies, we designed an acoustic lens based on H-fractal metamaterials. Compared with previous patterns, the proposed model comprises a series of H-fractal metamaterial units. Due to the self-similar properties of the proposed structure, the acoustic responses may arise within a broad frequency range. By adjusting the size of each metamaterial unit, phase of the propagating acoustic waves can be delayed at will. The simulative results show that the designed acoustic focusing lens have excellent focusing abilities from 2 kHz to 5 kHz with considerably high transmission efficiency, making it a promising candidate for a various of acoustic applications.\n",
      "4\tNumerical Simulation of Standing Surface Acoustic Wave for Separating Suspended Particles in Lubricating Oil\tThe microfluidic chip can be used to separate particles via acoustic radiation force and can be applied to separate impurity particles in lubricating oil. We propose herein a device that separates particle by controlling acoustic radiation force via standing surface acoustic waves (SSAWs). The concentration and separation of suspended particles was simulated. We first analyze the force exerted on suspended particles and their subsequent motion in the microfluidic channel, and then verify the concentration of particles exposed to SSAWs. We also investigate how the frequency of the SSAW affects particle concentration and discuss the advantage of using SSAWs to concentrate and separate particles.\n",
      "5\tObservation of Temperature Gradient Driven Electrostatic Ion Acoustic Instability in a Cross-field Diffused Plasma\tThe turbulence characteristics of near EEF target region, embedded with diffused plasma emanating across large electron energy filter (EEF) is reported for large volume plasma device. The near EEF target plasma exhibits gradient free profiles of plasma density (&#x2207;n_e=0) but plasma potential (&#x2207;V_p&#x2260;0) and electron temperature (&#x2207;T_e&#x2260;0) profiles shows finite gradients. The finite radial electric field reverses sign with respect to the centre of device. The plasma conditions are prevailing with magnetized electrons (&#x03C9;_ce&#x226B;&#x03BD;_en) but ions are not (&#x03C9;_ci&lt;&#x03BD;_in). Electron drifts due to temperature gradient,  Vde and finite electric field, &#x3016;V^(E&#x00D7;B )&#x3017;_ exceeding ion sound velocity, &#x3016; C&#x3017;_s. The observed density fluctuations (deltane/ne~7-10%   ) are broadband in nature and have frequency ordering, &#x03C9;_ci&lt;&#x03C9;&#x226A;&#x03C9;_ce . Numerically obtained growth frequency exceeds ion cyclotron frequency (&#x03B3;&gt;&#x03C9;_ci) but its magnitude is less than the mode frequency (&#x03B3;&lt;&#x03C9;). Observed gradTe driven mode propagate in ion diamagnetic drift direction and exhibits nature of electrostatic ion acoustic mode.\n",
      "6\tStrain induced mobility enhancement in p-type silicon structures: bulk and quantum well (quantum kinetic approach)\tAnalytic expressions for low field mobility have been obtained in the high strained p-type silicon structures with three- and two- dimensional hole gases. Main attention is paid to study how confinement in one spatial dimension changes the strain mobility enhancement in comparison with bulk material. The mobility enhancement factor has been calculated at application of the uniaxial and biaxial strains. Acoustic and optic phonons, charged impurities, and surface roughness have been accepted as a scattering system. Our theoretical consideration is based on the quantum kinetic equation and a special form of the non-equilibrium distribution function (shifted Fermi distribution). Results of calculation are compared with known experimental data.\n",
      "7\tGlass Fracture by Focusing of Laser-Generated Nanosecond Surface Acoustic Waves\tDynamic fracture of borosilicate glass through focusing of high-amplitude nanosecond surface acoustic waves (SAWs) at the micron scale is investigated in an all-optical experiment. SAWs are generated by an intense picosecond laser excitation pulse focused into a ring-shaped spot on the sample surface. Interferometric imaging of the sample surface with a femtosecond probe pulse allows quantitative measurement of the vertical surface displacements. Images taken at different pump-probe delays capture the SAW as it converges towards the center, focuses, and subsequently diverges. The amplitude of the SAW is varied by changing the laser excitation energy. Above a certain laser excitation energy threshold, a damage at the acoustic focal point is observed. A post-mortem investigation reveals a crater formed by the ejection of a piece of material. Numerical calculations matching the measured surface displacement profiles help us determine the time evolution of the stress distribution in the sample and at the acoustic focus. We find that the glass withstands a nanosecond local tensile stress of at least 6 GPa without visible fracture, which is well above the tensile limit observed in conventional shock spallation experiments.\n",
      "8\tKdV Acoustic Structure with Exchange-Correlation Potential in Plasmas\tThe effects of exchange-correlation potential(ECP) on the profile of dust acoustic solitary waves (DASWs) in degenerate dusty plasmas has been investigated. The plasmassystem is consisting upon three species such as degenerate ions and electrons, andsclassical dust grains. This study is comprising upon the linear and nonlinear analysissof long wavelength dust acoustic waves in non-relativistic plasmas. The linear acoustic wave have been analyzed by using the multi-fluid model whereas to study smallsamplitude DASWs, modified Korteweg de Vries (KdV) equation has been derived bysusing the reductive perturbation theory. The effects of dust concentration (Havenesssparameter h) in the plasma, and exchange correlation potential have been highlighted.sThe dust concentration and exchange correlation potential affect the solitary wavesamplitude and its width remarkably. Our results can be used to understand the characteristics of nonlinear electrostatic waves exciting in a dense degenerate Fermi gas,spresent in metallic nano structures or presumably in near-supernova environments,sin the presence of massive charged defects.\n",
      "9\tAcoustic Nonlinearity Parameter Induced by Extended Dislocations\tExcess acoustic nonlinearity is a signature of microstructural defects on a propagating ultrasound. By measuring the excess acoustic nonlinearity parameter, defect characteristics can be inferred nondestructively through ultrasonic techniques. To this end, proper models are needed to relate the excess acoustic nonlinearity parameter with defect characteristics. In this study, an analytical model for extended dislocations is developed that relates the excess acoustic nonlinearity parameter with characteristics of the extended dislocation including dislocation density, stacking fault energy, and equilibrium distance between the two partial dislocations that form the extended dislocation. According to this model, the excess acoustic nonlinearity parameter induced by extended dislocations consists of a stress-independent term and a stress-dependent term. Both terms are scaled with (Lchar/b)n, where Lchar is the equilibrium distance between the two partials, b is the magnitude of Burgers vector and n is 3 and 4 for the stress-independent and stress-dependent terms, respectively. The model will be useful for interpreting results from ultrasonic nondestructive evaluation of material defects.\n",
      "10\tSurface anisotropy in a magnetic cylinder induced by the displacement of a vortex core\tIn this article we investigate the induction of a surface anisotropy due to the displacement of the vortex core in a cylindrical nanostructure. In fact, the effect of the displacement of the vortex core in the dipolar energy can be modeled simply as a surface anisotropy of the form $E_s = K_s \\int_{\\mathcal{S}_m} d\\mathcal{S} \\, (\\hat{n} \\cdot \\hat{m})^2/2$. Moreover, the surface anisotropy constant $K_s$ is proportional to the cylinder in-plane demagnetizing factor in the direction of the core deviation, $N_y(L/R)$, i.e., $K_s = \\mu_0 M_0^2 R \\,  N_y(L/R)$, where $R$ and $L$ are the radius and the thickness of the cylinder, respectively. Our results show that the term of the nontrivial dipolar energy caused by the charges in the cylinder mantle can be replaced by a simple integral $E_s$ that increases the efficiency of the numerical calculations in the analytical study of the displacement of the vortex core in magnetic vortices.\n",
      "11\tOptical-force-induced circular dichroism in the surface plasmon resonance of single nanocrystals\tThe quantum-mechanical theory adequately describes optical activity in small molecules. However, the simplified one-electron model is insufficient to describe optical activity in plasmonic nanocrystals, where longitudinal polarization along the light propagation direction is crucial at the nanometer scale. Here, the experimental observation of natural circular dichroism in the surface plasmon resonances of spherical gold, silver, and copper nanocrystals in solution is presented. Optical forces exert on the nanoparticle in the light propagation direction, which induces longitudinal polarization, coupling to surface plasmons, and optical symmetry-breaking. Ellipticity sign indicates that dipolar surface plasmons are optically left-handed whereas quadrupolar surface plasmons are optically right-handed, manifesting the conservation of orbital angular momentum in the surface plasmon resonance. The plasmon-mode-dependent ellipticity sign is consistently observed for anisotropic nanocrystals including triangles, octahedra, nanorods, and core-shell nanoparticles. Structural effects such as nanocrystal assembly, nanocrystal shape, and plasmon-molecule interaction are accessed. The classical coupled-oscillator model adequately describes the optomechanical circular dichroism. This study demonstrates a helical resonance of surface plasmons in the structurally achrial nanocrystals by asymmetry in the longitudinal polarization, which will impact on hot-electron generation, nonlinear optical response, and metamaterial functionality.\n",
      "12\tAu nanoparticles as nuclei for defect formation in memristive SrTiO3 thin films\tWe investigated the possibility to tune the local switching properties of memristive crystalline SrTiO3 thin films by inserting nanoscale defect nucleation centers. For that purpose, we employed chemically synthesized Au nanoparticles deposited on the Nb doped SrTiO3 single crystal substrates as a defect formation template for the subsequent growth of SrTiO3. We studied in detail the resulting microstructure and the local conducting and switching properties of the SrTiO3 thin films.We worked out that the Au nanoparticles float to the SrTiO3 surface during growth, leaving behind a distorted thin film region in their vicinity. By employing conductive-tip atomic force microscopy, these distorted SrTiO3 regions are identified as sites of preferential resistive switching. These findings can be attributed to the enhanced oxygen exchange reaction at the surface in these defective regions.\n",
      "13\tWear Characteristics of TiAlN Coated on HSS Tool steel bythe Machining of AISI 410 Steel\tIn this study, the Ti0.4Al0.4N coatings were produced by physical vapor deposition (PVD) on HSSsingle point cutting tool. The coating phase composition and microstructure were investigated with X-raydiffraction (XRD) and scanning electron microscopy (SEM) (with EDS attachment). The wear behaviorand cutting performance of the uncoated and Ti0.4Al0.4N coated tool at room temperature wereinvestigated under dry condition. Turning tests were carried out on both uncoated and Ti0.4Al0.4N coatedHSS single point cutting tool in AISI410 steel turning under dry conditions, with the diverse depths of cut0.5mm, 1mm and 1.5 mm at a constant work piece rotating velocity of 0.65m/s. The Tribological andmechanical properties of coated pin were characterized by pin-on-disc and nanoindentation test. Theresult showed that Ti0.4Al0.4N coating had higher hardness than uncoated tool due to its smaller grainsize. Cutting performance of the HSS single point cutting tool was improved with the covering ofTi0.4Al0.4N coating with at least 2 times of cutting life. No spalling was occurred after the cutting tests forTi0.4Al0.4N coated HSS single point cutting tool. The more pits and grooving region were established onthe uncoated tool. This result exhibits that Ti0.4Al0.4N coating performed good adhesion and abrasivewear resistance, cutting performance and longer tool life than uncoated tool.\n",
      "14\tEXPERIMENTAL INVESTIGATION OF CONVECTIVE HEAT TRANSFER COEFFICIENT IN PARABOLIC COLLECTOR USING NANOFLUIDS\tThe performance of the collector is improved using nanofluid  which improves the overall performance of the parabolic collector. In the present analysis, the use of aluminum and copper tube as a vacuum absorber pipe with Al2O3/water, CuO/water nanofluid , and water as a base fluid to determine the performance characteristic of temperature, efficiency, and heat transfer coefficient. The experimentation performed by taking (0.1 % Vol. concentration) CuO/water and Al2O3/water nanofluid  on copper & aluminum pipe for the Reynolds number of 3400, 4500 & 5600 respectively. From the results it is clear that with the use of nanofluid, the efficiency of the parabolic collector is improved by 10-25% than the base fluid, the efficiency increases (%) for copper pipe with CuO/water is 91.42%, 84.34%, 79.90 % for the low Reynolds number of the higher. The heat transfer, enhanced the performance of the copper pipe with CuO/water nanofluid, which varies from 87.98%, 63.70 %, and 48.72 % of the increase in Reynolds number. From the result, it is clear that the heat transfer enhancement at low flow rate shows the best result as compared to the other cases. The percentage increase at the outlet of absorber pipe, in case of copper pipe with CuO/water nanofluid  is 53.85 % as compared with other cases of experimentation and different flow rate of nanofluid  inside the tubes. From the experimentation, it is also concluded that the friction factor decreases with the increase in flow rates.\n",
      "15\tThick Film Deposition from Supersonic Impact of Monosized Ag Nanoparticles\tWe describe the use of the laser ablation of microparticle aerosols process to deposit patterned thick films of Ag from nanoparticles at high velocities and study the effects of varying the nanoparticle impacting velocity, while fixing the nanoparticle size. It is shown that the relative height of the deposits and the impacting velocity influence the microstructure, with higher heights leading to greater porosity. Using molecular dynamics simulations, a critical normal impacting velocity of 600 m/s for a 6 nm particle was calculated. A model was developed to explain the influence of relative heights and impacting velocity on porosity.\n",
      "16\tNonlinear Constitutive Models for Nano-scale Heat Conduction\tWe present a rigorous approach that leads, from a many-particle description, to a nonlinear,  stochastic constitutive relation for the modeling of  transient heat conduction processes at nanoscale.  By enforcing statistical consistency, in that the statistics of the local energy is consistentswith that from an all-atom description, we identify the driving force as well as the model parameters in these generalized constitutive models.\n",
      "17\tAn ultra-compact low temperature scanning probe microscope for magnetic felds above 30 T\tWe present the design of a highly compact High Field Scanning Probe Microscope (HF-SPM) for operation at cryogenic temperatures in an extremely high magnetic field, provided by a water-cooled Bitter magnet able to reach 38 T. The HF-SPM is 14 mm in diameter: an Attocube nano-positioner controls the coarse approach of a piezo resistive AFM cantilever to a scanned sample. The Bitter magnet constitutes an extreme environment for SPM due to the high level of vibrational noise;  the Bitter magnet noise at frequencies up to 300 kHz is characterized and noise mitigation methods are described.  The performance of the HF-SPM is demonstrated by topographic imaging and noise measurements at up to 30 T. Additionally, the use of the SPM as a three-dimensional dilatometer for magnetostriction measurements is demonstrated via measurements on a magnetically frustrated spinel sample.\n",
      "18\tNonlinear Dynamical Analysis of Cu-doped ZnO Nanoparticles (NPs) for Biological Applications\tSince ZnO based nanoparticles have variety of nanostructures, tools of Non-linear Dynamical Theory (NLD) have been used successfully in the present work to analyze the XRD time series, a priori  knowledge helpful to come up with basic understanding about the nano particles formed. Cu-doped ZnO nanosystems are analyzed, first by estimating Correlation Dimension (Cd), in order to quantify the low-dimensional chaotic behavior, shown by the nanosystems through the XRD time series. Quantitative information concerning the preferential orientation of crystallites is also obtained from the Texture Coefficient (TC) of different planes of the particles formed. It has also been verified that the orientations of the crystallites as well as their size can be controlled by changing the dopant percentage. The numerical values of the Cd, TC, and Crystallite Size of different samples are obtained and used for analyzing the over-all behavior of the of crystallites formed. Lacunarity, as a geometrical scale dependent measure of texture, is also used analyze the images of Zone of Inhibition (ZoI), a biological parameter to quantify the impact of anti-bacterial nanoparticles in case of Gram-negative E coli and Gram-positive S aureus pathogens. It is also confirmed for the first time that the basic XRD data from the nanoparticles may be used as a marker to predict desired surface features of the nanoparticles to be obtained for biological application, such as, detecting specific pathogens.\n",
      "19\tA non-destructive method to calibrate the torsional spring constant of atomic force microscope cantilevers in viscous environments\tCalibration of the torsional spring constant of atomic force microscopy cantilevers is fundamental to a range of applications, from nanoscale friction and lubrication measurements to the characterization of micro-electromechanical systems and the response of biomolecules to external stimuli. Existing calibration methods are either time consuming and destructive (ex situ static approaches), or rely on models using the frequency and quality factor (Q-factor) of the cantilever torsional resonance as input parameters (in situ dynamical approaches). While in situ approaches are usually preferred for their easy implementation and preservation of the cantilever, their dependence on the torsional resonance Q-factor renders calibration in highly viscous environments challenging. This is problematic, for example, in many nanoscale tribological applications. Here, we propose a calibration method that does not depend on the cantilever torsional Q-factor, and show how the cantilever deflection can be converted into a lateral force. The method is tested with six cantilevers of different shapes and material composition, and in six fluid media. The derived spring constants are compared with predictions from existing methods, demonstrating a higher precision, in particular for highly viscous liquids.\n",
      "20\tA Comparative Investigation on Effects of Nanoparticles on Characteristics of Natural Esters - based Nanofluids\tThe effects of transformer oil based nanofluids have been broadly investigated and showcased a magnificent improvement in performance. But in natural esters based nanofluids characteristic performance persist virtually unexplored and still there is a room for investigation. This work aims to examine the effect of three dissimilar types of nanoparticles such as Aluminum Oxide (Al2O3), Boron Nitrate (BN) and Ferrous Ferric Oxide (Fe3O4) at various volume concentrations on the characteristic performance of natural esters. Honge oil (HO), Neem oil (NO), Mustard oil (MO) and Punna oil (PO) is considered as base fluid for investigation. The characteristic performances of base fluids are tested before and after blending of nanoparticles as per standards. The findings are quite promising because of the performance of nanofluids shows a significant improvement.\n",
      "21\tApproach of a nanoparticle towards plasma membrane: How van der Waals effect dominates electrostatics in distinguishing between a gold and silica nanoparticle? \tMaking a nanoparticle (NP) approach and interact with a plasma membrane (PM) through the receptor-ligand (RL) interaction is key for applications like targeted drug delivery, cellular imaging, and theranostics. In this letter, we show that van der Waals (vdW) interactions dominate the electrostatics ensuring that a gold NP (GNP) approached the PM more spontaneously as compared to a silica NP (SNP). The negative &sigma;  (charge density) of a PM induces a negative electrostatic potential at the surface of the approaching GNP and SNP; however, there is a little difference between these induced values due to a small electric double layer at physiological salt concentration (c&infin;). Hence there is little difference in the electrostatic repulsion between the two cases, while the PM-NP vdW attraction is much more for the GNP as a result of a larger Hamaker constant. Therefore, in comparison to the GNP, the SNP would (a) undergo a promotion of specific adhesion (SA) and a prevention of non-specific adhesion (NSA) simultaneously across larger &sigma;&minus; c&infin; phase space including physiological conditions, (b) necessitate a larger length of the ligand to trigger spontaneous RL interaction, and (c) require a larger driving force for force-driven RL interactions. \n",
      "22\tFluence and pulse number dependent surface nanostructures induced by femtosecond laser on SrTiO3\tSrTiO3 (STO) is a key perovskite oxide with fascinating properties in electronics and optoelectronics. The formation of surface nanostructures is an ideal platform to study femtosecond laser-STO interaction. The generation and evolution of surface nanostructures induced by femtosecond laser on STO surface have been studied experimentally. The surface nanostructures show distinct features with a clear fluence and pulse number dependence. Unlike the regular ripples which either parallel or perpendicular to the laser polarization, ripples formed on STO surface after irradiated with 4 laser pulses coexist in both directions and cover all the structured area. When further increase the pulse number, ripples parallel to the laser polarization dominates at lower fluence regime while ripples perpendicular to the laser polarization are the only surface structures formed at higher fluence regime. The periodicity of ripples perpendicular to the laser polarization decreases with more laser pulse irradiation while the periodicity of the ripples parallel to the laser polarization show different behavior.  FDTD (finite-difference time-domain) method and Sipe-Drude model have been adopted to analyze the energy deposition on STO surface. The results show that the different energy deposition upon the different excitation levels, which is caused by the incubation effect and the local enhancement of energy absorption, leads to the pulse number and fluence dependence of the surface structures. As the number of the pulse increasing, the feedback effect plays a major role gradually and determines the formation and evolution of the surface nanostructures.\n",
      "23\tSimulation and optimization of a new electrochromic with (WO3+Ag) nanocomposit thin film-assisted cooling system on energy saving\tIn the past years, many studies have been done in the field of smart windows and solar cells, the most important of these were electrochromic devices (ECD). This study was investigated the optimization of thermal energy consumption by using electrochromic components with a new nanocomposit layer (WO3+Ag) in a larger size (window) for a room with a educational application for five cities with different climates conditions in Iran (Yazd, Tehran, Bandar Abbas, Tabriz and Sari). For this simulation platform, the software has been implemented in (Energy Plus). This feasibility study has been modeled by (DesignBuilder) software and has been reported the reduction of thermal energy consumption in all climates in Iran (Hot and dry, Warm and semi-humid, warm and wet, moderate and dry and mild and humid.). Also, four strategies are considered for better comparison. The first strategy is the use of common double-glazed windows, the second to fourth strategy, and the use of the electrochromic window in three different modes; bleached mode (Off), colored mode (On), and switchable mode (controlled beneath comfort conditions). The third and fourth strategy has shown a reduction in thermal energy consumption in different climates from 25 to 45% relative to (typical windows). The best result of cooling energy consumption was also in Tehran. So, for this climate, the average energy consumption dropped to 34% for the warm months of the year and even 42% for the warmest month of the year (August).\n",
      "24\tEnhancing intrinsic detection efficiency of superconducting nanowire single-photon detectors via helium ion irradiation\tRealizing an NbN superconducting nanowire single-photon detector (SNSPD) with a 100% intrinsic detection efficiency (IDE) at the near-infrared wavelengths is still challenging. Herein, we developed a post-processing method to increase the IDE of NbN SNSPDs to near unity using a 20 keV helium ion irradiation. The IDE enhancement was achieved owing to the ion-induced reduction of the superconducting energy gap and the electron density of states at the Fermi level, determined with the electrical and magnetic transport measurements. The change in optical absorptance of the irradiated SNSPD was negligible as confirmed by the measured optical reflectance and system detection efficiency (SDE). Benefited with the IDE enhancement, the SDE of an irradiated device was significantly increased from 49% to 92% at 2.2 K for a 1550 nm wavelength.\n",
      "25\tMixed Convection Characteristics in a Baffeled U-shaped Lid-driven Cavity in the Presence of Magnetic Field\tIn the present study, mixed convection of CuO/water nanofluid in a lid-driven U-shaped enclosure filled with a baffle is studied using lattice Boltzmann method (LBM). The bottom wall is fixed at a uniform temperature and the effect of magnetic field is investigated. KKL (Koo-Kleinstreuer-Li) model is used to get the effective thermal conductivity and viscosity of nanofluid. In this model, Brownian motion of nanoparticle is considered. Effect of Hartmann number, Richardson number, Reynolds number and nanoparticle volume fraction on streamlines, isotherms and averaged Nusselt number have been examined. The results revealed that at Re = 100, the nanofluid strategy has a detrimental effect on the Nusselt number when the Richardson number is high. As Reynolds number increases, the average Nusselt number increases but adverse trends can be observed when the Hartmann numbers increases. The effect of increasing Reynolds number on the heat transfer rate is more conspicuous at higher Richardson numbers.\n",
      "26\tEffect of sputtering conditions on the structure and magnetic properties of self-assembled BiFeO3-CoFe2O4 nanocomposite thin films\tThis article describes the growth of self-assembled spinel-perovskite nanocomposite thin films using a sputtering technique. Vertically aligned nanocomposites, consisting of CoFe2O4 grown as pillars in a BiFeO3 matrix, were observed under optimum growth conditions. The magnetic hysteresis loops of these nanocomposites showed a strong out-of-plane anisotropy. The physical properties of these nanocomposites were dramatically changed by modulating the growth conditions, which affected the growth rates and strain states. Finally, we provide a mapping that summarizes the structure and magnetic anisotropy changes that occur with growth rate, for optimizing synthesis conditions for self-assembled oxide nanostructures.\n",
      "27\tPolydimethylsiloxane (PDMS): Optical Constants from 191 &ndash; 1688 nm (0.735 &ndash; 6.491 eV) by Spectroscopic Ellipsometry\tHerein we report the optical function(s) of PDMS as determined from reflection spectroscopic ellipsometry (SE) and transmission ultraviolet-visible data. These functions were obtained from 191 to 1688 nm from two commercial samples of liquid PDMS (PDMS700 and PDMS2000) that had molecular weights of 700-1500 g/mol and 2000-3500 g/mol, respectively. Both samples were linear polymers terminated with silanol groups. The optical functions determined from the two materials were essentially identical. In addition to analyzing the data from the individual samples, the SE data from the samples were combined in a multi-sample analysis (MSA). Both the reflection and transmission measurements required special experimental considerations. For the reflection SE measurements, these included roughening (frosting) the inside of the vessel that held the PDMS and the need to level the instrument instead of the samples. The transmission measurements were obtained via a dual cuvette approach that eliminated the effects of the cuvettes and their interfaces. Because both samples of PDMS were transparent over the measured wavelength range, and because of the relatively wide wavelength range considered, the optical functions were fit with a Sellmeier model. This produced a good fit for the MSA with a mean squared error, MSE, value of 1.24. The optical functions obtained in this work agreed well with previously reported values. For example, for the MSA, we obtained the following nx values, where x is the wavelength in nanometers: n300 = 1.439, n500 = 1.407, and n1000 = 1.395.\n",
      "28\tExperimental observation of size-dependent behavior in surface energy of gold nanoparticles through atomic force microscope\tSurface energy plays a key role in the physicochemical interactions of materials surfaces and it is closely related to the unique properties and numerous surface functionalization possibilities of gold nanoparticles. Herein, we have reported an atomic force microscopy based technique to measure the surface energies of different materials under the peakforce quantitative nanomechanical mapping mode. Our study on gold nanoparticles focuses on the particles with diameters ranging from 2 to 14 nm. The experimental results indicate a clear size-dependent behavior in the surface energy of gold nanoparticles when the size is smaller than 5 nm, and the smallest gold nanoparticle displays a 3-fold higher surface energy compared to bulk gold. Therefore, our experimental results provide essential evidence that can lead to a better understanding of the size-property relations allowing for process design in gold nanoparticles.\n",
      "\n"
     ]
    }
   ],
   "source": [
    "corpus_test = open(\"TEST_CORPUS.txt\",\"r+\") \n",
    "print(corpus_test.read())"
   ]
  },
  {
   "cell_type": "code",
   "execution_count": 85,
   "metadata": {},
   "outputs": [],
   "source": [
    "corpus_test=open(\"TEST_CORPUS.txt\",\"rt\")\n",
    "text=corpus_test.read()\n",
    "corpus_test.close()"
   ]
  },
  {
   "cell_type": "markdown",
   "metadata": {},
   "source": [
    "## 1) Manual Tokenization"
   ]
  },
  {
   "cell_type": "code",
   "execution_count": 86,
   "metadata": {},
   "outputs": [
    {
     "name": "stdout",
     "output_type": "stream",
     "text": [
      "['1', 'Subsonic', 'Potentials', 'in', 'Ultra', 'dense', 'Plasmas', 'The', 'existence', 'of', 'the', 'subsonic', 'dynamic', 'potential', 'for', 'a', 'test', 'charge', 'in', 'extremely', 'dense', 'quantum', 'plasmas', 'is', 'pointed', 'out', 'the', 'first', 'time', 'where', 'usually', 'found', 'supersonic', 'potential', 'is', 'suppressed.', 'The', 'dispersion', 'equation', 'of', 'Ion', 'Acoustic', 'Wave(IAW)', 'in', 'relativistic', 'dense', 'plasmas', 'is', 'derived', 'on', 'employing', 'the', 'Quantum', 'Hydrodynamic', 'Model(QHM).', 'In', 'addition,', 'the', 'standard', 'model', 'of', 'wake', 'potential', 'is', 'hereafter', 'applied', 'for', 'the', 'derivation', 'of', 'dynamic', 'potential', 'of', 'the', 'test', 'particle.', 'The', 'quantized', 'relativistic', 'electrons', 'obey', 'Fermi', 'statistics', 'whereas', 'ions', 'contribute', 'classically.', 'It', 'is', 'noticed', 'that', 'the', 'oscillatory', 'wake', 'potential', 'does', 'exist', 'at', 'very', 'small', 'length', 'scales.', 'Its', 'significant', 'features', 'are', 'further', 'analyzed', 'on', 'the', 'varying', 'magnetic', 'field', 'as', 'well', 'as', 'the', 'number', 'density', 'of', 'plasma', 'systems.', 'It', 'is', 'found', 'that', 'the', 'dynamic', 'potential', 'exists', 'only', 'with', 'the', 'condition', '$v_t&lt;C_s$', 'reflecting', 'the', 'subsonic', 'region', 'contrary', 'to', 'the', 'usual', '$v_t&gt;C_s$', 'where', '$v_t$', 'is', 'the', 'test', 'particle', 'speed', 'and', '$C_s$', 'is', 'the', 'acoustic', 'speed', 'defined', 'with', 'the', 'Fermi', 'temperature', 'of', 'the', 'electrons.', 'The', 'work', 'is', 'significant', 'in', 'order', 'to', 'describe', 'the', 'structure', 'formation', 'in', 'the', 'astrophysical', 'environment', '2', 'Overtaking', 'interaction', 'of', 'two', 'weakly', 'nonlinear', 'acoustic', 'solitons', 'in', 'plasmas', 'at', 'critical', 'densities', 'Acoustic', 'solitons', 'obtained', 'through', 'a', 'reductive', 'perturbation', 'scheme', 'are', 'normallysgoverned', 'by', 'a', 'Korteweg-de', 'Vries', '(KdV)', 'equation.', 'In', 'multispecies', 'plasmas', 'at', 'critical', 'densities', 'the', 'coefficient', 'of', 'the', 'quadratic', 'nonlinearity', 'vanishes.', 'Extending', 'the', 'analytic', 'treatment', 'then', 'leads', 'to', 'a', 'modified', 'KdV', '(mKdV)', 'equation,', 'characterized', 'by', 'a', 'cubic', 'nonlinearity.', 'This', 'is', 'even', 'in', 'the', 'electrostatic', 'potential', 'and', 'thus', 'can', 'admit', 'solitons', 'having', 'opposite', 'electrostatic', 'polarities,', 'in', 'contrast', 'to', 'KdV', 'solitons', 'in', 'plasmas', 'which', 'can', 'only', 'be', 'of', 'one', 'polarity', 'at', 'a', 'time.', 'The', 'original', 'application', 'of', 'the', 'KdV', 'theory', 'to', 'surface', 'waves', 'on', 'shallow', 'water', 'yielded', 'only', 'compressive', 'solitons.', 'To', 'study', 'the', 'overtaking', 'interactions', 'between', 'two', 'solitons', 'in', 'the', 'KdV', 'case,', 'the', 'Hirota', 'formalism', 'had', 'been', 'applied', 'to', 'either', 'two', 'compressive', 'or', 'two', 'rarefactive', 'plasma', 'modes,', 'and', 'can', 'deal', 'with', 'more', 'interacting', 'waves', 'because', 'the', 'KdV', 'equation', 'is', 'completely', 'integrable.', 'This', 'integrability', 'property', 'also', 'holds', 'for', 'the', 'mKdV', 'equation', 'in', 'plasmas', 'at', 'critical', 'densities,', 'but', 'the', 'Hirota', 'formalism', 'for', 'the', 'mKdV', 'equation', 'is', 'more', 'complicated.', 'This', 'formalism', 'can', 'cover', 'the', 'overtaking', 'interaction', 'between', 'a', 'compressive', 'and', 'a', 'rarefactive', 'soliton,', 'with', 'the', 'larger-amplitude', 'and', 'faster', 'soliton', 'overtaking', 'the', 'smaller-amplitude', 'and', 'slower', 'soliton.sExamples', 'of', 'multispecies', 'plasmas', 'where', 'this', 'applies', 'are', 'given.', 'In', 'contrast,', 'there', 'is', 'no', 'Hirota', 'formalism', 'for', 'head-on', 'collisions,', 'neither', 'for', 'the', 'KdV', 'nor', 'mKdV', 'equation.', '3', 'Broadband', 'Focusing', 'Acoustic', 'Lens', 'Based', 'on', 'H-fractal', 'Metamaterials', 'Acoustic', 'metamaterials', 'are', 'a', 'kind', 'of', 'well-known', 'artificial', 'structures,', 'which', 'can', 'provide', 'unconventional', 'effective', 'properties', 'to', 'manipulate', 'sound', 'waves.', 'Different', 'from', 'the', 'traditional', 'resonant', 'elements', 'proposed', 'in', 'earlier', 'studies,', 'we', 'designed', 'an', 'acoustic', 'lens', 'based', 'on', 'H-fractal', 'metamaterials.', 'Compared', 'with', 'previous', 'patterns,', 'the', 'proposed', 'model', 'comprises', 'a', 'series', 'of', 'H-fractal', 'metamaterial', 'units.', 'Due', 'to', 'the', 'self-similar', 'properties', 'of', 'the', 'proposed', 'structure,', 'the', 'acoustic', 'responses', 'may', 'arise', 'within', 'a', 'broad', 'frequency', 'range.', 'By', 'adjusting', 'the', 'size', 'of', 'each', 'metamaterial', 'unit,', 'phase', 'of', 'the', 'propagating', 'acoustic', 'waves', 'can', 'be', 'delayed', 'at', 'will.', 'The', 'simulative', 'results', 'show', 'that', 'the', 'designed', 'acoustic', 'focusing', 'lens', 'have', 'excellent', 'focusing', 'abilities', 'from', '2', 'kHz', 'to', '5', 'kHz', 'with', 'considerably', 'high', 'transmission', 'efficiency,', 'making', 'it', 'a', 'promising', 'candidate', 'for', 'a', 'various', 'of', 'acoustic', 'applications.', '4', 'Numerical', 'Simulation', 'of', 'Standing', 'Surface', 'Acoustic', 'Wave', 'for', 'Separating', 'Suspended', 'Particles', 'in', 'Lubricating', 'Oil', 'The', 'microfluidic', 'chip', 'can', 'be', 'used', 'to', 'separate', 'particles', 'via', 'acoustic', 'radiation', 'force', 'and', 'can', 'be', 'applied', 'to', 'separate', 'impurity', 'particles', 'in', 'lubricating', 'oil.', 'We', 'propose', 'herein', 'a', 'device', 'that', 'separates', 'particle', 'by', 'controlling', 'acoustic', 'radiation', 'force', 'via', 'standing', 'surface', 'acoustic', 'waves', '(SSAWs).', 'The', 'concentration', 'and', 'separation', 'of', 'suspended', 'particles', 'was', 'simulated.', 'We', 'first', 'analyze', 'the', 'force', 'exerted', 'on', 'suspended', 'particles', 'and', 'their', 'subsequent', 'motion', 'in', 'the', 'microfluidic', 'channel,', 'and', 'then', 'verify', 'the', 'concentration', 'of', 'particles', 'exposed', 'to', 'SSAWs.', 'We', 'also', 'investigate', 'how', 'the', 'frequency', 'of', 'the', 'SSAW', 'affects', 'particle', 'concentration', 'and', 'discuss', 'the', 'advantage', 'of', 'using', 'SSAWs', 'to', 'concentrate', 'and', 'separate', 'particles.', '5', 'Observation', 'of', 'Temperature', 'Gradient', 'Driven', 'Electrostatic', 'Ion', 'Acoustic', 'Instability', 'in', 'a', 'Cross-field', 'Diffused', 'Plasma', 'The', 'turbulence', 'characteristics', 'of', 'near', 'EEF', 'target', 'region,', 'embedded', 'with', 'diffused', 'plasma', 'emanating', 'across', 'large', 'electron', 'energy', 'filter', '(EEF)', 'is', 'reported', 'for', 'large', 'volume', 'plasma', 'device.', 'The', 'near', 'EEF', 'target', 'plasma', 'exhibits', 'gradient', 'free', 'profiles', 'of', 'plasma', 'density', '(&#x2207;n_e=0)', 'but', 'plasma', 'potential', '(&#x2207;V_p&#x2260;0)', 'and', 'electron', 'temperature', '(&#x2207;T_e&#x2260;0)', 'profiles', 'shows', 'finite', 'gradients.', 'The', 'finite', 'radial', 'electric', 'field', 'reverses', 'sign', 'with', 'respect', 'to', 'the', 'centre', 'of', 'device.', 'The', 'plasma', 'conditions', 'are', 'prevailing', 'with', 'magnetized', 'electrons', '(&#x03C9;_ce&#x226B;&#x03BD;_en)', 'but', 'ions', 'are', 'not', '(&#x03C9;_ci&lt;&#x03BD;_in).', 'Electron', 'drifts', 'due', 'to', 'temperature', 'gradient,', 'Vde', 'and', 'finite', 'electric', 'field,', '&#x3016;V^(E&#x00D7;B', ')&#x3017;_', 'exceeding', 'ion', 'sound', 'velocity,', '&#x3016;', 'C&#x3017;_s.', 'The', 'observed', 'density', 'fluctuations', '(deltane/ne~7-10%', ')', 'are', 'broadband', 'in', 'nature', 'and', 'have', 'frequency', 'ordering,', '&#x03C9;_ci&lt;&#x03C9;&#x226A;&#x03C9;_ce', '.', 'Numerically', 'obtained', 'growth', 'frequency', 'exceeds', 'ion', 'cyclotron', 'frequency', '(&#x03B3;&gt;&#x03C9;_ci)', 'but', 'its', 'magnitude', 'is', 'less', 'than', 'the', 'mode', 'frequency', '(&#x03B3;&lt;&#x03C9;).', 'Observed', 'gradTe', 'driven', 'mode', 'propagate', 'in', 'ion', 'diamagnetic', 'drift', 'direction', 'and', 'exhibits', 'nature', 'of', 'electrostatic', 'ion', 'acoustic', 'mode.', '6', 'Strain', 'induced', 'mobility', 'enhancement', 'in', 'p-type', 'silicon', 'structures:', 'bulk', 'and', 'quantum', 'well', '(quantum', 'kinetic', 'approach)', 'Analytic', 'expressions', 'for', 'low', 'field', 'mobility', 'have', 'been', 'obtained', 'in', 'the', 'high', 'strained', 'p-type', 'silicon', 'structures', 'with', 'three-', 'and', 'two-', 'dimensional', 'hole', 'gases.', 'Main', 'attention', 'is', 'paid', 'to', 'study', 'how', 'confinement', 'in', 'one', 'spatial', 'dimension', 'changes', 'the', 'strain', 'mobility', 'enhancement', 'in', 'comparison', 'with', 'bulk', 'material.', 'The', 'mobility', 'enhancement', 'factor', 'has', 'been', 'calculated', 'at', 'application', 'of', 'the', 'uniaxial', 'and', 'biaxial', 'strains.', 'Acoustic', 'and', 'optic', 'phonons,', 'charged', 'impurities,', 'and', 'surface', 'roughness', 'have', 'been', 'accepted', 'as', 'a', 'scattering', 'system.', 'Our', 'theoretical', 'consideration', 'is', 'based', 'on', 'the', 'quantum', 'kinetic', 'equation', 'and', 'a', 'special', 'form', 'of', 'the', 'non-equilibrium', 'distribution', 'function', '(shifted', 'Fermi', 'distribution).', 'Results', 'of', 'calculation', 'are', 'compared', 'with', 'known', 'experimental', 'data.', '7', 'Glass', 'Fracture', 'by', 'Focusing', 'of', 'Laser-Generated', 'Nanosecond', 'Surface', 'Acoustic', 'Waves', 'Dynamic', 'fracture', 'of', 'borosilicate', 'glass', 'through', 'focusing', 'of', 'high-amplitude', 'nanosecond', 'surface', 'acoustic', 'waves', '(SAWs)', 'at', 'the', 'micron', 'scale', 'is', 'investigated', 'in', 'an', 'all-optical', 'experiment.', 'SAWs', 'are', 'generated', 'by', 'an', 'intense', 'picosecond', 'laser', 'excitation', 'pulse', 'focused', 'into', 'a', 'ring-shaped', 'spot', 'on', 'the', 'sample', 'surface.', 'Interferometric', 'imaging', 'of', 'the', 'sample', 'surface', 'with', 'a', 'femtosecond', 'probe', 'pulse', 'allows', 'quantitative', 'measurement', 'of', 'the', 'vertical', 'surface', 'displacements.', 'Images', 'taken', 'at', 'different', 'pump-probe', 'delays', 'capture', 'the', 'SAW', 'as', 'it', 'converges', 'towards', 'the', 'center,', 'focuses,', 'and', 'subsequently', 'diverges.', 'The', 'amplitude', 'of', 'the', 'SAW', 'is', 'varied', 'by', 'changing', 'the', 'laser', 'excitation', 'energy.', 'Above', 'a', 'certain', 'laser', 'excitation', 'energy', 'threshold,', 'a', 'damage', 'at', 'the', 'acoustic', 'focal', 'point', 'is', 'observed.', 'A', 'post-mortem', 'investigation', 'reveals', 'a', 'crater', 'formed', 'by', 'the', 'ejection', 'of', 'a', 'piece', 'of', 'material.', 'Numerical', 'calculations', 'matching', 'the', 'measured', 'surface', 'displacement', 'profiles', 'help', 'us', 'determine', 'the', 'time', 'evolution', 'of', 'the', 'stress', 'distribution', 'in', 'the', 'sample', 'and', 'at', 'the', 'acoustic', 'focus.', 'We', 'find', 'that', 'the', 'glass', 'withstands', 'a', 'nanosecond', 'local', 'tensile', 'stress', 'of', 'at', 'least', '6', 'GPa', 'without', 'visible', 'fracture,', 'which', 'is', 'well', 'above', 'the', 'tensile', 'limit', 'observed', 'in', 'conventional', 'shock', 'spallation', 'experiments.', '8', 'KdV', 'Acoustic', 'Structure', 'with', 'Exchange-Correlation', 'Potential', 'in', 'Plasmas', 'The', 'effects', 'of', 'exchange-correlation', 'potential(ECP)', 'on', 'the', 'profile', 'of', 'dust', 'acoustic', 'solitary', 'waves', '(DASWs)', 'in', 'degenerate', 'dusty', 'plasmas', 'has', 'been', 'investigated.', 'The', 'plasmassystem', 'is', 'consisting', 'upon', 'three', 'species', 'such', 'as', 'degenerate', 'ions', 'and', 'electrons,', 'andsclassical', 'dust', 'grains.', 'This', 'study', 'is', 'comprising', 'upon', 'the', 'linear', 'and', 'nonlinear', 'analysissof', 'long', 'wavelength', 'dust', 'acoustic', 'waves', 'in', 'non-relativistic', 'plasmas.', 'The', 'linear', 'acoustic', 'wave', 'have', 'been', 'analyzed', 'by', 'using', 'the', 'multi-fluid', 'model', 'whereas', 'to', 'study', 'smallsamplitude', 'DASWs,', 'modified', 'Korteweg', 'de', 'Vries', '(KdV)', 'equation', 'has', 'been', 'derived', 'bysusing', 'the', 'reductive', 'perturbation', 'theory.', 'The', 'effects', 'of', 'dust', 'concentration', '(Havenesssparameter', 'h)', 'in', 'the', 'plasma,', 'and', 'exchange', 'correlation', 'potential', 'have', 'been', 'highlighted.sThe', 'dust', 'concentration', 'and', 'exchange', 'correlation', 'potential', 'affect', 'the', 'solitary', 'wavesamplitude', 'and', 'its', 'width', 'remarkably.', 'Our', 'results', 'can', 'be', 'used', 'to', 'understand', 'the', 'characteristics', 'of', 'nonlinear', 'electrostatic', 'waves', 'exciting', 'in', 'a', 'dense', 'degenerate', 'Fermi', 'gas,spresent', 'in', 'metallic', 'nano', 'structures', 'or', 'presumably', 'in', 'near-supernova', 'environments,sin', 'the', 'presence', 'of', 'massive', 'charged', 'defects.', '9', 'Acoustic', 'Nonlinearity', 'Parameter', 'Induced', 'by', 'Extended', 'Dislocations', 'Excess', 'acoustic', 'nonlinearity', 'is', 'a', 'signature', 'of', 'microstructural', 'defects', 'on', 'a', 'propagating', 'ultrasound.', 'By', 'measuring', 'the', 'excess', 'acoustic', 'nonlinearity', 'parameter,', 'defect', 'characteristics', 'can', 'be', 'inferred', 'nondestructively', 'through', 'ultrasonic', 'techniques.', 'To', 'this', 'end,', 'proper', 'models', 'are', 'needed', 'to', 'relate', 'the', 'excess', 'acoustic', 'nonlinearity', 'parameter', 'with', 'defect', 'characteristics.', 'In', 'this', 'study,', 'an', 'analytical', 'model', 'for', 'extended', 'dislocations', 'is', 'developed', 'that', 'relates', 'the', 'excess', 'acoustic', 'nonlinearity', 'parameter', 'with', 'characteristics', 'of', 'the', 'extended', 'dislocation', 'including', 'dislocation', 'density,', 'stacking', 'fault', 'energy,', 'and', 'equilibrium', 'distance', 'between', 'the', 'two', 'partial', 'dislocations', 'that', 'form', 'the', 'extended', 'dislocation.', 'According', 'to', 'this', 'model,', 'the', 'excess', 'acoustic', 'nonlinearity', 'parameter', 'induced', 'by', 'extended', 'dislocations', 'consists', 'of', 'a', 'stress-independent', 'term', 'and', 'a', 'stress-dependent', 'term.', 'Both', 'terms', 'are', 'scaled', 'with', '(Lchar/b)n,', 'where', 'Lchar', 'is', 'the', 'equilibrium', 'distance', 'between', 'the', 'two', 'partials,', 'b', 'is', 'the', 'magnitude', 'of', 'Burgers', 'vector', 'and', 'n', 'is', '3', 'and', '4', 'for', 'the', 'stress-independent', 'and', 'stress-dependent', 'terms,', 'respectively.', 'The', 'model', 'will', 'be', 'useful', 'for', 'interpreting', 'results', 'from', 'ultrasonic', 'nondestructive', 'evaluation', 'of', 'material', 'defects.', '10', 'Surface', 'anisotropy', 'in', 'a', 'magnetic', 'cylinder', 'induced', 'by', 'the', 'displacement', 'of', 'a', 'vortex', 'core', 'In', 'this', 'article', 'we', 'investigate', 'the', 'induction', 'of', 'a', 'surface', 'anisotropy', 'due', 'to', 'the', 'displacement', 'of', 'the', 'vortex', 'core', 'in', 'a', 'cylindrical', 'nanostructure.', 'In', 'fact,', 'the', 'effect', 'of', 'the', 'displacement', 'of', 'the', 'vortex', 'core', 'in', 'the', 'dipolar', 'energy', 'can', 'be', 'modeled', 'simply', 'as', 'a', 'surface', 'anisotropy', 'of', 'the', 'form', '$E_s', '=', 'K_s', '\\\\int_{\\\\mathcal{S}_m}', 'd\\\\mathcal{S}', '\\\\,', '(\\\\hat{n}', '\\\\cdot', '\\\\hat{m})^2/2$.', 'Moreover,', 'the', 'surface', 'anisotropy', 'constant', '$K_s$', 'is', 'proportional', 'to', 'the', 'cylinder', 'in-plane', 'demagnetizing', 'factor', 'in', 'the', 'direction', 'of', 'the', 'core', 'deviation,', '$N_y(L/R)$,', 'i.e.,', '$K_s', '=', '\\\\mu_0', 'M_0^2', 'R', '\\\\,', 'N_y(L/R)$,', 'where', '$R$', 'and', '$L$', 'are', 'the', 'radius', 'and', 'the', 'thickness', 'of', 'the', 'cylinder,', 'respectively.', 'Our', 'results', 'show', 'that', 'the', 'term', 'of', 'the', 'nontrivial', 'dipolar', 'energy', 'caused', 'by', 'the', 'charges', 'in', 'the', 'cylinder', 'mantle', 'can', 'be', 'replaced', 'by', 'a', 'simple', 'integral', '$E_s$', 'that', 'increases', 'the', 'efficiency', 'of', 'the', 'numerical', 'calculations', 'in', 'the', 'analytical', 'study', 'of', 'the', 'displacement', 'of', 'the', 'vortex', 'core', 'in', 'magnetic', 'vortices.', '11', 'Optical-force-induced', 'circular', 'dichroism', 'in', 'the', 'surface', 'plasmon', 'resonance', 'of', 'single', 'nanocrystals', 'The', 'quantum-mechanical', 'theory', 'adequately', 'describes', 'optical', 'activity', 'in', 'small', 'molecules.', 'However,', 'the', 'simplified', 'one-electron', 'model', 'is', 'insufficient', 'to', 'describe', 'optical', 'activity', 'in', 'plasmonic', 'nanocrystals,', 'where', 'longitudinal', 'polarization', 'along', 'the', 'light', 'propagation', 'direction', 'is', 'crucial', 'at', 'the', 'nanometer', 'scale.', 'Here,', 'the', 'experimental', 'observation', 'of', 'natural', 'circular', 'dichroism', 'in', 'the', 'surface', 'plasmon', 'resonances', 'of', 'spherical', 'gold,', 'silver,', 'and', 'copper', 'nanocrystals', 'in', 'solution', 'is', 'presented.', 'Optical', 'forces', 'exert', 'on', 'the', 'nanoparticle', 'in', 'the', 'light', 'propagation', 'direction,', 'which', 'induces', 'longitudinal', 'polarization,', 'coupling', 'to', 'surface', 'plasmons,', 'and', 'optical', 'symmetry-breaking.', 'Ellipticity', 'sign', 'indicates', 'that', 'dipolar', 'surface', 'plasmons', 'are', 'optically', 'left-handed', 'whereas', 'quadrupolar', 'surface', 'plasmons', 'are', 'optically', 'right-handed,', 'manifesting', 'the', 'conservation', 'of', 'orbital', 'angular', 'momentum', 'in', 'the', 'surface', 'plasmon', 'resonance.', 'The', 'plasmon-mode-dependent', 'ellipticity', 'sign', 'is', 'consistently', 'observed', 'for', 'anisotropic', 'nanocrystals', 'including', 'triangles,', 'octahedra,', 'nanorods,', 'and', 'core-shell', 'nanoparticles.', 'Structural', 'effects', 'such', 'as', 'nanocrystal', 'assembly,', 'nanocrystal', 'shape,', 'and', 'plasmon-molecule', 'interaction', 'are', 'accessed.', 'The', 'classical', 'coupled-oscillator', 'model', 'adequately', 'describes', 'the', 'optomechanical', 'circular', 'dichroism.', 'This', 'study', 'demonstrates', 'a', 'helical', 'resonance', 'of', 'surface', 'plasmons', 'in', 'the', 'structurally', 'achrial', 'nanocrystals', 'by', 'asymmetry', 'in', 'the', 'longitudinal', 'polarization,', 'which', 'will', 'impact', 'on', 'hot-electron', 'generation,', 'nonlinear', 'optical', 'response,', 'and', 'metamaterial', 'functionality.', '12', 'Au', 'nanoparticles', 'as', 'nuclei', 'for', 'defect', 'formation', 'in', 'memristive', 'SrTiO3', 'thin', 'films', 'We', 'investigated', 'the', 'possibility', 'to', 'tune', 'the', 'local', 'switching', 'properties', 'of', 'memristive', 'crystalline', 'SrTiO3', 'thin', 'films', 'by', 'inserting', 'nanoscale', 'defect', 'nucleation', 'centers.', 'For', 'that', 'purpose,', 'we', 'employed', 'chemically', 'synthesized', 'Au', 'nanoparticles', 'deposited', 'on', 'the', 'Nb', 'doped', 'SrTiO3', 'single', 'crystal', 'substrates', 'as', 'a', 'defect', 'formation', 'template', 'for', 'the', 'subsequent', 'growth', 'of', 'SrTiO3.', 'We', 'studied', 'in', 'detail', 'the', 'resulting', 'microstructure', 'and', 'the', 'local', 'conducting', 'and', 'switching', 'properties', 'of', 'the', 'SrTiO3', 'thin', 'films.We', 'worked', 'out', 'that', 'the', 'Au', 'nanoparticles', 'float', 'to', 'the', 'SrTiO3', 'surface', 'during', 'growth,', 'leaving', 'behind', 'a', 'distorted', 'thin', 'film', 'region', 'in', 'their', 'vicinity.', 'By', 'employing', 'conductive-tip', 'atomic', 'force', 'microscopy,', 'these', 'distorted', 'SrTiO3', 'regions', 'are', 'identified', 'as', 'sites', 'of', 'preferential', 'resistive', 'switching.', 'These', 'findings', 'can', 'be', 'attributed', 'to', 'the', 'enhanced', 'oxygen', 'exchange', 'reaction', 'at', 'the', 'surface', 'in', 'these', 'defective', 'regions.', '13', 'Wear', 'Characteristics', 'of', 'TiAlN', 'Coated', 'on', 'HSS', 'Tool', 'steel', 'bythe', 'Machining', 'of', 'AISI', '410', 'Steel', 'In', 'this', 'study,', 'the', 'Ti0.4Al0.4N', 'coatings', 'were', 'produced', 'by', 'physical', 'vapor', 'deposition', '(PVD)', 'on', 'HSSsingle', 'point', 'cutting', 'tool.', 'The', 'coating', 'phase', 'composition', 'and', 'microstructure', 'were', 'investigated', 'with', 'X-raydiffraction', '(XRD)', 'and', 'scanning', 'electron', 'microscopy', '(SEM)', '(with', 'EDS', 'attachment).', 'The', 'wear', 'behaviorand', 'cutting', 'performance', 'of', 'the', 'uncoated', 'and', 'Ti0.4Al0.4N', 'coated', 'tool', 'at', 'room', 'temperature', 'wereinvestigated', 'under', 'dry', 'condition.', 'Turning', 'tests', 'were', 'carried', 'out', 'on', 'both', 'uncoated', 'and', 'Ti0.4Al0.4N', 'coatedHSS', 'single', 'point', 'cutting', 'tool', 'in', 'AISI410', 'steel', 'turning', 'under', 'dry', 'conditions,', 'with', 'the', 'diverse', 'depths', 'of', 'cut0.5mm,', '1mm', 'and', '1.5', 'mm', 'at', 'a', 'constant', 'work', 'piece', 'rotating', 'velocity', 'of', '0.65m/s.', 'The', 'Tribological', 'andmechanical', 'properties', 'of', 'coated', 'pin', 'were', 'characterized', 'by', 'pin-on-disc', 'and', 'nanoindentation', 'test.', 'Theresult', 'showed', 'that', 'Ti0.4Al0.4N', 'coating', 'had', 'higher', 'hardness', 'than', 'uncoated', 'tool', 'due', 'to', 'its', 'smaller', 'grainsize.', 'Cutting', 'performance', 'of', 'the', 'HSS', 'single', 'point', 'cutting', 'tool', 'was', 'improved', 'with', 'the', 'covering', 'ofTi0.4Al0.4N', 'coating', 'with', 'at', 'least', '2', 'times', 'of', 'cutting', 'life.', 'No', 'spalling', 'was', 'occurred', 'after', 'the', 'cutting', 'tests', 'forTi0.4Al0.4N', 'coated', 'HSS', 'single', 'point', 'cutting', 'tool.', 'The', 'more', 'pits', 'and', 'grooving', 'region', 'were', 'established', 'onthe', 'uncoated', 'tool.', 'This', 'result', 'exhibits', 'that', 'Ti0.4Al0.4N', 'coating', 'performed', 'good', 'adhesion', 'and', 'abrasivewear', 'resistance,', 'cutting', 'performance', 'and', 'longer', 'tool', 'life', 'than', 'uncoated', 'tool.', '14', 'EXPERIMENTAL', 'INVESTIGATION', 'OF', 'CONVECTIVE', 'HEAT', 'TRANSFER', 'COEFFICIENT', 'IN', 'PARABOLIC', 'COLLECTOR', 'USING', 'NANOFLUIDS', 'The', 'performance', 'of', 'the', 'collector', 'is', 'improved', 'using', 'nanofluid', 'which', 'improves', 'the', 'overall', 'performance', 'of', 'the', 'parabolic', 'collector.', 'In', 'the', 'present', 'analysis,', 'the', 'use', 'of', 'aluminum', 'and', 'copper', 'tube', 'as', 'a', 'vacuum', 'absorber', 'pipe', 'with', 'Al2O3/water,', 'CuO/water', 'nanofluid', ',', 'and', 'water', 'as', 'a', 'base', 'fluid', 'to', 'determine', 'the', 'performance', 'characteristic', 'of', 'temperature,', 'efficiency,', 'and', 'heat', 'transfer', 'coefficient.', 'The', 'experimentation', 'performed', 'by', 'taking', '(0.1', '%', 'Vol.', 'concentration)', 'CuO/water', 'and', 'Al2O3/water', 'nanofluid', 'on', 'copper', '&', 'aluminum', 'pipe', 'for', 'the', 'Reynolds', 'number', 'of', '3400,', '4500', '&', '5600', 'respectively.', 'From', 'the', 'results', 'it', 'is', 'clear', 'that', 'with', 'the', 'use', 'of', 'nanofluid,', 'the', 'efficiency', 'of', 'the', 'parabolic', 'collector', 'is', 'improved', 'by', '10-25%', 'than', 'the', 'base', 'fluid,', 'the', 'efficiency', 'increases', '(%)', 'for', 'copper', 'pipe', 'with', 'CuO/water', 'is', '91.42%,', '84.34%,', '79.90', '%', 'for', 'the', 'low', 'Reynolds', 'number', 'of', 'the', 'higher.', 'The', 'heat', 'transfer,', 'enhanced', 'the', 'performance', 'of', 'the', 'copper', 'pipe', 'with', 'CuO/water', 'nanofluid,', 'which', 'varies', 'from', '87.98%,', '63.70', '%,', 'and', '48.72', '%', 'of', 'the', 'increase', 'in', 'Reynolds', 'number.', 'From', 'the', 'result,', 'it', 'is', 'clear', 'that', 'the', 'heat', 'transfer', 'enhancement', 'at', 'low', 'flow', 'rate', 'shows', 'the', 'best', 'result', 'as', 'compared', 'to', 'the', 'other', 'cases.', 'The', 'percentage', 'increase', 'at', 'the', 'outlet', 'of', 'absorber', 'pipe,', 'in', 'case', 'of', 'copper', 'pipe', 'with', 'CuO/water', 'nanofluid', 'is', '53.85', '%', 'as', 'compared', 'with', 'other', 'cases', 'of', 'experimentation', 'and', 'different', 'flow', 'rate', 'of', 'nanofluid', 'inside', 'the', 'tubes.', 'From', 'the', 'experimentation,', 'it', 'is', 'also', 'concluded', 'that', 'the', 'friction', 'factor', 'decreases', 'with', 'the', 'increase', 'in', 'flow', 'rates.', '15', 'Thick', 'Film', 'Deposition', 'from', 'Supersonic', 'Impact', 'of', 'Monosized', 'Ag', 'Nanoparticles', 'We', 'describe', 'the', 'use', 'of', 'the', 'laser', 'ablation', 'of', 'microparticle', 'aerosols', 'process', 'to', 'deposit', 'patterned', 'thick', 'films', 'of', 'Ag', 'from', 'nanoparticles', 'at', 'high', 'velocities', 'and', 'study', 'the', 'effects', 'of', 'varying', 'the', 'nanoparticle', 'impacting', 'velocity,', 'while', 'fixing', 'the', 'nanoparticle', 'size.', 'It', 'is', 'shown', 'that', 'the', 'relative', 'height', 'of', 'the', 'deposits', 'and', 'the', 'impacting', 'velocity', 'influence', 'the', 'microstructure,', 'with', 'higher', 'heights', 'leading', 'to', 'greater', 'porosity.', 'Using', 'molecular', 'dynamics', 'simulations,', 'a', 'critical', 'normal', 'impacting', 'velocity', 'of', '600', 'm/s', 'for', 'a', '6', 'nm', 'particle', 'was', 'calculated.', 'A', 'model', 'was', 'developed', 'to', 'explain', 'the', 'influence', 'of', 'relative', 'heights', 'and', 'impacting', 'velocity', 'on', 'porosity.', '16', 'Nonlinear', 'Constitutive', 'Models', 'for', 'Nano-scale', 'Heat', 'Conduction', 'We', 'present', 'a', 'rigorous', 'approach', 'that', 'leads,', 'from', 'a', 'many-particle', 'description,', 'to', 'a', 'nonlinear,', 'stochastic', 'constitutive', 'relation', 'for', 'the', 'modeling', 'of', 'transient', 'heat', 'conduction', 'processes', 'at', 'nanoscale.', 'By', 'enforcing', 'statistical', 'consistency,', 'in', 'that', 'the', 'statistics', 'of', 'the', 'local', 'energy', 'is', 'consistentswith', 'that', 'from', 'an', 'all-atom', 'description,', 'we', 'identify', 'the', 'driving', 'force', 'as', 'well', 'as', 'the', 'model', 'parameters', 'in', 'these', 'generalized', 'constitutive', 'models.', '17', 'An', 'ultra-compact', 'low', 'temperature', 'scanning', 'probe', 'microscope', 'for', 'magnetic', 'felds', 'above', '30', 'T', 'We', 'present', 'the', 'design', 'of', 'a', 'highly', 'compact', 'High', 'Field', 'Scanning', 'Probe', 'Microscope', '(HF-SPM)', 'for', 'operation', 'at', 'cryogenic', 'temperatures', 'in', 'an', 'extremely', 'high', 'magnetic', 'field,', 'provided', 'by', 'a', 'water-cooled', 'Bitter', 'magnet', 'able', 'to', 'reach', '38', 'T.', 'The', 'HF-SPM', 'is', '14', 'mm', 'in', 'diameter:', 'an', 'Attocube', 'nano-positioner', 'controls', 'the', 'coarse', 'approach', 'of', 'a', 'piezo', 'resistive', 'AFM', 'cantilever', 'to', 'a', 'scanned', 'sample.', 'The', 'Bitter', 'magnet', 'constitutes', 'an', 'extreme', 'environment', 'for', 'SPM', 'due', 'to', 'the', 'high', 'level', 'of', 'vibrational', 'noise;', 'the', 'Bitter', 'magnet', 'noise', 'at', 'frequencies', 'up', 'to', '300', 'kHz', 'is', 'characterized', 'and', 'noise', 'mitigation', 'methods', 'are', 'described.', 'The', 'performance', 'of', 'the', 'HF-SPM', 'is', 'demonstrated', 'by', 'topographic', 'imaging', 'and', 'noise', 'measurements', 'at', 'up', 'to', '30', 'T.', 'Additionally,', 'the', 'use', 'of', 'the', 'SPM', 'as', 'a', 'three-dimensional', 'dilatometer', 'for', 'magnetostriction', 'measurements', 'is', 'demonstrated', 'via', 'measurements', 'on', 'a', 'magnetically', 'frustrated', 'spinel', 'sample.', '18', 'Nonlinear', 'Dynamical', 'Analysis', 'of', 'Cu-doped', 'ZnO', 'Nanoparticles', '(NPs)', 'for', 'Biological', 'Applications', 'Since', 'ZnO', 'based', 'nanoparticles', 'have', 'variety', 'of', 'nanostructures,', 'tools', 'of', 'Non-linear', 'Dynamical', 'Theory', '(NLD)', 'have', 'been', 'used', 'successfully', 'in', 'the', 'present', 'work', 'to', 'analyze', 'the', 'XRD', 'time', 'series,', 'a', 'priori', 'knowledge', 'helpful', 'to', 'come', 'up', 'with', 'basic', 'understanding', 'about', 'the', 'nano', 'particles', 'formed.', 'Cu-doped', 'ZnO', 'nanosystems', 'are', 'analyzed,', 'first', 'by', 'estimating', 'Correlation', 'Dimension', '(Cd),', 'in', 'order', 'to', 'quantify', 'the', 'low-dimensional', 'chaotic', 'behavior,', 'shown', 'by', 'the', 'nanosystems', 'through', 'the', 'XRD', 'time', 'series.', 'Quantitative', 'information', 'concerning', 'the', 'preferential', 'orientation', 'of', 'crystallites', 'is', 'also', 'obtained', 'from', 'the', 'Texture', 'Coefficient', '(TC)', 'of', 'different', 'planes', 'of', 'the', 'particles', 'formed.', 'It', 'has', 'also', 'been', 'verified', 'that', 'the', 'orientations', 'of', 'the', 'crystallites', 'as', 'well', 'as', 'their', 'size', 'can', 'be', 'controlled', 'by', 'changing', 'the', 'dopant', 'percentage.', 'The', 'numerical', 'values', 'of', 'the', 'Cd,', 'TC,', 'and', 'Crystallite', 'Size', 'of', 'different', 'samples', 'are', 'obtained', 'and', 'used', 'for', 'analyzing', 'the', 'over-all', 'behavior', 'of', 'the', 'of', 'crystallites', 'formed.', 'Lacunarity,', 'as', 'a', 'geometrical', 'scale', 'dependent', 'measure', 'of', 'texture,', 'is', 'also', 'used', 'analyze', 'the', 'images', 'of', 'Zone', 'of', 'Inhibition', '(ZoI),', 'a', 'biological', 'parameter', 'to', 'quantify', 'the', 'impact', 'of', 'anti-bacterial', 'nanoparticles', 'in', 'case', 'of', 'Gram-negative', 'E', 'coli', 'and', 'Gram-positive', 'S', 'aureus', 'pathogens.', 'It', 'is', 'also', 'confirmed', 'for', 'the', 'first', 'time', 'that', 'the', 'basic', 'XRD', 'data', 'from', 'the', 'nanoparticles', 'may', 'be', 'used', 'as', 'a', 'marker', 'to', 'predict', 'desired', 'surface', 'features', 'of', 'the', 'nanoparticles', 'to', 'be', 'obtained', 'for', 'biological', 'application,', 'such', 'as,', 'detecting', 'specific', 'pathogens.', '19', 'A', 'non-destructive', 'method', 'to', 'calibrate', 'the', 'torsional', 'spring', 'constant', 'of', 'atomic', 'force', 'microscope', 'cantilevers', 'in', 'viscous', 'environments', 'Calibration', 'of', 'the', 'torsional', 'spring', 'constant', 'of', 'atomic', 'force', 'microscopy', 'cantilevers', 'is', 'fundamental', 'to', 'a', 'range', 'of', 'applications,', 'from', 'nanoscale', 'friction', 'and', 'lubrication', 'measurements', 'to', 'the', 'characterization', 'of', 'micro-electromechanical', 'systems', 'and', 'the', 'response', 'of', 'biomolecules', 'to', 'external', 'stimuli.', 'Existing', 'calibration', 'methods', 'are', 'either', 'time', 'consuming', 'and', 'destructive', '(ex', 'situ', 'static', 'approaches),', 'or', 'rely', 'on', 'models', 'using', 'the', 'frequency', 'and', 'quality', 'factor', '(Q-factor)', 'of', 'the', 'cantilever', 'torsional', 'resonance', 'as', 'input', 'parameters', '(in', 'situ', 'dynamical', 'approaches).', 'While', 'in', 'situ', 'approaches', 'are', 'usually', 'preferred', 'for', 'their', 'easy', 'implementation', 'and', 'preservation', 'of', 'the', 'cantilever,', 'their', 'dependence', 'on', 'the', 'torsional', 'resonance', 'Q-factor', 'renders', 'calibration', 'in', 'highly', 'viscous', 'environments', 'challenging.', 'This', 'is', 'problematic,', 'for', 'example,', 'in', 'many', 'nanoscale', 'tribological', 'applications.', 'Here,', 'we', 'propose', 'a', 'calibration', 'method', 'that', 'does', 'not', 'depend', 'on', 'the', 'cantilever', 'torsional', 'Q-factor,', 'and', 'show', 'how', 'the', 'cantilever', 'deflection', 'can', 'be', 'converted', 'into', 'a', 'lateral', 'force.', 'The', 'method', 'is', 'tested', 'with', 'six', 'cantilevers', 'of', 'different', 'shapes', 'and', 'material', 'composition,', 'and', 'in', 'six', 'fluid', 'media.', 'The', 'derived', 'spring', 'constants', 'are', 'compared', 'with', 'predictions', 'from', 'existing', 'methods,', 'demonstrating', 'a', 'higher', 'precision,', 'in', 'particular', 'for', 'highly', 'viscous', 'liquids.', '20', 'A', 'Comparative', 'Investigation', 'on', 'Effects', 'of', 'Nanoparticles', 'on', 'Characteristics', 'of', 'Natural', 'Esters', '-', 'based', 'Nanofluids', 'The', 'effects', 'of', 'transformer', 'oil', 'based', 'nanofluids', 'have', 'been', 'broadly', 'investigated', 'and', 'showcased', 'a', 'magnificent', 'improvement', 'in', 'performance.', 'But', 'in', 'natural', 'esters', 'based', 'nanofluids', 'characteristic', 'performance', 'persist', 'virtually', 'unexplored', 'and', 'still', 'there', 'is', 'a', 'room', 'for', 'investigation.', 'This', 'work', 'aims', 'to', 'examine', 'the', 'effect', 'of', 'three', 'dissimilar', 'types', 'of', 'nanoparticles', 'such', 'as', 'Aluminum', 'Oxide', '(Al2O3),', 'Boron', 'Nitrate', '(BN)', 'and', 'Ferrous', 'Ferric', 'Oxide', '(Fe3O4)', 'at', 'various', 'volume', 'concentrations', 'on', 'the', 'characteristic', 'performance', 'of', 'natural', 'esters.', 'Honge', 'oil', '(HO),', 'Neem', 'oil', '(NO),', 'Mustard', 'oil', '(MO)', 'and', 'Punna', 'oil', '(PO)', 'is', 'considered', 'as', 'base', 'fluid', 'for', 'investigation.', 'The', 'characteristic', 'performances', 'of', 'base', 'fluids', 'are', 'tested', 'before', 'and', 'after', 'blending', 'of', 'nanoparticles', 'as', 'per', 'standards.', 'The', 'findings', 'are', 'quite', 'promising', 'because', 'of', 'the', 'performance', 'of', 'nanofluids', 'shows', 'a', 'significant', 'improvement.', '21', 'Approach', 'of', 'a', 'nanoparticle', 'towards', 'plasma', 'membrane:', 'How', 'van', 'der', 'Waals', 'effect', 'dominates', 'electrostatics', 'in', 'distinguishing', 'between', 'a', 'gold', 'and', 'silica', 'nanoparticle?', 'Making', 'a', 'nanoparticle', '(NP)', 'approach', 'and', 'interact', 'with', 'a', 'plasma', 'membrane', '(PM)', 'through', 'the', 'receptor-ligand', '(RL)', 'interaction', 'is', 'key', 'for', 'applications', 'like', 'targeted', 'drug', 'delivery,', 'cellular', 'imaging,', 'and', 'theranostics.', 'In', 'this', 'letter,', 'we', 'show', 'that', 'van', 'der', 'Waals', '(vdW)', 'interactions', 'dominate', 'the', 'electrostatics', 'ensuring', 'that', 'a', 'gold', 'NP', '(GNP)', 'approached', 'the', 'PM', 'more', 'spontaneously', 'as', 'compared', 'to', 'a', 'silica', 'NP', '(SNP).', 'The', 'negative', '&sigma;', '(charge', 'density)', 'of', 'a', 'PM', 'induces', 'a', 'negative', 'electrostatic', 'potential', 'at', 'the', 'surface', 'of', 'the', 'approaching', 'GNP', 'and', 'SNP;', 'however,', 'there', 'is', 'a', 'little', 'difference', 'between', 'these', 'induced', 'values', 'due', 'to', 'a', 'small', 'electric', 'double', 'layer', 'at', 'physiological', 'salt', 'concentration', '(c&infin;).', 'Hence', 'there', 'is', 'little', 'difference', 'in', 'the', 'electrostatic', 'repulsion', 'between', 'the', 'two', 'cases,', 'while', 'the', 'PM-NP', 'vdW', 'attraction', 'is', 'much', 'more', 'for', 'the', 'GNP', 'as', 'a', 'result', 'of', 'a', 'larger', 'Hamaker', 'constant.', 'Therefore,', 'in', 'comparison', 'to', 'the', 'GNP,', 'the', 'SNP', 'would', '(a)', 'undergo', 'a', 'promotion', 'of', 'specific', 'adhesion', '(SA)', 'and', 'a', 'prevention', 'of', 'non-specific', 'adhesion', '(NSA)', 'simultaneously', 'across', 'larger', '&sigma;&minus;', 'c&infin;', 'phase', 'space', 'including', 'physiological', 'conditions,', '(b)', 'necessitate', 'a', 'larger', 'length', 'of', 'the', 'ligand', 'to', 'trigger', 'spontaneous', 'RL', 'interaction,', 'and', '(c)', 'require', 'a', 'larger', 'driving', 'force', 'for', 'force-driven', 'RL', 'interactions.', '22', 'Fluence', 'and', 'pulse', 'number', 'dependent', 'surface', 'nanostructures', 'induced', 'by', 'femtosecond', 'laser', 'on', 'SrTiO3', 'SrTiO3', '(STO)', 'is', 'a', 'key', 'perovskite', 'oxide', 'with', 'fascinating', 'properties', 'in', 'electronics', 'and', 'optoelectronics.', 'The', 'formation', 'of', 'surface', 'nanostructures', 'is', 'an', 'ideal', 'platform', 'to', 'study', 'femtosecond', 'laser-STO', 'interaction.', 'The', 'generation', 'and', 'evolution', 'of', 'surface', 'nanostructures', 'induced', 'by', 'femtosecond', 'laser', 'on', 'STO', 'surface', 'have', 'been', 'studied', 'experimentally.', 'The', 'surface', 'nanostructures', 'show', 'distinct', 'features', 'with', 'a', 'clear', 'fluence', 'and', 'pulse', 'number', 'dependence.', 'Unlike', 'the', 'regular', 'ripples', 'which', 'either', 'parallel', 'or', 'perpendicular', 'to', 'the', 'laser', 'polarization,', 'ripples', 'formed', 'on', 'STO', 'surface', 'after', 'irradiated', 'with', '4', 'laser', 'pulses', 'coexist', 'in', 'both', 'directions', 'and', 'cover', 'all', 'the', 'structured', 'area.', 'When', 'further', 'increase', 'the', 'pulse', 'number,', 'ripples', 'parallel', 'to', 'the', 'laser', 'polarization', 'dominates', 'at', 'lower', 'fluence', 'regime', 'while', 'ripples', 'perpendicular', 'to', 'the', 'laser', 'polarization', 'are', 'the', 'only', 'surface', 'structures', 'formed', 'at', 'higher', 'fluence', 'regime.', 'The', 'periodicity', 'of', 'ripples', 'perpendicular', 'to', 'the', 'laser', 'polarization', 'decreases', 'with', 'more', 'laser', 'pulse', 'irradiation', 'while', 'the', 'periodicity', 'of', 'the', 'ripples', 'parallel', 'to', 'the', 'laser', 'polarization', 'show', 'different', 'behavior.', 'FDTD', '(finite-difference', 'time-domain)', 'method', 'and', 'Sipe-Drude', 'model', 'have', 'been', 'adopted', 'to', 'analyze', 'the', 'energy', 'deposition', 'on', 'STO', 'surface.', 'The', 'results', 'show', 'that', 'the', 'different', 'energy', 'deposition', 'upon', 'the', 'different', 'excitation', 'levels,', 'which', 'is', 'caused', 'by', 'the', 'incubation', 'effect', 'and', 'the', 'local', 'enhancement', 'of', 'energy', 'absorption,', 'leads', 'to', 'the', 'pulse', 'number', 'and', 'fluence', 'dependence', 'of', 'the', 'surface', 'structures.', 'As', 'the', 'number', 'of', 'the', 'pulse', 'increasing,', 'the', 'feedback', 'effect', 'plays', 'a', 'major', 'role', 'gradually', 'and', 'determines', 'the', 'formation', 'and', 'evolution', 'of', 'the', 'surface', 'nanostructures.', '23', 'Simulation', 'and', 'optimization', 'of', 'a', 'new', 'electrochromic', 'with', '(WO3+Ag)', 'nanocomposit', 'thin', 'film-assisted', 'cooling', 'system', 'on', 'energy', 'saving', 'In', 'the', 'past', 'years,', 'many', 'studies', 'have', 'been', 'done', 'in', 'the', 'field', 'of', 'smart', 'windows', 'and', 'solar', 'cells,', 'the', 'most', 'important', 'of', 'these', 'were', 'electrochromic', 'devices', '(ECD).', 'This', 'study', 'was', 'investigated', 'the', 'optimization', 'of', 'thermal', 'energy', 'consumption', 'by', 'using', 'electrochromic', 'components', 'with', 'a', 'new', 'nanocomposit', 'layer', '(WO3+Ag)', 'in', 'a', 'larger', 'size', '(window)', 'for', 'a', 'room', 'with', 'a', 'educational', 'application', 'for', 'five', 'cities', 'with', 'different', 'climates', 'conditions', 'in', 'Iran', '(Yazd,', 'Tehran,', 'Bandar', 'Abbas,', 'Tabriz', 'and', 'Sari).', 'For', 'this', 'simulation', 'platform,', 'the', 'software', 'has', 'been', 'implemented', 'in', '(Energy', 'Plus).', 'This', 'feasibility', 'study', 'has', 'been', 'modeled', 'by', '(DesignBuilder)', 'software', 'and', 'has', 'been', 'reported', 'the', 'reduction', 'of', 'thermal', 'energy', 'consumption', 'in', 'all', 'climates', 'in', 'Iran', '(Hot', 'and', 'dry,', 'Warm', 'and', 'semi-humid,', 'warm', 'and', 'wet,', 'moderate', 'and', 'dry', 'and', 'mild', 'and', 'humid.).', 'Also,', 'four', 'strategies', 'are', 'considered', 'for', 'better', 'comparison.', 'The', 'first', 'strategy', 'is', 'the', 'use', 'of', 'common', 'double-glazed', 'windows,', 'the', 'second', 'to', 'fourth', 'strategy,', 'and', 'the', 'use', 'of', 'the', 'electrochromic', 'window', 'in', 'three', 'different', 'modes;', 'bleached', 'mode', '(Off),', 'colored', 'mode', '(On),', 'and', 'switchable', 'mode', '(controlled', 'beneath', 'comfort', 'conditions).', 'The', 'third', 'and', 'fourth', 'strategy', 'has', 'shown', 'a', 'reduction', 'in', 'thermal', 'energy', 'consumption', 'in', 'different', 'climates', 'from', '25', 'to', '45%', 'relative', 'to', '(typical', 'windows).', 'The', 'best', 'result', 'of', 'cooling', 'energy', 'consumption', 'was', 'also', 'in', 'Tehran.', 'So,', 'for', 'this', 'climate,', 'the', 'average', 'energy', 'consumption', 'dropped', 'to', '34%', 'for', 'the', 'warm', 'months', 'of', 'the', 'year', 'and', 'even', '42%', 'for', 'the', 'warmest', 'month', 'of', 'the', 'year', '(August).', '24', 'Enhancing', 'intrinsic', 'detection', 'efficiency', 'of', 'superconducting', 'nanowire', 'single-photon', 'detectors', 'via', 'helium', 'ion', 'irradiation', 'Realizing', 'an', 'NbN', 'superconducting', 'nanowire', 'single-photon', 'detector', '(SNSPD)', 'with', 'a', '100%', 'intrinsic', 'detection', 'efficiency', '(IDE)', 'at', 'the', 'near-infrared', 'wavelengths', 'is', 'still', 'challenging.', 'Herein,', 'we', 'developed', 'a', 'post-processing', 'method', 'to', 'increase', 'the', 'IDE', 'of', 'NbN', 'SNSPDs', 'to', 'near', 'unity', 'using', 'a', '20', 'keV', 'helium', 'ion', 'irradiation.', 'The', 'IDE', 'enhancement', 'was', 'achieved', 'owing', 'to', 'the', 'ion-induced', 'reduction', 'of', 'the', 'superconducting', 'energy', 'gap', 'and', 'the', 'electron', 'density', 'of', 'states', 'at', 'the', 'Fermi', 'level,', 'determined', 'with', 'the', 'electrical', 'and', 'magnetic', 'transport', 'measurements.', 'The', 'change', 'in', 'optical', 'absorptance', 'of', 'the', 'irradiated', 'SNSPD', 'was', 'negligible', 'as', 'confirmed', 'by', 'the', 'measured', 'optical', 'reflectance', 'and', 'system', 'detection', 'efficiency', '(SDE).', 'Benefited', 'with', 'the', 'IDE', 'enhancement,', 'the', 'SDE', 'of', 'an', 'irradiated', 'device', 'was', 'significantly', 'increased', 'from', '49%', 'to', '92%', 'at', '2.2', 'K', 'for', 'a', '1550', 'nm', 'wavelength.', '25', 'Mixed', 'Convection', 'Characteristics', 'in', 'a', 'Baffeled', 'U-shaped', 'Lid-driven', 'Cavity', 'in', 'the', 'Presence', 'of', 'Magnetic', 'Field', 'In', 'the', 'present', 'study,', 'mixed', 'convection', 'of', 'CuO/water', 'nanofluid', 'in', 'a', 'lid-driven', 'U-shaped', 'enclosure', 'filled', 'with', 'a', 'baffle', 'is', 'studied', 'using', 'lattice', 'Boltzmann', 'method', '(LBM).', 'The', 'bottom', 'wall', 'is', 'fixed', 'at', 'a', 'uniform', 'temperature', 'and', 'the', 'effect', 'of', 'magnetic', 'field', 'is', 'investigated.', 'KKL', '(Koo-Kleinstreuer-Li)', 'model', 'is', 'used', 'to', 'get', 'the', 'effective', 'thermal', 'conductivity', 'and', 'viscosity', 'of', 'nanofluid.', 'In', 'this', 'model,', 'Brownian', 'motion', 'of', 'nanoparticle', 'is', 'considered.', 'Effect', 'of', 'Hartmann', 'number,', 'Richardson', 'number,', 'Reynolds', 'number', 'and', 'nanoparticle', 'volume', 'fraction', 'on', 'streamlines,', 'isotherms', 'and', 'averaged', 'Nusselt', 'number', 'have', 'been', 'examined.', 'The', 'results', 'revealed', 'that', 'at', 'Re', '=', '100,', 'the', 'nanofluid', 'strategy', 'has', 'a', 'detrimental', 'effect', 'on', 'the', 'Nusselt', 'number', 'when', 'the', 'Richardson', 'number', 'is', 'high.', 'As', 'Reynolds', 'number', 'increases,', 'the', 'average', 'Nusselt', 'number', 'increases', 'but', 'adverse', 'trends', 'can', 'be', 'observed', 'when', 'the', 'Hartmann', 'numbers', 'increases.', 'The', 'effect', 'of', 'increasing', 'Reynolds', 'number', 'on', 'the', 'heat', 'transfer', 'rate', 'is', 'more', 'conspicuous', 'at', 'higher', 'Richardson', 'numbers.', '26', 'Effect', 'of', 'sputtering', 'conditions', 'on', 'the', 'structure', 'and', 'magnetic', 'properties', 'of', 'self-assembled', 'BiFeO3-CoFe2O4', 'nanocomposite', 'thin', 'films', 'This', 'article', 'describes', 'the', 'growth', 'of', 'self-assembled', 'spinel-perovskite', 'nanocomposite', 'thin', 'films', 'using', 'a', 'sputtering', 'technique.', 'Vertically', 'aligned', 'nanocomposites,', 'consisting', 'of', 'CoFe2O4', 'grown', 'as', 'pillars', 'in', 'a', 'BiFeO3', 'matrix,', 'were', 'observed', 'under', 'optimum', 'growth', 'conditions.', 'The', 'magnetic', 'hysteresis', 'loops', 'of', 'these', 'nanocomposites', 'showed', 'a', 'strong', 'out-of-plane', 'anisotropy.', 'The', 'physical', 'properties', 'of', 'these', 'nanocomposites', 'were', 'dramatically', 'changed', 'by', 'modulating', 'the', 'growth', 'conditions,', 'which', 'affected', 'the', 'growth', 'rates', 'and', 'strain', 'states.', 'Finally,', 'we', 'provide', 'a', 'mapping', 'that', 'summarizes', 'the', 'structure', 'and', 'magnetic', 'anisotropy', 'changes', 'that', 'occur', 'with', 'growth', 'rate,', 'for', 'optimizing', 'synthesis', 'conditions', 'for', 'self-assembled', 'oxide', 'nanostructures.', '27', 'Polydimethylsiloxane', '(PDMS):', 'Optical', 'Constants', 'from', '191', '&ndash;', '1688', 'nm', '(0.735', '&ndash;', '6.491', 'eV)', 'by', 'Spectroscopic', 'Ellipsometry', 'Herein', 'we', 'report', 'the', 'optical', 'function(s)', 'of', 'PDMS', 'as', 'determined', 'from', 'reflection', 'spectroscopic', 'ellipsometry', '(SE)', 'and', 'transmission', 'ultraviolet-visible', 'data.', 'These', 'functions', 'were', 'obtained', 'from', '191', 'to', '1688', 'nm', 'from', 'two', 'commercial', 'samples', 'of', 'liquid', 'PDMS', '(PDMS700', 'and', 'PDMS2000)', 'that', 'had', 'molecular', 'weights', 'of', '700-1500', 'g/mol', 'and', '2000-3500', 'g/mol,', 'respectively.', 'Both', 'samples', 'were', 'linear', 'polymers', 'terminated', 'with', 'silanol', 'groups.', 'The', 'optical', 'functions', 'determined', 'from', 'the', 'two', 'materials', 'were', 'essentially', 'identical.', 'In', 'addition', 'to', 'analyzing', 'the', 'data', 'from', 'the', 'individual', 'samples,', 'the', 'SE', 'data', 'from', 'the', 'samples', 'were', 'combined', 'in', 'a', 'multi-sample', 'analysis', '(MSA).', 'Both', 'the', 'reflection', 'and', 'transmission', 'measurements', 'required', 'special', 'experimental', 'considerations.', 'For', 'the', 'reflection', 'SE', 'measurements,', 'these', 'included', 'roughening', '(frosting)', 'the', 'inside', 'of', 'the', 'vessel', 'that', 'held', 'the', 'PDMS', 'and', 'the', 'need', 'to', 'level', 'the', 'instrument', 'instead', 'of', 'the', 'samples.', 'The', 'transmission', 'measurements', 'were', 'obtained', 'via', 'a', 'dual', 'cuvette', 'approach', 'that', 'eliminated', 'the', 'effects', 'of', 'the', 'cuvettes', 'and', 'their', 'interfaces.', 'Because', 'both', 'samples', 'of', 'PDMS', 'were', 'transparent', 'over', 'the', 'measured', 'wavelength', 'range,', 'and', 'because', 'of', 'the', 'relatively', 'wide', 'wavelength', 'range', 'considered,', 'the', 'optical', 'functions', 'were', 'fit', 'with', 'a', 'Sellmeier', 'model.', 'This', 'produced', 'a', 'good', 'fit', 'for', 'the', 'MSA', 'with', 'a', 'mean', 'squared', 'error,', 'MSE,', 'value', 'of', '1.24.', 'The', 'optical', 'functions', 'obtained', 'in', 'this', 'work', 'agreed', 'well', 'with', 'previously', 'reported', 'values.', 'For', 'example,', 'for', 'the', 'MSA,', 'we', 'obtained', 'the', 'following', 'nx', 'values,', 'where', 'x', 'is', 'the', 'wavelength', 'in', 'nanometers:', 'n300', '=', '1.439,', 'n500', '=', '1.407,', 'and', 'n1000', '=', '1.395.', '28', 'Experimental', 'observation', 'of', 'size-dependent', 'behavior', 'in', 'surface', 'energy', 'of', 'gold', 'nanoparticles', 'through', 'atomic', 'force', 'microscope', 'Surface', 'energy', 'plays', 'a', 'key', 'role', 'in', 'the', 'physicochemical', 'interactions', 'of', 'materials', 'surfaces', 'and', 'it', 'is', 'closely', 'related', 'to', 'the', 'unique', 'properties', 'and', 'numerous', 'surface', 'functionalization', 'possibilities', 'of', 'gold', 'nanoparticles.', 'Herein,', 'we', 'have', 'reported', 'an', 'atomic', 'force', 'microscopy', 'based', 'technique', 'to', 'measure', 'the', 'surface', 'energies', 'of', 'different', 'materials', 'under', 'the', 'peakforce', 'quantitative', 'nanomechanical', 'mapping', 'mode.', 'Our', 'study', 'on', 'gold', 'nanoparticles', 'focuses', 'on', 'the', 'particles', 'with', 'diameters', 'ranging', 'from', '2', 'to', '14', 'nm.', 'The', 'experimental', 'results', 'indicate', 'a', 'clear', 'size-dependent', 'behavior', 'in', 'the', 'surface', 'energy', 'of', 'gold', 'nanoparticles', 'when', 'the', 'size', 'is', 'smaller', 'than', '5', 'nm,', 'and', 'the', 'smallest', 'gold', 'nanoparticle', 'displays', 'a', '3-fold', 'higher', 'surface', 'energy', 'compared', 'to', 'bulk', 'gold.', 'Therefore,', 'our', 'experimental', 'results', 'provide', 'essential', 'evidence', 'that', 'can', 'lead', 'to', 'a', 'better', 'understanding', 'of', 'the', 'size-property', 'relations', 'allowing', 'for', 'process', 'design', 'in', 'gold', 'nanoparticles.']\n"
     ]
    }
   ],
   "source": [
    "## 1. Split the words from the file\n",
    "words=text.split()\n",
    "print(words)"
   ]
  },
  {
   "cell_type": "code",
   "execution_count": 87,
   "metadata": {},
   "outputs": [
    {
     "name": "stdout",
     "output_type": "stream",
     "text": [
      "['1', 'Subsonic', 'Potentials', 'in', 'Ultra', 'dense', 'Plasmas', 'The', 'existence', 'of', 'the', 'subsonic', 'dynamic', 'potential', 'for', 'a', 'test', 'charge', 'in', 'extremely', 'dense', 'quantum', 'plasmas', 'is', 'pointed', 'out', 'the', 'first', 'time', 'where', 'usually', 'found', 'supersonic', 'potential', 'is', 'suppressed', 'The', 'dispersion', 'equation', 'of', 'Ion', 'Acoustic', 'Wave', 'IAW', 'in', 'relativistic', 'dense', 'plasmas', 'is', 'derived', 'on', 'employing', 'the', 'Quantum', 'Hydrodynamic', 'Model', 'QHM', 'In', 'addition', 'the', 'standard', 'model', 'of', 'wake', 'potential', 'is', 'hereafter', 'applied', 'for', 'the', 'derivation', 'of', 'dynamic', 'potential', 'of', 'the', 'test', 'particle', 'The', 'quantized', 'relativistic', 'electrons', 'obey', 'Fermi', 'statistics', 'whereas', 'ions', 'contribute', 'classically', 'It', 'is', 'noticed', 'that', 'the', 'oscillatory', 'wake', 'potential', 'does', 'exist', 'at', 'very', 'small', 'length', 'scales', 'Its', 'significant', 'features', 'are', 'further', 'analyzed', 'on', 'the', 'varying', 'magnetic', 'field', 'as', 'well', 'as', 'the', 'number', 'density', 'of', 'plasma', 'systems', 'It', 'is', 'found', 'that', 'the', 'dynamic', 'potential', 'exists', 'only', 'with', 'the', 'condition', 'v_t', 'lt', 'C_s', 'reflecting', 'the', 'subsonic', 'region', 'contrary', 'to', 'the', 'usual', 'v_t', 'gt', 'C_s', 'where', 'v_t', 'is', 'the', 'test', 'particle', 'speed', 'and', 'C_s', 'is', 'the', 'acoustic', 'speed', 'defined', 'with', 'the', 'Fermi', 'temperature', 'of', 'the', 'electrons', 'The', 'work', 'is', 'significant', 'in', 'order', 'to', 'describe', 'the', 'structure', 'formation', 'in', 'the', 'astrophysical', 'environment', '2', 'Overtaking', 'interaction', 'of', 'two', 'weakly', 'nonlinear', 'acoustic', 'solitons', 'in', 'plasmas', 'at', 'critical', 'densities', 'Acoustic', 'solitons', 'obtained', 'through', 'a', 'reductive', 'perturbation', 'scheme', 'are', 'normallysgoverned', 'by', 'a', 'Korteweg', 'de', 'Vries', 'KdV', 'equation', 'In', 'multispecies', 'plasmas', 'at', 'critical', 'densities', 'the', 'coefficient', 'of', 'the', 'quadratic', 'nonlinearity', 'vanishes', 'Extending', 'the', 'analytic', 'treatment', 'then', 'leads', 'to', 'a', 'modified', 'KdV', 'mKdV', 'equation', 'characterized', 'by', 'a', 'cubic', 'nonlinearity', 'This', 'is', 'even', 'in', 'the', 'electrostatic', 'potential', 'and', 'thus', 'can', 'admit', 'solitons', 'having', 'opposite', 'electrostatic', 'polarities', 'in', 'contrast', 'to', 'KdV', 'solitons', 'in', 'plasmas', 'which', 'can', 'only', 'be', 'of', 'one', 'polarity', 'at', 'a', 'time', 'The', 'original', 'application', 'of', 'the', 'KdV', 'theory', 'to', 'surface', 'waves', 'on', 'shallow', 'water', 'yielded', 'only', 'compressive', 'solitons', 'To', 'study', 'the', 'overtaking', 'interactions', 'between', 'two', 'solitons', 'in', 'the', 'KdV', 'case', 'the', 'Hirota', 'formalism', 'had', 'been', 'applied', 'to', 'either', 'two', 'compressive', 'or', 'two', 'rarefactive', 'plasma', 'modes', 'and', 'can', 'deal', 'with', 'more', 'interacting', 'waves', 'because', 'the', 'KdV', 'equation', 'is', 'completely', 'integrable', 'This', 'integrability', 'property', 'also', 'holds', 'for', 'the', 'mKdV', 'equation', 'in', 'plasmas', 'at', 'critical', 'densities', 'but', 'the', 'Hirota', 'formalism', 'for', 'the', 'mKdV', 'equation', 'is', 'more', 'complicated', 'This', 'formalism', 'can', 'cover', 'the', 'overtaking', 'interaction', 'between', 'a', 'compressive', 'and', 'a', 'rarefactive', 'soliton', 'with', 'the', 'larger', 'amplitude', 'and', 'faster', 'soliton', 'overtaking', 'the', 'smaller', 'amplitude', 'and', 'slower', 'soliton', 'sExamples', 'of', 'multispecies', 'plasmas', 'where', 'this', 'applies', 'are', 'given', 'In', 'contrast', 'there', 'is', 'no', 'Hirota', 'formalism', 'for', 'head', 'on', 'collisions', 'neither', 'for', 'the', 'KdV', 'nor', 'mKdV', 'equation', '3', 'Broadband', 'Focusing', 'Acoustic', 'Lens', 'Based', 'on', 'H', 'fractal', 'Metamaterials', 'Acoustic', 'metamaterials', 'are', 'a', 'kind', 'of', 'well', 'known', 'artificial', 'structures', 'which', 'can', 'provide', 'unconventional', 'effective', 'properties', 'to', 'manipulate', 'sound', 'waves', 'Different', 'from', 'the', 'traditional', 'resonant', 'elements', 'proposed', 'in', 'earlier', 'studies', 'we', 'designed', 'an', 'acoustic', 'lens', 'based', 'on', 'H', 'fractal', 'metamaterials', 'Compared', 'with', 'previous', 'patterns', 'the', 'proposed', 'model', 'comprises', 'a', 'series', 'of', 'H', 'fractal', 'metamaterial', 'units', 'Due', 'to', 'the', 'self', 'similar', 'properties', 'of', 'the', 'proposed', 'structure', 'the', 'acoustic', 'responses', 'may', 'arise', 'within', 'a', 'broad', 'frequency', 'range', 'By', 'adjusting', 'the', 'size', 'of', 'each', 'metamaterial', 'unit', 'phase', 'of', 'the', 'propagating', 'acoustic', 'waves', 'can', 'be', 'delayed', 'at', 'will', 'The', 'simulative', 'results', 'show', 'that', 'the', 'designed', 'acoustic', 'focusing', 'lens', 'have', 'excellent', 'focusing', 'abilities', 'from', '2', 'kHz', 'to', '5', 'kHz', 'with', 'considerably', 'high', 'transmission', 'efficiency', 'making', 'it', 'a', 'promising', 'candidate', 'for', 'a', 'various', 'of', 'acoustic', 'applications', '4', 'Numerical', 'Simulation', 'of', 'Standing', 'Surface', 'Acoustic', 'Wave', 'for', 'Separating', 'Suspended', 'Particles', 'in', 'Lubricating', 'Oil', 'The', 'microfluidic', 'chip', 'can', 'be', 'used', 'to', 'separate', 'particles', 'via', 'acoustic', 'radiation', 'force', 'and', 'can', 'be', 'applied', 'to', 'separate', 'impurity', 'particles', 'in', 'lubricating', 'oil', 'We', 'propose', 'herein', 'a', 'device', 'that', 'separates', 'particle', 'by', 'controlling', 'acoustic', 'radiation', 'force', 'via', 'standing', 'surface', 'acoustic', 'waves', 'SSAWs', 'The', 'concentration', 'and', 'separation', 'of', 'suspended', 'particles', 'was', 'simulated', 'We', 'first', 'analyze', 'the', 'force', 'exerted', 'on', 'suspended', 'particles', 'and', 'their', 'subsequent', 'motion', 'in', 'the', 'microfluidic', 'channel', 'and', 'then', 'verify', 'the', 'concentration', 'of', 'particles', 'exposed', 'to', 'SSAWs', 'We', 'also', 'investigate', 'how', 'the', 'frequency', 'of', 'the', 'SSAW', 'affects', 'particle', 'concentration', 'and', 'discuss', 'the', 'advantage', 'of', 'using', 'SSAWs', 'to', 'concentrate', 'and', 'separate', 'particles', '5', 'Observation', 'of', 'Temperature', 'Gradient', 'Driven', 'Electrostatic', 'Ion', 'Acoustic', 'Instability', 'in', 'a', 'Cross', 'field', 'Diffused', 'Plasma', 'The', 'turbulence', 'characteristics', 'of', 'near', 'EEF', 'target', 'region', 'embedded', 'with', 'diffused', 'plasma', 'emanating', 'across', 'large', 'electron', 'energy', 'filter', 'EEF', 'is', 'reported', 'for', 'large', 'volume', 'plasma', 'device', 'The', 'near', 'EEF', 'target', 'plasma', 'exhibits', 'gradient', 'free', 'profiles', 'of', 'plasma', 'density', 'x2207', 'n_e', '0', 'but', 'plasma', 'potential', 'x2207', 'V_p', 'x2260', '0', 'and', 'electron', 'temperature', 'x2207', 'T_e', 'x2260', '0', 'profiles', 'shows', 'finite', 'gradients', 'The', 'finite', 'radial', 'electric', 'field', 'reverses', 'sign', 'with', 'respect', 'to', 'the', 'centre', 'of', 'device', 'The', 'plasma', 'conditions', 'are', 'prevailing', 'with', 'magnetized', 'electrons', 'x03C9', '_ce', 'x226B', 'x03BD', '_en', 'but', 'ions', 'are', 'not', 'x03C9', '_ci', 'lt', 'x03BD', '_in', 'Electron', 'drifts', 'due', 'to', 'temperature', 'gradient', 'Vde', 'and', 'finite', 'electric', 'field', 'x3016', 'V', 'E', 'x00D7', 'B', 'x3017', '_', 'exceeding', 'ion', 'sound', 'velocity', 'x3016', 'C', 'x3017', '_s', 'The', 'observed', 'density', 'fluctuations', 'deltane', 'ne', '7', '10', 'are', 'broadband', 'in', 'nature', 'and', 'have', 'frequency', 'ordering', 'x03C9', '_ci', 'lt', 'x03C9', 'x226A', 'x03C9', '_ce', 'Numerically', 'obtained', 'growth', 'frequency', 'exceeds', 'ion', 'cyclotron', 'frequency', 'x03B3', 'gt', 'x03C9', '_ci', 'but', 'its', 'magnitude', 'is', 'less', 'than', 'the', 'mode', 'frequency', 'x03B3', 'lt', 'x03C9', 'Observed', 'gradTe', 'driven', 'mode', 'propagate', 'in', 'ion', 'diamagnetic', 'drift', 'direction', 'and', 'exhibits', 'nature', 'of', 'electrostatic', 'ion', 'acoustic', 'mode', '6', 'Strain', 'induced', 'mobility', 'enhancement', 'in', 'p', 'type', 'silicon', 'structures', 'bulk', 'and', 'quantum', 'well', 'quantum', 'kinetic', 'approach', 'Analytic', 'expressions', 'for', 'low', 'field', 'mobility', 'have', 'been', 'obtained', 'in', 'the', 'high', 'strained', 'p', 'type', 'silicon', 'structures', 'with', 'three', 'and', 'two', 'dimensional', 'hole', 'gases', 'Main', 'attention', 'is', 'paid', 'to', 'study', 'how', 'confinement', 'in', 'one', 'spatial', 'dimension', 'changes', 'the', 'strain', 'mobility', 'enhancement', 'in', 'comparison', 'with', 'bulk', 'material', 'The', 'mobility', 'enhancement', 'factor', 'has', 'been', 'calculated', 'at', 'application', 'of', 'the', 'uniaxial', 'and', 'biaxial', 'strains', 'Acoustic', 'and', 'optic', 'phonons', 'charged', 'impurities', 'and', 'surface', 'roughness', 'have', 'been', 'accepted', 'as', 'a', 'scattering', 'system', 'Our', 'theoretical', 'consideration', 'is', 'based', 'on', 'the', 'quantum', 'kinetic', 'equation', 'and', 'a', 'special', 'form', 'of', 'the', 'non', 'equilibrium', 'distribution', 'function', 'shifted', 'Fermi', 'distribution', 'Results', 'of', 'calculation', 'are', 'compared', 'with', 'known', 'experimental', 'data', '7', 'Glass', 'Fracture', 'by', 'Focusing', 'of', 'Laser', 'Generated', 'Nanosecond', 'Surface', 'Acoustic', 'Waves', 'Dynamic', 'fracture', 'of', 'borosilicate', 'glass', 'through', 'focusing', 'of', 'high', 'amplitude', 'nanosecond', 'surface', 'acoustic', 'waves', 'SAWs', 'at', 'the', 'micron', 'scale', 'is', 'investigated', 'in', 'an', 'all', 'optical', 'experiment', 'SAWs', 'are', 'generated', 'by', 'an', 'intense', 'picosecond', 'laser', 'excitation', 'pulse', 'focused', 'into', 'a', 'ring', 'shaped', 'spot', 'on', 'the', 'sample', 'surface', 'Interferometric', 'imaging', 'of', 'the', 'sample', 'surface', 'with', 'a', 'femtosecond', 'probe', 'pulse', 'allows', 'quantitative', 'measurement', 'of', 'the', 'vertical', 'surface', 'displacements', 'Images', 'taken', 'at', 'different', 'pump', 'probe', 'delays', 'capture', 'the', 'SAW', 'as', 'it', 'converges', 'towards', 'the', 'center', 'focuses', 'and', 'subsequently', 'diverges', 'The', 'amplitude', 'of', 'the', 'SAW', 'is', 'varied', 'by', 'changing', 'the', 'laser', 'excitation', 'energy', 'Above', 'a', 'certain', 'laser', 'excitation', 'energy', 'threshold', 'a', 'damage', 'at', 'the', 'acoustic', 'focal', 'point', 'is', 'observed', 'A', 'post', 'mortem', 'investigation', 'reveals', 'a', 'crater', 'formed', 'by', 'the', 'ejection', 'of', 'a', 'piece', 'of', 'material', 'Numerical', 'calculations', 'matching', 'the', 'measured', 'surface', 'displacement', 'profiles', 'help', 'us', 'determine', 'the', 'time', 'evolution', 'of', 'the', 'stress', 'distribution', 'in', 'the', 'sample', 'and', 'at', 'the', 'acoustic', 'focus', 'We', 'find', 'that', 'the', 'glass', 'withstands', 'a', 'nanosecond', 'local', 'tensile', 'stress', 'of', 'at', 'least', '6', 'GPa', 'without', 'visible', 'fracture', 'which', 'is', 'well', 'above', 'the', 'tensile', 'limit', 'observed', 'in', 'conventional', 'shock', 'spallation', 'experiments', '8', 'KdV', 'Acoustic', 'Structure', 'with', 'Exchange', 'Correlation', 'Potential', 'in', 'Plasmas', 'The', 'effects', 'of', 'exchange', 'correlation', 'potential', 'ECP', 'on', 'the', 'profile', 'of', 'dust', 'acoustic', 'solitary', 'waves', 'DASWs', 'in', 'degenerate', 'dusty', 'plasmas', 'has', 'been', 'investigated', 'The', 'plasmassystem', 'is', 'consisting', 'upon', 'three', 'species', 'such', 'as', 'degenerate', 'ions', 'and', 'electrons', 'andsclassical', 'dust', 'grains', 'This', 'study', 'is', 'comprising', 'upon', 'the', 'linear', 'and', 'nonlinear', 'analysissof', 'long', 'wavelength', 'dust', 'acoustic', 'waves', 'in', 'non', 'relativistic', 'plasmas', 'The', 'linear', 'acoustic', 'wave', 'have', 'been', 'analyzed', 'by', 'using', 'the', 'multi', 'fluid', 'model', 'whereas', 'to', 'study', 'smallsamplitude', 'DASWs', 'modified', 'Korteweg', 'de', 'Vries', 'KdV', 'equation', 'has', 'been', 'derived', 'bysusing', 'the', 'reductive', 'perturbation', 'theory', 'The', 'effects', 'of', 'dust', 'concentration', 'Havenesssparameter', 'h', 'in', 'the', 'plasma', 'and', 'exchange', 'correlation', 'potential', 'have', 'been', 'highlighted', 'sThe', 'dust', 'concentration', 'and', 'exchange', 'correlation', 'potential', 'affect', 'the', 'solitary', 'wavesamplitude', 'and', 'its', 'width', 'remarkably', 'Our', 'results', 'can', 'be', 'used', 'to', 'understand', 'the', 'characteristics', 'of', 'nonlinear', 'electrostatic', 'waves', 'exciting', 'in', 'a', 'dense', 'degenerate', 'Fermi', 'gas', 'spresent', 'in', 'metallic', 'nano', 'structures', 'or', 'presumably', 'in', 'near', 'supernova', 'environments', 'sin', 'the', 'presence', 'of', 'massive', 'charged', 'defects', '9', 'Acoustic', 'Nonlinearity', 'Parameter', 'Induced', 'by', 'Extended', 'Dislocations', 'Excess', 'acoustic', 'nonlinearity', 'is', 'a', 'signature', 'of', 'microstructural', 'defects', 'on', 'a', 'propagating', 'ultrasound', 'By', 'measuring', 'the', 'excess', 'acoustic', 'nonlinearity', 'parameter', 'defect', 'characteristics', 'can', 'be', 'inferred', 'nondestructively', 'through', 'ultrasonic', 'techniques', 'To', 'this', 'end', 'proper', 'models', 'are', 'needed', 'to', 'relate', 'the', 'excess', 'acoustic', 'nonlinearity', 'parameter', 'with', 'defect', 'characteristics', 'In', 'this', 'study', 'an', 'analytical', 'model', 'for', 'extended', 'dislocations', 'is', 'developed', 'that', 'relates', 'the', 'excess', 'acoustic', 'nonlinearity', 'parameter', 'with', 'characteristics', 'of', 'the', 'extended', 'dislocation', 'including', 'dislocation', 'density', 'stacking', 'fault', 'energy', 'and', 'equilibrium', 'distance', 'between', 'the', 'two', 'partial', 'dislocations', 'that', 'form', 'the', 'extended', 'dislocation', 'According', 'to', 'this', 'model', 'the', 'excess', 'acoustic', 'nonlinearity', 'parameter', 'induced', 'by', 'extended', 'dislocations', 'consists', 'of', 'a', 'stress', 'independent', 'term', 'and', 'a', 'stress', 'dependent', 'term', 'Both', 'terms', 'are', 'scaled', 'with', 'Lchar', 'b', 'n', 'where', 'Lchar', 'is', 'the', 'equilibrium', 'distance', 'between', 'the', 'two', 'partials', 'b', 'is', 'the', 'magnitude', 'of', 'Burgers', 'vector', 'and', 'n', 'is', '3', 'and', '4', 'for', 'the', 'stress', 'independent', 'and', 'stress', 'dependent', 'terms', 'respectively', 'The', 'model', 'will', 'be', 'useful', 'for', 'interpreting', 'results', 'from', 'ultrasonic', 'nondestructive', 'evaluation', 'of', 'material', 'defects', '10', 'Surface', 'anisotropy', 'in', 'a', 'magnetic', 'cylinder', 'induced', 'by', 'the', 'displacement', 'of', 'a', 'vortex', 'core', 'In', 'this', 'article', 'we', 'investigate', 'the', 'induction', 'of', 'a', 'surface', 'anisotropy', 'due', 'to', 'the', 'displacement', 'of', 'the', 'vortex', 'core', 'in', 'a', 'cylindrical', 'nanostructure', 'In', 'fact', 'the', 'effect', 'of', 'the', 'displacement', 'of', 'the', 'vortex', 'core', 'in', 'the', 'dipolar', 'energy', 'can', 'be', 'modeled', 'simply', 'as', 'a', 'surface', 'anisotropy', 'of', 'the', 'form', 'E_s', 'K_s', 'int_', 'mathcal', 'S', '_m', 'd', 'mathcal', 'S', 'hat', 'n', 'cdot', 'hat', 'm', '2', '2', 'Moreover', 'the', 'surface', 'anisotropy', 'constant', 'K_s', 'is', 'proportional', 'to', 'the', 'cylinder', 'in', 'plane', 'demagnetizing', 'factor', 'in', 'the', 'direction', 'of', 'the', 'core', 'deviation', 'N_y', 'L', 'R', 'i', 'e', 'K_s', 'mu_0', 'M_0', '2', 'R', 'N_y', 'L', 'R', 'where', 'R', 'and', 'L', 'are', 'the', 'radius', 'and', 'the', 'thickness', 'of', 'the', 'cylinder', 'respectively', 'Our', 'results', 'show', 'that', 'the', 'term', 'of', 'the', 'nontrivial', 'dipolar', 'energy', 'caused', 'by', 'the', 'charges', 'in', 'the', 'cylinder', 'mantle', 'can', 'be', 'replaced', 'by', 'a', 'simple', 'integral', 'E_s', 'that', 'increases', 'the', 'efficiency', 'of', 'the', 'numerical', 'calculations', 'in', 'the', 'analytical', 'study', 'of', 'the', 'displacement', 'of', 'the', 'vortex', 'core', 'in', 'magnetic', 'vortices', '11', 'Optical', 'force', 'induced', 'circular', 'dichroism', 'in', 'the', 'surface', 'plasmon', 'resonance', 'of', 'single', 'nanocrystals', 'The', 'quantum', 'mechanical', 'theory', 'adequately', 'describes', 'optical', 'activity', 'in', 'small', 'molecules', 'However', 'the', 'simplified', 'one', 'electron', 'model', 'is', 'insufficient', 'to', 'describe', 'optical', 'activity', 'in', 'plasmonic', 'nanocrystals', 'where', 'longitudinal', 'polarization', 'along', 'the', 'light', 'propagation', 'direction', 'is', 'crucial', 'at', 'the', 'nanometer', 'scale', 'Here', 'the', 'experimental', 'observation', 'of', 'natural', 'circular', 'dichroism', 'in', 'the', 'surface', 'plasmon', 'resonances', 'of', 'spherical', 'gold', 'silver', 'and', 'copper', 'nanocrystals', 'in', 'solution', 'is', 'presented', 'Optical', 'forces', 'exert', 'on', 'the', 'nanoparticle', 'in', 'the', 'light', 'propagation', 'direction', 'which', 'induces', 'longitudinal', 'polarization', 'coupling', 'to', 'surface', 'plasmons', 'and', 'optical', 'symmetry', 'breaking', 'Ellipticity', 'sign', 'indicates', 'that', 'dipolar', 'surface', 'plasmons', 'are', 'optically', 'left', 'handed', 'whereas', 'quadrupolar', 'surface', 'plasmons', 'are', 'optically', 'right', 'handed', 'manifesting', 'the', 'conservation', 'of', 'orbital', 'angular', 'momentum', 'in', 'the', 'surface', 'plasmon', 'resonance', 'The', 'plasmon', 'mode', 'dependent', 'ellipticity', 'sign', 'is', 'consistently', 'observed', 'for', 'anisotropic', 'nanocrystals', 'including', 'triangles', 'octahedra', 'nanorods', 'and', 'core', 'shell', 'nanoparticles', 'Structural', 'effects', 'such', 'as', 'nanocrystal', 'assembly', 'nanocrystal', 'shape', 'and', 'plasmon', 'molecule', 'interaction', 'are', 'accessed', 'The', 'classical', 'coupled', 'oscillator', 'model', 'adequately', 'describes', 'the', 'optomechanical', 'circular', 'dichroism', 'This', 'study', 'demonstrates', 'a', 'helical', 'resonance', 'of', 'surface', 'plasmons', 'in', 'the', 'structurally', 'achrial', 'nanocrystals', 'by', 'asymmetry', 'in', 'the', 'longitudinal', 'polarization', 'which', 'will', 'impact', 'on', 'hot', 'electron', 'generation', 'nonlinear', 'optical', 'response', 'and', 'metamaterial', 'functionality', '12', 'Au', 'nanoparticles', 'as', 'nuclei', 'for', 'defect', 'formation', 'in', 'memristive', 'SrTiO3', 'thin', 'films', 'We', 'investigated', 'the', 'possibility', 'to', 'tune', 'the', 'local', 'switching', 'properties', 'of', 'memristive', 'crystalline', 'SrTiO3', 'thin', 'films', 'by', 'inserting', 'nanoscale', 'defect', 'nucleation', 'centers', 'For', 'that', 'purpose', 'we', 'employed', 'chemically', 'synthesized', 'Au', 'nanoparticles', 'deposited', 'on', 'the', 'Nb', 'doped', 'SrTiO3', 'single', 'crystal', 'substrates', 'as', 'a', 'defect', 'formation', 'template', 'for', 'the', 'subsequent', 'growth', 'of', 'SrTiO3', 'We', 'studied', 'in', 'detail', 'the', 'resulting', 'microstructure', 'and', 'the', 'local', 'conducting', 'and', 'switching', 'properties', 'of', 'the', 'SrTiO3', 'thin', 'films', 'We', 'worked', 'out', 'that', 'the', 'Au', 'nanoparticles', 'float', 'to', 'the', 'SrTiO3', 'surface', 'during', 'growth', 'leaving', 'behind', 'a', 'distorted', 'thin', 'film', 'region', 'in', 'their', 'vicinity', 'By', 'employing', 'conductive', 'tip', 'atomic', 'force', 'microscopy', 'these', 'distorted', 'SrTiO3', 'regions', 'are', 'identified', 'as', 'sites', 'of', 'preferential', 'resistive', 'switching', 'These', 'findings', 'can', 'be', 'attributed', 'to', 'the', 'enhanced', 'oxygen', 'exchange', 'reaction', 'at', 'the', 'surface', 'in', 'these', 'defective', 'regions', '13', 'Wear', 'Characteristics', 'of', 'TiAlN', 'Coated', 'on', 'HSS', 'Tool', 'steel', 'bythe', 'Machining', 'of', 'AISI', '410', 'Steel', 'In', 'this', 'study', 'the', 'Ti0', '4Al0', '4N', 'coatings', 'were', 'produced', 'by', 'physical', 'vapor', 'deposition', 'PVD', 'on', 'HSSsingle', 'point', 'cutting', 'tool', 'The', 'coating', 'phase', 'composition', 'and', 'microstructure', 'were', 'investigated', 'with', 'X', 'raydiffraction', 'XRD', 'and', 'scanning', 'electron', 'microscopy', 'SEM', 'with', 'EDS', 'attachment', 'The', 'wear', 'behaviorand', 'cutting', 'performance', 'of', 'the', 'uncoated', 'and', 'Ti0', '4Al0', '4N', 'coated', 'tool', 'at', 'room', 'temperature', 'wereinvestigated', 'under', 'dry', 'condition', 'Turning', 'tests', 'were', 'carried', 'out', 'on', 'both', 'uncoated', 'and', 'Ti0', '4Al0', '4N', 'coatedHSS', 'single', 'point', 'cutting', 'tool', 'in', 'AISI410', 'steel', 'turning', 'under', 'dry', 'conditions', 'with', 'the', 'diverse', 'depths', 'of', 'cut0', '5mm', '1mm', 'and', '1', '5', 'mm', 'at', 'a', 'constant', 'work', 'piece', 'rotating', 'velocity', 'of', '0', '65m', 's', 'The', 'Tribological', 'andmechanical', 'properties', 'of', 'coated', 'pin', 'were', 'characterized', 'by', 'pin', 'on', 'disc', 'and', 'nanoindentation', 'test', 'Theresult', 'showed', 'that', 'Ti0', '4Al0', '4N', 'coating', 'had', 'higher', 'hardness', 'than', 'uncoated', 'tool', 'due', 'to', 'its', 'smaller', 'grainsize', 'Cutting', 'performance', 'of', 'the', 'HSS', 'single', 'point', 'cutting', 'tool', 'was', 'improved', 'with', 'the', 'covering', 'ofTi0', '4Al0', '4N', 'coating', 'with', 'at', 'least', '2', 'times', 'of', 'cutting', 'life', 'No', 'spalling', 'was', 'occurred', 'after', 'the', 'cutting', 'tests', 'forTi0', '4Al0', '4N', 'coated', 'HSS', 'single', 'point', 'cutting', 'tool', 'The', 'more', 'pits', 'and', 'grooving', 'region', 'were', 'established', 'onthe', 'uncoated', 'tool', 'This', 'result', 'exhibits', 'that', 'Ti0', '4Al0', '4N', 'coating', 'performed', 'good', 'adhesion', 'and', 'abrasivewear', 'resistance', 'cutting', 'performance', 'and', 'longer', 'tool', 'life', 'than', 'uncoated', 'tool', '14', 'EXPERIMENTAL', 'INVESTIGATION', 'OF', 'CONVECTIVE', 'HEAT', 'TRANSFER', 'COEFFICIENT', 'IN', 'PARABOLIC', 'COLLECTOR', 'USING', 'NANOFLUIDS', 'The', 'performance', 'of', 'the', 'collector', 'is', 'improved', 'using', 'nanofluid', 'which', 'improves', 'the', 'overall', 'performance', 'of', 'the', 'parabolic', 'collector', 'In', 'the', 'present', 'analysis', 'the', 'use', 'of', 'aluminum', 'and', 'copper', 'tube', 'as', 'a', 'vacuum', 'absorber', 'pipe', 'with', 'Al2O3', 'water', 'CuO', 'water', 'nanofluid', 'and', 'water', 'as', 'a', 'base', 'fluid', 'to', 'determine', 'the', 'performance', 'characteristic', 'of', 'temperature', 'efficiency', 'and', 'heat', 'transfer', 'coefficient', 'The', 'experimentation', 'performed', 'by', 'taking', '0', '1', 'Vol', 'concentration', 'CuO', 'water', 'and', 'Al2O3', 'water', 'nanofluid', 'on', 'copper', 'aluminum', 'pipe', 'for', 'the', 'Reynolds', 'number', 'of', '3400', '4500', '5600', 'respectively', 'From', 'the', 'results', 'it', 'is', 'clear', 'that', 'with', 'the', 'use', 'of', 'nanofluid', 'the', 'efficiency', 'of', 'the', 'parabolic', 'collector', 'is', 'improved', 'by', '10', '25', 'than', 'the', 'base', 'fluid', 'the', 'efficiency', 'increases', 'for', 'copper', 'pipe', 'with', 'CuO', 'water', 'is', '91', '42', '84', '34', '79', '90', 'for', 'the', 'low', 'Reynolds', 'number', 'of', 'the', 'higher', 'The', 'heat', 'transfer', 'enhanced', 'the', 'performance', 'of', 'the', 'copper', 'pipe', 'with', 'CuO', 'water', 'nanofluid', 'which', 'varies', 'from', '87', '98', '63', '70', 'and', '48', '72', 'of', 'the', 'increase', 'in', 'Reynolds', 'number', 'From', 'the', 'result', 'it', 'is', 'clear', 'that', 'the', 'heat', 'transfer', 'enhancement', 'at', 'low', 'flow', 'rate', 'shows', 'the', 'best', 'result', 'as', 'compared', 'to', 'the', 'other', 'cases', 'The', 'percentage', 'increase', 'at', 'the', 'outlet', 'of', 'absorber', 'pipe', 'in', 'case', 'of', 'copper', 'pipe', 'with', 'CuO', 'water', 'nanofluid', 'is', '53', '85', 'as', 'compared', 'with', 'other', 'cases', 'of', 'experimentation', 'and', 'different', 'flow', 'rate', 'of', 'nanofluid', 'inside', 'the', 'tubes', 'From', 'the', 'experimentation', 'it', 'is', 'also', 'concluded', 'that', 'the', 'friction', 'factor', 'decreases', 'with', 'the', 'increase', 'in', 'flow', 'rates', '15', 'Thick', 'Film', 'Deposition', 'from', 'Supersonic', 'Impact', 'of', 'Monosized', 'Ag', 'Nanoparticles', 'We', 'describe', 'the', 'use', 'of', 'the', 'laser', 'ablation', 'of', 'microparticle', 'aerosols', 'process', 'to', 'deposit', 'patterned', 'thick', 'films', 'of', 'Ag', 'from', 'nanoparticles', 'at', 'high', 'velocities', 'and', 'study', 'the', 'effects', 'of', 'varying', 'the', 'nanoparticle', 'impacting', 'velocity', 'while', 'fixing', 'the', 'nanoparticle', 'size', 'It', 'is', 'shown', 'that', 'the', 'relative', 'height', 'of', 'the', 'deposits', 'and', 'the', 'impacting', 'velocity', 'influence', 'the', 'microstructure', 'with', 'higher', 'heights', 'leading', 'to', 'greater', 'porosity', 'Using', 'molecular', 'dynamics', 'simulations', 'a', 'critical', 'normal', 'impacting', 'velocity', 'of', '600', 'm', 's', 'for', 'a', '6', 'nm', 'particle', 'was', 'calculated', 'A', 'model', 'was', 'developed', 'to', 'explain', 'the', 'influence', 'of', 'relative', 'heights', 'and', 'impacting', 'velocity', 'on', 'porosity', '16', 'Nonlinear', 'Constitutive', 'Models', 'for', 'Nano', 'scale', 'Heat', 'Conduction', 'We', 'present', 'a', 'rigorous', 'approach', 'that', 'leads', 'from', 'a', 'many', 'particle', 'description', 'to', 'a', 'nonlinear', 'stochastic', 'constitutive', 'relation', 'for', 'the', 'modeling', 'of', 'transient', 'heat', 'conduction', 'processes', 'at', 'nanoscale', 'By', 'enforcing', 'statistical', 'consistency', 'in', 'that', 'the', 'statistics', 'of', 'the', 'local', 'energy', 'is', 'consistentswith', 'that', 'from', 'an', 'all', 'atom', 'description', 'we', 'identify', 'the', 'driving', 'force', 'as', 'well', 'as', 'the', 'model', 'parameters', 'in', 'these', 'generalized', 'constitutive', 'models', '17', 'An', 'ultra', 'compact', 'low', 'temperature', 'scanning', 'probe', 'microscope', 'for', 'magnetic', 'felds', 'above', '30', 'T', 'We', 'present', 'the', 'design', 'of', 'a', 'highly', 'compact', 'High', 'Field', 'Scanning', 'Probe', 'Microscope', 'HF', 'SPM', 'for', 'operation', 'at', 'cryogenic', 'temperatures', 'in', 'an', 'extremely', 'high', 'magnetic', 'field', 'provided', 'by', 'a', 'water', 'cooled', 'Bitter', 'magnet', 'able', 'to', 'reach', '38', 'T', 'The', 'HF', 'SPM', 'is', '14', 'mm', 'in', 'diameter', 'an', 'Attocube', 'nano', 'positioner', 'controls', 'the', 'coarse', 'approach', 'of', 'a', 'piezo', 'resistive', 'AFM', 'cantilever', 'to', 'a', 'scanned', 'sample', 'The', 'Bitter', 'magnet', 'constitutes', 'an', 'extreme', 'environment', 'for', 'SPM', 'due', 'to', 'the', 'high', 'level', 'of', 'vibrational', 'noise', 'the', 'Bitter', 'magnet', 'noise', 'at', 'frequencies', 'up', 'to', '300', 'kHz', 'is', 'characterized', 'and', 'noise', 'mitigation', 'methods', 'are', 'described', 'The', 'performance', 'of', 'the', 'HF', 'SPM', 'is', 'demonstrated', 'by', 'topographic', 'imaging', 'and', 'noise', 'measurements', 'at', 'up', 'to', '30', 'T', 'Additionally', 'the', 'use', 'of', 'the', 'SPM', 'as', 'a', 'three', 'dimensional', 'dilatometer', 'for', 'magnetostriction', 'measurements', 'is', 'demonstrated', 'via', 'measurements', 'on', 'a', 'magnetically', 'frustrated', 'spinel', 'sample', '18', 'Nonlinear', 'Dynamical', 'Analysis', 'of', 'Cu', 'doped', 'ZnO', 'Nanoparticles', 'NPs', 'for', 'Biological', 'Applications', 'Since', 'ZnO', 'based', 'nanoparticles', 'have', 'variety', 'of', 'nanostructures', 'tools', 'of', 'Non', 'linear', 'Dynamical', 'Theory', 'NLD', 'have', 'been', 'used', 'successfully', 'in', 'the', 'present', 'work', 'to', 'analyze', 'the', 'XRD', 'time', 'series', 'a', 'priori', 'knowledge', 'helpful', 'to', 'come', 'up', 'with', 'basic', 'understanding', 'about', 'the', 'nano', 'particles', 'formed', 'Cu', 'doped', 'ZnO', 'nanosystems', 'are', 'analyzed', 'first', 'by', 'estimating', 'Correlation', 'Dimension', 'Cd', 'in', 'order', 'to', 'quantify', 'the', 'low', 'dimensional', 'chaotic', 'behavior', 'shown', 'by', 'the', 'nanosystems', 'through', 'the', 'XRD', 'time', 'series', 'Quantitative', 'information', 'concerning', 'the', 'preferential', 'orientation', 'of', 'crystallites', 'is', 'also', 'obtained', 'from', 'the', 'Texture', 'Coefficient', 'TC', 'of', 'different', 'planes', 'of', 'the', 'particles', 'formed', 'It', 'has', 'also', 'been', 'verified', 'that', 'the', 'orientations', 'of', 'the', 'crystallites', 'as', 'well', 'as', 'their', 'size', 'can', 'be', 'controlled', 'by', 'changing', 'the', 'dopant', 'percentage', 'The', 'numerical', 'values', 'of', 'the', 'Cd', 'TC', 'and', 'Crystallite', 'Size', 'of', 'different', 'samples', 'are', 'obtained', 'and', 'used', 'for', 'analyzing', 'the', 'over', 'all', 'behavior', 'of', 'the', 'of', 'crystallites', 'formed', 'Lacunarity', 'as', 'a', 'geometrical', 'scale', 'dependent', 'measure', 'of', 'texture', 'is', 'also', 'used', 'analyze', 'the', 'images', 'of', 'Zone', 'of', 'Inhibition', 'ZoI', 'a', 'biological', 'parameter', 'to', 'quantify', 'the', 'impact', 'of', 'anti', 'bacterial', 'nanoparticles', 'in', 'case', 'of', 'Gram', 'negative', 'E', 'coli', 'and', 'Gram', 'positive', 'S', 'aureus', 'pathogens', 'It', 'is', 'also', 'confirmed', 'for', 'the', 'first', 'time', 'that', 'the', 'basic', 'XRD', 'data', 'from', 'the', 'nanoparticles', 'may', 'be', 'used', 'as', 'a', 'marker', 'to', 'predict', 'desired', 'surface', 'features', 'of', 'the', 'nanoparticles', 'to', 'be', 'obtained', 'for', 'biological', 'application', 'such', 'as', 'detecting', 'specific', 'pathogens', '19', 'A', 'non', 'destructive', 'method', 'to', 'calibrate', 'the', 'torsional', 'spring', 'constant', 'of', 'atomic', 'force', 'microscope', 'cantilevers', 'in', 'viscous', 'environments', 'Calibration', 'of', 'the', 'torsional', 'spring', 'constant', 'of', 'atomic', 'force', 'microscopy', 'cantilevers', 'is', 'fundamental', 'to', 'a', 'range', 'of', 'applications', 'from', 'nanoscale', 'friction', 'and', 'lubrication', 'measurements', 'to', 'the', 'characterization', 'of', 'micro', 'electromechanical', 'systems', 'and', 'the', 'response', 'of', 'biomolecules', 'to', 'external', 'stimuli', 'Existing', 'calibration', 'methods', 'are', 'either', 'time', 'consuming', 'and', 'destructive', 'ex', 'situ', 'static', 'approaches', 'or', 'rely', 'on', 'models', 'using', 'the', 'frequency', 'and', 'quality', 'factor', 'Q', 'factor', 'of', 'the', 'cantilever', 'torsional', 'resonance', 'as', 'input', 'parameters', 'in', 'situ', 'dynamical', 'approaches', 'While', 'in', 'situ', 'approaches', 'are', 'usually', 'preferred', 'for', 'their', 'easy', 'implementation', 'and', 'preservation', 'of', 'the', 'cantilever', 'their', 'dependence', 'on', 'the', 'torsional', 'resonance', 'Q', 'factor', 'renders', 'calibration', 'in', 'highly', 'viscous', 'environments', 'challenging', 'This', 'is', 'problematic', 'for', 'example', 'in', 'many', 'nanoscale', 'tribological', 'applications', 'Here', 'we', 'propose', 'a', 'calibration', 'method', 'that', 'does', 'not', 'depend', 'on', 'the', 'cantilever', 'torsional', 'Q', 'factor', 'and', 'show', 'how', 'the', 'cantilever', 'deflection', 'can', 'be', 'converted', 'into', 'a', 'lateral', 'force', 'The', 'method', 'is', 'tested', 'with', 'six', 'cantilevers', 'of', 'different', 'shapes', 'and', 'material', 'composition', 'and', 'in', 'six', 'fluid', 'media', 'The', 'derived', 'spring', 'constants', 'are', 'compared', 'with', 'predictions', 'from', 'existing', 'methods', 'demonstrating', 'a', 'higher', 'precision', 'in', 'particular', 'for', 'highly', 'viscous', 'liquids', '20', 'A', 'Comparative', 'Investigation', 'on', 'Effects', 'of', 'Nanoparticles', 'on', 'Characteristics', 'of', 'Natural', 'Esters', 'based', 'Nanofluids', 'The', 'effects', 'of', 'transformer', 'oil', 'based', 'nanofluids', 'have', 'been', 'broadly', 'investigated', 'and', 'showcased', 'a', 'magnificent', 'improvement', 'in', 'performance', 'But', 'in', 'natural', 'esters', 'based', 'nanofluids', 'characteristic', 'performance', 'persist', 'virtually', 'unexplored', 'and', 'still', 'there', 'is', 'a', 'room', 'for', 'investigation', 'This', 'work', 'aims', 'to', 'examine', 'the', 'effect', 'of', 'three', 'dissimilar', 'types', 'of', 'nanoparticles', 'such', 'as', 'Aluminum', 'Oxide', 'Al2O3', 'Boron', 'Nitrate', 'BN', 'and', 'Ferrous', 'Ferric', 'Oxide', 'Fe3O4', 'at', 'various', 'volume', 'concentrations', 'on', 'the', 'characteristic', 'performance', 'of', 'natural', 'esters', 'Honge', 'oil', 'HO', 'Neem', 'oil', 'NO', 'Mustard', 'oil', 'MO', 'and', 'Punna', 'oil', 'PO', 'is', 'considered', 'as', 'base', 'fluid', 'for', 'investigation', 'The', 'characteristic', 'performances', 'of', 'base', 'fluids', 'are', 'tested', 'before', 'and', 'after', 'blending', 'of', 'nanoparticles', 'as', 'per', 'standards', 'The', 'findings', 'are', 'quite', 'promising', 'because', 'of', 'the', 'performance', 'of', 'nanofluids', 'shows', 'a', 'significant', 'improvement', '21', 'Approach', 'of', 'a', 'nanoparticle', 'towards', 'plasma', 'membrane', 'How', 'van', 'der', 'Waals', 'effect', 'dominates', 'electrostatics', 'in', 'distinguishing', 'between', 'a', 'gold', 'and', 'silica', 'nanoparticle', 'Making', 'a', 'nanoparticle', 'NP', 'approach', 'and', 'interact', 'with', 'a', 'plasma', 'membrane', 'PM', 'through', 'the', 'receptor', 'ligand', 'RL', 'interaction', 'is', 'key', 'for', 'applications', 'like', 'targeted', 'drug', 'delivery', 'cellular', 'imaging', 'and', 'theranostics', 'In', 'this', 'letter', 'we', 'show', 'that', 'van', 'der', 'Waals', 'vdW', 'interactions', 'dominate', 'the', 'electrostatics', 'ensuring', 'that', 'a', 'gold', 'NP', 'GNP', 'approached', 'the', 'PM', 'more', 'spontaneously', 'as', 'compared', 'to', 'a', 'silica', 'NP', 'SNP', 'The', 'negative', 'sigma', 'charge', 'density', 'of', 'a', 'PM', 'induces', 'a', 'negative', 'electrostatic', 'potential', 'at', 'the', 'surface', 'of', 'the', 'approaching', 'GNP', 'and', 'SNP', 'however', 'there', 'is', 'a', 'little', 'difference', 'between', 'these', 'induced', 'values', 'due', 'to', 'a', 'small', 'electric', 'double', 'layer', 'at', 'physiological', 'salt', 'concentration', 'c', 'infin', 'Hence', 'there', 'is', 'little', 'difference', 'in', 'the', 'electrostatic', 'repulsion', 'between', 'the', 'two', 'cases', 'while', 'the', 'PM', 'NP', 'vdW', 'attraction', 'is', 'much', 'more', 'for', 'the', 'GNP', 'as', 'a', 'result', 'of', 'a', 'larger', 'Hamaker', 'constant', 'Therefore', 'in', 'comparison', 'to', 'the', 'GNP', 'the', 'SNP', 'would', 'a', 'undergo', 'a', 'promotion', 'of', 'specific', 'adhesion', 'SA', 'and', 'a', 'prevention', 'of', 'non', 'specific', 'adhesion', 'NSA', 'simultaneously', 'across', 'larger', 'sigma', 'minus', 'c', 'infin', 'phase', 'space', 'including', 'physiological', 'conditions', 'b', 'necessitate', 'a', 'larger', 'length', 'of', 'the', 'ligand', 'to', 'trigger', 'spontaneous', 'RL', 'interaction', 'and', 'c', 'require', 'a', 'larger', 'driving', 'force', 'for', 'force', 'driven', 'RL', 'interactions', '22', 'Fluence', 'and', 'pulse', 'number', 'dependent', 'surface', 'nanostructures', 'induced', 'by', 'femtosecond', 'laser', 'on', 'SrTiO3', 'SrTiO3', 'STO', 'is', 'a', 'key', 'perovskite', 'oxide', 'with', 'fascinating', 'properties', 'in', 'electronics', 'and', 'optoelectronics', 'The', 'formation', 'of', 'surface', 'nanostructures', 'is', 'an', 'ideal', 'platform', 'to', 'study', 'femtosecond', 'laser', 'STO', 'interaction', 'The', 'generation', 'and', 'evolution', 'of', 'surface', 'nanostructures', 'induced', 'by', 'femtosecond', 'laser', 'on', 'STO', 'surface', 'have', 'been', 'studied', 'experimentally', 'The', 'surface', 'nanostructures', 'show', 'distinct', 'features', 'with', 'a', 'clear', 'fluence', 'and', 'pulse', 'number', 'dependence', 'Unlike', 'the', 'regular', 'ripples', 'which', 'either', 'parallel', 'or', 'perpendicular', 'to', 'the', 'laser', 'polarization', 'ripples', 'formed', 'on', 'STO', 'surface', 'after', 'irradiated', 'with', '4', 'laser', 'pulses', 'coexist', 'in', 'both', 'directions', 'and', 'cover', 'all', 'the', 'structured', 'area', 'When', 'further', 'increase', 'the', 'pulse', 'number', 'ripples', 'parallel', 'to', 'the', 'laser', 'polarization', 'dominates', 'at', 'lower', 'fluence', 'regime', 'while', 'ripples', 'perpendicular', 'to', 'the', 'laser', 'polarization', 'are', 'the', 'only', 'surface', 'structures', 'formed', 'at', 'higher', 'fluence', 'regime', 'The', 'periodicity', 'of', 'ripples', 'perpendicular', 'to', 'the', 'laser', 'polarization', 'decreases', 'with', 'more', 'laser', 'pulse', 'irradiation', 'while', 'the', 'periodicity', 'of', 'the', 'ripples', 'parallel', 'to', 'the', 'laser', 'polarization', 'show', 'different', 'behavior', 'FDTD', 'finite', 'difference', 'time', 'domain', 'method', 'and', 'Sipe', 'Drude', 'model', 'have', 'been', 'adopted', 'to', 'analyze', 'the', 'energy', 'deposition', 'on', 'STO', 'surface', 'The', 'results', 'show', 'that', 'the', 'different', 'energy', 'deposition', 'upon', 'the', 'different', 'excitation', 'levels', 'which', 'is', 'caused', 'by', 'the', 'incubation', 'effect', 'and', 'the', 'local', 'enhancement', 'of', 'energy', 'absorption', 'leads', 'to', 'the', 'pulse', 'number', 'and', 'fluence', 'dependence', 'of', 'the', 'surface', 'structures', 'As', 'the', 'number', 'of', 'the', 'pulse', 'increasing', 'the', 'feedback', 'effect', 'plays', 'a', 'major', 'role', 'gradually', 'and', 'determines', 'the', 'formation', 'and', 'evolution', 'of', 'the', 'surface', 'nanostructures', '23', 'Simulation', 'and', 'optimization', 'of', 'a', 'new', 'electrochromic', 'with', 'WO3', 'Ag', 'nanocomposit', 'thin', 'film', 'assisted', 'cooling', 'system', 'on', 'energy', 'saving', 'In', 'the', 'past', 'years', 'many', 'studies', 'have', 'been', 'done', 'in', 'the', 'field', 'of', 'smart', 'windows', 'and', 'solar', 'cells', 'the', 'most', 'important', 'of', 'these', 'were', 'electrochromic', 'devices', 'ECD', 'This', 'study', 'was', 'investigated', 'the', 'optimization', 'of', 'thermal', 'energy', 'consumption', 'by', 'using', 'electrochromic', 'components', 'with', 'a', 'new', 'nanocomposit', 'layer', 'WO3', 'Ag', 'in', 'a', 'larger', 'size', 'window', 'for', 'a', 'room', 'with', 'a', 'educational', 'application', 'for', 'five', 'cities', 'with', 'different', 'climates', 'conditions', 'in', 'Iran', 'Yazd', 'Tehran', 'Bandar', 'Abbas', 'Tabriz', 'and', 'Sari', 'For', 'this', 'simulation', 'platform', 'the', 'software', 'has', 'been', 'implemented', 'in', 'Energy', 'Plus', 'This', 'feasibility', 'study', 'has', 'been', 'modeled', 'by', 'DesignBuilder', 'software', 'and', 'has', 'been', 'reported', 'the', 'reduction', 'of', 'thermal', 'energy', 'consumption', 'in', 'all', 'climates', 'in', 'Iran', 'Hot', 'and', 'dry', 'Warm', 'and', 'semi', 'humid', 'warm', 'and', 'wet', 'moderate', 'and', 'dry', 'and', 'mild', 'and', 'humid', 'Also', 'four', 'strategies', 'are', 'considered', 'for', 'better', 'comparison', 'The', 'first', 'strategy', 'is', 'the', 'use', 'of', 'common', 'double', 'glazed', 'windows', 'the', 'second', 'to', 'fourth', 'strategy', 'and', 'the', 'use', 'of', 'the', 'electrochromic', 'window', 'in', 'three', 'different', 'modes', 'bleached', 'mode', 'Off', 'colored', 'mode', 'On', 'and', 'switchable', 'mode', 'controlled', 'beneath', 'comfort', 'conditions', 'The', 'third', 'and', 'fourth', 'strategy', 'has', 'shown', 'a', 'reduction', 'in', 'thermal', 'energy', 'consumption', 'in', 'different', 'climates', 'from', '25', 'to', '45', 'relative', 'to', 'typical', 'windows', 'The', 'best', 'result', 'of', 'cooling', 'energy', 'consumption', 'was', 'also', 'in', 'Tehran', 'So', 'for', 'this', 'climate', 'the', 'average', 'energy', 'consumption', 'dropped', 'to', '34', 'for', 'the', 'warm', 'months', 'of', 'the', 'year', 'and', 'even', '42', 'for', 'the', 'warmest', 'month', 'of', 'the', 'year', 'August', '24', 'Enhancing', 'intrinsic', 'detection', 'efficiency', 'of', 'superconducting', 'nanowire', 'single', 'photon', 'detectors', 'via', 'helium', 'ion', 'irradiation', 'Realizing', 'an', 'NbN', 'superconducting', 'nanowire', 'single', 'photon', 'detector', 'SNSPD', 'with', 'a', '100', 'intrinsic', 'detection', 'efficiency', 'IDE', 'at', 'the', 'near', 'infrared', 'wavelengths', 'is', 'still', 'challenging', 'Herein', 'we', 'developed', 'a', 'post', 'processing', 'method', 'to', 'increase', 'the', 'IDE', 'of', 'NbN', 'SNSPDs', 'to', 'near', 'unity', 'using', 'a', '20', 'keV', 'helium', 'ion', 'irradiation', 'The', 'IDE', 'enhancement', 'was', 'achieved', 'owing', 'to', 'the', 'ion', 'induced', 'reduction', 'of', 'the', 'superconducting', 'energy', 'gap', 'and', 'the', 'electron', 'density', 'of', 'states', 'at', 'the', 'Fermi', 'level', 'determined', 'with', 'the', 'electrical', 'and', 'magnetic', 'transport', 'measurements', 'The', 'change', 'in', 'optical', 'absorptance', 'of', 'the', 'irradiated', 'SNSPD', 'was', 'negligible', 'as', 'confirmed', 'by', 'the', 'measured', 'optical', 'reflectance', 'and', 'system', 'detection', 'efficiency', 'SDE', 'Benefited', 'with', 'the', 'IDE', 'enhancement', 'the', 'SDE', 'of', 'an', 'irradiated', 'device', 'was', 'significantly', 'increased', 'from', '49', 'to', '92', 'at', '2', '2', 'K', 'for', 'a', '1550', 'nm', 'wavelength', '25', 'Mixed', 'Convection', 'Characteristics', 'in', 'a', 'Baffeled', 'U', 'shaped', 'Lid', 'driven', 'Cavity', 'in', 'the', 'Presence', 'of', 'Magnetic', 'Field', 'In', 'the', 'present', 'study', 'mixed', 'convection', 'of', 'CuO', 'water', 'nanofluid', 'in', 'a', 'lid', 'driven', 'U', 'shaped', 'enclosure', 'filled', 'with', 'a', 'baffle', 'is', 'studied', 'using', 'lattice', 'Boltzmann', 'method', 'LBM', 'The', 'bottom', 'wall', 'is', 'fixed', 'at', 'a', 'uniform', 'temperature', 'and', 'the', 'effect', 'of', 'magnetic', 'field', 'is', 'investigated', 'KKL', 'Koo', 'Kleinstreuer', 'Li', 'model', 'is', 'used', 'to', 'get', 'the', 'effective', 'thermal', 'conductivity', 'and', 'viscosity', 'of', 'nanofluid', 'In', 'this', 'model', 'Brownian', 'motion', 'of', 'nanoparticle', 'is', 'considered', 'Effect', 'of', 'Hartmann', 'number', 'Richardson', 'number', 'Reynolds', 'number', 'and', 'nanoparticle', 'volume', 'fraction', 'on', 'streamlines', 'isotherms', 'and', 'averaged', 'Nusselt', 'number', 'have', 'been', 'examined', 'The', 'results', 'revealed', 'that', 'at', 'Re', '100', 'the', 'nanofluid', 'strategy', 'has', 'a', 'detrimental', 'effect', 'on', 'the', 'Nusselt', 'number', 'when', 'the', 'Richardson', 'number', 'is', 'high', 'As', 'Reynolds', 'number', 'increases', 'the', 'average', 'Nusselt', 'number', 'increases', 'but', 'adverse', 'trends', 'can', 'be', 'observed', 'when', 'the', 'Hartmann', 'numbers', 'increases', 'The', 'effect', 'of', 'increasing', 'Reynolds', 'number', 'on', 'the', 'heat', 'transfer', 'rate', 'is', 'more', 'conspicuous', 'at', 'higher', 'Richardson', 'numbers', '26', 'Effect', 'of', 'sputtering', 'conditions', 'on', 'the', 'structure', 'and', 'magnetic', 'properties', 'of', 'self', 'assembled', 'BiFeO3', 'CoFe2O4', 'nanocomposite', 'thin', 'films', 'This', 'article', 'describes', 'the', 'growth', 'of', 'self', 'assembled', 'spinel', 'perovskite', 'nanocomposite', 'thin', 'films', 'using', 'a', 'sputtering', 'technique', 'Vertically', 'aligned', 'nanocomposites', 'consisting', 'of', 'CoFe2O4', 'grown', 'as', 'pillars', 'in', 'a', 'BiFeO3', 'matrix', 'were', 'observed', 'under', 'optimum', 'growth', 'conditions', 'The', 'magnetic', 'hysteresis', 'loops', 'of', 'these', 'nanocomposites', 'showed', 'a', 'strong', 'out', 'of', 'plane', 'anisotropy', 'The', 'physical', 'properties', 'of', 'these', 'nanocomposites', 'were', 'dramatically', 'changed', 'by', 'modulating', 'the', 'growth', 'conditions', 'which', 'affected', 'the', 'growth', 'rates', 'and', 'strain', 'states', 'Finally', 'we', 'provide', 'a', 'mapping', 'that', 'summarizes', 'the', 'structure', 'and', 'magnetic', 'anisotropy', 'changes', 'that', 'occur', 'with', 'growth', 'rate', 'for', 'optimizing', 'synthesis', 'conditions', 'for', 'self', 'assembled', 'oxide', 'nanostructures', '27', 'Polydimethylsiloxane', 'PDMS', 'Optical', 'Constants', 'from', '191', 'ndash', '1688', 'nm', '0', '735', 'ndash', '6', '491', 'eV', 'by', 'Spectroscopic', 'Ellipsometry', 'Herein', 'we', 'report', 'the', 'optical', 'function', 's', 'of', 'PDMS', 'as', 'determined', 'from', 'reflection', 'spectroscopic', 'ellipsometry', 'SE', 'and', 'transmission', 'ultraviolet', 'visible', 'data', 'These', 'functions', 'were', 'obtained', 'from', '191', 'to', '1688', 'nm', 'from', 'two', 'commercial', 'samples', 'of', 'liquid', 'PDMS', 'PDMS700', 'and', 'PDMS2000', 'that', 'had', 'molecular', 'weights', 'of', '700', '1500', 'g', 'mol', 'and', '2000', '3500', 'g', 'mol', 'respectively', 'Both', 'samples', 'were', 'linear', 'polymers', 'terminated', 'with', 'silanol', 'groups', 'The', 'optical', 'functions', 'determined', 'from', 'the', 'two', 'materials', 'were', 'essentially', 'identical', 'In', 'addition', 'to', 'analyzing', 'the', 'data', 'from', 'the', 'individual', 'samples', 'the', 'SE', 'data', 'from', 'the', 'samples', 'were', 'combined', 'in', 'a', 'multi', 'sample', 'analysis', 'MSA', 'Both', 'the', 'reflection', 'and', 'transmission', 'measurements', 'required', 'special', 'experimental', 'considerations', 'For', 'the', 'reflection', 'SE', 'measurements', 'these', 'included', 'roughening', 'frosting', 'the', 'inside', 'of', 'the', 'vessel', 'that', 'held', 'the', 'PDMS', 'and', 'the', 'need', 'to', 'level', 'the', 'instrument', 'instead', 'of', 'the', 'samples', 'The', 'transmission', 'measurements', 'were', 'obtained', 'via', 'a', 'dual', 'cuvette', 'approach', 'that', 'eliminated', 'the', 'effects', 'of', 'the', 'cuvettes', 'and', 'their', 'interfaces', 'Because', 'both', 'samples', 'of', 'PDMS', 'were', 'transparent', 'over', 'the', 'measured', 'wavelength', 'range', 'and', 'because', 'of', 'the', 'relatively', 'wide', 'wavelength', 'range', 'considered', 'the', 'optical', 'functions', 'were', 'fit', 'with', 'a', 'Sellmeier', 'model', 'This', 'produced', 'a', 'good', 'fit', 'for', 'the', 'MSA', 'with', 'a', 'mean', 'squared', 'error', 'MSE', 'value', 'of', '1', '24', 'The', 'optical', 'functions', 'obtained', 'in', 'this', 'work', 'agreed', 'well', 'with', 'previously', 'reported', 'values', 'For', 'example', 'for', 'the', 'MSA', 'we', 'obtained', 'the', 'following', 'nx', 'values', 'where', 'x', 'is', 'the', 'wavelength', 'in', 'nanometers', 'n300', '1', '439', 'n500', '1', '407', 'and', 'n1000', '1', '395', '28', 'Experimental', 'observation', 'of', 'size', 'dependent', 'behavior', 'in', 'surface', 'energy', 'of', 'gold', 'nanoparticles', 'through', 'atomic', 'force', 'microscope', 'Surface', 'energy', 'plays', 'a', 'key', 'role', 'in', 'the', 'physicochemical', 'interactions', 'of', 'materials', 'surfaces', 'and', 'it', 'is', 'closely', 'related', 'to', 'the', 'unique', 'properties', 'and', 'numerous', 'surface', 'functionalization', 'possibilities', 'of', 'gold', 'nanoparticles', 'Herein', 'we', 'have', 'reported', 'an', 'atomic', 'force', 'microscopy', 'based', 'technique', 'to', 'measure', 'the', 'surface', 'energies', 'of', 'different', 'materials', 'under', 'the', 'peakforce', 'quantitative', 'nanomechanical', 'mapping', 'mode', 'Our', 'study', 'on', 'gold', 'nanoparticles', 'focuses', 'on', 'the', 'particles', 'with', 'diameters', 'ranging', 'from', '2', 'to', '14', 'nm', 'The', 'experimental', 'results', 'indicate', 'a', 'clear', 'size', 'dependent', 'behavior', 'in', 'the', 'surface', 'energy', 'of', 'gold', 'nanoparticles', 'when', 'the', 'size', 'is', 'smaller', 'than', '5', 'nm', 'and', 'the', 'smallest', 'gold', 'nanoparticle', 'displays', 'a', '3', 'fold', 'higher', 'surface', 'energy', 'compared', 'to', 'bulk', 'gold', 'Therefore', 'our', 'experimental', 'results', 'provide', 'essential', 'evidence', 'that', 'can', 'lead', 'to', 'a', 'better', 'understanding', 'of', 'the', 'size', 'property', 'relations', 'allowing', 'for', 'process', 'design', 'in', 'gold', 'nanoparticles', '']\n"
     ]
    }
   ],
   "source": [
    "## 2. Select the words\n",
    "import re\n",
    "words=re.split(r'\\W+',text)\n",
    "print(words)"
   ]
  },
  {
   "cell_type": "code",
   "execution_count": 88,
   "metadata": {},
   "outputs": [
    {
     "name": "stdout",
     "output_type": "stream",
     "text": [
      "!\"#$%&'()*+,-./:;<=>?@[\\]^_`{|}~\n",
      "{33: None, 34: None, 35: None, 36: None, 37: None, 38: None, 39: None, 40: None, 41: None, 42: None, 43: None, 44: None, 45: None, 46: None, 47: None, 58: None, 59: None, 60: None, 61: None, 62: None, 63: None, 64: None, 91: None, 92: None, 93: None, 94: None, 95: None, 96: None, 123: None, 124: None, 125: None, 126: None}\n"
     ]
    }
   ],
   "source": [
    "## 3. Removing punctuation\n",
    "import string\n",
    "print(string.punctuation)\n",
    "corpus_new=str.maketrans('','',string.punctuation)\n",
    "print(corpus_new)"
   ]
  },
  {
   "cell_type": "code",
   "execution_count": 89,
   "metadata": {},
   "outputs": [
    {
     "name": "stdout",
     "output_type": "stream",
     "text": [
      "['1', 'Subsonic', 'Potentials', 'in', 'Ultra', 'dense', 'Plasmas', 'The', 'existence', 'of', 'the', 'subsonic', 'dynamic', 'potential', 'for', 'a', 'test', 'charge', 'in', 'extremely', 'dense', 'quantum', 'plasmas', 'is', 'pointed', 'out', 'the', 'first', 'time', 'where', 'usually', 'found', 'supersonic', 'potential', 'is', 'suppressed', 'The', 'dispersion', 'equation', 'of', 'Ion', 'Acoustic', 'Wave', 'IAW', 'in', 'relativistic', 'dense', 'plasmas', 'is', 'derived', 'on', 'employing', 'the', 'Quantum', 'Hydrodynamic', 'Model', 'QHM', 'In', 'addition', 'the', 'standard', 'model', 'of', 'wake', 'potential', 'is', 'hereafter', 'applied', 'for', 'the', 'derivation', 'of', 'dynamic', 'potential', 'of', 'the', 'test', 'particle', 'The', 'quantized', 'relativistic', 'electrons', 'obey', 'Fermi', 'statistics', 'whereas', 'ions', 'contribute', 'classically', 'It', 'is', 'noticed', 'that', 'the', 'oscillatory', 'wake', 'potential', 'does', 'exist', 'at', 'very', 'small', 'length', 'scales', 'Its', 'significant', 'features', 'are', 'further', 'analyzed', 'on', 'the', 'varying', 'magnetic', 'field', 'as', 'well', 'as', 'the', 'number', 'density', 'of', 'plasma', 'systems', 'It', 'is', 'found', 'that', 'the', 'dynamic', 'potential', 'exists', 'only', 'with', 'the', 'condition', 'vt', 'lt', 'Cs', 'reflecting', 'the', 'subsonic', 'region', 'contrary', 'to', 'the', 'usual', 'vt', 'gt', 'Cs', 'where', 'vt', 'is', 'the', 'test', 'particle', 'speed', 'and', 'Cs', 'is', 'the', 'acoustic', 'speed', 'defined', 'with', 'the', 'Fermi', 'temperature', 'of', 'the', 'electrons', 'The', 'work', 'is', 'significant', 'in', 'order', 'to', 'describe', 'the', 'structure', 'formation', 'in', 'the', 'astrophysical', 'environment', '2', 'Overtaking', 'interaction', 'of', 'two', 'weakly', 'nonlinear', 'acoustic', 'solitons', 'in', 'plasmas', 'at', 'critical', 'densities', 'Acoustic', 'solitons', 'obtained', 'through', 'a', 'reductive', 'perturbation', 'scheme', 'are', 'normallysgoverned', 'by', 'a', 'Korteweg', 'de', 'Vries', 'KdV', 'equation', 'In', 'multispecies', 'plasmas', 'at', 'critical', 'densities', 'the', 'coefficient', 'of', 'the', 'quadratic', 'nonlinearity', 'vanishes', 'Extending', 'the', 'analytic', 'treatment', 'then', 'leads', 'to', 'a', 'modified', 'KdV', 'mKdV', 'equation', 'characterized', 'by', 'a', 'cubic', 'nonlinearity', 'This', 'is', 'even', 'in', 'the', 'electrostatic', 'potential', 'and', 'thus', 'can', 'admit', 'solitons', 'having', 'opposite', 'electrostatic', 'polarities', 'in', 'contrast', 'to', 'KdV', 'solitons', 'in', 'plasmas', 'which', 'can', 'only', 'be', 'of', 'one', 'polarity', 'at', 'a', 'time', 'The', 'original', 'application', 'of', 'the', 'KdV', 'theory', 'to', 'surface', 'waves', 'on', 'shallow', 'water', 'yielded', 'only', 'compressive', 'solitons', 'To', 'study', 'the', 'overtaking', 'interactions', 'between', 'two', 'solitons', 'in', 'the', 'KdV', 'case', 'the', 'Hirota', 'formalism', 'had', 'been', 'applied', 'to', 'either', 'two', 'compressive', 'or', 'two', 'rarefactive', 'plasma', 'modes', 'and', 'can', 'deal', 'with', 'more', 'interacting', 'waves', 'because', 'the', 'KdV', 'equation', 'is', 'completely', 'integrable', 'This', 'integrability', 'property', 'also', 'holds', 'for', 'the', 'mKdV', 'equation', 'in', 'plasmas', 'at', 'critical', 'densities', 'but', 'the', 'Hirota', 'formalism', 'for', 'the', 'mKdV', 'equation', 'is', 'more', 'complicated', 'This', 'formalism', 'can', 'cover', 'the', 'overtaking', 'interaction', 'between', 'a', 'compressive', 'and', 'a', 'rarefactive', 'soliton', 'with', 'the', 'larger', 'amplitude', 'and', 'faster', 'soliton', 'overtaking', 'the', 'smaller', 'amplitude', 'and', 'slower', 'soliton', 'sExamples', 'of', 'multispecies', 'plasmas', 'where', 'this', 'applies', 'are', 'given', 'In', 'contrast', 'there', 'is', 'no', 'Hirota', 'formalism', 'for', 'head', 'on', 'collisions', 'neither', 'for', 'the', 'KdV', 'nor', 'mKdV', 'equation', '3', 'Broadband', 'Focusing', 'Acoustic', 'Lens', 'Based', 'on', 'H', 'fractal', 'Metamaterials', 'Acoustic', 'metamaterials', 'are', 'a', 'kind', 'of', 'well', 'known', 'artificial', 'structures', 'which', 'can', 'provide', 'unconventional', 'effective', 'properties', 'to', 'manipulate', 'sound', 'waves', 'Different', 'from', 'the', 'traditional', 'resonant', 'elements', 'proposed', 'in', 'earlier', 'studies', 'we', 'designed', 'an', 'acoustic', 'lens', 'based', 'on', 'H', 'fractal', 'metamaterials', 'Compared', 'with', 'previous', 'patterns', 'the', 'proposed', 'model', 'comprises', 'a', 'series', 'of', 'H', 'fractal', 'metamaterial', 'units', 'Due', 'to', 'the', 'self', 'similar', 'properties', 'of', 'the', 'proposed', 'structure', 'the', 'acoustic', 'responses', 'may', 'arise', 'within', 'a', 'broad', 'frequency', 'range', 'By', 'adjusting', 'the', 'size', 'of', 'each', 'metamaterial', 'unit', 'phase', 'of', 'the', 'propagating', 'acoustic', 'waves', 'can', 'be', 'delayed', 'at', 'will', 'The', 'simulative', 'results', 'show', 'that', 'the', 'designed', 'acoustic', 'focusing', 'lens', 'have', 'excellent', 'focusing', 'abilities', 'from', '2', 'kHz', 'to', '5', 'kHz', 'with', 'considerably', 'high', 'transmission', 'efficiency', 'making', 'it', 'a', 'promising', 'candidate', 'for', 'a', 'various', 'of', 'acoustic', 'applications', '4', 'Numerical', 'Simulation', 'of', 'Standing', 'Surface', 'Acoustic', 'Wave', 'for', 'Separating', 'Suspended', 'Particles', 'in', 'Lubricating', 'Oil', 'The', 'microfluidic', 'chip', 'can', 'be', 'used', 'to', 'separate', 'particles', 'via', 'acoustic', 'radiation', 'force', 'and', 'can', 'be', 'applied', 'to', 'separate', 'impurity', 'particles', 'in', 'lubricating', 'oil', 'We', 'propose', 'herein', 'a', 'device', 'that', 'separates', 'particle', 'by', 'controlling', 'acoustic', 'radiation', 'force', 'via', 'standing', 'surface', 'acoustic', 'waves', 'SSAWs', 'The', 'concentration', 'and', 'separation', 'of', 'suspended', 'particles', 'was', 'simulated', 'We', 'first', 'analyze', 'the', 'force', 'exerted', 'on', 'suspended', 'particles', 'and', 'their', 'subsequent', 'motion', 'in', 'the', 'microfluidic', 'channel', 'and', 'then', 'verify', 'the', 'concentration', 'of', 'particles', 'exposed', 'to', 'SSAWs', 'We', 'also', 'investigate', 'how', 'the', 'frequency', 'of', 'the', 'SSAW', 'affects', 'particle', 'concentration', 'and', 'discuss', 'the', 'advantage', 'of', 'using', 'SSAWs', 'to', 'concentrate', 'and', 'separate', 'particles', '5', 'Observation', 'of', 'Temperature', 'Gradient', 'Driven', 'Electrostatic', 'Ion', 'Acoustic', 'Instability', 'in', 'a', 'Cross', 'field', 'Diffused', 'Plasma', 'The', 'turbulence', 'characteristics', 'of', 'near', 'EEF', 'target', 'region', 'embedded', 'with', 'diffused', 'plasma', 'emanating', 'across', 'large', 'electron', 'energy', 'filter', 'EEF', 'is', 'reported', 'for', 'large', 'volume', 'plasma', 'device', 'The', 'near', 'EEF', 'target', 'plasma', 'exhibits', 'gradient', 'free', 'profiles', 'of', 'plasma', 'density', 'x2207', 'ne', '0', 'but', 'plasma', 'potential', 'x2207', 'Vp', 'x2260', '0', 'and', 'electron', 'temperature', 'x2207', 'Te', 'x2260', '0', 'profiles', 'shows', 'finite', 'gradients', 'The', 'finite', 'radial', 'electric', 'field', 'reverses', 'sign', 'with', 'respect', 'to', 'the', 'centre', 'of', 'device', 'The', 'plasma', 'conditions', 'are', 'prevailing', 'with', 'magnetized', 'electrons', 'x03C9', 'ce', 'x226B', 'x03BD', 'en', 'but', 'ions', 'are', 'not', 'x03C9', 'ci', 'lt', 'x03BD', 'in', 'Electron', 'drifts', 'due', 'to', 'temperature', 'gradient', 'Vde', 'and', 'finite', 'electric', 'field', 'x3016', 'V', 'E', 'x00D7', 'B', 'x3017', '', 'exceeding', 'ion', 'sound', 'velocity', 'x3016', 'C', 'x3017', 's', 'The', 'observed', 'density', 'fluctuations', 'deltane', 'ne', '7', '10', 'are', 'broadband', 'in', 'nature', 'and', 'have', 'frequency', 'ordering', 'x03C9', 'ci', 'lt', 'x03C9', 'x226A', 'x03C9', 'ce', 'Numerically', 'obtained', 'growth', 'frequency', 'exceeds', 'ion', 'cyclotron', 'frequency', 'x03B3', 'gt', 'x03C9', 'ci', 'but', 'its', 'magnitude', 'is', 'less', 'than', 'the', 'mode', 'frequency', 'x03B3', 'lt', 'x03C9', 'Observed', 'gradTe', 'driven', 'mode', 'propagate', 'in', 'ion', 'diamagnetic', 'drift', 'direction', 'and', 'exhibits', 'nature', 'of', 'electrostatic', 'ion', 'acoustic', 'mode', '6', 'Strain', 'induced', 'mobility', 'enhancement', 'in', 'p', 'type', 'silicon', 'structures', 'bulk', 'and', 'quantum', 'well', 'quantum', 'kinetic', 'approach', 'Analytic', 'expressions', 'for', 'low', 'field', 'mobility', 'have', 'been', 'obtained', 'in', 'the', 'high', 'strained', 'p', 'type', 'silicon', 'structures', 'with', 'three', 'and', 'two', 'dimensional', 'hole', 'gases', 'Main', 'attention', 'is', 'paid', 'to', 'study', 'how', 'confinement', 'in', 'one', 'spatial', 'dimension', 'changes', 'the', 'strain', 'mobility', 'enhancement', 'in', 'comparison', 'with', 'bulk', 'material', 'The', 'mobility', 'enhancement', 'factor', 'has', 'been', 'calculated', 'at', 'application', 'of', 'the', 'uniaxial', 'and', 'biaxial', 'strains', 'Acoustic', 'and', 'optic', 'phonons', 'charged', 'impurities', 'and', 'surface', 'roughness', 'have', 'been', 'accepted', 'as', 'a', 'scattering', 'system', 'Our', 'theoretical', 'consideration', 'is', 'based', 'on', 'the', 'quantum', 'kinetic', 'equation', 'and', 'a', 'special', 'form', 'of', 'the', 'non', 'equilibrium', 'distribution', 'function', 'shifted', 'Fermi', 'distribution', 'Results', 'of', 'calculation', 'are', 'compared', 'with', 'known', 'experimental', 'data', '7', 'Glass', 'Fracture', 'by', 'Focusing', 'of', 'Laser', 'Generated', 'Nanosecond', 'Surface', 'Acoustic', 'Waves', 'Dynamic', 'fracture', 'of', 'borosilicate', 'glass', 'through', 'focusing', 'of', 'high', 'amplitude', 'nanosecond', 'surface', 'acoustic', 'waves', 'SAWs', 'at', 'the', 'micron', 'scale', 'is', 'investigated', 'in', 'an', 'all', 'optical', 'experiment', 'SAWs', 'are', 'generated', 'by', 'an', 'intense', 'picosecond', 'laser', 'excitation', 'pulse', 'focused', 'into', 'a', 'ring', 'shaped', 'spot', 'on', 'the', 'sample', 'surface', 'Interferometric', 'imaging', 'of', 'the', 'sample', 'surface', 'with', 'a', 'femtosecond', 'probe', 'pulse', 'allows', 'quantitative', 'measurement', 'of', 'the', 'vertical', 'surface', 'displacements', 'Images', 'taken', 'at', 'different', 'pump', 'probe', 'delays', 'capture', 'the', 'SAW', 'as', 'it', 'converges', 'towards', 'the', 'center', 'focuses', 'and', 'subsequently', 'diverges', 'The', 'amplitude', 'of', 'the', 'SAW', 'is', 'varied', 'by', 'changing', 'the', 'laser', 'excitation', 'energy', 'Above', 'a', 'certain', 'laser', 'excitation', 'energy', 'threshold', 'a', 'damage', 'at', 'the', 'acoustic', 'focal', 'point', 'is', 'observed', 'A', 'post', 'mortem', 'investigation', 'reveals', 'a', 'crater', 'formed', 'by', 'the', 'ejection', 'of', 'a', 'piece', 'of', 'material', 'Numerical', 'calculations', 'matching', 'the', 'measured', 'surface', 'displacement', 'profiles', 'help', 'us', 'determine', 'the', 'time', 'evolution', 'of', 'the', 'stress', 'distribution', 'in', 'the', 'sample', 'and', 'at', 'the', 'acoustic', 'focus', 'We', 'find', 'that', 'the', 'glass', 'withstands', 'a', 'nanosecond', 'local', 'tensile', 'stress', 'of', 'at', 'least', '6', 'GPa', 'without', 'visible', 'fracture', 'which', 'is', 'well', 'above', 'the', 'tensile', 'limit', 'observed', 'in', 'conventional', 'shock', 'spallation', 'experiments', '8', 'KdV', 'Acoustic', 'Structure', 'with', 'Exchange', 'Correlation', 'Potential', 'in', 'Plasmas', 'The', 'effects', 'of', 'exchange', 'correlation', 'potential', 'ECP', 'on', 'the', 'profile', 'of', 'dust', 'acoustic', 'solitary', 'waves', 'DASWs', 'in', 'degenerate', 'dusty', 'plasmas', 'has', 'been', 'investigated', 'The', 'plasmassystem', 'is', 'consisting', 'upon', 'three', 'species', 'such', 'as', 'degenerate', 'ions', 'and', 'electrons', 'andsclassical', 'dust', 'grains', 'This', 'study', 'is', 'comprising', 'upon', 'the', 'linear', 'and', 'nonlinear', 'analysissof', 'long', 'wavelength', 'dust', 'acoustic', 'waves', 'in', 'non', 'relativistic', 'plasmas', 'The', 'linear', 'acoustic', 'wave', 'have', 'been', 'analyzed', 'by', 'using', 'the', 'multi', 'fluid', 'model', 'whereas', 'to', 'study', 'smallsamplitude', 'DASWs', 'modified', 'Korteweg', 'de', 'Vries', 'KdV', 'equation', 'has', 'been', 'derived', 'bysusing', 'the', 'reductive', 'perturbation', 'theory', 'The', 'effects', 'of', 'dust', 'concentration', 'Havenesssparameter', 'h', 'in', 'the', 'plasma', 'and', 'exchange', 'correlation', 'potential', 'have', 'been', 'highlighted', 'sThe', 'dust', 'concentration', 'and', 'exchange', 'correlation', 'potential', 'affect', 'the', 'solitary', 'wavesamplitude', 'and', 'its', 'width', 'remarkably', 'Our', 'results', 'can', 'be', 'used', 'to', 'understand', 'the', 'characteristics', 'of', 'nonlinear', 'electrostatic', 'waves', 'exciting', 'in', 'a', 'dense', 'degenerate', 'Fermi', 'gas', 'spresent', 'in', 'metallic', 'nano', 'structures', 'or', 'presumably', 'in', 'near', 'supernova', 'environments', 'sin', 'the', 'presence', 'of', 'massive', 'charged', 'defects', '9', 'Acoustic', 'Nonlinearity', 'Parameter', 'Induced', 'by', 'Extended', 'Dislocations', 'Excess', 'acoustic', 'nonlinearity', 'is', 'a', 'signature', 'of', 'microstructural', 'defects', 'on', 'a', 'propagating', 'ultrasound', 'By', 'measuring', 'the', 'excess', 'acoustic', 'nonlinearity', 'parameter', 'defect', 'characteristics', 'can', 'be', 'inferred', 'nondestructively', 'through', 'ultrasonic', 'techniques', 'To', 'this', 'end', 'proper', 'models', 'are', 'needed', 'to', 'relate', 'the', 'excess', 'acoustic', 'nonlinearity', 'parameter', 'with', 'defect', 'characteristics', 'In', 'this', 'study', 'an', 'analytical', 'model', 'for', 'extended', 'dislocations', 'is', 'developed', 'that', 'relates', 'the', 'excess', 'acoustic', 'nonlinearity', 'parameter', 'with', 'characteristics', 'of', 'the', 'extended', 'dislocation', 'including', 'dislocation', 'density', 'stacking', 'fault', 'energy', 'and', 'equilibrium', 'distance', 'between', 'the', 'two', 'partial', 'dislocations', 'that', 'form', 'the', 'extended', 'dislocation', 'According', 'to', 'this', 'model', 'the', 'excess', 'acoustic', 'nonlinearity', 'parameter', 'induced', 'by', 'extended', 'dislocations', 'consists', 'of', 'a', 'stress', 'independent', 'term', 'and', 'a', 'stress', 'dependent', 'term', 'Both', 'terms', 'are', 'scaled', 'with', 'Lchar', 'b', 'n', 'where', 'Lchar', 'is', 'the', 'equilibrium', 'distance', 'between', 'the', 'two', 'partials', 'b', 'is', 'the', 'magnitude', 'of', 'Burgers', 'vector', 'and', 'n', 'is', '3', 'and', '4', 'for', 'the', 'stress', 'independent', 'and', 'stress', 'dependent', 'terms', 'respectively', 'The', 'model', 'will', 'be', 'useful', 'for', 'interpreting', 'results', 'from', 'ultrasonic', 'nondestructive', 'evaluation', 'of', 'material', 'defects', '10', 'Surface', 'anisotropy', 'in', 'a', 'magnetic', 'cylinder', 'induced', 'by', 'the', 'displacement', 'of', 'a', 'vortex', 'core', 'In', 'this', 'article', 'we', 'investigate', 'the', 'induction', 'of', 'a', 'surface', 'anisotropy', 'due', 'to', 'the', 'displacement', 'of', 'the', 'vortex', 'core', 'in', 'a', 'cylindrical', 'nanostructure', 'In', 'fact', 'the', 'effect', 'of', 'the', 'displacement', 'of', 'the', 'vortex', 'core', 'in', 'the', 'dipolar', 'energy', 'can', 'be', 'modeled', 'simply', 'as', 'a', 'surface', 'anisotropy', 'of', 'the', 'form', 'Es', 'Ks', 'int', 'mathcal', 'S', 'm', 'd', 'mathcal', 'S', 'hat', 'n', 'cdot', 'hat', 'm', '2', '2', 'Moreover', 'the', 'surface', 'anisotropy', 'constant', 'Ks', 'is', 'proportional', 'to', 'the', 'cylinder', 'in', 'plane', 'demagnetizing', 'factor', 'in', 'the', 'direction', 'of', 'the', 'core', 'deviation', 'Ny', 'L', 'R', 'i', 'e', 'Ks', 'mu0', 'M0', '2', 'R', 'Ny', 'L', 'R', 'where', 'R', 'and', 'L', 'are', 'the', 'radius', 'and', 'the', 'thickness', 'of', 'the', 'cylinder', 'respectively', 'Our', 'results', 'show', 'that', 'the', 'term', 'of', 'the', 'nontrivial', 'dipolar', 'energy', 'caused', 'by', 'the', 'charges', 'in', 'the', 'cylinder', 'mantle', 'can', 'be', 'replaced', 'by', 'a', 'simple', 'integral', 'Es', 'that', 'increases', 'the', 'efficiency', 'of', 'the', 'numerical', 'calculations', 'in', 'the', 'analytical', 'study', 'of', 'the', 'displacement', 'of', 'the', 'vortex', 'core', 'in', 'magnetic', 'vortices', '11', 'Optical', 'force', 'induced', 'circular', 'dichroism', 'in', 'the', 'surface', 'plasmon', 'resonance', 'of', 'single', 'nanocrystals', 'The', 'quantum', 'mechanical', 'theory', 'adequately', 'describes', 'optical', 'activity', 'in', 'small', 'molecules', 'However', 'the', 'simplified', 'one', 'electron', 'model', 'is', 'insufficient', 'to', 'describe', 'optical', 'activity', 'in', 'plasmonic', 'nanocrystals', 'where', 'longitudinal', 'polarization', 'along', 'the', 'light', 'propagation', 'direction', 'is', 'crucial', 'at', 'the', 'nanometer', 'scale', 'Here', 'the', 'experimental', 'observation', 'of', 'natural', 'circular', 'dichroism', 'in', 'the', 'surface', 'plasmon', 'resonances', 'of', 'spherical', 'gold', 'silver', 'and', 'copper', 'nanocrystals', 'in', 'solution', 'is', 'presented', 'Optical', 'forces', 'exert', 'on', 'the', 'nanoparticle', 'in', 'the', 'light', 'propagation', 'direction', 'which', 'induces', 'longitudinal', 'polarization', 'coupling', 'to', 'surface', 'plasmons', 'and', 'optical', 'symmetry', 'breaking', 'Ellipticity', 'sign', 'indicates', 'that', 'dipolar', 'surface', 'plasmons', 'are', 'optically', 'left', 'handed', 'whereas', 'quadrupolar', 'surface', 'plasmons', 'are', 'optically', 'right', 'handed', 'manifesting', 'the', 'conservation', 'of', 'orbital', 'angular', 'momentum', 'in', 'the', 'surface', 'plasmon', 'resonance', 'The', 'plasmon', 'mode', 'dependent', 'ellipticity', 'sign', 'is', 'consistently', 'observed', 'for', 'anisotropic', 'nanocrystals', 'including', 'triangles', 'octahedra', 'nanorods', 'and', 'core', 'shell', 'nanoparticles', 'Structural', 'effects', 'such', 'as', 'nanocrystal', 'assembly', 'nanocrystal', 'shape', 'and', 'plasmon', 'molecule', 'interaction', 'are', 'accessed', 'The', 'classical', 'coupled', 'oscillator', 'model', 'adequately', 'describes', 'the', 'optomechanical', 'circular', 'dichroism', 'This', 'study', 'demonstrates', 'a', 'helical', 'resonance', 'of', 'surface', 'plasmons', 'in', 'the', 'structurally', 'achrial', 'nanocrystals', 'by', 'asymmetry', 'in', 'the', 'longitudinal', 'polarization', 'which', 'will', 'impact', 'on', 'hot', 'electron', 'generation', 'nonlinear', 'optical', 'response', 'and', 'metamaterial', 'functionality', '12', 'Au', 'nanoparticles', 'as', 'nuclei', 'for', 'defect', 'formation', 'in', 'memristive', 'SrTiO3', 'thin', 'films', 'We', 'investigated', 'the', 'possibility', 'to', 'tune', 'the', 'local', 'switching', 'properties', 'of', 'memristive', 'crystalline', 'SrTiO3', 'thin', 'films', 'by', 'inserting', 'nanoscale', 'defect', 'nucleation', 'centers', 'For', 'that', 'purpose', 'we', 'employed', 'chemically', 'synthesized', 'Au', 'nanoparticles', 'deposited', 'on', 'the', 'Nb', 'doped', 'SrTiO3', 'single', 'crystal', 'substrates', 'as', 'a', 'defect', 'formation', 'template', 'for', 'the', 'subsequent', 'growth', 'of', 'SrTiO3', 'We', 'studied', 'in', 'detail', 'the', 'resulting', 'microstructure', 'and', 'the', 'local', 'conducting', 'and', 'switching', 'properties', 'of', 'the', 'SrTiO3', 'thin', 'films', 'We', 'worked', 'out', 'that', 'the', 'Au', 'nanoparticles', 'float', 'to', 'the', 'SrTiO3', 'surface', 'during', 'growth', 'leaving', 'behind', 'a', 'distorted', 'thin', 'film', 'region', 'in', 'their', 'vicinity', 'By', 'employing', 'conductive', 'tip', 'atomic', 'force', 'microscopy', 'these', 'distorted', 'SrTiO3', 'regions', 'are', 'identified', 'as', 'sites', 'of', 'preferential', 'resistive', 'switching', 'These', 'findings', 'can', 'be', 'attributed', 'to', 'the', 'enhanced', 'oxygen', 'exchange', 'reaction', 'at', 'the', 'surface', 'in', 'these', 'defective', 'regions', '13', 'Wear', 'Characteristics', 'of', 'TiAlN', 'Coated', 'on', 'HSS', 'Tool', 'steel', 'bythe', 'Machining', 'of', 'AISI', '410', 'Steel', 'In', 'this', 'study', 'the', 'Ti0', '4Al0', '4N', 'coatings', 'were', 'produced', 'by', 'physical', 'vapor', 'deposition', 'PVD', 'on', 'HSSsingle', 'point', 'cutting', 'tool', 'The', 'coating', 'phase', 'composition', 'and', 'microstructure', 'were', 'investigated', 'with', 'X', 'raydiffraction', 'XRD', 'and', 'scanning', 'electron', 'microscopy', 'SEM', 'with', 'EDS', 'attachment', 'The', 'wear', 'behaviorand', 'cutting', 'performance', 'of', 'the', 'uncoated', 'and', 'Ti0', '4Al0', '4N', 'coated', 'tool', 'at', 'room', 'temperature', 'wereinvestigated', 'under', 'dry', 'condition', 'Turning', 'tests', 'were', 'carried', 'out', 'on', 'both', 'uncoated', 'and', 'Ti0', '4Al0', '4N', 'coatedHSS', 'single', 'point', 'cutting', 'tool', 'in', 'AISI410', 'steel', 'turning', 'under', 'dry', 'conditions', 'with', 'the', 'diverse', 'depths', 'of', 'cut0', '5mm', '1mm', 'and', '1', '5', 'mm', 'at', 'a', 'constant', 'work', 'piece', 'rotating', 'velocity', 'of', '0', '65m', 's', 'The', 'Tribological', 'andmechanical', 'properties', 'of', 'coated', 'pin', 'were', 'characterized', 'by', 'pin', 'on', 'disc', 'and', 'nanoindentation', 'test', 'Theresult', 'showed', 'that', 'Ti0', '4Al0', '4N', 'coating', 'had', 'higher', 'hardness', 'than', 'uncoated', 'tool', 'due', 'to', 'its', 'smaller', 'grainsize', 'Cutting', 'performance', 'of', 'the', 'HSS', 'single', 'point', 'cutting', 'tool', 'was', 'improved', 'with', 'the', 'covering', 'ofTi0', '4Al0', '4N', 'coating', 'with', 'at', 'least', '2', 'times', 'of', 'cutting', 'life', 'No', 'spalling', 'was', 'occurred', 'after', 'the', 'cutting', 'tests', 'forTi0', '4Al0', '4N', 'coated', 'HSS', 'single', 'point', 'cutting', 'tool', 'The', 'more', 'pits', 'and', 'grooving', 'region', 'were', 'established', 'onthe', 'uncoated', 'tool', 'This', 'result', 'exhibits', 'that', 'Ti0', '4Al0', '4N', 'coating', 'performed', 'good', 'adhesion', 'and', 'abrasivewear', 'resistance', 'cutting', 'performance', 'and', 'longer', 'tool', 'life', 'than', 'uncoated', 'tool', '14', 'EXPERIMENTAL', 'INVESTIGATION', 'OF', 'CONVECTIVE', 'HEAT', 'TRANSFER', 'COEFFICIENT', 'IN', 'PARABOLIC', 'COLLECTOR', 'USING', 'NANOFLUIDS', 'The', 'performance', 'of', 'the', 'collector', 'is', 'improved', 'using', 'nanofluid', 'which', 'improves', 'the', 'overall', 'performance', 'of', 'the', 'parabolic', 'collector', 'In', 'the', 'present', 'analysis', 'the', 'use', 'of', 'aluminum', 'and', 'copper', 'tube', 'as', 'a', 'vacuum', 'absorber', 'pipe', 'with', 'Al2O3', 'water', 'CuO', 'water', 'nanofluid', 'and', 'water', 'as', 'a', 'base', 'fluid', 'to', 'determine', 'the', 'performance', 'characteristic', 'of', 'temperature', 'efficiency', 'and', 'heat', 'transfer', 'coefficient', 'The', 'experimentation', 'performed', 'by', 'taking', '0', '1', 'Vol', 'concentration', 'CuO', 'water', 'and', 'Al2O3', 'water', 'nanofluid', 'on', 'copper', 'aluminum', 'pipe', 'for', 'the', 'Reynolds', 'number', 'of', '3400', '4500', '5600', 'respectively', 'From', 'the', 'results', 'it', 'is', 'clear', 'that', 'with', 'the', 'use', 'of', 'nanofluid', 'the', 'efficiency', 'of', 'the', 'parabolic', 'collector', 'is', 'improved', 'by', '10', '25', 'than', 'the', 'base', 'fluid', 'the', 'efficiency', 'increases', 'for', 'copper', 'pipe', 'with', 'CuO', 'water', 'is', '91', '42', '84', '34', '79', '90', 'for', 'the', 'low', 'Reynolds', 'number', 'of', 'the', 'higher', 'The', 'heat', 'transfer', 'enhanced', 'the', 'performance', 'of', 'the', 'copper', 'pipe', 'with', 'CuO', 'water', 'nanofluid', 'which', 'varies', 'from', '87', '98', '63', '70', 'and', '48', '72', 'of', 'the', 'increase', 'in', 'Reynolds', 'number', 'From', 'the', 'result', 'it', 'is', 'clear', 'that', 'the', 'heat', 'transfer', 'enhancement', 'at', 'low', 'flow', 'rate', 'shows', 'the', 'best', 'result', 'as', 'compared', 'to', 'the', 'other', 'cases', 'The', 'percentage', 'increase', 'at', 'the', 'outlet', 'of', 'absorber', 'pipe', 'in', 'case', 'of', 'copper', 'pipe', 'with', 'CuO', 'water', 'nanofluid', 'is', '53', '85', 'as', 'compared', 'with', 'other', 'cases', 'of', 'experimentation', 'and', 'different', 'flow', 'rate', 'of', 'nanofluid', 'inside', 'the', 'tubes', 'From', 'the', 'experimentation', 'it', 'is', 'also', 'concluded', 'that', 'the', 'friction', 'factor', 'decreases', 'with', 'the', 'increase', 'in', 'flow', 'rates', '15', 'Thick', 'Film', 'Deposition', 'from', 'Supersonic', 'Impact', 'of', 'Monosized', 'Ag', 'Nanoparticles', 'We', 'describe', 'the', 'use', 'of', 'the', 'laser', 'ablation', 'of', 'microparticle', 'aerosols', 'process', 'to', 'deposit', 'patterned', 'thick', 'films', 'of', 'Ag', 'from', 'nanoparticles', 'at', 'high', 'velocities', 'and', 'study', 'the', 'effects', 'of', 'varying', 'the', 'nanoparticle', 'impacting', 'velocity', 'while', 'fixing', 'the', 'nanoparticle', 'size', 'It', 'is', 'shown', 'that', 'the', 'relative', 'height', 'of', 'the', 'deposits', 'and', 'the', 'impacting', 'velocity', 'influence', 'the', 'microstructure', 'with', 'higher', 'heights', 'leading', 'to', 'greater', 'porosity', 'Using', 'molecular', 'dynamics', 'simulations', 'a', 'critical', 'normal', 'impacting', 'velocity', 'of', '600', 'm', 's', 'for', 'a', '6', 'nm', 'particle', 'was', 'calculated', 'A', 'model', 'was', 'developed', 'to', 'explain', 'the', 'influence', 'of', 'relative', 'heights', 'and', 'impacting', 'velocity', 'on', 'porosity', '16', 'Nonlinear', 'Constitutive', 'Models', 'for', 'Nano', 'scale', 'Heat', 'Conduction', 'We', 'present', 'a', 'rigorous', 'approach', 'that', 'leads', 'from', 'a', 'many', 'particle', 'description', 'to', 'a', 'nonlinear', 'stochastic', 'constitutive', 'relation', 'for', 'the', 'modeling', 'of', 'transient', 'heat', 'conduction', 'processes', 'at', 'nanoscale', 'By', 'enforcing', 'statistical', 'consistency', 'in', 'that', 'the', 'statistics', 'of', 'the', 'local', 'energy', 'is', 'consistentswith', 'that', 'from', 'an', 'all', 'atom', 'description', 'we', 'identify', 'the', 'driving', 'force', 'as', 'well', 'as', 'the', 'model', 'parameters', 'in', 'these', 'generalized', 'constitutive', 'models', '17', 'An', 'ultra', 'compact', 'low', 'temperature', 'scanning', 'probe', 'microscope', 'for', 'magnetic', 'felds', 'above', '30', 'T', 'We', 'present', 'the', 'design', 'of', 'a', 'highly', 'compact', 'High', 'Field', 'Scanning', 'Probe', 'Microscope', 'HF', 'SPM', 'for', 'operation', 'at', 'cryogenic', 'temperatures', 'in', 'an', 'extremely', 'high', 'magnetic', 'field', 'provided', 'by', 'a', 'water', 'cooled', 'Bitter', 'magnet', 'able', 'to', 'reach', '38', 'T', 'The', 'HF', 'SPM', 'is', '14', 'mm', 'in', 'diameter', 'an', 'Attocube', 'nano', 'positioner', 'controls', 'the', 'coarse', 'approach', 'of', 'a', 'piezo', 'resistive', 'AFM', 'cantilever', 'to', 'a', 'scanned', 'sample', 'The', 'Bitter', 'magnet', 'constitutes', 'an', 'extreme', 'environment', 'for', 'SPM', 'due', 'to', 'the', 'high', 'level', 'of', 'vibrational', 'noise', 'the', 'Bitter', 'magnet', 'noise', 'at', 'frequencies', 'up', 'to', '300', 'kHz', 'is', 'characterized', 'and', 'noise', 'mitigation', 'methods', 'are', 'described', 'The', 'performance', 'of', 'the', 'HF', 'SPM', 'is', 'demonstrated', 'by', 'topographic', 'imaging', 'and', 'noise', 'measurements', 'at', 'up', 'to', '30', 'T', 'Additionally', 'the', 'use', 'of', 'the', 'SPM', 'as', 'a', 'three', 'dimensional', 'dilatometer', 'for', 'magnetostriction', 'measurements', 'is', 'demonstrated', 'via', 'measurements', 'on', 'a', 'magnetically', 'frustrated', 'spinel', 'sample', '18', 'Nonlinear', 'Dynamical', 'Analysis', 'of', 'Cu', 'doped', 'ZnO', 'Nanoparticles', 'NPs', 'for', 'Biological', 'Applications', 'Since', 'ZnO', 'based', 'nanoparticles', 'have', 'variety', 'of', 'nanostructures', 'tools', 'of', 'Non', 'linear', 'Dynamical', 'Theory', 'NLD', 'have', 'been', 'used', 'successfully', 'in', 'the', 'present', 'work', 'to', 'analyze', 'the', 'XRD', 'time', 'series', 'a', 'priori', 'knowledge', 'helpful', 'to', 'come', 'up', 'with', 'basic', 'understanding', 'about', 'the', 'nano', 'particles', 'formed', 'Cu', 'doped', 'ZnO', 'nanosystems', 'are', 'analyzed', 'first', 'by', 'estimating', 'Correlation', 'Dimension', 'Cd', 'in', 'order', 'to', 'quantify', 'the', 'low', 'dimensional', 'chaotic', 'behavior', 'shown', 'by', 'the', 'nanosystems', 'through', 'the', 'XRD', 'time', 'series', 'Quantitative', 'information', 'concerning', 'the', 'preferential', 'orientation', 'of', 'crystallites', 'is', 'also', 'obtained', 'from', 'the', 'Texture', 'Coefficient', 'TC', 'of', 'different', 'planes', 'of', 'the', 'particles', 'formed', 'It', 'has', 'also', 'been', 'verified', 'that', 'the', 'orientations', 'of', 'the', 'crystallites', 'as', 'well', 'as', 'their', 'size', 'can', 'be', 'controlled', 'by', 'changing', 'the', 'dopant', 'percentage', 'The', 'numerical', 'values', 'of', 'the', 'Cd', 'TC', 'and', 'Crystallite', 'Size', 'of', 'different', 'samples', 'are', 'obtained', 'and', 'used', 'for', 'analyzing', 'the', 'over', 'all', 'behavior', 'of', 'the', 'of', 'crystallites', 'formed', 'Lacunarity', 'as', 'a', 'geometrical', 'scale', 'dependent', 'measure', 'of', 'texture', 'is', 'also', 'used', 'analyze', 'the', 'images', 'of', 'Zone', 'of', 'Inhibition', 'ZoI', 'a', 'biological', 'parameter', 'to', 'quantify', 'the', 'impact', 'of', 'anti', 'bacterial', 'nanoparticles', 'in', 'case', 'of', 'Gram', 'negative', 'E', 'coli', 'and', 'Gram', 'positive', 'S', 'aureus', 'pathogens', 'It', 'is', 'also', 'confirmed', 'for', 'the', 'first', 'time', 'that', 'the', 'basic', 'XRD', 'data', 'from', 'the', 'nanoparticles', 'may', 'be', 'used', 'as', 'a', 'marker', 'to', 'predict', 'desired', 'surface', 'features', 'of', 'the', 'nanoparticles', 'to', 'be', 'obtained', 'for', 'biological', 'application', 'such', 'as', 'detecting', 'specific', 'pathogens', '19', 'A', 'non', 'destructive', 'method', 'to', 'calibrate', 'the', 'torsional', 'spring', 'constant', 'of', 'atomic', 'force', 'microscope', 'cantilevers', 'in', 'viscous', 'environments', 'Calibration', 'of', 'the', 'torsional', 'spring', 'constant', 'of', 'atomic', 'force', 'microscopy', 'cantilevers', 'is', 'fundamental', 'to', 'a', 'range', 'of', 'applications', 'from', 'nanoscale', 'friction', 'and', 'lubrication', 'measurements', 'to', 'the', 'characterization', 'of', 'micro', 'electromechanical', 'systems', 'and', 'the', 'response', 'of', 'biomolecules', 'to', 'external', 'stimuli', 'Existing', 'calibration', 'methods', 'are', 'either', 'time', 'consuming', 'and', 'destructive', 'ex', 'situ', 'static', 'approaches', 'or', 'rely', 'on', 'models', 'using', 'the', 'frequency', 'and', 'quality', 'factor', 'Q', 'factor', 'of', 'the', 'cantilever', 'torsional', 'resonance', 'as', 'input', 'parameters', 'in', 'situ', 'dynamical', 'approaches', 'While', 'in', 'situ', 'approaches', 'are', 'usually', 'preferred', 'for', 'their', 'easy', 'implementation', 'and', 'preservation', 'of', 'the', 'cantilever', 'their', 'dependence', 'on', 'the', 'torsional', 'resonance', 'Q', 'factor', 'renders', 'calibration', 'in', 'highly', 'viscous', 'environments', 'challenging', 'This', 'is', 'problematic', 'for', 'example', 'in', 'many', 'nanoscale', 'tribological', 'applications', 'Here', 'we', 'propose', 'a', 'calibration', 'method', 'that', 'does', 'not', 'depend', 'on', 'the', 'cantilever', 'torsional', 'Q', 'factor', 'and', 'show', 'how', 'the', 'cantilever', 'deflection', 'can', 'be', 'converted', 'into', 'a', 'lateral', 'force', 'The', 'method', 'is', 'tested', 'with', 'six', 'cantilevers', 'of', 'different', 'shapes', 'and', 'material', 'composition', 'and', 'in', 'six', 'fluid', 'media', 'The', 'derived', 'spring', 'constants', 'are', 'compared', 'with', 'predictions', 'from', 'existing', 'methods', 'demonstrating', 'a', 'higher', 'precision', 'in', 'particular', 'for', 'highly', 'viscous', 'liquids', '20', 'A', 'Comparative', 'Investigation', 'on', 'Effects', 'of', 'Nanoparticles', 'on', 'Characteristics', 'of', 'Natural', 'Esters', 'based', 'Nanofluids', 'The', 'effects', 'of', 'transformer', 'oil', 'based', 'nanofluids', 'have', 'been', 'broadly', 'investigated', 'and', 'showcased', 'a', 'magnificent', 'improvement', 'in', 'performance', 'But', 'in', 'natural', 'esters', 'based', 'nanofluids', 'characteristic', 'performance', 'persist', 'virtually', 'unexplored', 'and', 'still', 'there', 'is', 'a', 'room', 'for', 'investigation', 'This', 'work', 'aims', 'to', 'examine', 'the', 'effect', 'of', 'three', 'dissimilar', 'types', 'of', 'nanoparticles', 'such', 'as', 'Aluminum', 'Oxide', 'Al2O3', 'Boron', 'Nitrate', 'BN', 'and', 'Ferrous', 'Ferric', 'Oxide', 'Fe3O4', 'at', 'various', 'volume', 'concentrations', 'on', 'the', 'characteristic', 'performance', 'of', 'natural', 'esters', 'Honge', 'oil', 'HO', 'Neem', 'oil', 'NO', 'Mustard', 'oil', 'MO', 'and', 'Punna', 'oil', 'PO', 'is', 'considered', 'as', 'base', 'fluid', 'for', 'investigation', 'The', 'characteristic', 'performances', 'of', 'base', 'fluids', 'are', 'tested', 'before', 'and', 'after', 'blending', 'of', 'nanoparticles', 'as', 'per', 'standards', 'The', 'findings', 'are', 'quite', 'promising', 'because', 'of', 'the', 'performance', 'of', 'nanofluids', 'shows', 'a', 'significant', 'improvement', '21', 'Approach', 'of', 'a', 'nanoparticle', 'towards', 'plasma', 'membrane', 'How', 'van', 'der', 'Waals', 'effect', 'dominates', 'electrostatics', 'in', 'distinguishing', 'between', 'a', 'gold', 'and', 'silica', 'nanoparticle', 'Making', 'a', 'nanoparticle', 'NP', 'approach', 'and', 'interact', 'with', 'a', 'plasma', 'membrane', 'PM', 'through', 'the', 'receptor', 'ligand', 'RL', 'interaction', 'is', 'key', 'for', 'applications', 'like', 'targeted', 'drug', 'delivery', 'cellular', 'imaging', 'and', 'theranostics', 'In', 'this', 'letter', 'we', 'show', 'that', 'van', 'der', 'Waals', 'vdW', 'interactions', 'dominate', 'the', 'electrostatics', 'ensuring', 'that', 'a', 'gold', 'NP', 'GNP', 'approached', 'the', 'PM', 'more', 'spontaneously', 'as', 'compared', 'to', 'a', 'silica', 'NP', 'SNP', 'The', 'negative', 'sigma', 'charge', 'density', 'of', 'a', 'PM', 'induces', 'a', 'negative', 'electrostatic', 'potential', 'at', 'the', 'surface', 'of', 'the', 'approaching', 'GNP', 'and', 'SNP', 'however', 'there', 'is', 'a', 'little', 'difference', 'between', 'these', 'induced', 'values', 'due', 'to', 'a', 'small', 'electric', 'double', 'layer', 'at', 'physiological', 'salt', 'concentration', 'c', 'infin', 'Hence', 'there', 'is', 'little', 'difference', 'in', 'the', 'electrostatic', 'repulsion', 'between', 'the', 'two', 'cases', 'while', 'the', 'PM', 'NP', 'vdW', 'attraction', 'is', 'much', 'more', 'for', 'the', 'GNP', 'as', 'a', 'result', 'of', 'a', 'larger', 'Hamaker', 'constant', 'Therefore', 'in', 'comparison', 'to', 'the', 'GNP', 'the', 'SNP', 'would', 'a', 'undergo', 'a', 'promotion', 'of', 'specific', 'adhesion', 'SA', 'and', 'a', 'prevention', 'of', 'non', 'specific', 'adhesion', 'NSA', 'simultaneously', 'across', 'larger', 'sigma', 'minus', 'c', 'infin', 'phase', 'space', 'including', 'physiological', 'conditions', 'b', 'necessitate', 'a', 'larger', 'length', 'of', 'the', 'ligand', 'to', 'trigger', 'spontaneous', 'RL', 'interaction', 'and', 'c', 'require', 'a', 'larger', 'driving', 'force', 'for', 'force', 'driven', 'RL', 'interactions', '22', 'Fluence', 'and', 'pulse', 'number', 'dependent', 'surface', 'nanostructures', 'induced', 'by', 'femtosecond', 'laser', 'on', 'SrTiO3', 'SrTiO3', 'STO', 'is', 'a', 'key', 'perovskite', 'oxide', 'with', 'fascinating', 'properties', 'in', 'electronics', 'and', 'optoelectronics', 'The', 'formation', 'of', 'surface', 'nanostructures', 'is', 'an', 'ideal', 'platform', 'to', 'study', 'femtosecond', 'laser', 'STO', 'interaction', 'The', 'generation', 'and', 'evolution', 'of', 'surface', 'nanostructures', 'induced', 'by', 'femtosecond', 'laser', 'on', 'STO', 'surface', 'have', 'been', 'studied', 'experimentally', 'The', 'surface', 'nanostructures', 'show', 'distinct', 'features', 'with', 'a', 'clear', 'fluence', 'and', 'pulse', 'number', 'dependence', 'Unlike', 'the', 'regular', 'ripples', 'which', 'either', 'parallel', 'or', 'perpendicular', 'to', 'the', 'laser', 'polarization', 'ripples', 'formed', 'on', 'STO', 'surface', 'after', 'irradiated', 'with', '4', 'laser', 'pulses', 'coexist', 'in', 'both', 'directions', 'and', 'cover', 'all', 'the', 'structured', 'area', 'When', 'further', 'increase', 'the', 'pulse', 'number', 'ripples', 'parallel', 'to', 'the', 'laser', 'polarization', 'dominates', 'at', 'lower', 'fluence', 'regime', 'while', 'ripples', 'perpendicular', 'to', 'the', 'laser', 'polarization', 'are', 'the', 'only', 'surface', 'structures', 'formed', 'at', 'higher', 'fluence', 'regime', 'The', 'periodicity', 'of', 'ripples', 'perpendicular', 'to', 'the', 'laser', 'polarization', 'decreases', 'with', 'more', 'laser', 'pulse', 'irradiation', 'while', 'the', 'periodicity', 'of', 'the', 'ripples', 'parallel', 'to', 'the', 'laser', 'polarization', 'show', 'different', 'behavior', 'FDTD', 'finite', 'difference', 'time', 'domain', 'method', 'and', 'Sipe', 'Drude', 'model', 'have', 'been', 'adopted', 'to', 'analyze', 'the', 'energy', 'deposition', 'on', 'STO', 'surface', 'The', 'results', 'show', 'that', 'the', 'different', 'energy', 'deposition', 'upon', 'the', 'different', 'excitation', 'levels', 'which', 'is', 'caused', 'by', 'the', 'incubation', 'effect', 'and', 'the', 'local', 'enhancement', 'of', 'energy', 'absorption', 'leads', 'to', 'the', 'pulse', 'number', 'and', 'fluence', 'dependence', 'of', 'the', 'surface', 'structures', 'As', 'the', 'number', 'of', 'the', 'pulse', 'increasing', 'the', 'feedback', 'effect', 'plays', 'a', 'major', 'role', 'gradually', 'and', 'determines', 'the', 'formation', 'and', 'evolution', 'of', 'the', 'surface', 'nanostructures', '23', 'Simulation', 'and', 'optimization', 'of', 'a', 'new', 'electrochromic', 'with', 'WO3', 'Ag', 'nanocomposit', 'thin', 'film', 'assisted', 'cooling', 'system', 'on', 'energy', 'saving', 'In', 'the', 'past', 'years', 'many', 'studies', 'have', 'been', 'done', 'in', 'the', 'field', 'of', 'smart', 'windows', 'and', 'solar', 'cells', 'the', 'most', 'important', 'of', 'these', 'were', 'electrochromic', 'devices', 'ECD', 'This', 'study', 'was', 'investigated', 'the', 'optimization', 'of', 'thermal', 'energy', 'consumption', 'by', 'using', 'electrochromic', 'components', 'with', 'a', 'new', 'nanocomposit', 'layer', 'WO3', 'Ag', 'in', 'a', 'larger', 'size', 'window', 'for', 'a', 'room', 'with', 'a', 'educational', 'application', 'for', 'five', 'cities', 'with', 'different', 'climates', 'conditions', 'in', 'Iran', 'Yazd', 'Tehran', 'Bandar', 'Abbas', 'Tabriz', 'and', 'Sari', 'For', 'this', 'simulation', 'platform', 'the', 'software', 'has', 'been', 'implemented', 'in', 'Energy', 'Plus', 'This', 'feasibility', 'study', 'has', 'been', 'modeled', 'by', 'DesignBuilder', 'software', 'and', 'has', 'been', 'reported', 'the', 'reduction', 'of', 'thermal', 'energy', 'consumption', 'in', 'all', 'climates', 'in', 'Iran', 'Hot', 'and', 'dry', 'Warm', 'and', 'semi', 'humid', 'warm', 'and', 'wet', 'moderate', 'and', 'dry', 'and', 'mild', 'and', 'humid', 'Also', 'four', 'strategies', 'are', 'considered', 'for', 'better', 'comparison', 'The', 'first', 'strategy', 'is', 'the', 'use', 'of', 'common', 'double', 'glazed', 'windows', 'the', 'second', 'to', 'fourth', 'strategy', 'and', 'the', 'use', 'of', 'the', 'electrochromic', 'window', 'in', 'three', 'different', 'modes', 'bleached', 'mode', 'Off', 'colored', 'mode', 'On', 'and', 'switchable', 'mode', 'controlled', 'beneath', 'comfort', 'conditions', 'The', 'third', 'and', 'fourth', 'strategy', 'has', 'shown', 'a', 'reduction', 'in', 'thermal', 'energy', 'consumption', 'in', 'different', 'climates', 'from', '25', 'to', '45', 'relative', 'to', 'typical', 'windows', 'The', 'best', 'result', 'of', 'cooling', 'energy', 'consumption', 'was', 'also', 'in', 'Tehran', 'So', 'for', 'this', 'climate', 'the', 'average', 'energy', 'consumption', 'dropped', 'to', '34', 'for', 'the', 'warm', 'months', 'of', 'the', 'year', 'and', 'even', '42', 'for', 'the', 'warmest', 'month', 'of', 'the', 'year', 'August', '24', 'Enhancing', 'intrinsic', 'detection', 'efficiency', 'of', 'superconducting', 'nanowire', 'single', 'photon', 'detectors', 'via', 'helium', 'ion', 'irradiation', 'Realizing', 'an', 'NbN', 'superconducting', 'nanowire', 'single', 'photon', 'detector', 'SNSPD', 'with', 'a', '100', 'intrinsic', 'detection', 'efficiency', 'IDE', 'at', 'the', 'near', 'infrared', 'wavelengths', 'is', 'still', 'challenging', 'Herein', 'we', 'developed', 'a', 'post', 'processing', 'method', 'to', 'increase', 'the', 'IDE', 'of', 'NbN', 'SNSPDs', 'to', 'near', 'unity', 'using', 'a', '20', 'keV', 'helium', 'ion', 'irradiation', 'The', 'IDE', 'enhancement', 'was', 'achieved', 'owing', 'to', 'the', 'ion', 'induced', 'reduction', 'of', 'the', 'superconducting', 'energy', 'gap', 'and', 'the', 'electron', 'density', 'of', 'states', 'at', 'the', 'Fermi', 'level', 'determined', 'with', 'the', 'electrical', 'and', 'magnetic', 'transport', 'measurements', 'The', 'change', 'in', 'optical', 'absorptance', 'of', 'the', 'irradiated', 'SNSPD', 'was', 'negligible', 'as', 'confirmed', 'by', 'the', 'measured', 'optical', 'reflectance', 'and', 'system', 'detection', 'efficiency', 'SDE', 'Benefited', 'with', 'the', 'IDE', 'enhancement', 'the', 'SDE', 'of', 'an', 'irradiated', 'device', 'was', 'significantly', 'increased', 'from', '49', 'to', '92', 'at', '2', '2', 'K', 'for', 'a', '1550', 'nm', 'wavelength', '25', 'Mixed', 'Convection', 'Characteristics', 'in', 'a', 'Baffeled', 'U', 'shaped', 'Lid', 'driven', 'Cavity', 'in', 'the', 'Presence', 'of', 'Magnetic', 'Field', 'In', 'the', 'present', 'study', 'mixed', 'convection', 'of', 'CuO', 'water', 'nanofluid', 'in', 'a', 'lid', 'driven', 'U', 'shaped', 'enclosure', 'filled', 'with', 'a', 'baffle', 'is', 'studied', 'using', 'lattice', 'Boltzmann', 'method', 'LBM', 'The', 'bottom', 'wall', 'is', 'fixed', 'at', 'a', 'uniform', 'temperature', 'and', 'the', 'effect', 'of', 'magnetic', 'field', 'is', 'investigated', 'KKL', 'Koo', 'Kleinstreuer', 'Li', 'model', 'is', 'used', 'to', 'get', 'the', 'effective', 'thermal', 'conductivity', 'and', 'viscosity', 'of', 'nanofluid', 'In', 'this', 'model', 'Brownian', 'motion', 'of', 'nanoparticle', 'is', 'considered', 'Effect', 'of', 'Hartmann', 'number', 'Richardson', 'number', 'Reynolds', 'number', 'and', 'nanoparticle', 'volume', 'fraction', 'on', 'streamlines', 'isotherms', 'and', 'averaged', 'Nusselt', 'number', 'have', 'been', 'examined', 'The', 'results', 'revealed', 'that', 'at', 'Re', '100', 'the', 'nanofluid', 'strategy', 'has', 'a', 'detrimental', 'effect', 'on', 'the', 'Nusselt', 'number', 'when', 'the', 'Richardson', 'number', 'is', 'high', 'As', 'Reynolds', 'number', 'increases', 'the', 'average', 'Nusselt', 'number', 'increases', 'but', 'adverse', 'trends', 'can', 'be', 'observed', 'when', 'the', 'Hartmann', 'numbers', 'increases', 'The', 'effect', 'of', 'increasing', 'Reynolds', 'number', 'on', 'the', 'heat', 'transfer', 'rate', 'is', 'more', 'conspicuous', 'at', 'higher', 'Richardson', 'numbers', '26', 'Effect', 'of', 'sputtering', 'conditions', 'on', 'the', 'structure', 'and', 'magnetic', 'properties', 'of', 'self', 'assembled', 'BiFeO3', 'CoFe2O4', 'nanocomposite', 'thin', 'films', 'This', 'article', 'describes', 'the', 'growth', 'of', 'self', 'assembled', 'spinel', 'perovskite', 'nanocomposite', 'thin', 'films', 'using', 'a', 'sputtering', 'technique', 'Vertically', 'aligned', 'nanocomposites', 'consisting', 'of', 'CoFe2O4', 'grown', 'as', 'pillars', 'in', 'a', 'BiFeO3', 'matrix', 'were', 'observed', 'under', 'optimum', 'growth', 'conditions', 'The', 'magnetic', 'hysteresis', 'loops', 'of', 'these', 'nanocomposites', 'showed', 'a', 'strong', 'out', 'of', 'plane', 'anisotropy', 'The', 'physical', 'properties', 'of', 'these', 'nanocomposites', 'were', 'dramatically', 'changed', 'by', 'modulating', 'the', 'growth', 'conditions', 'which', 'affected', 'the', 'growth', 'rates', 'and', 'strain', 'states', 'Finally', 'we', 'provide', 'a', 'mapping', 'that', 'summarizes', 'the', 'structure', 'and', 'magnetic', 'anisotropy', 'changes', 'that', 'occur', 'with', 'growth', 'rate', 'for', 'optimizing', 'synthesis', 'conditions', 'for', 'self', 'assembled', 'oxide', 'nanostructures', '27', 'Polydimethylsiloxane', 'PDMS', 'Optical', 'Constants', 'from', '191', 'ndash', '1688', 'nm', '0', '735', 'ndash', '6', '491', 'eV', 'by', 'Spectroscopic', 'Ellipsometry', 'Herein', 'we', 'report', 'the', 'optical', 'function', 's', 'of', 'PDMS', 'as', 'determined', 'from', 'reflection', 'spectroscopic', 'ellipsometry', 'SE', 'and', 'transmission', 'ultraviolet', 'visible', 'data', 'These', 'functions', 'were', 'obtained', 'from', '191', 'to', '1688', 'nm', 'from', 'two', 'commercial', 'samples', 'of', 'liquid', 'PDMS', 'PDMS700', 'and', 'PDMS2000', 'that', 'had', 'molecular', 'weights', 'of', '700', '1500', 'g', 'mol', 'and', '2000', '3500', 'g', 'mol', 'respectively', 'Both', 'samples', 'were', 'linear', 'polymers', 'terminated', 'with', 'silanol', 'groups', 'The', 'optical', 'functions', 'determined', 'from', 'the', 'two', 'materials', 'were', 'essentially', 'identical', 'In', 'addition', 'to', 'analyzing', 'the', 'data', 'from', 'the', 'individual', 'samples', 'the', 'SE', 'data', 'from', 'the', 'samples', 'were', 'combined', 'in', 'a', 'multi', 'sample', 'analysis', 'MSA', 'Both', 'the', 'reflection', 'and', 'transmission', 'measurements', 'required', 'special', 'experimental', 'considerations', 'For', 'the', 'reflection', 'SE', 'measurements', 'these', 'included', 'roughening', 'frosting', 'the', 'inside', 'of', 'the', 'vessel', 'that', 'held', 'the', 'PDMS', 'and', 'the', 'need', 'to', 'level', 'the', 'instrument', 'instead', 'of', 'the', 'samples', 'The', 'transmission', 'measurements', 'were', 'obtained', 'via', 'a', 'dual', 'cuvette', 'approach', 'that', 'eliminated', 'the', 'effects', 'of', 'the', 'cuvettes', 'and', 'their', 'interfaces', 'Because', 'both', 'samples', 'of', 'PDMS', 'were', 'transparent', 'over', 'the', 'measured', 'wavelength', 'range', 'and', 'because', 'of', 'the', 'relatively', 'wide', 'wavelength', 'range', 'considered', 'the', 'optical', 'functions', 'were', 'fit', 'with', 'a', 'Sellmeier', 'model', 'This', 'produced', 'a', 'good', 'fit', 'for', 'the', 'MSA', 'with', 'a', 'mean', 'squared', 'error', 'MSE', 'value', 'of', '1', '24', 'The', 'optical', 'functions', 'obtained', 'in', 'this', 'work', 'agreed', 'well', 'with', 'previously', 'reported', 'values', 'For', 'example', 'for', 'the', 'MSA', 'we', 'obtained', 'the', 'following', 'nx', 'values', 'where', 'x', 'is', 'the', 'wavelength', 'in', 'nanometers', 'n300', '1', '439', 'n500', '1', '407', 'and', 'n1000', '1', '395', '28', 'Experimental', 'observation', 'of', 'size', 'dependent', 'behavior', 'in', 'surface', 'energy', 'of', 'gold', 'nanoparticles', 'through', 'atomic', 'force', 'microscope', 'Surface', 'energy', 'plays', 'a', 'key', 'role', 'in', 'the', 'physicochemical', 'interactions', 'of', 'materials', 'surfaces', 'and', 'it', 'is', 'closely', 'related', 'to', 'the', 'unique', 'properties', 'and', 'numerous', 'surface', 'functionalization', 'possibilities', 'of', 'gold', 'nanoparticles', 'Herein', 'we', 'have', 'reported', 'an', 'atomic', 'force', 'microscopy', 'based', 'technique', 'to', 'measure', 'the', 'surface', 'energies', 'of', 'different', 'materials', 'under', 'the', 'peakforce', 'quantitative', 'nanomechanical', 'mapping', 'mode', 'Our', 'study', 'on', 'gold', 'nanoparticles', 'focuses', 'on', 'the', 'particles', 'with', 'diameters', 'ranging', 'from', '2', 'to', '14', 'nm', 'The', 'experimental', 'results', 'indicate', 'a', 'clear', 'size', 'dependent', 'behavior', 'in', 'the', 'surface', 'energy', 'of', 'gold', 'nanoparticles', 'when', 'the', 'size', 'is', 'smaller', 'than', '5', 'nm', 'and', 'the', 'smallest', 'gold', 'nanoparticle', 'displays', 'a', '3', 'fold', 'higher', 'surface', 'energy', 'compared', 'to', 'bulk', 'gold', 'Therefore', 'our', 'experimental', 'results', 'provide', 'essential', 'evidence', 'that', 'can', 'lead', 'to', 'a', 'better', 'understanding', 'of', 'the', 'size', 'property', 'relations', 'allowing', 'for', 'process', 'design', 'in', 'gold', 'nanoparticles', '']\n"
     ]
    }
   ],
   "source": [
    "## 4. Normalizing the case\n",
    "stripped=[w.translate(corpus_new) for w in words]\n",
    "print(stripped)"
   ]
  },
  {
   "cell_type": "code",
   "execution_count": 90,
   "metadata": {},
   "outputs": [
    {
     "name": "stdout",
     "output_type": "stream",
     "text": [
      "['1', 'subsonic', 'potentials', 'in', 'ultra', 'dense', 'plasmas', 'the', 'existence', 'of', 'the', 'subsonic', 'dynamic', 'potential', 'for', 'a', 'test', 'charge', 'in', 'extremely', 'dense', 'quantum', 'plasmas', 'is', 'pointed', 'out', 'the', 'first', 'time', 'where', 'usually', 'found', 'supersonic', 'potential', 'is', 'suppressed.', 'the', 'dispersion', 'equation', 'of', 'ion', 'acoustic', 'wave(iaw)', 'in', 'relativistic', 'dense', 'plasmas', 'is', 'derived', 'on', 'employing', 'the', 'quantum', 'hydrodynamic', 'model(qhm).', 'in', 'addition,', 'the', 'standard', 'model', 'of', 'wake', 'potential', 'is', 'hereafter', 'applied', 'for', 'the', 'derivation', 'of', 'dynamic', 'potential', 'of', 'the', 'test', 'particle.', 'the', 'quantized', 'relativistic', 'electrons', 'obey', 'fermi', 'statistics', 'whereas', 'ions', 'contribute', 'classically.', 'it', 'is', 'noticed', 'that', 'the', 'oscillatory', 'wake', 'potential', 'does', 'exist', 'at', 'very', 'small', 'length', 'scales.', 'its', 'significant', 'features', 'are', 'further', 'analyzed', 'on', 'the', 'varying', 'magnetic', 'field', 'as', 'well', 'as', 'the', 'number', 'density', 'of', 'plasma', 'systems.', 'it', 'is', 'found', 'that', 'the', 'dynamic', 'potential', 'exists', 'only', 'with', 'the', 'condition', '$v_t&lt;c_s$', 'reflecting', 'the', 'subsonic', 'region', 'contrary', 'to', 'the', 'usual', '$v_t&gt;c_s$', 'where', '$v_t$', 'is', 'the', 'test', 'particle', 'speed', 'and', '$c_s$', 'is', 'the', 'acoustic', 'speed', 'defined', 'with', 'the', 'fermi', 'temperature', 'of', 'the', 'electrons.', 'the', 'work', 'is', 'significant', 'in', 'order', 'to', 'describe', 'the', 'structure', 'formation', 'in', 'the', 'astrophysical', 'environment', '2', 'overtaking', 'interaction', 'of', 'two', 'weakly', 'nonlinear', 'acoustic', 'solitons', 'in', 'plasmas', 'at', 'critical', 'densities', 'acoustic', 'solitons', 'obtained', 'through', 'a', 'reductive', 'perturbation', 'scheme', 'are', 'normallysgoverned', 'by', 'a', 'korteweg-de', 'vries', '(kdv)', 'equation.', 'in', 'multispecies', 'plasmas', 'at', 'critical', 'densities', 'the', 'coefficient', 'of', 'the', 'quadratic', 'nonlinearity', 'vanishes.', 'extending', 'the', 'analytic', 'treatment', 'then', 'leads', 'to', 'a', 'modified', 'kdv', '(mkdv)', 'equation,', 'characterized', 'by', 'a', 'cubic', 'nonlinearity.', 'this', 'is', 'even', 'in', 'the', 'electrostatic', 'potential', 'and', 'thus', 'can', 'admit', 'solitons', 'having', 'opposite', 'electrostatic', 'polarities,', 'in', 'contrast', 'to', 'kdv', 'solitons', 'in', 'plasmas', 'which', 'can', 'only', 'be', 'of', 'one', 'polarity', 'at', 'a', 'time.', 'the', 'original', 'application', 'of', 'the', 'kdv', 'theory', 'to', 'surface', 'waves', 'on', 'shallow', 'water', 'yielded', 'only', 'compressive', 'solitons.', 'to', 'study', 'the', 'overtaking', 'interactions', 'between', 'two', 'solitons', 'in', 'the', 'kdv', 'case,', 'the', 'hirota', 'formalism', 'had', 'been', 'applied', 'to', 'either', 'two', 'compressive', 'or', 'two', 'rarefactive', 'plasma', 'modes,', 'and', 'can', 'deal', 'with', 'more', 'interacting', 'waves', 'because', 'the', 'kdv', 'equation', 'is', 'completely', 'integrable.', 'this', 'integrability', 'property', 'also', 'holds', 'for', 'the', 'mkdv', 'equation', 'in', 'plasmas', 'at', 'critical', 'densities,', 'but', 'the', 'hirota', 'formalism', 'for', 'the', 'mkdv', 'equation', 'is', 'more', 'complicated.', 'this', 'formalism', 'can', 'cover', 'the', 'overtaking', 'interaction', 'between', 'a', 'compressive', 'and', 'a', 'rarefactive', 'soliton,', 'with', 'the', 'larger-amplitude', 'and', 'faster', 'soliton', 'overtaking', 'the', 'smaller-amplitude', 'and', 'slower', 'soliton.sexamples', 'of', 'multispecies', 'plasmas', 'where', 'this', 'applies', 'are', 'given.', 'in', 'contrast,', 'there', 'is', 'no', 'hirota', 'formalism', 'for', 'head-on', 'collisions,', 'neither', 'for', 'the', 'kdv', 'nor', 'mkdv', 'equation.', '3', 'broadband', 'focusing', 'acoustic', 'lens', 'based', 'on', 'h-fractal', 'metamaterials', 'acoustic', 'metamaterials', 'are', 'a', 'kind', 'of', 'well-known', 'artificial', 'structures,', 'which', 'can', 'provide', 'unconventional', 'effective', 'properties', 'to', 'manipulate', 'sound', 'waves.', 'different', 'from', 'the', 'traditional', 'resonant', 'elements', 'proposed', 'in', 'earlier', 'studies,', 'we', 'designed', 'an', 'acoustic', 'lens', 'based', 'on', 'h-fractal', 'metamaterials.', 'compared', 'with', 'previous', 'patterns,', 'the', 'proposed', 'model', 'comprises', 'a', 'series', 'of', 'h-fractal', 'metamaterial', 'units.', 'due', 'to', 'the', 'self-similar', 'properties', 'of', 'the', 'proposed', 'structure,', 'the', 'acoustic', 'responses', 'may', 'arise', 'within', 'a', 'broad', 'frequency', 'range.', 'by', 'adjusting', 'the', 'size', 'of', 'each', 'metamaterial', 'unit,', 'phase', 'of', 'the', 'propagating', 'acoustic', 'waves', 'can', 'be', 'delayed', 'at', 'will.', 'the', 'simulative', 'results', 'show', 'that', 'the', 'designed', 'acoustic', 'focusing', 'lens', 'have', 'excellent', 'focusing', 'abilities', 'from', '2', 'khz', 'to', '5', 'khz', 'with', 'considerably', 'high', 'transmission', 'efficiency,', 'making', 'it', 'a', 'promising', 'candidate', 'for', 'a', 'various', 'of', 'acoustic', 'applications.', '4', 'numerical', 'simulation', 'of', 'standing', 'surface', 'acoustic', 'wave', 'for', 'separating', 'suspended', 'particles', 'in', 'lubricating', 'oil', 'the', 'microfluidic', 'chip', 'can', 'be', 'used', 'to', 'separate', 'particles', 'via', 'acoustic', 'radiation', 'force', 'and', 'can', 'be', 'applied', 'to', 'separate', 'impurity', 'particles', 'in', 'lubricating', 'oil.', 'we', 'propose', 'herein', 'a', 'device', 'that', 'separates', 'particle', 'by', 'controlling', 'acoustic', 'radiation', 'force', 'via', 'standing', 'surface', 'acoustic', 'waves', '(ssaws).', 'the', 'concentration', 'and', 'separation', 'of', 'suspended', 'particles', 'was', 'simulated.', 'we', 'first', 'analyze', 'the', 'force', 'exerted', 'on', 'suspended', 'particles', 'and', 'their', 'subsequent', 'motion', 'in', 'the', 'microfluidic', 'channel,', 'and', 'then', 'verify', 'the', 'concentration', 'of', 'particles', 'exposed', 'to', 'ssaws.', 'we', 'also', 'investigate', 'how', 'the', 'frequency', 'of', 'the', 'ssaw', 'affects', 'particle', 'concentration', 'and', 'discuss', 'the', 'advantage', 'of', 'using', 'ssaws', 'to', 'concentrate', 'and', 'separate', 'particles.', '5', 'observation', 'of', 'temperature', 'gradient', 'driven', 'electrostatic', 'ion', 'acoustic', 'instability', 'in', 'a', 'cross-field', 'diffused', 'plasma', 'the', 'turbulence', 'characteristics', 'of', 'near', 'eef', 'target', 'region,', 'embedded', 'with', 'diffused', 'plasma', 'emanating', 'across', 'large', 'electron', 'energy', 'filter', '(eef)', 'is', 'reported', 'for', 'large', 'volume', 'plasma', 'device.', 'the', 'near', 'eef', 'target', 'plasma', 'exhibits', 'gradient', 'free', 'profiles', 'of', 'plasma', 'density', '(&#x2207;n_e=0)', 'but', 'plasma', 'potential', '(&#x2207;v_p&#x2260;0)', 'and', 'electron', 'temperature', '(&#x2207;t_e&#x2260;0)', 'profiles', 'shows', 'finite', 'gradients.', 'the', 'finite', 'radial', 'electric', 'field', 'reverses', 'sign', 'with', 'respect', 'to', 'the', 'centre', 'of', 'device.', 'the', 'plasma', 'conditions', 'are', 'prevailing', 'with', 'magnetized', 'electrons', '(&#x03c9;_ce&#x226b;&#x03bd;_en)', 'but', 'ions', 'are', 'not', '(&#x03c9;_ci&lt;&#x03bd;_in).', 'electron', 'drifts', 'due', 'to', 'temperature', 'gradient,', 'vde', 'and', 'finite', 'electric', 'field,', '&#x3016;v^(e&#x00d7;b', ')&#x3017;_', 'exceeding', 'ion', 'sound', 'velocity,', '&#x3016;', 'c&#x3017;_s.', 'the', 'observed', 'density', 'fluctuations', '(deltane/ne~7-10%', ')', 'are', 'broadband', 'in', 'nature', 'and', 'have', 'frequency', 'ordering,', '&#x03c9;_ci&lt;&#x03c9;&#x226a;&#x03c9;_ce', '.', 'numerically', 'obtained', 'growth', 'frequency', 'exceeds', 'ion', 'cyclotron', 'frequency', '(&#x03b3;&gt;&#x03c9;_ci)', 'but', 'its', 'magnitude', 'is', 'less', 'than', 'the', 'mode', 'frequency', '(&#x03b3;&lt;&#x03c9;).', 'observed', 'gradte', 'driven', 'mode', 'propagate', 'in', 'ion', 'diamagnetic', 'drift', 'direction', 'and', 'exhibits', 'nature', 'of', 'electrostatic', 'ion', 'acoustic', 'mode.', '6', 'strain', 'induced', 'mobility', 'enhancement', 'in', 'p-type', 'silicon', 'structures:', 'bulk', 'and', 'quantum', 'well', '(quantum', 'kinetic', 'approach)', 'analytic', 'expressions', 'for', 'low', 'field', 'mobility', 'have', 'been', 'obtained', 'in', 'the', 'high', 'strained', 'p-type', 'silicon', 'structures', 'with', 'three-', 'and', 'two-', 'dimensional', 'hole', 'gases.', 'main', 'attention', 'is', 'paid', 'to', 'study', 'how', 'confinement', 'in', 'one', 'spatial', 'dimension', 'changes', 'the', 'strain', 'mobility', 'enhancement', 'in', 'comparison', 'with', 'bulk', 'material.', 'the', 'mobility', 'enhancement', 'factor', 'has', 'been', 'calculated', 'at', 'application', 'of', 'the', 'uniaxial', 'and', 'biaxial', 'strains.', 'acoustic', 'and', 'optic', 'phonons,', 'charged', 'impurities,', 'and', 'surface', 'roughness', 'have', 'been', 'accepted', 'as', 'a', 'scattering', 'system.', 'our', 'theoretical', 'consideration', 'is', 'based', 'on', 'the', 'quantum', 'kinetic', 'equation', 'and', 'a', 'special', 'form', 'of', 'the', 'non-equilibrium', 'distribution', 'function', '(shifted', 'fermi', 'distribution).', 'results', 'of', 'calculation', 'are', 'compared', 'with', 'known', 'experimental', 'data.', '7', 'glass', 'fracture', 'by', 'focusing', 'of', 'laser-generated', 'nanosecond', 'surface', 'acoustic', 'waves', 'dynamic', 'fracture', 'of', 'borosilicate', 'glass', 'through', 'focusing', 'of', 'high-amplitude', 'nanosecond', 'surface', 'acoustic', 'waves', '(saws)', 'at', 'the', 'micron', 'scale', 'is', 'investigated', 'in', 'an', 'all-optical', 'experiment.', 'saws', 'are', 'generated', 'by', 'an', 'intense', 'picosecond', 'laser', 'excitation', 'pulse', 'focused', 'into', 'a', 'ring-shaped', 'spot', 'on', 'the', 'sample', 'surface.', 'interferometric', 'imaging', 'of', 'the', 'sample', 'surface', 'with', 'a', 'femtosecond', 'probe', 'pulse', 'allows', 'quantitative', 'measurement', 'of', 'the', 'vertical', 'surface', 'displacements.', 'images', 'taken', 'at', 'different', 'pump-probe', 'delays', 'capture', 'the', 'saw', 'as', 'it', 'converges', 'towards', 'the', 'center,', 'focuses,', 'and', 'subsequently', 'diverges.', 'the', 'amplitude', 'of', 'the', 'saw', 'is', 'varied', 'by', 'changing', 'the', 'laser', 'excitation', 'energy.', 'above', 'a', 'certain', 'laser', 'excitation', 'energy', 'threshold,', 'a', 'damage', 'at', 'the', 'acoustic', 'focal', 'point', 'is', 'observed.', 'a', 'post-mortem', 'investigation', 'reveals', 'a', 'crater', 'formed', 'by', 'the', 'ejection', 'of', 'a', 'piece', 'of', 'material.', 'numerical', 'calculations', 'matching', 'the', 'measured', 'surface', 'displacement', 'profiles', 'help', 'us', 'determine', 'the', 'time', 'evolution', 'of', 'the', 'stress', 'distribution', 'in', 'the', 'sample', 'and', 'at', 'the', 'acoustic', 'focus.', 'we', 'find', 'that', 'the', 'glass', 'withstands', 'a', 'nanosecond', 'local', 'tensile', 'stress', 'of', 'at', 'least', '6', 'gpa', 'without', 'visible', 'fracture,', 'which', 'is', 'well', 'above', 'the', 'tensile', 'limit', 'observed', 'in', 'conventional', 'shock', 'spallation', 'experiments.', '8', 'kdv', 'acoustic', 'structure', 'with', 'exchange-correlation', 'potential', 'in', 'plasmas', 'the', 'effects', 'of', 'exchange-correlation', 'potential(ecp)', 'on', 'the', 'profile', 'of', 'dust', 'acoustic', 'solitary', 'waves', '(dasws)', 'in', 'degenerate', 'dusty', 'plasmas', 'has', 'been', 'investigated.', 'the', 'plasmassystem', 'is', 'consisting', 'upon', 'three', 'species', 'such', 'as', 'degenerate', 'ions', 'and', 'electrons,', 'andsclassical', 'dust', 'grains.', 'this', 'study', 'is', 'comprising', 'upon', 'the', 'linear', 'and', 'nonlinear', 'analysissof', 'long', 'wavelength', 'dust', 'acoustic', 'waves', 'in', 'non-relativistic', 'plasmas.', 'the', 'linear', 'acoustic', 'wave', 'have', 'been', 'analyzed', 'by', 'using', 'the', 'multi-fluid', 'model', 'whereas', 'to', 'study', 'smallsamplitude', 'dasws,', 'modified', 'korteweg', 'de', 'vries', '(kdv)', 'equation', 'has', 'been', 'derived', 'bysusing', 'the', 'reductive', 'perturbation', 'theory.', 'the', 'effects', 'of', 'dust', 'concentration', '(havenesssparameter', 'h)', 'in', 'the', 'plasma,', 'and', 'exchange', 'correlation', 'potential', 'have', 'been', 'highlighted.sthe', 'dust', 'concentration', 'and', 'exchange', 'correlation', 'potential', 'affect', 'the', 'solitary', 'wavesamplitude', 'and', 'its', 'width', 'remarkably.', 'our', 'results', 'can', 'be', 'used', 'to', 'understand', 'the', 'characteristics', 'of', 'nonlinear', 'electrostatic', 'waves', 'exciting', 'in', 'a', 'dense', 'degenerate', 'fermi', 'gas,spresent', 'in', 'metallic', 'nano', 'structures', 'or', 'presumably', 'in', 'near-supernova', 'environments,sin', 'the', 'presence', 'of', 'massive', 'charged', 'defects.', '9', 'acoustic', 'nonlinearity', 'parameter', 'induced', 'by', 'extended', 'dislocations', 'excess', 'acoustic', 'nonlinearity', 'is', 'a', 'signature', 'of', 'microstructural', 'defects', 'on', 'a', 'propagating', 'ultrasound.', 'by', 'measuring', 'the', 'excess', 'acoustic', 'nonlinearity', 'parameter,', 'defect', 'characteristics', 'can', 'be', 'inferred', 'nondestructively', 'through', 'ultrasonic', 'techniques.', 'to', 'this', 'end,', 'proper', 'models', 'are', 'needed', 'to', 'relate', 'the', 'excess', 'acoustic', 'nonlinearity', 'parameter', 'with', 'defect', 'characteristics.', 'in', 'this', 'study,', 'an', 'analytical', 'model', 'for', 'extended', 'dislocations', 'is', 'developed', 'that', 'relates', 'the', 'excess', 'acoustic', 'nonlinearity', 'parameter', 'with', 'characteristics', 'of', 'the', 'extended', 'dislocation', 'including', 'dislocation', 'density,', 'stacking', 'fault', 'energy,', 'and', 'equilibrium', 'distance', 'between', 'the', 'two', 'partial', 'dislocations', 'that', 'form', 'the', 'extended', 'dislocation.', 'according', 'to', 'this', 'model,', 'the', 'excess', 'acoustic', 'nonlinearity', 'parameter', 'induced', 'by', 'extended', 'dislocations', 'consists', 'of', 'a', 'stress-independent', 'term', 'and', 'a', 'stress-dependent', 'term.', 'both', 'terms', 'are', 'scaled', 'with', '(lchar/b)n,', 'where', 'lchar', 'is', 'the', 'equilibrium', 'distance', 'between', 'the', 'two', 'partials,', 'b', 'is', 'the', 'magnitude', 'of', 'burgers', 'vector', 'and', 'n', 'is', '3', 'and', '4', 'for', 'the', 'stress-independent', 'and', 'stress-dependent', 'terms,', 'respectively.', 'the', 'model', 'will', 'be', 'useful', 'for', 'interpreting', 'results', 'from', 'ultrasonic', 'nondestructive', 'evaluation', 'of', 'material', 'defects.', '10', 'surface', 'anisotropy', 'in', 'a', 'magnetic', 'cylinder', 'induced', 'by', 'the', 'displacement', 'of', 'a', 'vortex', 'core', 'in', 'this', 'article', 'we', 'investigate', 'the', 'induction', 'of', 'a', 'surface', 'anisotropy', 'due', 'to', 'the', 'displacement', 'of', 'the', 'vortex', 'core', 'in', 'a', 'cylindrical', 'nanostructure.', 'in', 'fact,', 'the', 'effect', 'of', 'the', 'displacement', 'of', 'the', 'vortex', 'core', 'in', 'the', 'dipolar', 'energy', 'can', 'be', 'modeled', 'simply', 'as', 'a', 'surface', 'anisotropy', 'of', 'the', 'form', '$e_s', '=', 'k_s', '\\\\int_{\\\\mathcal{s}_m}', 'd\\\\mathcal{s}', '\\\\,', '(\\\\hat{n}', '\\\\cdot', '\\\\hat{m})^2/2$.', 'moreover,', 'the', 'surface', 'anisotropy', 'constant', '$k_s$', 'is', 'proportional', 'to', 'the', 'cylinder', 'in-plane', 'demagnetizing', 'factor', 'in', 'the', 'direction', 'of', 'the', 'core', 'deviation,', '$n_y(l/r)$,', 'i.e.,', '$k_s', '=', '\\\\mu_0', 'm_0^2', 'r', '\\\\,', 'n_y(l/r)$,', 'where', '$r$', 'and', '$l$', 'are', 'the', 'radius', 'and', 'the', 'thickness', 'of', 'the', 'cylinder,', 'respectively.', 'our', 'results', 'show', 'that', 'the', 'term', 'of', 'the', 'nontrivial', 'dipolar', 'energy', 'caused', 'by', 'the', 'charges', 'in', 'the', 'cylinder', 'mantle', 'can', 'be', 'replaced', 'by', 'a', 'simple', 'integral', '$e_s$', 'that', 'increases', 'the', 'efficiency', 'of', 'the', 'numerical', 'calculations', 'in', 'the', 'analytical', 'study', 'of', 'the', 'displacement', 'of', 'the', 'vortex', 'core', 'in', 'magnetic', 'vortices.', '11', 'optical-force-induced', 'circular', 'dichroism', 'in', 'the', 'surface', 'plasmon', 'resonance', 'of', 'single', 'nanocrystals', 'the', 'quantum-mechanical', 'theory', 'adequately', 'describes', 'optical', 'activity', 'in', 'small', 'molecules.', 'however,', 'the', 'simplified', 'one-electron', 'model', 'is', 'insufficient', 'to', 'describe', 'optical', 'activity', 'in', 'plasmonic', 'nanocrystals,', 'where', 'longitudinal', 'polarization', 'along', 'the', 'light', 'propagation', 'direction', 'is', 'crucial', 'at', 'the', 'nanometer', 'scale.', 'here,', 'the', 'experimental', 'observation', 'of', 'natural', 'circular', 'dichroism', 'in', 'the', 'surface', 'plasmon', 'resonances', 'of', 'spherical', 'gold,', 'silver,', 'and', 'copper', 'nanocrystals', 'in', 'solution', 'is', 'presented.', 'optical', 'forces', 'exert', 'on', 'the', 'nanoparticle', 'in', 'the', 'light', 'propagation', 'direction,', 'which', 'induces', 'longitudinal', 'polarization,', 'coupling', 'to', 'surface', 'plasmons,', 'and', 'optical', 'symmetry-breaking.', 'ellipticity', 'sign', 'indicates', 'that', 'dipolar', 'surface', 'plasmons', 'are', 'optically', 'left-handed', 'whereas', 'quadrupolar', 'surface', 'plasmons', 'are', 'optically', 'right-handed,', 'manifesting', 'the', 'conservation', 'of', 'orbital', 'angular', 'momentum', 'in', 'the', 'surface', 'plasmon', 'resonance.', 'the', 'plasmon-mode-dependent', 'ellipticity', 'sign', 'is', 'consistently', 'observed', 'for', 'anisotropic', 'nanocrystals', 'including', 'triangles,', 'octahedra,', 'nanorods,', 'and', 'core-shell', 'nanoparticles.', 'structural', 'effects', 'such', 'as', 'nanocrystal', 'assembly,', 'nanocrystal', 'shape,', 'and', 'plasmon-molecule', 'interaction', 'are', 'accessed.', 'the', 'classical', 'coupled-oscillator', 'model', 'adequately', 'describes', 'the', 'optomechanical', 'circular', 'dichroism.', 'this', 'study', 'demonstrates', 'a', 'helical', 'resonance', 'of', 'surface', 'plasmons', 'in', 'the', 'structurally', 'achrial', 'nanocrystals', 'by', 'asymmetry', 'in', 'the', 'longitudinal', 'polarization,', 'which', 'will', 'impact', 'on', 'hot-electron', 'generation,', 'nonlinear', 'optical', 'response,', 'and', 'metamaterial', 'functionality.', '12', 'au', 'nanoparticles', 'as', 'nuclei', 'for', 'defect', 'formation', 'in', 'memristive', 'srtio3', 'thin', 'films', 'we', 'investigated', 'the', 'possibility', 'to', 'tune', 'the', 'local', 'switching', 'properties', 'of', 'memristive', 'crystalline', 'srtio3', 'thin', 'films', 'by', 'inserting', 'nanoscale', 'defect', 'nucleation', 'centers.', 'for', 'that', 'purpose,', 'we', 'employed', 'chemically', 'synthesized', 'au', 'nanoparticles', 'deposited', 'on', 'the', 'nb', 'doped', 'srtio3', 'single', 'crystal', 'substrates', 'as', 'a', 'defect', 'formation', 'template', 'for', 'the', 'subsequent', 'growth', 'of', 'srtio3.', 'we', 'studied', 'in', 'detail', 'the', 'resulting', 'microstructure', 'and', 'the', 'local', 'conducting', 'and', 'switching', 'properties', 'of', 'the', 'srtio3', 'thin', 'films.we', 'worked', 'out', 'that', 'the', 'au', 'nanoparticles', 'float', 'to', 'the', 'srtio3', 'surface', 'during', 'growth,', 'leaving', 'behind', 'a', 'distorted', 'thin', 'film', 'region', 'in', 'their', 'vicinity.', 'by', 'employing', 'conductive-tip', 'atomic', 'force', 'microscopy,', 'these', 'distorted', 'srtio3', 'regions', 'are', 'identified', 'as', 'sites', 'of', 'preferential', 'resistive', 'switching.', 'these', 'findings', 'can', 'be', 'attributed', 'to', 'the', 'enhanced', 'oxygen', 'exchange', 'reaction', 'at', 'the', 'surface', 'in', 'these', 'defective', 'regions.', '13', 'wear', 'characteristics', 'of', 'tialn', 'coated', 'on', 'hss', 'tool', 'steel', 'bythe', 'machining', 'of', 'aisi', '410', 'steel', 'in', 'this', 'study,', 'the', 'ti0.4al0.4n', 'coatings', 'were', 'produced', 'by', 'physical', 'vapor', 'deposition', '(pvd)', 'on', 'hsssingle', 'point', 'cutting', 'tool.', 'the', 'coating', 'phase', 'composition', 'and', 'microstructure', 'were', 'investigated', 'with', 'x-raydiffraction', '(xrd)', 'and', 'scanning', 'electron', 'microscopy', '(sem)', '(with', 'eds', 'attachment).', 'the', 'wear', 'behaviorand', 'cutting', 'performance', 'of', 'the', 'uncoated', 'and', 'ti0.4al0.4n', 'coated', 'tool', 'at', 'room', 'temperature', 'wereinvestigated', 'under', 'dry', 'condition.', 'turning', 'tests', 'were', 'carried', 'out', 'on', 'both', 'uncoated', 'and', 'ti0.4al0.4n', 'coatedhss', 'single', 'point', 'cutting', 'tool', 'in', 'aisi410', 'steel', 'turning', 'under', 'dry', 'conditions,', 'with', 'the', 'diverse', 'depths', 'of', 'cut0.5mm,', '1mm', 'and', '1.5', 'mm', 'at', 'a', 'constant', 'work', 'piece', 'rotating', 'velocity', 'of', '0.65m/s.', 'the', 'tribological', 'andmechanical', 'properties', 'of', 'coated', 'pin', 'were', 'characterized', 'by', 'pin-on-disc', 'and', 'nanoindentation', 'test.', 'theresult', 'showed', 'that', 'ti0.4al0.4n', 'coating', 'had', 'higher', 'hardness', 'than', 'uncoated', 'tool', 'due', 'to', 'its', 'smaller', 'grainsize.', 'cutting', 'performance', 'of', 'the', 'hss', 'single', 'point', 'cutting', 'tool', 'was', 'improved', 'with', 'the', 'covering', 'ofti0.4al0.4n', 'coating', 'with', 'at', 'least', '2', 'times', 'of', 'cutting', 'life.', 'no', 'spalling', 'was', 'occurred', 'after', 'the', 'cutting', 'tests', 'forti0.4al0.4n', 'coated', 'hss', 'single', 'point', 'cutting', 'tool.', 'the', 'more', 'pits', 'and', 'grooving', 'region', 'were', 'established', 'onthe', 'uncoated', 'tool.', 'this', 'result', 'exhibits', 'that', 'ti0.4al0.4n', 'coating', 'performed', 'good', 'adhesion', 'and', 'abrasivewear', 'resistance,', 'cutting', 'performance', 'and', 'longer', 'tool', 'life', 'than', 'uncoated', 'tool.', '14', 'experimental', 'investigation', 'of', 'convective', 'heat', 'transfer', 'coefficient', 'in', 'parabolic', 'collector', 'using', 'nanofluids', 'the', 'performance', 'of', 'the', 'collector', 'is', 'improved', 'using', 'nanofluid', 'which', 'improves', 'the', 'overall', 'performance', 'of', 'the', 'parabolic', 'collector.', 'in', 'the', 'present', 'analysis,', 'the', 'use', 'of', 'aluminum', 'and', 'copper', 'tube', 'as', 'a', 'vacuum', 'absorber', 'pipe', 'with', 'al2o3/water,', 'cuo/water', 'nanofluid', ',', 'and', 'water', 'as', 'a', 'base', 'fluid', 'to', 'determine', 'the', 'performance', 'characteristic', 'of', 'temperature,', 'efficiency,', 'and', 'heat', 'transfer', 'coefficient.', 'the', 'experimentation', 'performed', 'by', 'taking', '(0.1', '%', 'vol.', 'concentration)', 'cuo/water', 'and', 'al2o3/water', 'nanofluid', 'on', 'copper', '&', 'aluminum', 'pipe', 'for', 'the', 'reynolds', 'number', 'of', '3400,', '4500', '&', '5600', 'respectively.', 'from', 'the', 'results', 'it', 'is', 'clear', 'that', 'with', 'the', 'use', 'of', 'nanofluid,', 'the', 'efficiency', 'of', 'the', 'parabolic', 'collector', 'is', 'improved', 'by', '10-25%', 'than', 'the', 'base', 'fluid,', 'the', 'efficiency', 'increases', '(%)', 'for', 'copper', 'pipe', 'with', 'cuo/water', 'is', '91.42%,', '84.34%,', '79.90', '%', 'for', 'the', 'low', 'reynolds', 'number', 'of', 'the', 'higher.', 'the', 'heat', 'transfer,', 'enhanced', 'the', 'performance', 'of', 'the', 'copper', 'pipe', 'with', 'cuo/water', 'nanofluid,', 'which', 'varies', 'from', '87.98%,', '63.70', '%,', 'and', '48.72', '%', 'of', 'the', 'increase', 'in', 'reynolds', 'number.', 'from', 'the', 'result,', 'it', 'is', 'clear', 'that', 'the', 'heat', 'transfer', 'enhancement', 'at', 'low', 'flow', 'rate', 'shows', 'the', 'best', 'result', 'as', 'compared', 'to', 'the', 'other', 'cases.', 'the', 'percentage', 'increase', 'at', 'the', 'outlet', 'of', 'absorber', 'pipe,', 'in', 'case', 'of', 'copper', 'pipe', 'with', 'cuo/water', 'nanofluid', 'is', '53.85', '%', 'as', 'compared', 'with', 'other', 'cases', 'of', 'experimentation', 'and', 'different', 'flow', 'rate', 'of', 'nanofluid', 'inside', 'the', 'tubes.', 'from', 'the', 'experimentation,', 'it', 'is', 'also', 'concluded', 'that', 'the', 'friction', 'factor', 'decreases', 'with', 'the', 'increase', 'in', 'flow', 'rates.', '15', 'thick', 'film', 'deposition', 'from', 'supersonic', 'impact', 'of', 'monosized', 'ag', 'nanoparticles', 'we', 'describe', 'the', 'use', 'of', 'the', 'laser', 'ablation', 'of', 'microparticle', 'aerosols', 'process', 'to', 'deposit', 'patterned', 'thick', 'films', 'of', 'ag', 'from', 'nanoparticles', 'at', 'high', 'velocities', 'and', 'study', 'the', 'effects', 'of', 'varying', 'the', 'nanoparticle', 'impacting', 'velocity,', 'while', 'fixing', 'the', 'nanoparticle', 'size.', 'it', 'is', 'shown', 'that', 'the', 'relative', 'height', 'of', 'the', 'deposits', 'and', 'the', 'impacting', 'velocity', 'influence', 'the', 'microstructure,', 'with', 'higher', 'heights', 'leading', 'to', 'greater', 'porosity.', 'using', 'molecular', 'dynamics', 'simulations,', 'a', 'critical', 'normal', 'impacting', 'velocity', 'of', '600', 'm/s', 'for', 'a', '6', 'nm', 'particle', 'was', 'calculated.', 'a', 'model', 'was', 'developed', 'to', 'explain', 'the', 'influence', 'of', 'relative', 'heights', 'and', 'impacting', 'velocity', 'on', 'porosity.', '16', 'nonlinear', 'constitutive', 'models', 'for', 'nano-scale', 'heat', 'conduction', 'we', 'present', 'a', 'rigorous', 'approach', 'that', 'leads,', 'from', 'a', 'many-particle', 'description,', 'to', 'a', 'nonlinear,', 'stochastic', 'constitutive', 'relation', 'for', 'the', 'modeling', 'of', 'transient', 'heat', 'conduction', 'processes', 'at', 'nanoscale.', 'by', 'enforcing', 'statistical', 'consistency,', 'in', 'that', 'the', 'statistics', 'of', 'the', 'local', 'energy', 'is', 'consistentswith', 'that', 'from', 'an', 'all-atom', 'description,', 'we', 'identify', 'the', 'driving', 'force', 'as', 'well', 'as', 'the', 'model', 'parameters', 'in', 'these', 'generalized', 'constitutive', 'models.', '17', 'an', 'ultra-compact', 'low', 'temperature', 'scanning', 'probe', 'microscope', 'for', 'magnetic', 'felds', 'above', '30', 't', 'we', 'present', 'the', 'design', 'of', 'a', 'highly', 'compact', 'high', 'field', 'scanning', 'probe', 'microscope', '(hf-spm)', 'for', 'operation', 'at', 'cryogenic', 'temperatures', 'in', 'an', 'extremely', 'high', 'magnetic', 'field,', 'provided', 'by', 'a', 'water-cooled', 'bitter', 'magnet', 'able', 'to', 'reach', '38', 't.', 'the', 'hf-spm', 'is', '14', 'mm', 'in', 'diameter:', 'an', 'attocube', 'nano-positioner', 'controls', 'the', 'coarse', 'approach', 'of', 'a', 'piezo', 'resistive', 'afm', 'cantilever', 'to', 'a', 'scanned', 'sample.', 'the', 'bitter', 'magnet', 'constitutes', 'an', 'extreme', 'environment', 'for', 'spm', 'due', 'to', 'the', 'high', 'level', 'of', 'vibrational', 'noise;', 'the', 'bitter', 'magnet', 'noise', 'at', 'frequencies', 'up', 'to', '300', 'khz', 'is', 'characterized', 'and', 'noise', 'mitigation', 'methods', 'are', 'described.', 'the', 'performance', 'of', 'the', 'hf-spm', 'is', 'demonstrated', 'by', 'topographic', 'imaging', 'and', 'noise', 'measurements', 'at', 'up', 'to', '30', 't.', 'additionally,', 'the', 'use', 'of', 'the', 'spm', 'as', 'a', 'three-dimensional', 'dilatometer', 'for', 'magnetostriction', 'measurements', 'is', 'demonstrated', 'via', 'measurements', 'on', 'a', 'magnetically', 'frustrated', 'spinel', 'sample.', '18', 'nonlinear', 'dynamical', 'analysis', 'of', 'cu-doped', 'zno', 'nanoparticles', '(nps)', 'for', 'biological', 'applications', 'since', 'zno', 'based', 'nanoparticles', 'have', 'variety', 'of', 'nanostructures,', 'tools', 'of', 'non-linear', 'dynamical', 'theory', '(nld)', 'have', 'been', 'used', 'successfully', 'in', 'the', 'present', 'work', 'to', 'analyze', 'the', 'xrd', 'time', 'series,', 'a', 'priori', 'knowledge', 'helpful', 'to', 'come', 'up', 'with', 'basic', 'understanding', 'about', 'the', 'nano', 'particles', 'formed.', 'cu-doped', 'zno', 'nanosystems', 'are', 'analyzed,', 'first', 'by', 'estimating', 'correlation', 'dimension', '(cd),', 'in', 'order', 'to', 'quantify', 'the', 'low-dimensional', 'chaotic', 'behavior,', 'shown', 'by', 'the', 'nanosystems', 'through', 'the', 'xrd', 'time', 'series.', 'quantitative', 'information', 'concerning', 'the', 'preferential', 'orientation', 'of', 'crystallites', 'is', 'also', 'obtained', 'from', 'the', 'texture', 'coefficient', '(tc)', 'of', 'different', 'planes', 'of', 'the', 'particles', 'formed.', 'it', 'has', 'also', 'been', 'verified', 'that', 'the', 'orientations', 'of', 'the', 'crystallites', 'as', 'well', 'as', 'their', 'size', 'can', 'be', 'controlled', 'by', 'changing', 'the', 'dopant', 'percentage.', 'the', 'numerical', 'values', 'of', 'the', 'cd,', 'tc,', 'and', 'crystallite', 'size', 'of', 'different', 'samples', 'are', 'obtained', 'and', 'used', 'for', 'analyzing', 'the', 'over-all', 'behavior', 'of', 'the', 'of', 'crystallites', 'formed.', 'lacunarity,', 'as', 'a', 'geometrical', 'scale', 'dependent', 'measure', 'of', 'texture,', 'is', 'also', 'used', 'analyze', 'the', 'images', 'of', 'zone', 'of', 'inhibition', '(zoi),', 'a', 'biological', 'parameter', 'to', 'quantify', 'the', 'impact', 'of', 'anti-bacterial', 'nanoparticles', 'in', 'case', 'of', 'gram-negative', 'e', 'coli', 'and', 'gram-positive', 's', 'aureus', 'pathogens.', 'it', 'is', 'also', 'confirmed', 'for', 'the', 'first', 'time', 'that', 'the', 'basic', 'xrd', 'data', 'from', 'the', 'nanoparticles', 'may', 'be', 'used', 'as', 'a', 'marker', 'to', 'predict', 'desired', 'surface', 'features', 'of', 'the', 'nanoparticles', 'to', 'be', 'obtained', 'for', 'biological', 'application,', 'such', 'as,', 'detecting', 'specific', 'pathogens.', '19', 'a', 'non-destructive', 'method', 'to', 'calibrate', 'the', 'torsional', 'spring', 'constant', 'of', 'atomic', 'force', 'microscope', 'cantilevers', 'in', 'viscous', 'environments', 'calibration', 'of', 'the', 'torsional', 'spring', 'constant', 'of', 'atomic', 'force', 'microscopy', 'cantilevers', 'is', 'fundamental', 'to', 'a', 'range', 'of', 'applications,', 'from', 'nanoscale', 'friction', 'and', 'lubrication', 'measurements', 'to', 'the', 'characterization', 'of', 'micro-electromechanical', 'systems', 'and', 'the', 'response', 'of', 'biomolecules', 'to', 'external', 'stimuli.', 'existing', 'calibration', 'methods', 'are', 'either', 'time', 'consuming', 'and', 'destructive', '(ex', 'situ', 'static', 'approaches),', 'or', 'rely', 'on', 'models', 'using', 'the', 'frequency', 'and', 'quality', 'factor', '(q-factor)', 'of', 'the', 'cantilever', 'torsional', 'resonance', 'as', 'input', 'parameters', '(in', 'situ', 'dynamical', 'approaches).', 'while', 'in', 'situ', 'approaches', 'are', 'usually', 'preferred', 'for', 'their', 'easy', 'implementation', 'and', 'preservation', 'of', 'the', 'cantilever,', 'their', 'dependence', 'on', 'the', 'torsional', 'resonance', 'q-factor', 'renders', 'calibration', 'in', 'highly', 'viscous', 'environments', 'challenging.', 'this', 'is', 'problematic,', 'for', 'example,', 'in', 'many', 'nanoscale', 'tribological', 'applications.', 'here,', 'we', 'propose', 'a', 'calibration', 'method', 'that', 'does', 'not', 'depend', 'on', 'the', 'cantilever', 'torsional', 'q-factor,', 'and', 'show', 'how', 'the', 'cantilever', 'deflection', 'can', 'be', 'converted', 'into', 'a', 'lateral', 'force.', 'the', 'method', 'is', 'tested', 'with', 'six', 'cantilevers', 'of', 'different', 'shapes', 'and', 'material', 'composition,', 'and', 'in', 'six', 'fluid', 'media.', 'the', 'derived', 'spring', 'constants', 'are', 'compared', 'with', 'predictions', 'from', 'existing', 'methods,', 'demonstrating', 'a', 'higher', 'precision,', 'in', 'particular', 'for', 'highly', 'viscous', 'liquids.', '20', 'a', 'comparative', 'investigation', 'on', 'effects', 'of', 'nanoparticles', 'on', 'characteristics', 'of', 'natural', 'esters', '-', 'based', 'nanofluids', 'the', 'effects', 'of', 'transformer', 'oil', 'based', 'nanofluids', 'have', 'been', 'broadly', 'investigated', 'and', 'showcased', 'a', 'magnificent', 'improvement', 'in', 'performance.', 'but', 'in', 'natural', 'esters', 'based', 'nanofluids', 'characteristic', 'performance', 'persist', 'virtually', 'unexplored', 'and', 'still', 'there', 'is', 'a', 'room', 'for', 'investigation.', 'this', 'work', 'aims', 'to', 'examine', 'the', 'effect', 'of', 'three', 'dissimilar', 'types', 'of', 'nanoparticles', 'such', 'as', 'aluminum', 'oxide', '(al2o3),', 'boron', 'nitrate', '(bn)', 'and', 'ferrous', 'ferric', 'oxide', '(fe3o4)', 'at', 'various', 'volume', 'concentrations', 'on', 'the', 'characteristic', 'performance', 'of', 'natural', 'esters.', 'honge', 'oil', '(ho),', 'neem', 'oil', '(no),', 'mustard', 'oil', '(mo)', 'and', 'punna', 'oil', '(po)', 'is', 'considered', 'as', 'base', 'fluid', 'for', 'investigation.', 'the', 'characteristic', 'performances', 'of', 'base', 'fluids', 'are', 'tested', 'before', 'and', 'after', 'blending', 'of', 'nanoparticles', 'as', 'per', 'standards.', 'the', 'findings', 'are', 'quite', 'promising', 'because', 'of', 'the', 'performance', 'of', 'nanofluids', 'shows', 'a', 'significant', 'improvement.', '21', 'approach', 'of', 'a', 'nanoparticle', 'towards', 'plasma', 'membrane:', 'how', 'van', 'der', 'waals', 'effect', 'dominates', 'electrostatics', 'in', 'distinguishing', 'between', 'a', 'gold', 'and', 'silica', 'nanoparticle?', 'making', 'a', 'nanoparticle', '(np)', 'approach', 'and', 'interact', 'with', 'a', 'plasma', 'membrane', '(pm)', 'through', 'the', 'receptor-ligand', '(rl)', 'interaction', 'is', 'key', 'for', 'applications', 'like', 'targeted', 'drug', 'delivery,', 'cellular', 'imaging,', 'and', 'theranostics.', 'in', 'this', 'letter,', 'we', 'show', 'that', 'van', 'der', 'waals', '(vdw)', 'interactions', 'dominate', 'the', 'electrostatics', 'ensuring', 'that', 'a', 'gold', 'np', '(gnp)', 'approached', 'the', 'pm', 'more', 'spontaneously', 'as', 'compared', 'to', 'a', 'silica', 'np', '(snp).', 'the', 'negative', '&sigma;', '(charge', 'density)', 'of', 'a', 'pm', 'induces', 'a', 'negative', 'electrostatic', 'potential', 'at', 'the', 'surface', 'of', 'the', 'approaching', 'gnp', 'and', 'snp;', 'however,', 'there', 'is', 'a', 'little', 'difference', 'between', 'these', 'induced', 'values', 'due', 'to', 'a', 'small', 'electric', 'double', 'layer', 'at', 'physiological', 'salt', 'concentration', '(c&infin;).', 'hence', 'there', 'is', 'little', 'difference', 'in', 'the', 'electrostatic', 'repulsion', 'between', 'the', 'two', 'cases,', 'while', 'the', 'pm-np', 'vdw', 'attraction', 'is', 'much', 'more', 'for', 'the', 'gnp', 'as', 'a', 'result', 'of', 'a', 'larger', 'hamaker', 'constant.', 'therefore,', 'in', 'comparison', 'to', 'the', 'gnp,', 'the', 'snp', 'would', '(a)', 'undergo', 'a', 'promotion', 'of', 'specific', 'adhesion', '(sa)', 'and', 'a', 'prevention', 'of', 'non-specific', 'adhesion', '(nsa)', 'simultaneously', 'across', 'larger', '&sigma;&minus;', 'c&infin;', 'phase', 'space', 'including', 'physiological', 'conditions,', '(b)', 'necessitate', 'a', 'larger', 'length', 'of', 'the', 'ligand', 'to', 'trigger', 'spontaneous', 'rl', 'interaction,', 'and', '(c)', 'require', 'a', 'larger', 'driving', 'force', 'for', 'force-driven', 'rl', 'interactions.', '22', 'fluence', 'and', 'pulse', 'number', 'dependent', 'surface', 'nanostructures', 'induced', 'by', 'femtosecond', 'laser', 'on', 'srtio3', 'srtio3', '(sto)', 'is', 'a', 'key', 'perovskite', 'oxide', 'with', 'fascinating', 'properties', 'in', 'electronics', 'and', 'optoelectronics.', 'the', 'formation', 'of', 'surface', 'nanostructures', 'is', 'an', 'ideal', 'platform', 'to', 'study', 'femtosecond', 'laser-sto', 'interaction.', 'the', 'generation', 'and', 'evolution', 'of', 'surface', 'nanostructures', 'induced', 'by', 'femtosecond', 'laser', 'on', 'sto', 'surface', 'have', 'been', 'studied', 'experimentally.', 'the', 'surface', 'nanostructures', 'show', 'distinct', 'features', 'with', 'a', 'clear', 'fluence', 'and', 'pulse', 'number', 'dependence.', 'unlike', 'the', 'regular', 'ripples', 'which', 'either', 'parallel', 'or', 'perpendicular', 'to', 'the', 'laser', 'polarization,', 'ripples', 'formed', 'on', 'sto', 'surface', 'after', 'irradiated', 'with', '4', 'laser', 'pulses', 'coexist', 'in', 'both', 'directions', 'and', 'cover', 'all', 'the', 'structured', 'area.', 'when', 'further', 'increase', 'the', 'pulse', 'number,', 'ripples', 'parallel', 'to', 'the', 'laser', 'polarization', 'dominates', 'at', 'lower', 'fluence', 'regime', 'while', 'ripples', 'perpendicular', 'to', 'the', 'laser', 'polarization', 'are', 'the', 'only', 'surface', 'structures', 'formed', 'at', 'higher', 'fluence', 'regime.', 'the', 'periodicity', 'of', 'ripples', 'perpendicular', 'to', 'the', 'laser', 'polarization', 'decreases', 'with', 'more', 'laser', 'pulse', 'irradiation', 'while', 'the', 'periodicity', 'of', 'the', 'ripples', 'parallel', 'to', 'the', 'laser', 'polarization', 'show', 'different', 'behavior.', 'fdtd', '(finite-difference', 'time-domain)', 'method', 'and', 'sipe-drude', 'model', 'have', 'been', 'adopted', 'to', 'analyze', 'the', 'energy', 'deposition', 'on', 'sto', 'surface.', 'the', 'results', 'show', 'that', 'the', 'different', 'energy', 'deposition', 'upon', 'the', 'different', 'excitation', 'levels,', 'which', 'is', 'caused', 'by', 'the', 'incubation', 'effect', 'and', 'the', 'local', 'enhancement', 'of', 'energy', 'absorption,', 'leads', 'to', 'the', 'pulse', 'number', 'and', 'fluence', 'dependence', 'of', 'the', 'surface', 'structures.', 'as', 'the', 'number', 'of', 'the', 'pulse', 'increasing,', 'the', 'feedback', 'effect', 'plays', 'a', 'major', 'role', 'gradually', 'and', 'determines', 'the', 'formation', 'and', 'evolution', 'of', 'the', 'surface', 'nanostructures.', '23', 'simulation', 'and', 'optimization', 'of', 'a', 'new', 'electrochromic', 'with', '(wo3+ag)', 'nanocomposit', 'thin', 'film-assisted', 'cooling', 'system', 'on', 'energy', 'saving', 'in', 'the', 'past', 'years,', 'many', 'studies', 'have', 'been', 'done', 'in', 'the', 'field', 'of', 'smart', 'windows', 'and', 'solar', 'cells,', 'the', 'most', 'important', 'of', 'these', 'were', 'electrochromic', 'devices', '(ecd).', 'this', 'study', 'was', 'investigated', 'the', 'optimization', 'of', 'thermal', 'energy', 'consumption', 'by', 'using', 'electrochromic', 'components', 'with', 'a', 'new', 'nanocomposit', 'layer', '(wo3+ag)', 'in', 'a', 'larger', 'size', '(window)', 'for', 'a', 'room', 'with', 'a', 'educational', 'application', 'for', 'five', 'cities', 'with', 'different', 'climates', 'conditions', 'in', 'iran', '(yazd,', 'tehran,', 'bandar', 'abbas,', 'tabriz', 'and', 'sari).', 'for', 'this', 'simulation', 'platform,', 'the', 'software', 'has', 'been', 'implemented', 'in', '(energy', 'plus).', 'this', 'feasibility', 'study', 'has', 'been', 'modeled', 'by', '(designbuilder)', 'software', 'and', 'has', 'been', 'reported', 'the', 'reduction', 'of', 'thermal', 'energy', 'consumption', 'in', 'all', 'climates', 'in', 'iran', '(hot', 'and', 'dry,', 'warm', 'and', 'semi-humid,', 'warm', 'and', 'wet,', 'moderate', 'and', 'dry', 'and', 'mild', 'and', 'humid.).', 'also,', 'four', 'strategies', 'are', 'considered', 'for', 'better', 'comparison.', 'the', 'first', 'strategy', 'is', 'the', 'use', 'of', 'common', 'double-glazed', 'windows,', 'the', 'second', 'to', 'fourth', 'strategy,', 'and', 'the', 'use', 'of', 'the', 'electrochromic', 'window', 'in', 'three', 'different', 'modes;', 'bleached', 'mode', '(off),', 'colored', 'mode', '(on),', 'and', 'switchable', 'mode', '(controlled', 'beneath', 'comfort', 'conditions).', 'the', 'third', 'and', 'fourth', 'strategy', 'has', 'shown', 'a', 'reduction', 'in', 'thermal', 'energy', 'consumption', 'in', 'different', 'climates', 'from', '25', 'to', '45%', 'relative', 'to', '(typical', 'windows).', 'the', 'best', 'result', 'of', 'cooling', 'energy', 'consumption', 'was', 'also', 'in', 'tehran.', 'so,', 'for', 'this', 'climate,', 'the', 'average', 'energy', 'consumption', 'dropped', 'to', '34%', 'for', 'the', 'warm', 'months', 'of', 'the', 'year', 'and', 'even', '42%', 'for', 'the', 'warmest', 'month', 'of', 'the', 'year', '(august).', '24', 'enhancing', 'intrinsic', 'detection', 'efficiency', 'of', 'superconducting', 'nanowire', 'single-photon', 'detectors', 'via', 'helium', 'ion', 'irradiation', 'realizing', 'an', 'nbn', 'superconducting', 'nanowire', 'single-photon', 'detector', '(snspd)', 'with', 'a', '100%', 'intrinsic', 'detection', 'efficiency', '(ide)', 'at', 'the', 'near-infrared', 'wavelengths', 'is', 'still', 'challenging.', 'herein,', 'we', 'developed', 'a', 'post-processing', 'method', 'to', 'increase', 'the', 'ide', 'of', 'nbn', 'snspds', 'to', 'near', 'unity', 'using', 'a', '20', 'kev', 'helium', 'ion', 'irradiation.', 'the', 'ide', 'enhancement', 'was', 'achieved', 'owing', 'to', 'the', 'ion-induced', 'reduction', 'of', 'the', 'superconducting', 'energy', 'gap', 'and', 'the', 'electron', 'density', 'of', 'states', 'at', 'the', 'fermi', 'level,', 'determined', 'with', 'the', 'electrical', 'and', 'magnetic', 'transport', 'measurements.', 'the', 'change', 'in', 'optical', 'absorptance', 'of', 'the', 'irradiated', 'snspd', 'was', 'negligible', 'as', 'confirmed', 'by', 'the', 'measured', 'optical', 'reflectance', 'and', 'system', 'detection', 'efficiency', '(sde).', 'benefited', 'with', 'the', 'ide', 'enhancement,', 'the', 'sde', 'of', 'an', 'irradiated', 'device', 'was', 'significantly', 'increased', 'from', '49%', 'to', '92%', 'at', '2.2', 'k', 'for', 'a', '1550', 'nm', 'wavelength.', '25', 'mixed', 'convection', 'characteristics', 'in', 'a', 'baffeled', 'u-shaped', 'lid-driven', 'cavity', 'in', 'the', 'presence', 'of', 'magnetic', 'field', 'in', 'the', 'present', 'study,', 'mixed', 'convection', 'of', 'cuo/water', 'nanofluid', 'in', 'a', 'lid-driven', 'u-shaped', 'enclosure', 'filled', 'with', 'a', 'baffle', 'is', 'studied', 'using', 'lattice', 'boltzmann', 'method', '(lbm).', 'the', 'bottom', 'wall', 'is', 'fixed', 'at', 'a', 'uniform', 'temperature', 'and', 'the', 'effect', 'of', 'magnetic', 'field', 'is', 'investigated.', 'kkl', '(koo-kleinstreuer-li)', 'model', 'is', 'used', 'to', 'get', 'the', 'effective', 'thermal', 'conductivity', 'and', 'viscosity', 'of', 'nanofluid.', 'in', 'this', 'model,', 'brownian', 'motion', 'of', 'nanoparticle', 'is', 'considered.', 'effect', 'of', 'hartmann', 'number,', 'richardson', 'number,', 'reynolds', 'number', 'and', 'nanoparticle', 'volume', 'fraction', 'on', 'streamlines,', 'isotherms', 'and', 'averaged', 'nusselt', 'number', 'have', 'been', 'examined.', 'the', 'results', 'revealed', 'that', 'at', 're', '=', '100,', 'the', 'nanofluid', 'strategy', 'has', 'a', 'detrimental', 'effect', 'on', 'the', 'nusselt', 'number', 'when', 'the', 'richardson', 'number', 'is', 'high.', 'as', 'reynolds', 'number', 'increases,', 'the', 'average', 'nusselt', 'number', 'increases', 'but', 'adverse', 'trends', 'can', 'be', 'observed', 'when', 'the', 'hartmann', 'numbers', 'increases.', 'the', 'effect', 'of', 'increasing', 'reynolds', 'number', 'on', 'the', 'heat', 'transfer', 'rate', 'is', 'more', 'conspicuous', 'at', 'higher', 'richardson', 'numbers.', '26', 'effect', 'of', 'sputtering', 'conditions', 'on', 'the', 'structure', 'and', 'magnetic', 'properties', 'of', 'self-assembled', 'bifeo3-cofe2o4', 'nanocomposite', 'thin', 'films', 'this', 'article', 'describes', 'the', 'growth', 'of', 'self-assembled', 'spinel-perovskite', 'nanocomposite', 'thin', 'films', 'using', 'a', 'sputtering', 'technique.', 'vertically', 'aligned', 'nanocomposites,', 'consisting', 'of', 'cofe2o4', 'grown', 'as', 'pillars', 'in', 'a', 'bifeo3', 'matrix,', 'were', 'observed', 'under', 'optimum', 'growth', 'conditions.', 'the', 'magnetic', 'hysteresis', 'loops', 'of', 'these', 'nanocomposites', 'showed', 'a', 'strong', 'out-of-plane', 'anisotropy.', 'the', 'physical', 'properties', 'of', 'these', 'nanocomposites', 'were', 'dramatically', 'changed', 'by', 'modulating', 'the', 'growth', 'conditions,', 'which', 'affected', 'the', 'growth', 'rates', 'and', 'strain', 'states.', 'finally,', 'we', 'provide', 'a', 'mapping', 'that', 'summarizes', 'the', 'structure', 'and', 'magnetic', 'anisotropy', 'changes', 'that', 'occur', 'with', 'growth', 'rate,', 'for', 'optimizing', 'synthesis', 'conditions', 'for', 'self-assembled', 'oxide', 'nanostructures.', '27', 'polydimethylsiloxane', '(pdms):', 'optical', 'constants', 'from', '191', '&ndash;', '1688', 'nm', '(0.735', '&ndash;', '6.491', 'ev)', 'by', 'spectroscopic', 'ellipsometry', 'herein', 'we', 'report', 'the', 'optical', 'function(s)', 'of', 'pdms', 'as', 'determined', 'from', 'reflection', 'spectroscopic', 'ellipsometry', '(se)', 'and', 'transmission', 'ultraviolet-visible', 'data.', 'these', 'functions', 'were', 'obtained', 'from', '191', 'to', '1688', 'nm', 'from', 'two', 'commercial', 'samples', 'of', 'liquid', 'pdms', '(pdms700', 'and', 'pdms2000)', 'that', 'had', 'molecular', 'weights', 'of', '700-1500', 'g/mol', 'and', '2000-3500', 'g/mol,', 'respectively.', 'both', 'samples', 'were', 'linear', 'polymers', 'terminated', 'with', 'silanol', 'groups.', 'the', 'optical', 'functions', 'determined', 'from', 'the', 'two', 'materials', 'were', 'essentially', 'identical.', 'in', 'addition', 'to', 'analyzing', 'the', 'data', 'from', 'the', 'individual', 'samples,', 'the', 'se', 'data', 'from', 'the', 'samples', 'were', 'combined', 'in', 'a', 'multi-sample', 'analysis', '(msa).', 'both', 'the', 'reflection', 'and', 'transmission', 'measurements', 'required', 'special', 'experimental', 'considerations.', 'for', 'the', 'reflection', 'se', 'measurements,', 'these', 'included', 'roughening', '(frosting)', 'the', 'inside', 'of', 'the', 'vessel', 'that', 'held', 'the', 'pdms', 'and', 'the', 'need', 'to', 'level', 'the', 'instrument', 'instead', 'of', 'the', 'samples.', 'the', 'transmission', 'measurements', 'were', 'obtained', 'via', 'a', 'dual', 'cuvette', 'approach', 'that', 'eliminated', 'the', 'effects', 'of', 'the', 'cuvettes', 'and', 'their', 'interfaces.', 'because', 'both', 'samples', 'of', 'pdms', 'were', 'transparent', 'over', 'the', 'measured', 'wavelength', 'range,', 'and', 'because', 'of', 'the', 'relatively', 'wide', 'wavelength', 'range', 'considered,', 'the', 'optical', 'functions', 'were', 'fit', 'with', 'a', 'sellmeier', 'model.', 'this', 'produced', 'a', 'good', 'fit', 'for', 'the', 'msa', 'with', 'a', 'mean', 'squared', 'error,', 'mse,', 'value', 'of', '1.24.', 'the', 'optical', 'functions', 'obtained', 'in', 'this', 'work', 'agreed', 'well', 'with', 'previously', 'reported', 'values.', 'for', 'example,', 'for', 'the', 'msa,', 'we', 'obtained', 'the', 'following', 'nx', 'values,', 'where', 'x', 'is', 'the', 'wavelength', 'in', 'nanometers:', 'n300', '=', '1.439,', 'n500', '=', '1.407,', 'and', 'n1000', '=', '1.395.', '28', 'experimental', 'observation', 'of', 'size-dependent', 'behavior', 'in', 'surface', 'energy', 'of', 'gold', 'nanoparticles', 'through', 'atomic', 'force', 'microscope', 'surface', 'energy', 'plays', 'a', 'key', 'role', 'in', 'the', 'physicochemical', 'interactions', 'of', 'materials', 'surfaces', 'and', 'it', 'is', 'closely', 'related', 'to', 'the', 'unique', 'properties', 'and', 'numerous', 'surface', 'functionalization', 'possibilities', 'of', 'gold', 'nanoparticles.', 'herein,', 'we', 'have', 'reported', 'an', 'atomic', 'force', 'microscopy', 'based', 'technique', 'to', 'measure', 'the', 'surface', 'energies', 'of', 'different', 'materials', 'under', 'the', 'peakforce', 'quantitative', 'nanomechanical', 'mapping', 'mode.', 'our', 'study', 'on', 'gold', 'nanoparticles', 'focuses', 'on', 'the', 'particles', 'with', 'diameters', 'ranging', 'from', '2', 'to', '14', 'nm.', 'the', 'experimental', 'results', 'indicate', 'a', 'clear', 'size-dependent', 'behavior', 'in', 'the', 'surface', 'energy', 'of', 'gold', 'nanoparticles', 'when', 'the', 'size', 'is', 'smaller', 'than', '5', 'nm,', 'and', 'the', 'smallest', 'gold', 'nanoparticle', 'displays', 'a', '3-fold', 'higher', 'surface', 'energy', 'compared', 'to', 'bulk', 'gold.', 'therefore,', 'our', 'experimental', 'results', 'provide', 'essential', 'evidence', 'that', 'can', 'lead', 'to', 'a', 'better', 'understanding', 'of', 'the', 'size-property', 'relations', 'allowing', 'for', 'process', 'design', 'in', 'gold', 'nanoparticles.']\n"
     ]
    }
   ],
   "source": [
    "words=text.split()\n",
    "words=[word.lower() for word in words]\n",
    "print(words)"
   ]
  },
  {
   "cell_type": "markdown",
   "metadata": {},
   "source": [
    "## 2) Tokenization using NLTK"
   ]
  },
  {
   "cell_type": "code",
   "execution_count": 91,
   "metadata": {},
   "outputs": [
    {
     "name": "stdout",
     "output_type": "stream",
     "text": [
      "1\tSubsonic Potentials in Ultra dense Plasmas\tThe existence of the subsonic dynamic potential for a test charge in extremely dense quantum plasmas is pointed out the first time where usually found supersonic potential is suppressed.\n"
     ]
    }
   ],
   "source": [
    "## 1. Split into sentences\n",
    "file=open('TEST_CORPUS.txt','rt')\n",
    "text=file.read()\n",
    "file.close()\n",
    "from nltk import sent_tokenize\n",
    "sent_tokens=sent_tokenize(text)\n",
    "print(sent_tokens[0])"
   ]
  },
  {
   "cell_type": "code",
   "execution_count": 92,
   "metadata": {},
   "outputs": [
    {
     "name": "stdout",
     "output_type": "stream",
     "text": [
      "['1', 'Subsonic', 'Potentials', 'in', 'Ultra', 'dense', 'Plasmas', 'The', 'existence', 'of', 'the', 'subsonic', 'dynamic', 'potential', 'for', 'a', 'test', 'charge', 'in', 'extremely', 'dense', 'quantum', 'plasmas', 'is', 'pointed', 'out', 'the', 'first', 'time', 'where', 'usually', 'found', 'supersonic', 'potential', 'is', 'suppressed', '.', 'The', 'dispersion', 'equation', 'of', 'Ion', 'Acoustic', 'Wave', '(', 'IAW', ')', 'in', 'relativistic', 'dense', 'plasmas', 'is', 'derived', 'on', 'employing', 'the', 'Quantum', 'Hydrodynamic', 'Model', '(', 'QHM', ')', '.', 'In', 'addition', ',', 'the', 'standard', 'model', 'of', 'wake', 'potential', 'is', 'hereafter', 'applied', 'for', 'the', 'derivation', 'of', 'dynamic', 'potential', 'of', 'the', 'test', 'particle', '.', 'The', 'quantized', 'relativistic', 'electrons', 'obey', 'Fermi', 'statistics', 'whereas', 'ions', 'contribute', 'classically', '.', 'It', 'is']\n"
     ]
    }
   ],
   "source": [
    "## 2. Split into words\n",
    "from nltk.tokenize import word_tokenize\n",
    "tokens = word_tokenize(text)\n",
    "print(tokens[:100])"
   ]
  },
  {
   "cell_type": "code",
   "execution_count": 93,
   "metadata": {},
   "outputs": [
    {
     "name": "stdout",
     "output_type": "stream",
     "text": [
      "['1', 'Subsonic', 'Potentials', 'in', 'Ultra', 'dense', 'Plasmas', 'The', 'existence', 'of', 'the', 'subsonic', 'dynamic', 'potential', 'for', 'a', 'test', 'charge', 'in', 'extremely', 'dense', 'quantum', 'plasmas', 'is', 'pointed', 'out', 'the', 'first', 'time', 'where', 'usually', 'found', 'supersonic', 'potential', 'is', 'suppressed', '.', 'The', 'dispersion', 'equation', 'of', 'Ion', 'Acoustic', 'Wave', '(', 'IAW', ')', 'in', 'relativistic', 'dense', 'plasmas', 'is', 'derived', 'on', 'employing', 'the', 'Quantum', 'Hydrodynamic', 'Model', '(', 'QHM', ')', '.', 'In', 'addition', ',', 'the', 'standard', 'model', 'of', 'wake', 'potential', 'is', 'hereafter', 'applied', 'for', 'the', 'derivation', 'of', 'dynamic', 'potential', 'of', 'the', 'test', 'particle', '.', 'The', 'quantized', 'relativistic', 'electrons', 'obey', 'Fermi', 'statistics', 'whereas', 'ions', 'contribute', 'classically', '.', 'It', 'is']\n"
     ]
    }
   ],
   "source": [
    "## 3. Removing the punctuation\n",
    "from nltk.tokenize import word_tokenize\n",
    "tokens = word_tokenize(text)\n",
    "print(tokens[:100])"
   ]
  },
  {
   "cell_type": "code",
   "execution_count": 94,
   "metadata": {},
   "outputs": [
    {
     "name": "stdout",
     "output_type": "stream",
     "text": [
      "['i', 'me', 'my', 'myself', 'we', 'our', 'ours', 'ourselves', 'you', \"you're\", \"you've\", \"you'll\", \"you'd\", 'your', 'yours', 'yourself', 'yourselves', 'he', 'him', 'his', 'himself', 'she', \"she's\", 'her', 'hers', 'herself', 'it', \"it's\", 'its', 'itself', 'they', 'them', 'their', 'theirs', 'themselves', 'what', 'which', 'who', 'whom', 'this', 'that', \"that'll\", 'these', 'those', 'am', 'is', 'are', 'was', 'were', 'be', 'been', 'being', 'have', 'has', 'had', 'having', 'do', 'does', 'did', 'doing', 'a', 'an', 'the', 'and', 'but', 'if', 'or', 'because', 'as', 'until', 'while', 'of', 'at', 'by', 'for', 'with', 'about', 'against', 'between', 'into', 'through', 'during', 'before', 'after', 'above', 'below', 'to', 'from', 'up', 'down', 'in', 'out', 'on', 'off', 'over', 'under', 'again', 'further', 'then', 'once', 'here', 'there', 'when', 'where', 'why', 'how', 'all', 'any', 'both', 'each', 'few', 'more', 'most', 'other', 'some', 'such', 'no', 'nor', 'not', 'only', 'own', 'same', 'so', 'than', 'too', 'very', 's', 't', 'can', 'will', 'just', 'don', \"don't\", 'should', \"should've\", 'now', 'd', 'll', 'm', 'o', 're', 've', 'y', 'ain', 'aren', \"aren't\", 'couldn', \"couldn't\", 'didn', \"didn't\", 'doesn', \"doesn't\", 'hadn', \"hadn't\", 'hasn', \"hasn't\", 'haven', \"haven't\", 'isn', \"isn't\", 'ma', 'mightn', \"mightn't\", 'mustn', \"mustn't\", 'needn', \"needn't\", 'shan', \"shan't\", 'shouldn', \"shouldn't\", 'wasn', \"wasn't\", 'weren', \"weren't\", 'won', \"won't\", 'wouldn', \"wouldn't\"]\n"
     ]
    }
   ],
   "source": [
    "## 4. Segreggating the stop words\n",
    "from nltk.corpus import stopwords\n",
    "stop_words=stopwords.words('english')\n",
    "print(stop_words)"
   ]
  },
  {
   "cell_type": "code",
   "execution_count": 95,
   "metadata": {},
   "outputs": [
    {
     "name": "stdout",
     "output_type": "stream",
     "text": [
      "['1', 'subson', 'potenti', 'in', 'ultra', 'dens', 'plasma', 'the', 'exist', 'of', 'the', 'subson', 'dynam', 'potenti', 'for', 'a', 'test', 'charg', 'in', 'extrem', 'dens', 'quantum', 'plasma', 'is', 'point', 'out', 'the', 'first', 'time', 'where', 'usual', 'found', 'superson', 'potenti', 'is', 'suppress', '.', 'the', 'dispers', 'equat', 'of', 'ion', 'acoust', 'wave', '(', 'iaw', ')', 'in', 'relativist', 'dens', 'plasma', 'is', 'deriv', 'on', 'employ', 'the', 'quantum', 'hydrodynam', 'model', '(', 'qhm', ')', '.', 'In', 'addit', ',', 'the', 'standard', 'model', 'of', 'wake', 'potenti', 'is', 'hereaft', 'appli', 'for', 'the', 'deriv', 'of', 'dynam', 'potenti', 'of', 'the', 'test', 'particl', '.', 'the', 'quantiz', 'relativist', 'electron', 'obey', 'fermi', 'statist', 'wherea', 'ion', 'contribut', 'classic', '.', 'It', 'is']\n"
     ]
    }
   ],
   "source": [
    "## 5. Stemming\n",
    "from nltk.tokenize import word_tokenize\n",
    "tokens = word_tokenize(text)\n",
    "\n",
    "from nltk.stem.porter import PorterStemmer\n",
    "porter = PorterStemmer()\n",
    "stemmed_words = [porter.stem(word) for word in tokens]\n",
    "print(stemmed_words[0:100])"
   ]
  },
  {
   "cell_type": "code",
   "execution_count": null,
   "metadata": {},
   "outputs": [],
   "source": []
  },
  {
   "cell_type": "markdown",
   "metadata": {},
   "source": [
    "## Import the packages"
   ]
  },
  {
   "cell_type": "code",
   "execution_count": 96,
   "metadata": {},
   "outputs": [],
   "source": [
    "import pandas as pd\n",
    "import numpy as np\n",
    "import warnings \n",
    "warnings.filterwarnings('ignore')"
   ]
  },
  {
   "cell_type": "markdown",
   "metadata": {},
   "source": [
    "## Reading the dataset"
   ]
  },
  {
   "cell_type": "code",
   "execution_count": 97,
   "metadata": {},
   "outputs": [
    {
     "name": "stdout",
     "output_type": "stream",
     "text": [
      "1\tSubsonic Potentials in Ultra dense Plasmas\tThe existence of the subsonic dynamic potential for a test charge in extremely dense quantum plasmas is pointed out the first time where usually found supersonic potential is suppressed. The dispersion equation of Ion Acoustic Wave(IAW) in relativistic dense plasmas is derived on employing the Quantum Hydrodynamic Model(QHM). In addition, the standard model of wake potential is hereafter applied for the derivation of dynamic potential of the test particle. The quantized relativistic electrons obey Fermi statistics whereas ions contribute classically. It is noticed that the oscillatory wake potential does exist at very small length scales. Its significant features are further analyzed on the varying magnetic field as well as the number density of plasma systems. It is found that the dynamic potential exists only with the condition $v_t&lt;C_s$ reflecting the subsonic region contrary to the usual $v_t&gt;C_s$ where $v_t$ is the test particle speed and $C_s$ is the acoustic speed defined with the Fermi temperature of the electrons. The work is significant in order to describe the structure formation in the astrophysical environment\n",
      "2\tOvertaking interaction of two weakly nonlinear acoustic solitons in plasmas at critical densities\tAcoustic solitons obtained through a reductive perturbation scheme are normallysgoverned by a Korteweg-de Vries (KdV) equation. In multispecies plasmas at critical densities the coefficient of the quadratic nonlinearity vanishes. Extending the analytic treatment then leads to a modified KdV (mKdV) equation, characterized by a cubic nonlinearity. This is even in the electrostatic potential and thus can admit solitons having opposite electrostatic polarities, in contrast to KdV solitons in plasmas which can only be of one polarity at a time. The original application of the KdV theory to surface waves on shallow water yielded only compressive solitons. To study the overtaking interactions between two solitons in the KdV case, the Hirota formalism had been applied to either two compressive or two rarefactive plasma modes, and can deal with more interacting waves because the KdV equation is completely integrable. This integrability property also holds for the mKdV equation in plasmas at critical densities, but the Hirota formalism for the mKdV equation is more complicated. This formalism can cover the overtaking interaction between a compressive and a rarefactive soliton, with the larger-amplitude and faster soliton overtaking the smaller-amplitude and slower soliton.sExamples of multispecies plasmas where this applies are given. In contrast, there is no Hirota formalism for head-on collisions, neither for the KdV nor mKdV equation.\n",
      "3\tBroadband Focusing Acoustic Lens Based on H-fractal Metamaterials\tAcoustic metamaterials are a kind of well-known artificial structures, which can provide unconventional effective properties to manipulate sound waves. Different from the traditional resonant elements proposed in earlier studies, we designed an acoustic lens based on H-fractal metamaterials. Compared with previous patterns, the proposed model comprises a series of H-fractal metamaterial units. Due to the self-similar properties of the proposed structure, the acoustic responses may arise within a broad frequency range. By adjusting the size of each metamaterial unit, phase of the propagating acoustic waves can be delayed at will. The simulative results show that the designed acoustic focusing lens have excellent focusing abilities from 2 kHz to 5 kHz with considerably high transmission efficiency, making it a promising candidate for a various of acoustic applications.\n",
      "4\tNumerical Simulation of Standing Surface Acoustic Wave for Separating Suspended Particles in Lubricating Oil\tThe microfluidic chip can be used to separate particles via acoustic radiation force and can be applied to separate impurity particles in lubricating oil. We propose herein a device that separates particle by controlling acoustic radiation force via standing surface acoustic waves (SSAWs). The concentration and separation of suspended particles was simulated. We first analyze the force exerted on suspended particles and their subsequent motion in the microfluidic channel, and then verify the concentration of particles exposed to SSAWs. We also investigate how the frequency of the SSAW affects particle concentration and discuss the advantage of using SSAWs to concentrate and separate particles.\n",
      "5\tObservation of Temperature Gradient Driven Electrostatic Ion Acoustic Instability in a Cross-field Diffused Plasma\tThe turbulence characteristics of near EEF target region, embedded with diffused plasma emanating across large electron energy filter (EEF) is reported for large volume plasma device. The near EEF target plasma exhibits gradient free profiles of plasma density (&#x2207;n_e=0) but plasma potential (&#x2207;V_p&#x2260;0) and electron temperature (&#x2207;T_e&#x2260;0) profiles shows finite gradients. The finite radial electric field reverses sign with respect to the centre of device. The plasma conditions are prevailing with magnetized electrons (&#x03C9;_ce&#x226B;&#x03BD;_en) but ions are not (&#x03C9;_ci&lt;&#x03BD;_in). Electron drifts due to temperature gradient,  Vde and finite electric field, &#x3016;V^(E&#x00D7;B )&#x3017;_ exceeding ion sound velocity, &#x3016; C&#x3017;_s. The observed density fluctuations (deltane/ne~7-10%   ) are broadband in nature and have frequency ordering, &#x03C9;_ci&lt;&#x03C9;&#x226A;&#x03C9;_ce . Numerically obtained growth frequency exceeds ion cyclotron frequency (&#x03B3;&gt;&#x03C9;_ci) but its magnitude is less than the mode frequency (&#x03B3;&lt;&#x03C9;). Observed gradTe driven mode propagate in ion diamagnetic drift direction and exhibits nature of electrostatic ion acoustic mode.\n",
      "6\tStrain induced mobility enhancement in p-type silicon structures: bulk and quantum well (quantum kinetic approach)\tAnalytic expressions for low field mobility have been obtained in the high strained p-type silicon structures with three- and two- dimensional hole gases. Main attention is paid to study how confinement in one spatial dimension changes the strain mobility enhancement in comparison with bulk material. The mobility enhancement factor has been calculated at application of the uniaxial and biaxial strains. Acoustic and optic phonons, charged impurities, and surface roughness have been accepted as a scattering system. Our theoretical consideration is based on the quantum kinetic equation and a special form of the non-equilibrium distribution function (shifted Fermi distribution). Results of calculation are compared with known experimental data.\n",
      "7\tGlass Fracture by Focusing of Laser-Generated Nanosecond Surface Acoustic Waves\tDynamic fracture of borosilicate glass through focusing of high-amplitude nanosecond surface acoustic waves (SAWs) at the micron scale is investigated in an all-optical experiment. SAWs are generated by an intense picosecond laser excitation pulse focused into a ring-shaped spot on the sample surface. Interferometric imaging of the sample surface with a femtosecond probe pulse allows quantitative measurement of the vertical surface displacements. Images taken at different pump-probe delays capture the SAW as it converges towards the center, focuses, and subsequently diverges. The amplitude of the SAW is varied by changing the laser excitation energy. Above a certain laser excitation energy threshold, a damage at the acoustic focal point is observed. A post-mortem investigation reveals a crater formed by the ejection of a piece of material. Numerical calculations matching the measured surface displacement profiles help us determine the time evolution of the stress distribution in the sample and at the acoustic focus. We find that the glass withstands a nanosecond local tensile stress of at least 6 GPa without visible fracture, which is well above the tensile limit observed in conventional shock spallation experiments.\n",
      "8\tKdV Acoustic Structure with Exchange-Correlation Potential in Plasmas\tThe effects of exchange-correlation potential(ECP) on the profile of dust acoustic solitary waves (DASWs) in degenerate dusty plasmas has been investigated. The plasmassystem is consisting upon three species such as degenerate ions and electrons, andsclassical dust grains. This study is comprising upon the linear and nonlinear analysissof long wavelength dust acoustic waves in non-relativistic plasmas. The linear acoustic wave have been analyzed by using the multi-fluid model whereas to study smallsamplitude DASWs, modified Korteweg de Vries (KdV) equation has been derived bysusing the reductive perturbation theory. The effects of dust concentration (Havenesssparameter h) in the plasma, and exchange correlation potential have been highlighted.sThe dust concentration and exchange correlation potential affect the solitary wavesamplitude and its width remarkably. Our results can be used to understand the characteristics of nonlinear electrostatic waves exciting in a dense degenerate Fermi gas,spresent in metallic nano structures or presumably in near-supernova environments,sin the presence of massive charged defects.\n",
      "9\tAcoustic Nonlinearity Parameter Induced by Extended Dislocations\tExcess acoustic nonlinearity is a signature of microstructural defects on a propagating ultrasound. By measuring the excess acoustic nonlinearity parameter, defect characteristics can be inferred nondestructively through ultrasonic techniques. To this end, proper models are needed to relate the excess acoustic nonlinearity parameter with defect characteristics. In this study, an analytical model for extended dislocations is developed that relates the excess acoustic nonlinearity parameter with characteristics of the extended dislocation including dislocation density, stacking fault energy, and equilibrium distance between the two partial dislocations that form the extended dislocation. According to this model, the excess acoustic nonlinearity parameter induced by extended dislocations consists of a stress-independent term and a stress-dependent term. Both terms are scaled with (Lchar/b)n, where Lchar is the equilibrium distance between the two partials, b is the magnitude of Burgers vector and n is 3 and 4 for the stress-independent and stress-dependent terms, respectively. The model will be useful for interpreting results from ultrasonic nondestructive evaluation of material defects.\n",
      "10\tSurface anisotropy in a magnetic cylinder induced by the displacement of a vortex core\tIn this article we investigate the induction of a surface anisotropy due to the displacement of the vortex core in a cylindrical nanostructure. In fact, the effect of the displacement of the vortex core in the dipolar energy can be modeled simply as a surface anisotropy of the form $E_s = K_s \\int_{\\mathcal{S}_m} d\\mathcal{S} \\, (\\hat{n} \\cdot \\hat{m})^2/2$. Moreover, the surface anisotropy constant $K_s$ is proportional to the cylinder in-plane demagnetizing factor in the direction of the core deviation, $N_y(L/R)$, i.e., $K_s = \\mu_0 M_0^2 R \\,  N_y(L/R)$, where $R$ and $L$ are the radius and the thickness of the cylinder, respectively. Our results show that the term of the nontrivial dipolar energy caused by the charges in the cylinder mantle can be replaced by a simple integral $E_s$ that increases the efficiency of the numerical calculations in the analytical study of the displacement of the vortex core in magnetic vortices.\n",
      "11\tOptical-force-induced circular dichroism in the surface plasmon resonance of single nanocrystals\tThe quantum-mechanical theory adequately describes optical activity in small molecules. However, the simplified one-electron model is insufficient to describe optical activity in plasmonic nanocrystals, where longitudinal polarization along the light propagation direction is crucial at the nanometer scale. Here, the experimental observation of natural circular dichroism in the surface plasmon resonances of spherical gold, silver, and copper nanocrystals in solution is presented. Optical forces exert on the nanoparticle in the light propagation direction, which induces longitudinal polarization, coupling to surface plasmons, and optical symmetry-breaking. Ellipticity sign indicates that dipolar surface plasmons are optically left-handed whereas quadrupolar surface plasmons are optically right-handed, manifesting the conservation of orbital angular momentum in the surface plasmon resonance. The plasmon-mode-dependent ellipticity sign is consistently observed for anisotropic nanocrystals including triangles, octahedra, nanorods, and core-shell nanoparticles. Structural effects such as nanocrystal assembly, nanocrystal shape, and plasmon-molecule interaction are accessed. The classical coupled-oscillator model adequately describes the optomechanical circular dichroism. This study demonstrates a helical resonance of surface plasmons in the structurally achrial nanocrystals by asymmetry in the longitudinal polarization, which will impact on hot-electron generation, nonlinear optical response, and metamaterial functionality.\n",
      "12\tAu nanoparticles as nuclei for defect formation in memristive SrTiO3 thin films\tWe investigated the possibility to tune the local switching properties of memristive crystalline SrTiO3 thin films by inserting nanoscale defect nucleation centers. For that purpose, we employed chemically synthesized Au nanoparticles deposited on the Nb doped SrTiO3 single crystal substrates as a defect formation template for the subsequent growth of SrTiO3. We studied in detail the resulting microstructure and the local conducting and switching properties of the SrTiO3 thin films.We worked out that the Au nanoparticles float to the SrTiO3 surface during growth, leaving behind a distorted thin film region in their vicinity. By employing conductive-tip atomic force microscopy, these distorted SrTiO3 regions are identified as sites of preferential resistive switching. These findings can be attributed to the enhanced oxygen exchange reaction at the surface in these defective regions.\n",
      "13\tWear Characteristics of TiAlN Coated on HSS Tool steel bythe Machining of AISI 410 Steel\tIn this study, the Ti0.4Al0.4N coatings were produced by physical vapor deposition (PVD) on HSSsingle point cutting tool. The coating phase composition and microstructure were investigated with X-raydiffraction (XRD) and scanning electron microscopy (SEM) (with EDS attachment). The wear behaviorand cutting performance of the uncoated and Ti0.4Al0.4N coated tool at room temperature wereinvestigated under dry condition. Turning tests were carried out on both uncoated and Ti0.4Al0.4N coatedHSS single point cutting tool in AISI410 steel turning under dry conditions, with the diverse depths of cut0.5mm, 1mm and 1.5 mm at a constant work piece rotating velocity of 0.65m/s. The Tribological andmechanical properties of coated pin were characterized by pin-on-disc and nanoindentation test. Theresult showed that Ti0.4Al0.4N coating had higher hardness than uncoated tool due to its smaller grainsize. Cutting performance of the HSS single point cutting tool was improved with the covering ofTi0.4Al0.4N coating with at least 2 times of cutting life. No spalling was occurred after the cutting tests forTi0.4Al0.4N coated HSS single point cutting tool. The more pits and grooving region were established onthe uncoated tool. This result exhibits that Ti0.4Al0.4N coating performed good adhesion and abrasivewear resistance, cutting performance and longer tool life than uncoated tool.\n",
      "14\tEXPERIMENTAL INVESTIGATION OF CONVECTIVE HEAT TRANSFER COEFFICIENT IN PARABOLIC COLLECTOR USING NANOFLUIDS\tThe performance of the collector is improved using nanofluid  which improves the overall performance of the parabolic collector. In the present analysis, the use of aluminum and copper tube as a vacuum absorber pipe with Al2O3/water, CuO/water nanofluid , and water as a base fluid to determine the performance characteristic of temperature, efficiency, and heat transfer coefficient. The experimentation performed by taking (0.1 % Vol. concentration) CuO/water and Al2O3/water nanofluid  on copper & aluminum pipe for the Reynolds number of 3400, 4500 & 5600 respectively. From the results it is clear that with the use of nanofluid, the efficiency of the parabolic collector is improved by 10-25% than the base fluid, the efficiency increases (%) for copper pipe with CuO/water is 91.42%, 84.34%, 79.90 % for the low Reynolds number of the higher. The heat transfer, enhanced the performance of the copper pipe with CuO/water nanofluid, which varies from 87.98%, 63.70 %, and 48.72 % of the increase in Reynolds number. From the result, it is clear that the heat transfer enhancement at low flow rate shows the best result as compared to the other cases. The percentage increase at the outlet of absorber pipe, in case of copper pipe with CuO/water nanofluid  is 53.85 % as compared with other cases of experimentation and different flow rate of nanofluid  inside the tubes. From the experimentation, it is also concluded that the friction factor decreases with the increase in flow rates.\n",
      "15\tThick Film Deposition from Supersonic Impact of Monosized Ag Nanoparticles\tWe describe the use of the laser ablation of microparticle aerosols process to deposit patterned thick films of Ag from nanoparticles at high velocities and study the effects of varying the nanoparticle impacting velocity, while fixing the nanoparticle size. It is shown that the relative height of the deposits and the impacting velocity influence the microstructure, with higher heights leading to greater porosity. Using molecular dynamics simulations, a critical normal impacting velocity of 600 m/s for a 6 nm particle was calculated. A model was developed to explain the influence of relative heights and impacting velocity on porosity.\n",
      "16\tNonlinear Constitutive Models for Nano-scale Heat Conduction\tWe present a rigorous approach that leads, from a many-particle description, to a nonlinear,  stochastic constitutive relation for the modeling of  transient heat conduction processes at nanoscale.  By enforcing statistical consistency, in that the statistics of the local energy is consistentswith that from an all-atom description, we identify the driving force as well as the model parameters in these generalized constitutive models.\n",
      "17\tAn ultra-compact low temperature scanning probe microscope for magnetic felds above 30 T\tWe present the design of a highly compact High Field Scanning Probe Microscope (HF-SPM) for operation at cryogenic temperatures in an extremely high magnetic field, provided by a water-cooled Bitter magnet able to reach 38 T. The HF-SPM is 14 mm in diameter: an Attocube nano-positioner controls the coarse approach of a piezo resistive AFM cantilever to a scanned sample. The Bitter magnet constitutes an extreme environment for SPM due to the high level of vibrational noise;  the Bitter magnet noise at frequencies up to 300 kHz is characterized and noise mitigation methods are described.  The performance of the HF-SPM is demonstrated by topographic imaging and noise measurements at up to 30 T. Additionally, the use of the SPM as a three-dimensional dilatometer for magnetostriction measurements is demonstrated via measurements on a magnetically frustrated spinel sample.\n",
      "18\tNonlinear Dynamical Analysis of Cu-doped ZnO Nanoparticles (NPs) for Biological Applications\tSince ZnO based nanoparticles have variety of nanostructures, tools of Non-linear Dynamical Theory (NLD) have been used successfully in the present work to analyze the XRD time series, a priori  knowledge helpful to come up with basic understanding about the nano particles formed. Cu-doped ZnO nanosystems are analyzed, first by estimating Correlation Dimension (Cd), in order to quantify the low-dimensional chaotic behavior, shown by the nanosystems through the XRD time series. Quantitative information concerning the preferential orientation of crystallites is also obtained from the Texture Coefficient (TC) of different planes of the particles formed. It has also been verified that the orientations of the crystallites as well as their size can be controlled by changing the dopant percentage. The numerical values of the Cd, TC, and Crystallite Size of different samples are obtained and used for analyzing the over-all behavior of the of crystallites formed. Lacunarity, as a geometrical scale dependent measure of texture, is also used analyze the images of Zone of Inhibition (ZoI), a biological parameter to quantify the impact of anti-bacterial nanoparticles in case of Gram-negative E coli and Gram-positive S aureus pathogens. It is also confirmed for the first time that the basic XRD data from the nanoparticles may be used as a marker to predict desired surface features of the nanoparticles to be obtained for biological application, such as, detecting specific pathogens.\n",
      "19\tA non-destructive method to calibrate the torsional spring constant of atomic force microscope cantilevers in viscous environments\tCalibration of the torsional spring constant of atomic force microscopy cantilevers is fundamental to a range of applications, from nanoscale friction and lubrication measurements to the characterization of micro-electromechanical systems and the response of biomolecules to external stimuli. Existing calibration methods are either time consuming and destructive (ex situ static approaches), or rely on models using the frequency and quality factor (Q-factor) of the cantilever torsional resonance as input parameters (in situ dynamical approaches). While in situ approaches are usually preferred for their easy implementation and preservation of the cantilever, their dependence on the torsional resonance Q-factor renders calibration in highly viscous environments challenging. This is problematic, for example, in many nanoscale tribological applications. Here, we propose a calibration method that does not depend on the cantilever torsional Q-factor, and show how the cantilever deflection can be converted into a lateral force. The method is tested with six cantilevers of different shapes and material composition, and in six fluid media. The derived spring constants are compared with predictions from existing methods, demonstrating a higher precision, in particular for highly viscous liquids.\n",
      "20\tA Comparative Investigation on Effects of Nanoparticles on Characteristics of Natural Esters - based Nanofluids\tThe effects of transformer oil based nanofluids have been broadly investigated and showcased a magnificent improvement in performance. But in natural esters based nanofluids characteristic performance persist virtually unexplored and still there is a room for investigation. This work aims to examine the effect of three dissimilar types of nanoparticles such as Aluminum Oxide (Al2O3), Boron Nitrate (BN) and Ferrous Ferric Oxide (Fe3O4) at various volume concentrations on the characteristic performance of natural esters. Honge oil (HO), Neem oil (NO), Mustard oil (MO) and Punna oil (PO) is considered as base fluid for investigation. The characteristic performances of base fluids are tested before and after blending of nanoparticles as per standards. The findings are quite promising because of the performance of nanofluids shows a significant improvement.\n",
      "21\tApproach of a nanoparticle towards plasma membrane: How van der Waals effect dominates electrostatics in distinguishing between a gold and silica nanoparticle? \tMaking a nanoparticle (NP) approach and interact with a plasma membrane (PM) through the receptor-ligand (RL) interaction is key for applications like targeted drug delivery, cellular imaging, and theranostics. In this letter, we show that van der Waals (vdW) interactions dominate the electrostatics ensuring that a gold NP (GNP) approached the PM more spontaneously as compared to a silica NP (SNP). The negative &sigma;  (charge density) of a PM induces a negative electrostatic potential at the surface of the approaching GNP and SNP; however, there is a little difference between these induced values due to a small electric double layer at physiological salt concentration (c&infin;). Hence there is little difference in the electrostatic repulsion between the two cases, while the PM-NP vdW attraction is much more for the GNP as a result of a larger Hamaker constant. Therefore, in comparison to the GNP, the SNP would (a) undergo a promotion of specific adhesion (SA) and a prevention of non-specific adhesion (NSA) simultaneously across larger &sigma;&minus; c&infin; phase space including physiological conditions, (b) necessitate a larger length of the ligand to trigger spontaneous RL interaction, and (c) require a larger driving force for force-driven RL interactions. \n",
      "22\tFluence and pulse number dependent surface nanostructures induced by femtosecond laser on SrTiO3\tSrTiO3 (STO) is a key perovskite oxide with fascinating properties in electronics and optoelectronics. The formation of surface nanostructures is an ideal platform to study femtosecond laser-STO interaction. The generation and evolution of surface nanostructures induced by femtosecond laser on STO surface have been studied experimentally. The surface nanostructures show distinct features with a clear fluence and pulse number dependence. Unlike the regular ripples which either parallel or perpendicular to the laser polarization, ripples formed on STO surface after irradiated with 4 laser pulses coexist in both directions and cover all the structured area. When further increase the pulse number, ripples parallel to the laser polarization dominates at lower fluence regime while ripples perpendicular to the laser polarization are the only surface structures formed at higher fluence regime. The periodicity of ripples perpendicular to the laser polarization decreases with more laser pulse irradiation while the periodicity of the ripples parallel to the laser polarization show different behavior.  FDTD (finite-difference time-domain) method and Sipe-Drude model have been adopted to analyze the energy deposition on STO surface. The results show that the different energy deposition upon the different excitation levels, which is caused by the incubation effect and the local enhancement of energy absorption, leads to the pulse number and fluence dependence of the surface structures. As the number of the pulse increasing, the feedback effect plays a major role gradually and determines the formation and evolution of the surface nanostructures.\n",
      "23\tSimulation and optimization of a new electrochromic with (WO3+Ag) nanocomposit thin film-assisted cooling system on energy saving\tIn the past years, many studies have been done in the field of smart windows and solar cells, the most important of these were electrochromic devices (ECD). This study was investigated the optimization of thermal energy consumption by using electrochromic components with a new nanocomposit layer (WO3+Ag) in a larger size (window) for a room with a educational application for five cities with different climates conditions in Iran (Yazd, Tehran, Bandar Abbas, Tabriz and Sari). For this simulation platform, the software has been implemented in (Energy Plus). This feasibility study has been modeled by (DesignBuilder) software and has been reported the reduction of thermal energy consumption in all climates in Iran (Hot and dry, Warm and semi-humid, warm and wet, moderate and dry and mild and humid.). Also, four strategies are considered for better comparison. The first strategy is the use of common double-glazed windows, the second to fourth strategy, and the use of the electrochromic window in three different modes; bleached mode (Off), colored mode (On), and switchable mode (controlled beneath comfort conditions). The third and fourth strategy has shown a reduction in thermal energy consumption in different climates from 25 to 45% relative to (typical windows). The best result of cooling energy consumption was also in Tehran. So, for this climate, the average energy consumption dropped to 34% for the warm months of the year and even 42% for the warmest month of the year (August).\n",
      "24\tEnhancing intrinsic detection efficiency of superconducting nanowire single-photon detectors via helium ion irradiation\tRealizing an NbN superconducting nanowire single-photon detector (SNSPD) with a 100% intrinsic detection efficiency (IDE) at the near-infrared wavelengths is still challenging. Herein, we developed a post-processing method to increase the IDE of NbN SNSPDs to near unity using a 20 keV helium ion irradiation. The IDE enhancement was achieved owing to the ion-induced reduction of the superconducting energy gap and the electron density of states at the Fermi level, determined with the electrical and magnetic transport measurements. The change in optical absorptance of the irradiated SNSPD was negligible as confirmed by the measured optical reflectance and system detection efficiency (SDE). Benefited with the IDE enhancement, the SDE of an irradiated device was significantly increased from 49% to 92% at 2.2 K for a 1550 nm wavelength.\n",
      "25\tMixed Convection Characteristics in a Baffeled U-shaped Lid-driven Cavity in the Presence of Magnetic Field\tIn the present study, mixed convection of CuO/water nanofluid in a lid-driven U-shaped enclosure filled with a baffle is studied using lattice Boltzmann method (LBM). The bottom wall is fixed at a uniform temperature and the effect of magnetic field is investigated. KKL (Koo-Kleinstreuer-Li) model is used to get the effective thermal conductivity and viscosity of nanofluid. In this model, Brownian motion of nanoparticle is considered. Effect of Hartmann number, Richardson number, Reynolds number and nanoparticle volume fraction on streamlines, isotherms and averaged Nusselt number have been examined. The results revealed that at Re = 100, the nanofluid strategy has a detrimental effect on the Nusselt number when the Richardson number is high. As Reynolds number increases, the average Nusselt number increases but adverse trends can be observed when the Hartmann numbers increases. The effect of increasing Reynolds number on the heat transfer rate is more conspicuous at higher Richardson numbers.\n",
      "26\tEffect of sputtering conditions on the structure and magnetic properties of self-assembled BiFeO3-CoFe2O4 nanocomposite thin films\tThis article describes the growth of self-assembled spinel-perovskite nanocomposite thin films using a sputtering technique. Vertically aligned nanocomposites, consisting of CoFe2O4 grown as pillars in a BiFeO3 matrix, were observed under optimum growth conditions. The magnetic hysteresis loops of these nanocomposites showed a strong out-of-plane anisotropy. The physical properties of these nanocomposites were dramatically changed by modulating the growth conditions, which affected the growth rates and strain states. Finally, we provide a mapping that summarizes the structure and magnetic anisotropy changes that occur with growth rate, for optimizing synthesis conditions for self-assembled oxide nanostructures.\n",
      "27\tPolydimethylsiloxane (PDMS): Optical Constants from 191 &ndash; 1688 nm (0.735 &ndash; 6.491 eV) by Spectroscopic Ellipsometry\tHerein we report the optical function(s) of PDMS as determined from reflection spectroscopic ellipsometry (SE) and transmission ultraviolet-visible data. These functions were obtained from 191 to 1688 nm from two commercial samples of liquid PDMS (PDMS700 and PDMS2000) that had molecular weights of 700-1500 g/mol and 2000-3500 g/mol, respectively. Both samples were linear polymers terminated with silanol groups. The optical functions determined from the two materials were essentially identical. In addition to analyzing the data from the individual samples, the SE data from the samples were combined in a multi-sample analysis (MSA). Both the reflection and transmission measurements required special experimental considerations. For the reflection SE measurements, these included roughening (frosting) the inside of the vessel that held the PDMS and the need to level the instrument instead of the samples. The transmission measurements were obtained via a dual cuvette approach that eliminated the effects of the cuvettes and their interfaces. Because both samples of PDMS were transparent over the measured wavelength range, and because of the relatively wide wavelength range considered, the optical functions were fit with a Sellmeier model. This produced a good fit for the MSA with a mean squared error, MSE, value of 1.24. The optical functions obtained in this work agreed well with previously reported values. For example, for the MSA, we obtained the following nx values, where x is the wavelength in nanometers: n300 = 1.439, n500 = 1.407, and n1000 = 1.395.\n",
      "28\tExperimental observation of size-dependent behavior in surface energy of gold nanoparticles through atomic force microscope\tSurface energy plays a key role in the physicochemical interactions of materials surfaces and it is closely related to the unique properties and numerous surface functionalization possibilities of gold nanoparticles. Herein, we have reported an atomic force microscopy based technique to measure the surface energies of different materials under the peakforce quantitative nanomechanical mapping mode. Our study on gold nanoparticles focuses on the particles with diameters ranging from 2 to 14 nm. The experimental results indicate a clear size-dependent behavior in the surface energy of gold nanoparticles when the size is smaller than 5 nm, and the smallest gold nanoparticle displays a 3-fold higher surface energy compared to bulk gold. Therefore, our experimental results provide essential evidence that can lead to a better understanding of the size-property relations allowing for process design in gold nanoparticles.\n"
     ]
    },
    {
     "name": "stdout",
     "output_type": "stream",
     "text": [
      "\n"
     ]
    }
   ],
   "source": [
    "test_corpus = open(\"TEST_CORPUS.txt\",\"r+\") \n",
    "print(test_corpus.read())"
   ]
  },
  {
   "cell_type": "code",
   "execution_count": 98,
   "metadata": {},
   "outputs": [],
   "source": [
    "file=open('TEST_CORPUS.txt','rt')\n",
    "text=file.read()\n",
    "file.close()"
   ]
  },
  {
   "cell_type": "markdown",
   "metadata": {},
   "source": [
    "## 1) Load the dataset"
   ]
  },
  {
   "cell_type": "code",
   "execution_count": 99,
   "metadata": {},
   "outputs": [
    {
     "data": {
      "text/html": [
       "<div>\n",
       "<style scoped>\n",
       "    .dataframe tbody tr th:only-of-type {\n",
       "        vertical-align: middle;\n",
       "    }\n",
       "\n",
       "    .dataframe tbody tr th {\n",
       "        vertical-align: top;\n",
       "    }\n",
       "\n",
       "    .dataframe thead th {\n",
       "        text-align: right;\n",
       "    }\n",
       "</style>\n",
       "<table border=\"1\" class=\"dataframe\">\n",
       "  <thead>\n",
       "    <tr style=\"text-align: right;\">\n",
       "      <th></th>\n",
       "      <th>UNIQUE_ID</th>\n",
       "      <th>TITLE</th>\n",
       "      <th>ABSTRACT</th>\n",
       "    </tr>\n",
       "  </thead>\n",
       "  <tbody>\n",
       "    <tr>\n",
       "      <th>0</th>\n",
       "      <td>1</td>\n",
       "      <td>Subsonic Potentials in Ultra dense Plasmas</td>\n",
       "      <td>The existence of the subsonic dynamic potentia...</td>\n",
       "    </tr>\n",
       "    <tr>\n",
       "      <th>1</th>\n",
       "      <td>2</td>\n",
       "      <td>Overtaking interaction of two weakly nonlinear...</td>\n",
       "      <td>Acoustic solitons obtained through a reductive...</td>\n",
       "    </tr>\n",
       "    <tr>\n",
       "      <th>2</th>\n",
       "      <td>3</td>\n",
       "      <td>Broadband Focusing Acoustic Lens Based on H-fr...</td>\n",
       "      <td>Acoustic metamaterials are a kind of well-know...</td>\n",
       "    </tr>\n",
       "    <tr>\n",
       "      <th>3</th>\n",
       "      <td>4</td>\n",
       "      <td>Numerical Simulation of Standing Surface Acous...</td>\n",
       "      <td>The microfluidic chip can be used to separate ...</td>\n",
       "    </tr>\n",
       "    <tr>\n",
       "      <th>4</th>\n",
       "      <td>5</td>\n",
       "      <td>Observation of Temperature Gradient Driven Ele...</td>\n",
       "      <td>The turbulence characteristics of near EEF tar...</td>\n",
       "    </tr>\n",
       "    <tr>\n",
       "      <th>5</th>\n",
       "      <td>6</td>\n",
       "      <td>Strain induced mobility enhancement in p-type ...</td>\n",
       "      <td>Analytic expressions for low field mobility ha...</td>\n",
       "    </tr>\n",
       "    <tr>\n",
       "      <th>6</th>\n",
       "      <td>7</td>\n",
       "      <td>Glass Fracture by Focusing of Laser-Generated ...</td>\n",
       "      <td>Dynamic fracture of borosilicate glass through...</td>\n",
       "    </tr>\n",
       "    <tr>\n",
       "      <th>7</th>\n",
       "      <td>8</td>\n",
       "      <td>KdV Acoustic Structure with Exchange-Correlati...</td>\n",
       "      <td>The effects of exchange-correlation potential(...</td>\n",
       "    </tr>\n",
       "    <tr>\n",
       "      <th>8</th>\n",
       "      <td>9</td>\n",
       "      <td>Acoustic Nonlinearity Parameter Induced by Ext...</td>\n",
       "      <td>Excess acoustic nonlinearity is a signature of...</td>\n",
       "    </tr>\n",
       "    <tr>\n",
       "      <th>9</th>\n",
       "      <td>10</td>\n",
       "      <td>Surface anisotropy in a magnetic cylinder indu...</td>\n",
       "      <td>In this article we investigate the induction o...</td>\n",
       "    </tr>\n",
       "    <tr>\n",
       "      <th>10</th>\n",
       "      <td>11</td>\n",
       "      <td>Optical-force-induced circular dichroism in th...</td>\n",
       "      <td>The quantum-mechanical theory adequately descr...</td>\n",
       "    </tr>\n",
       "    <tr>\n",
       "      <th>11</th>\n",
       "      <td>12</td>\n",
       "      <td>Au nanoparticles as nuclei for defect formatio...</td>\n",
       "      <td>We investigated the possibility to tune the lo...</td>\n",
       "    </tr>\n",
       "    <tr>\n",
       "      <th>12</th>\n",
       "      <td>13</td>\n",
       "      <td>Wear Characteristics of TiAlN Coated on HSS To...</td>\n",
       "      <td>In this study, the Ti0.4Al0.4N coatings were p...</td>\n",
       "    </tr>\n",
       "    <tr>\n",
       "      <th>13</th>\n",
       "      <td>14</td>\n",
       "      <td>EXPERIMENTAL INVESTIGATION OF CONVECTIVE HEAT ...</td>\n",
       "      <td>The performance of the collector is improved u...</td>\n",
       "    </tr>\n",
       "    <tr>\n",
       "      <th>14</th>\n",
       "      <td>15</td>\n",
       "      <td>Thick Film Deposition from Supersonic Impact o...</td>\n",
       "      <td>We describe the use of the laser ablation of m...</td>\n",
       "    </tr>\n",
       "    <tr>\n",
       "      <th>15</th>\n",
       "      <td>16</td>\n",
       "      <td>Nonlinear Constitutive Models for Nano-scale H...</td>\n",
       "      <td>We present a rigorous approach that leads, fro...</td>\n",
       "    </tr>\n",
       "    <tr>\n",
       "      <th>16</th>\n",
       "      <td>17</td>\n",
       "      <td>An ultra-compact low temperature scanning prob...</td>\n",
       "      <td>We present the design of a highly compact High...</td>\n",
       "    </tr>\n",
       "    <tr>\n",
       "      <th>17</th>\n",
       "      <td>18</td>\n",
       "      <td>Nonlinear Dynamical Analysis of Cu-doped ZnO N...</td>\n",
       "      <td>Since ZnO based nanoparticles have variety of ...</td>\n",
       "    </tr>\n",
       "    <tr>\n",
       "      <th>18</th>\n",
       "      <td>19</td>\n",
       "      <td>A non-destructive method to calibrate the tors...</td>\n",
       "      <td>Calibration of the torsional spring constant o...</td>\n",
       "    </tr>\n",
       "    <tr>\n",
       "      <th>19</th>\n",
       "      <td>20</td>\n",
       "      <td>A Comparative Investigation on Effects of Nano...</td>\n",
       "      <td>The effects of transformer oil based nanofluid...</td>\n",
       "    </tr>\n",
       "    <tr>\n",
       "      <th>20</th>\n",
       "      <td>21</td>\n",
       "      <td>Approach of a nanoparticle towards plasma memb...</td>\n",
       "      <td>Making a nanoparticle (NP) approach and intera...</td>\n",
       "    </tr>\n",
       "    <tr>\n",
       "      <th>21</th>\n",
       "      <td>22</td>\n",
       "      <td>Fluence and pulse number dependent surface nan...</td>\n",
       "      <td>SrTiO3 (STO) is a key perovskite oxide with fa...</td>\n",
       "    </tr>\n",
       "    <tr>\n",
       "      <th>22</th>\n",
       "      <td>23</td>\n",
       "      <td>Simulation and optimization of a new electroch...</td>\n",
       "      <td>In the past years, many studies have been done...</td>\n",
       "    </tr>\n",
       "    <tr>\n",
       "      <th>23</th>\n",
       "      <td>24</td>\n",
       "      <td>Enhancing intrinsic detection efficiency of su...</td>\n",
       "      <td>Realizing an NbN superconducting nanowire sing...</td>\n",
       "    </tr>\n",
       "    <tr>\n",
       "      <th>24</th>\n",
       "      <td>25</td>\n",
       "      <td>Mixed Convection Characteristics in a Baffeled...</td>\n",
       "      <td>In the present study, mixed convection of CuO/...</td>\n",
       "    </tr>\n",
       "    <tr>\n",
       "      <th>25</th>\n",
       "      <td>26</td>\n",
       "      <td>Effect of sputtering conditions on the structu...</td>\n",
       "      <td>This article describes the growth of self-asse...</td>\n",
       "    </tr>\n",
       "    <tr>\n",
       "      <th>26</th>\n",
       "      <td>27</td>\n",
       "      <td>Polydimethylsiloxane (PDMS): Optical Constants...</td>\n",
       "      <td>Herein we report the optical function(s) of PD...</td>\n",
       "    </tr>\n",
       "    <tr>\n",
       "      <th>27</th>\n",
       "      <td>28</td>\n",
       "      <td>Experimental observation of size-dependent beh...</td>\n",
       "      <td>Surface energy plays a key role in the physico...</td>\n",
       "    </tr>\n",
       "  </tbody>\n",
       "</table>\n",
       "</div>"
      ],
      "text/plain": [
       "    UNIQUE_ID                                              TITLE  \\\n",
       "0           1         Subsonic Potentials in Ultra dense Plasmas   \n",
       "1           2  Overtaking interaction of two weakly nonlinear...   \n",
       "2           3  Broadband Focusing Acoustic Lens Based on H-fr...   \n",
       "3           4  Numerical Simulation of Standing Surface Acous...   \n",
       "4           5  Observation of Temperature Gradient Driven Ele...   \n",
       "5           6  Strain induced mobility enhancement in p-type ...   \n",
       "6           7  Glass Fracture by Focusing of Laser-Generated ...   \n",
       "7           8  KdV Acoustic Structure with Exchange-Correlati...   \n",
       "8           9  Acoustic Nonlinearity Parameter Induced by Ext...   \n",
       "9          10  Surface anisotropy in a magnetic cylinder indu...   \n",
       "10         11  Optical-force-induced circular dichroism in th...   \n",
       "11         12  Au nanoparticles as nuclei for defect formatio...   \n",
       "12         13  Wear Characteristics of TiAlN Coated on HSS To...   \n",
       "13         14  EXPERIMENTAL INVESTIGATION OF CONVECTIVE HEAT ...   \n",
       "14         15  Thick Film Deposition from Supersonic Impact o...   \n",
       "15         16  Nonlinear Constitutive Models for Nano-scale H...   \n",
       "16         17  An ultra-compact low temperature scanning prob...   \n",
       "17         18  Nonlinear Dynamical Analysis of Cu-doped ZnO N...   \n",
       "18         19  A non-destructive method to calibrate the tors...   \n",
       "19         20  A Comparative Investigation on Effects of Nano...   \n",
       "20         21  Approach of a nanoparticle towards plasma memb...   \n",
       "21         22  Fluence and pulse number dependent surface nan...   \n",
       "22         23  Simulation and optimization of a new electroch...   \n",
       "23         24  Enhancing intrinsic detection efficiency of su...   \n",
       "24         25  Mixed Convection Characteristics in a Baffeled...   \n",
       "25         26  Effect of sputtering conditions on the structu...   \n",
       "26         27  Polydimethylsiloxane (PDMS): Optical Constants...   \n",
       "27         28  Experimental observation of size-dependent beh...   \n",
       "\n",
       "                                             ABSTRACT  \n",
       "0   The existence of the subsonic dynamic potentia...  \n",
       "1   Acoustic solitons obtained through a reductive...  \n",
       "2   Acoustic metamaterials are a kind of well-know...  \n",
       "3   The microfluidic chip can be used to separate ...  \n",
       "4   The turbulence characteristics of near EEF tar...  \n",
       "5   Analytic expressions for low field mobility ha...  \n",
       "6   Dynamic fracture of borosilicate glass through...  \n",
       "7   The effects of exchange-correlation potential(...  \n",
       "8   Excess acoustic nonlinearity is a signature of...  \n",
       "9   In this article we investigate the induction o...  \n",
       "10  The quantum-mechanical theory adequately descr...  \n",
       "11  We investigated the possibility to tune the lo...  \n",
       "12  In this study, the Ti0.4Al0.4N coatings were p...  \n",
       "13  The performance of the collector is improved u...  \n",
       "14  We describe the use of the laser ablation of m...  \n",
       "15  We present a rigorous approach that leads, fro...  \n",
       "16  We present the design of a highly compact High...  \n",
       "17  Since ZnO based nanoparticles have variety of ...  \n",
       "18  Calibration of the torsional spring constant o...  \n",
       "19  The effects of transformer oil based nanofluid...  \n",
       "20  Making a nanoparticle (NP) approach and intera...  \n",
       "21  SrTiO3 (STO) is a key perovskite oxide with fa...  \n",
       "22  In the past years, many studies have been done...  \n",
       "23  Realizing an NbN superconducting nanowire sing...  \n",
       "24  In the present study, mixed convection of CuO/...  \n",
       "25  This article describes the growth of self-asse...  \n",
       "26  Herein we report the optical function(s) of PD...  \n",
       "27  Surface energy plays a key role in the physico...  "
      ]
     },
     "execution_count": 99,
     "metadata": {},
     "output_type": "execute_result"
    }
   ],
   "source": [
    "data=pd.read_csv('TEST_CORPUS.txt',encoding = \"ISO-8859-1\",sep=\"\\t\",names=['UNIQUE_ID','TITLE','ABSTRACT'])\n",
    "data"
   ]
  },
  {
   "cell_type": "markdown",
   "metadata": {},
   "source": [
    "## Check for Exploratory Data Analysis (EDA) steps"
   ]
  },
  {
   "cell_type": "code",
   "execution_count": 100,
   "metadata": {},
   "outputs": [
    {
     "data": {
      "text/plain": [
       "(28, 3)"
      ]
     },
     "execution_count": 100,
     "metadata": {},
     "output_type": "execute_result"
    }
   ],
   "source": [
    "data.shape"
   ]
  },
  {
   "cell_type": "code",
   "execution_count": 101,
   "metadata": {},
   "outputs": [
    {
     "data": {
      "text/plain": [
       "84"
      ]
     },
     "execution_count": 101,
     "metadata": {},
     "output_type": "execute_result"
    }
   ],
   "source": [
    "data.size"
   ]
  },
  {
   "cell_type": "code",
   "execution_count": 102,
   "metadata": {},
   "outputs": [
    {
     "name": "stdout",
     "output_type": "stream",
     "text": [
      "<class 'pandas.core.frame.DataFrame'>\n",
      "RangeIndex: 28 entries, 0 to 27\n",
      "Data columns (total 3 columns):\n",
      " #   Column     Non-Null Count  Dtype \n",
      "---  ------     --------------  ----- \n",
      " 0   UNIQUE_ID  28 non-null     int64 \n",
      " 1   TITLE      28 non-null     object\n",
      " 2   ABSTRACT   28 non-null     object\n",
      "dtypes: int64(1), object(2)\n",
      "memory usage: 800.0+ bytes\n"
     ]
    }
   ],
   "source": [
    "data.info()"
   ]
  },
  {
   "cell_type": "code",
   "execution_count": 103,
   "metadata": {},
   "outputs": [
    {
     "data": {
      "text/html": [
       "<div>\n",
       "<style scoped>\n",
       "    .dataframe tbody tr th:only-of-type {\n",
       "        vertical-align: middle;\n",
       "    }\n",
       "\n",
       "    .dataframe tbody tr th {\n",
       "        vertical-align: top;\n",
       "    }\n",
       "\n",
       "    .dataframe thead th {\n",
       "        text-align: right;\n",
       "    }\n",
       "</style>\n",
       "<table border=\"1\" class=\"dataframe\">\n",
       "  <thead>\n",
       "    <tr style=\"text-align: right;\">\n",
       "      <th></th>\n",
       "      <th>UNIQUE_ID</th>\n",
       "    </tr>\n",
       "  </thead>\n",
       "  <tbody>\n",
       "    <tr>\n",
       "      <th>count</th>\n",
       "      <td>28.000000</td>\n",
       "    </tr>\n",
       "    <tr>\n",
       "      <th>mean</th>\n",
       "      <td>14.500000</td>\n",
       "    </tr>\n",
       "    <tr>\n",
       "      <th>std</th>\n",
       "      <td>8.225975</td>\n",
       "    </tr>\n",
       "    <tr>\n",
       "      <th>min</th>\n",
       "      <td>1.000000</td>\n",
       "    </tr>\n",
       "    <tr>\n",
       "      <th>25%</th>\n",
       "      <td>7.750000</td>\n",
       "    </tr>\n",
       "    <tr>\n",
       "      <th>50%</th>\n",
       "      <td>14.500000</td>\n",
       "    </tr>\n",
       "    <tr>\n",
       "      <th>75%</th>\n",
       "      <td>21.250000</td>\n",
       "    </tr>\n",
       "    <tr>\n",
       "      <th>max</th>\n",
       "      <td>28.000000</td>\n",
       "    </tr>\n",
       "  </tbody>\n",
       "</table>\n",
       "</div>"
      ],
      "text/plain": [
       "       UNIQUE_ID\n",
       "count  28.000000\n",
       "mean   14.500000\n",
       "std     8.225975\n",
       "min     1.000000\n",
       "25%     7.750000\n",
       "50%    14.500000\n",
       "75%    21.250000\n",
       "max    28.000000"
      ]
     },
     "execution_count": 103,
     "metadata": {},
     "output_type": "execute_result"
    }
   ],
   "source": [
    "data.describe()"
   ]
  },
  {
   "cell_type": "code",
   "execution_count": 104,
   "metadata": {},
   "outputs": [
    {
     "data": {
      "text/plain": [
       "Index(['UNIQUE_ID', 'TITLE', 'ABSTRACT'], dtype='object')"
      ]
     },
     "execution_count": 104,
     "metadata": {},
     "output_type": "execute_result"
    }
   ],
   "source": [
    "data.columns"
   ]
  },
  {
   "cell_type": "code",
   "execution_count": 105,
   "metadata": {},
   "outputs": [
    {
     "data": {
      "text/plain": [
       "UNIQUE_ID     int64\n",
       "TITLE        object\n",
       "ABSTRACT     object\n",
       "dtype: object"
      ]
     },
     "execution_count": 105,
     "metadata": {},
     "output_type": "execute_result"
    }
   ],
   "source": [
    "data.dtypes"
   ]
  },
  {
   "cell_type": "code",
   "execution_count": 106,
   "metadata": {},
   "outputs": [
    {
     "data": {
      "text/html": [
       "<div>\n",
       "<style scoped>\n",
       "    .dataframe tbody tr th:only-of-type {\n",
       "        vertical-align: middle;\n",
       "    }\n",
       "\n",
       "    .dataframe tbody tr th {\n",
       "        vertical-align: top;\n",
       "    }\n",
       "\n",
       "    .dataframe thead th {\n",
       "        text-align: right;\n",
       "    }\n",
       "</style>\n",
       "<table border=\"1\" class=\"dataframe\">\n",
       "  <thead>\n",
       "    <tr style=\"text-align: right;\">\n",
       "      <th></th>\n",
       "      <th>UNIQUE_ID</th>\n",
       "      <th>TITLE</th>\n",
       "      <th>ABSTRACT</th>\n",
       "    </tr>\n",
       "  </thead>\n",
       "  <tbody>\n",
       "    <tr>\n",
       "      <th>0</th>\n",
       "      <td>0</td>\n",
       "      <td>0</td>\n",
       "      <td>0</td>\n",
       "    </tr>\n",
       "  </tbody>\n",
       "</table>\n",
       "</div>"
      ],
      "text/plain": [
       "   UNIQUE_ID  TITLE  ABSTRACT\n",
       "0          0      0         0"
      ]
     },
     "execution_count": 106,
     "metadata": {},
     "output_type": "execute_result"
    }
   ],
   "source": [
    "data.isna().sum().to_frame().T"
   ]
  },
  {
   "cell_type": "code",
   "execution_count": 107,
   "metadata": {},
   "outputs": [],
   "source": [
    "from collections import Counter"
   ]
  },
  {
   "cell_type": "code",
   "execution_count": 108,
   "metadata": {},
   "outputs": [
    {
     "data": {
      "text/plain": [
       "Counter({'Subsonic Potentials in Ultra dense Plasmas': 1,\n",
       "         'Overtaking interaction of two weakly nonlinear acoustic solitons in plasmas at critical densities': 1,\n",
       "         'Broadband Focusing Acoustic Lens Based on H-fractal Metamaterials': 1,\n",
       "         'Numerical Simulation of Standing Surface Acoustic Wave for Separating Suspended Particles in Lubricating Oil': 1,\n",
       "         'Observation of Temperature Gradient Driven Electrostatic Ion Acoustic Instability in a Cross-field Diffused Plasma': 1,\n",
       "         'Strain induced mobility enhancement in p-type silicon structures: bulk and quantum well (quantum kinetic approach)': 1,\n",
       "         'Glass Fracture by Focusing of Laser-Generated Nanosecond Surface Acoustic Waves': 1,\n",
       "         'KdV Acoustic Structure with Exchange-Correlation Potential in Plasmas': 1,\n",
       "         'Acoustic Nonlinearity Parameter Induced by Extended Dislocations': 1,\n",
       "         'Surface anisotropy in a magnetic cylinder induced by the displacement of a vortex core': 1,\n",
       "         'Optical-force-induced circular dichroism in the surface plasmon resonance of single nanocrystals': 1,\n",
       "         'Au nanoparticles as nuclei for defect formation in memristive SrTiO3 thin films': 1,\n",
       "         'Wear Characteristics of TiAlN Coated on HSS Tool steel bythe Machining of AISI 410 Steel': 1,\n",
       "         'EXPERIMENTAL INVESTIGATION OF CONVECTIVE HEAT TRANSFER COEFFICIENT IN PARABOLIC COLLECTOR USING NANOFLUIDS': 1,\n",
       "         'Thick Film Deposition from Supersonic Impact of Monosized Ag Nanoparticles': 1,\n",
       "         'Nonlinear Constitutive Models for Nano-scale Heat Conduction': 1,\n",
       "         'An ultra-compact low temperature scanning probe microscope for magnetic felds above 30 T': 1,\n",
       "         'Nonlinear Dynamical Analysis of Cu-doped ZnO Nanoparticles (NPs) for Biological Applications': 1,\n",
       "         'A non-destructive method to calibrate the torsional spring constant of atomic force microscope cantilevers in viscous environments': 1,\n",
       "         'A Comparative Investigation on Effects of Nanoparticles on Characteristics of Natural Esters - based Nanofluids': 1,\n",
       "         'Approach of a nanoparticle towards plasma membrane: How van der Waals effect dominates electrostatics in distinguishing between a gold and silica nanoparticle? ': 1,\n",
       "         'Fluence and pulse number dependent surface nanostructures induced by femtosecond laser on SrTiO3': 1,\n",
       "         'Simulation and optimization of a new electrochromic with (WO3+Ag) nanocomposit thin film-assisted cooling system on energy saving': 1,\n",
       "         'Enhancing intrinsic detection efficiency of superconducting nanowire single-photon detectors via helium ion irradiation': 1,\n",
       "         'Mixed Convection Characteristics in a Baffeled U-shaped Lid-driven Cavity in the Presence of Magnetic Field': 1,\n",
       "         'Effect of sputtering conditions on the structure and magnetic properties of self-assembled BiFeO3-CoFe2O4 nanocomposite thin films': 1,\n",
       "         'Polydimethylsiloxane (PDMS): Optical Constants from 191 &ndash; 1688 nm (0.735 &ndash; 6.491 eV) by Spectroscopic Ellipsometry': 1,\n",
       "         'Experimental observation of size-dependent behavior in surface energy of gold nanoparticles through atomic force microscope': 1})"
      ]
     },
     "execution_count": 108,
     "metadata": {},
     "output_type": "execute_result"
    }
   ],
   "source": [
    "Counter(data.TITLE)"
   ]
  },
  {
   "cell_type": "code",
   "execution_count": 109,
   "metadata": {},
   "outputs": [
    {
     "data": {
      "text/plain": [
       "Counter({'The existence of the subsonic dynamic potential for a test charge in extremely dense quantum plasmas is pointed out the first time where usually found supersonic potential is suppressed. The dispersion equation of Ion Acoustic Wave(IAW) in relativistic dense plasmas is derived on employing the Quantum Hydrodynamic Model(QHM). In addition, the standard model of wake potential is hereafter applied for the derivation of dynamic potential of the test particle. The quantized relativistic electrons obey Fermi statistics whereas ions contribute classically. It is noticed that the oscillatory wake potential does exist at very small length scales. Its significant features are further analyzed on the varying magnetic field as well as the number density of plasma systems. It is found that the dynamic potential exists only with the condition $v_t&lt;C_s$ reflecting the subsonic region contrary to the usual $v_t&gt;C_s$ where $v_t$ is the test particle speed and $C_s$ is the acoustic speed defined with the Fermi temperature of the electrons. The work is significant in order to describe the structure formation in the astrophysical environment': 1,\n",
       "         'Acoustic solitons obtained through a reductive perturbation scheme are normallysgoverned by a Korteweg-de Vries (KdV) equation. In multispecies plasmas at critical densities the coefficient of the quadratic nonlinearity vanishes. Extending the analytic treatment then leads to a modified KdV (mKdV) equation, characterized by a cubic nonlinearity. This is even in the electrostatic potential and thus can admit solitons having opposite electrostatic polarities, in contrast to KdV solitons in plasmas which can only be of one polarity at a time. The original application of the KdV theory to surface waves on shallow water yielded only compressive solitons. To study the overtaking interactions between two solitons in the KdV case, the Hirota formalism had been applied to either two compressive or two rarefactive plasma modes, and can deal with more interacting waves because the KdV equation is completely integrable. This integrability property also holds for the mKdV equation in plasmas at critical densities, but the Hirota formalism for the mKdV equation is more complicated. This formalism can cover the overtaking interaction between a compressive and a rarefactive soliton, with the larger-amplitude and faster soliton overtaking the smaller-amplitude and slower soliton.sExamples of multispecies plasmas where this applies are given. In contrast, there is no Hirota formalism for head-on collisions, neither for the KdV nor mKdV equation.': 1,\n",
       "         'Acoustic metamaterials are a kind of well-known artificial structures, which can provide unconventional effective properties to manipulate sound waves. Different from the traditional resonant elements proposed in earlier studies, we designed an acoustic lens based on H-fractal metamaterials. Compared with previous patterns, the proposed model comprises a series of H-fractal metamaterial units. Due to the self-similar properties of the proposed structure, the acoustic responses may arise within a broad frequency range. By adjusting the size of each metamaterial unit, phase of the propagating acoustic waves can be delayed at will. The simulative results show that the designed acoustic focusing lens have excellent focusing abilities from 2 kHz to 5 kHz with considerably high transmission efficiency, making it a promising candidate for a various of acoustic applications.': 1,\n",
       "         'The microfluidic chip can be used to separate particles via acoustic radiation force and can be applied to separate impurity particles in lubricating oil. We propose herein a device that separates particle by controlling acoustic radiation force via standing surface acoustic waves (SSAWs). The concentration and separation of suspended particles was simulated. We first analyze the force exerted on suspended particles and their subsequent motion in the microfluidic channel, and then verify the concentration of particles exposed to SSAWs. We also investigate how the frequency of the SSAW affects particle concentration and discuss the advantage of using SSAWs to concentrate and separate particles.': 1,\n",
       "         'The turbulence characteristics of near EEF target region, embedded with diffused plasma emanating across large electron energy filter (EEF) is reported for large volume plasma device. The near EEF target plasma exhibits gradient free profiles of plasma density (&#x2207;n_e=0) but plasma potential (&#x2207;V_p&#x2260;0) and electron temperature (&#x2207;T_e&#x2260;0) profiles shows finite gradients. The finite radial electric field reverses sign with respect to the centre of device. The plasma conditions are prevailing with magnetized electrons (&#x03C9;_ce&#x226B;&#x03BD;_en) but ions are not (&#x03C9;_ci&lt;&#x03BD;_in). Electron drifts due to temperature gradient,  Vde and finite electric field, &#x3016;V^(E&#x00D7;B )&#x3017;_ exceeding ion sound velocity, &#x3016; C&#x3017;_s. The observed density fluctuations (deltane/ne~7-10%   ) are broadband in nature and have frequency ordering, &#x03C9;_ci&lt;&#x03C9;&#x226A;&#x03C9;_ce . Numerically obtained growth frequency exceeds ion cyclotron frequency (&#x03B3;&gt;&#x03C9;_ci) but its magnitude is less than the mode frequency (&#x03B3;&lt;&#x03C9;). Observed gradTe driven mode propagate in ion diamagnetic drift direction and exhibits nature of electrostatic ion acoustic mode.': 1,\n",
       "         'Analytic expressions for low field mobility have been obtained in the high strained p-type silicon structures with three- and two- dimensional hole gases. Main attention is paid to study how confinement in one spatial dimension changes the strain mobility enhancement in comparison with bulk material. The mobility enhancement factor has been calculated at application of the uniaxial and biaxial strains. Acoustic and optic phonons, charged impurities, and surface roughness have been accepted as a scattering system. Our theoretical consideration is based on the quantum kinetic equation and a special form of the non-equilibrium distribution function (shifted Fermi distribution). Results of calculation are compared with known experimental data.': 1,\n",
       "         'Dynamic fracture of borosilicate glass through focusing of high-amplitude nanosecond surface acoustic waves (SAWs) at the micron scale is investigated in an all-optical experiment. SAWs are generated by an intense picosecond laser excitation pulse focused into a ring-shaped spot on the sample surface. Interferometric imaging of the sample surface with a femtosecond probe pulse allows quantitative measurement of the vertical surface displacements. Images taken at different pump-probe delays capture the SAW as it converges towards the center, focuses, and subsequently diverges. The amplitude of the SAW is varied by changing the laser excitation energy. Above a certain laser excitation energy threshold, a damage at the acoustic focal point is observed. A post-mortem investigation reveals a crater formed by the ejection of a piece of material. Numerical calculations matching the measured surface displacement profiles help us determine the time evolution of the stress distribution in the sample and at the acoustic focus. We find that the glass withstands a nanosecond local tensile stress of at least 6 GPa without visible fracture, which is well above the tensile limit observed in conventional shock spallation experiments.': 1,\n",
       "         'The effects of exchange-correlation potential(ECP) on the profile of dust acoustic solitary waves (DASWs) in degenerate dusty plasmas has been investigated. The plasmassystem is consisting upon three species such as degenerate ions and electrons, andsclassical dust grains. This study is comprising upon the linear and nonlinear analysissof long wavelength dust acoustic waves in non-relativistic plasmas. The linear acoustic wave have been analyzed by using the multi-fluid model whereas to study smallsamplitude DASWs, modified Korteweg de Vries (KdV) equation has been derived bysusing the reductive perturbation theory. The effects of dust concentration (Havenesssparameter h) in the plasma, and exchange correlation potential have been highlighted.sThe dust concentration and exchange correlation potential affect the solitary wavesamplitude and its width remarkably. Our results can be used to understand the characteristics of nonlinear electrostatic waves exciting in a dense degenerate Fermi gas,spresent in metallic nano structures or presumably in near-supernova environments,sin the presence of massive charged defects.': 1,\n",
       "         'Excess acoustic nonlinearity is a signature of microstructural defects on a propagating ultrasound. By measuring the excess acoustic nonlinearity parameter, defect characteristics can be inferred nondestructively through ultrasonic techniques. To this end, proper models are needed to relate the excess acoustic nonlinearity parameter with defect characteristics. In this study, an analytical model for extended dislocations is developed that relates the excess acoustic nonlinearity parameter with characteristics of the extended dislocation including dislocation density, stacking fault energy, and equilibrium distance between the two partial dislocations that form the extended dislocation. According to this model, the excess acoustic nonlinearity parameter induced by extended dislocations consists of a stress-independent term and a stress-dependent term. Both terms are scaled with (Lchar/b)n, where Lchar is the equilibrium distance between the two partials, b is the magnitude of Burgers vector and n is 3 and 4 for the stress-independent and stress-dependent terms, respectively. The model will be useful for interpreting results from ultrasonic nondestructive evaluation of material defects.': 1,\n",
       "         'In this article we investigate the induction of a surface anisotropy due to the displacement of the vortex core in a cylindrical nanostructure. In fact, the effect of the displacement of the vortex core in the dipolar energy can be modeled simply as a surface anisotropy of the form $E_s = K_s \\\\int_{\\\\mathcal{S}_m} d\\\\mathcal{S} \\\\, (\\\\hat{n} \\\\cdot \\\\hat{m})^2/2$. Moreover, the surface anisotropy constant $K_s$ is proportional to the cylinder in-plane demagnetizing factor in the direction of the core deviation, $N_y(L/R)$, i.e., $K_s = \\\\mu_0 M_0^2 R \\\\,  N_y(L/R)$, where $R$ and $L$ are the radius and the thickness of the cylinder, respectively. Our results show that the term of the nontrivial dipolar energy caused by the charges in the cylinder mantle can be replaced by a simple integral $E_s$ that increases the efficiency of the numerical calculations in the analytical study of the displacement of the vortex core in magnetic vortices.': 1,\n",
       "         'The quantum-mechanical theory adequately describes optical activity in small molecules. However, the simplified one-electron model is insufficient to describe optical activity in plasmonic nanocrystals, where longitudinal polarization along the light propagation direction is crucial at the nanometer scale. Here, the experimental observation of natural circular dichroism in the surface plasmon resonances of spherical gold, silver, and copper nanocrystals in solution is presented. Optical forces exert on the nanoparticle in the light propagation direction, which induces longitudinal polarization, coupling to surface plasmons, and optical symmetry-breaking. Ellipticity sign indicates that dipolar surface plasmons are optically left-handed whereas quadrupolar surface plasmons are optically right-handed, manifesting the conservation of orbital angular momentum in the surface plasmon resonance. The plasmon-mode-dependent ellipticity sign is consistently observed for anisotropic nanocrystals including triangles, octahedra, nanorods, and core-shell nanoparticles. Structural effects such as nanocrystal assembly, nanocrystal shape, and plasmon-molecule interaction are accessed. The classical coupled-oscillator model adequately describes the optomechanical circular dichroism. This study demonstrates a helical resonance of surface plasmons in the structurally achrial nanocrystals by asymmetry in the longitudinal polarization, which will impact on hot-electron generation, nonlinear optical response, and metamaterial functionality.': 1,\n",
       "         'We investigated the possibility to tune the local switching properties of memristive crystalline SrTiO3 thin films by inserting nanoscale defect nucleation centers. For that purpose, we employed chemically synthesized Au nanoparticles deposited on the Nb doped SrTiO3 single crystal substrates as a defect formation template for the subsequent growth of SrTiO3. We studied in detail the resulting microstructure and the local conducting and switching properties of the SrTiO3 thin films.We worked out that the Au nanoparticles float to the SrTiO3 surface during growth, leaving behind a distorted thin film region in their vicinity. By employing conductive-tip atomic force microscopy, these distorted SrTiO3 regions are identified as sites of preferential resistive switching. These findings can be attributed to the enhanced oxygen exchange reaction at the surface in these defective regions.': 1,\n",
       "         'In this study, the Ti0.4Al0.4N coatings were produced by physical vapor deposition (PVD) on HSSsingle point cutting tool. The coating phase composition and microstructure were investigated with X-raydiffraction (XRD) and scanning electron microscopy (SEM) (with EDS attachment). The wear behaviorand cutting performance of the uncoated and Ti0.4Al0.4N coated tool at room temperature wereinvestigated under dry condition. Turning tests were carried out on both uncoated and Ti0.4Al0.4N coatedHSS single point cutting tool in AISI410 steel turning under dry conditions, with the diverse depths of cut0.5mm, 1mm and 1.5 mm at a constant work piece rotating velocity of 0.65m/s. The Tribological andmechanical properties of coated pin were characterized by pin-on-disc and nanoindentation test. Theresult showed that Ti0.4Al0.4N coating had higher hardness than uncoated tool due to its smaller grainsize. Cutting performance of the HSS single point cutting tool was improved with the covering ofTi0.4Al0.4N coating with at least 2 times of cutting life. No spalling was occurred after the cutting tests forTi0.4Al0.4N coated HSS single point cutting tool. The more pits and grooving region were established onthe uncoated tool. This result exhibits that Ti0.4Al0.4N coating performed good adhesion and abrasivewear resistance, cutting performance and longer tool life than uncoated tool.': 1,\n",
       "         'The performance of the collector is improved using nanofluid  which improves the overall performance of the parabolic collector. In the present analysis, the use of aluminum and copper tube as a vacuum absorber pipe with Al2O3/water, CuO/water nanofluid , and water as a base fluid to determine the performance characteristic of temperature, efficiency, and heat transfer coefficient. The experimentation performed by taking (0.1 % Vol. concentration) CuO/water and Al2O3/water nanofluid  on copper & aluminum pipe for the Reynolds number of 3400, 4500 & 5600 respectively. From the results it is clear that with the use of nanofluid, the efficiency of the parabolic collector is improved by 10-25% than the base fluid, the efficiency increases (%) for copper pipe with CuO/water is 91.42%, 84.34%, 79.90 % for the low Reynolds number of the higher. The heat transfer, enhanced the performance of the copper pipe with CuO/water nanofluid, which varies from 87.98%, 63.70 %, and 48.72 % of the increase in Reynolds number. From the result, it is clear that the heat transfer enhancement at low flow rate shows the best result as compared to the other cases. The percentage increase at the outlet of absorber pipe, in case of copper pipe with CuO/water nanofluid  is 53.85 % as compared with other cases of experimentation and different flow rate of nanofluid  inside the tubes. From the experimentation, it is also concluded that the friction factor decreases with the increase in flow rates.': 1,\n",
       "         'We describe the use of the laser ablation of microparticle aerosols process to deposit patterned thick films of Ag from nanoparticles at high velocities and study the effects of varying the nanoparticle impacting velocity, while fixing the nanoparticle size. It is shown that the relative height of the deposits and the impacting velocity influence the microstructure, with higher heights leading to greater porosity. Using molecular dynamics simulations, a critical normal impacting velocity of 600 m/s for a 6 nm particle was calculated. A model was developed to explain the influence of relative heights and impacting velocity on porosity.': 1,\n",
       "         'We present a rigorous approach that leads, from a many-particle description, to a nonlinear,  stochastic constitutive relation for the modeling of  transient heat conduction processes at nanoscale.  By enforcing statistical consistency, in that the statistics of the local energy is consistentswith that from an all-atom description, we identify the driving force as well as the model parameters in these generalized constitutive models.': 1,\n",
       "         'We present the design of a highly compact High Field Scanning Probe Microscope (HF-SPM) for operation at cryogenic temperatures in an extremely high magnetic field, provided by a water-cooled Bitter magnet able to reach 38 T. The HF-SPM is 14 mm in diameter: an Attocube nano-positioner controls the coarse approach of a piezo resistive AFM cantilever to a scanned sample. The Bitter magnet constitutes an extreme environment for SPM due to the high level of vibrational noise;  the Bitter magnet noise at frequencies up to 300 kHz is characterized and noise mitigation methods are described.  The performance of the HF-SPM is demonstrated by topographic imaging and noise measurements at up to 30 T. Additionally, the use of the SPM as a three-dimensional dilatometer for magnetostriction measurements is demonstrated via measurements on a magnetically frustrated spinel sample.': 1,\n",
       "         'Since ZnO based nanoparticles have variety of nanostructures, tools of Non-linear Dynamical Theory (NLD) have been used successfully in the present work to analyze the XRD time series, a priori  knowledge helpful to come up with basic understanding about the nano particles formed. Cu-doped ZnO nanosystems are analyzed, first by estimating Correlation Dimension (Cd), in order to quantify the low-dimensional chaotic behavior, shown by the nanosystems through the XRD time series. Quantitative information concerning the preferential orientation of crystallites is also obtained from the Texture Coefficient (TC) of different planes of the particles formed. It has also been verified that the orientations of the crystallites as well as their size can be controlled by changing the dopant percentage. The numerical values of the Cd, TC, and Crystallite Size of different samples are obtained and used for analyzing the over-all behavior of the of crystallites formed. Lacunarity, as a geometrical scale dependent measure of texture, is also used analyze the images of Zone of Inhibition (ZoI), a biological parameter to quantify the impact of anti-bacterial nanoparticles in case of Gram-negative E coli and Gram-positive S aureus pathogens. It is also confirmed for the first time that the basic XRD data from the nanoparticles may be used as a marker to predict desired surface features of the nanoparticles to be obtained for biological application, such as, detecting specific pathogens.': 1,\n",
       "         'Calibration of the torsional spring constant of atomic force microscopy cantilevers is fundamental to a range of applications, from nanoscale friction and lubrication measurements to the characterization of micro-electromechanical systems and the response of biomolecules to external stimuli. Existing calibration methods are either time consuming and destructive (ex situ static approaches), or rely on models using the frequency and quality factor (Q-factor) of the cantilever torsional resonance as input parameters (in situ dynamical approaches). While in situ approaches are usually preferred for their easy implementation and preservation of the cantilever, their dependence on the torsional resonance Q-factor renders calibration in highly viscous environments challenging. This is problematic, for example, in many nanoscale tribological applications. Here, we propose a calibration method that does not depend on the cantilever torsional Q-factor, and show how the cantilever deflection can be converted into a lateral force. The method is tested with six cantilevers of different shapes and material composition, and in six fluid media. The derived spring constants are compared with predictions from existing methods, demonstrating a higher precision, in particular for highly viscous liquids.': 1,\n",
       "         'The effects of transformer oil based nanofluids have been broadly investigated and showcased a magnificent improvement in performance. But in natural esters based nanofluids characteristic performance persist virtually unexplored and still there is a room for investigation. This work aims to examine the effect of three dissimilar types of nanoparticles such as Aluminum Oxide (Al2O3), Boron Nitrate (BN) and Ferrous Ferric Oxide (Fe3O4) at various volume concentrations on the characteristic performance of natural esters. Honge oil (HO), Neem oil (NO), Mustard oil (MO) and Punna oil (PO) is considered as base fluid for investigation. The characteristic performances of base fluids are tested before and after blending of nanoparticles as per standards. The findings are quite promising because of the performance of nanofluids shows a significant improvement.': 1,\n",
       "         'Making a nanoparticle (NP) approach and interact with a plasma membrane (PM) through the receptor-ligand (RL) interaction is key for applications like targeted drug delivery, cellular imaging, and theranostics. In this letter, we show that van der Waals (vdW) interactions dominate the electrostatics ensuring that a gold NP (GNP) approached the PM more spontaneously as compared to a silica NP (SNP). The negative &sigma;  (charge density) of a PM induces a negative electrostatic potential at the surface of the approaching GNP and SNP; however, there is a little difference between these induced values due to a small electric double layer at physiological salt concentration (c&infin;). Hence there is little difference in the electrostatic repulsion between the two cases, while the PM-NP vdW attraction is much more for the GNP as a result of a larger Hamaker constant. Therefore, in comparison to the GNP, the SNP would (a) undergo a promotion of specific adhesion (SA) and a prevention of non-specific adhesion (NSA) simultaneously across larger &sigma;&minus; c&infin; phase space including physiological conditions, (b) necessitate a larger length of the ligand to trigger spontaneous RL interaction, and (c) require a larger driving force for force-driven RL interactions. ': 1,\n",
       "         'SrTiO3 (STO) is a key perovskite oxide with fascinating properties in electronics and optoelectronics. The formation of surface nanostructures is an ideal platform to study femtosecond laser-STO interaction. The generation and evolution of surface nanostructures induced by femtosecond laser on STO surface have been studied experimentally. The surface nanostructures show distinct features with a clear fluence and pulse number dependence. Unlike the regular ripples which either parallel or perpendicular to the laser polarization, ripples formed on STO surface after irradiated with 4 laser pulses coexist in both directions and cover all the structured area. When further increase the pulse number, ripples parallel to the laser polarization dominates at lower fluence regime while ripples perpendicular to the laser polarization are the only surface structures formed at higher fluence regime. The periodicity of ripples perpendicular to the laser polarization decreases with more laser pulse irradiation while the periodicity of the ripples parallel to the laser polarization show different behavior.  FDTD (finite-difference time-domain) method and Sipe-Drude model have been adopted to analyze the energy deposition on STO surface. The results show that the different energy deposition upon the different excitation levels, which is caused by the incubation effect and the local enhancement of energy absorption, leads to the pulse number and fluence dependence of the surface structures. As the number of the pulse increasing, the feedback effect plays a major role gradually and determines the formation and evolution of the surface nanostructures.': 1,\n",
       "         'In the past years, many studies have been done in the field of smart windows and solar cells, the most important of these were electrochromic devices (ECD). This study was investigated the optimization of thermal energy consumption by using electrochromic components with a new nanocomposit layer (WO3+Ag) in a larger size (window) for a room with a educational application for five cities with different climates conditions in Iran (Yazd, Tehran, Bandar Abbas, Tabriz and Sari). For this simulation platform, the software has been implemented in (Energy Plus). This feasibility study has been modeled by (DesignBuilder) software and has been reported the reduction of thermal energy consumption in all climates in Iran (Hot and dry, Warm and semi-humid, warm and wet, moderate and dry and mild and humid.). Also, four strategies are considered for better comparison. The first strategy is the use of common double-glazed windows, the second to fourth strategy, and the use of the electrochromic window in three different modes; bleached mode (Off), colored mode (On), and switchable mode (controlled beneath comfort conditions). The third and fourth strategy has shown a reduction in thermal energy consumption in different climates from 25 to 45% relative to (typical windows). The best result of cooling energy consumption was also in Tehran. So, for this climate, the average energy consumption dropped to 34% for the warm months of the year and even 42% for the warmest month of the year (August).': 1,\n",
       "         'Realizing an NbN superconducting nanowire single-photon detector (SNSPD) with a 100% intrinsic detection efficiency (IDE) at the near-infrared wavelengths is still challenging. Herein, we developed a post-processing method to increase the IDE of NbN SNSPDs to near unity using a 20 keV helium ion irradiation. The IDE enhancement was achieved owing to the ion-induced reduction of the superconducting energy gap and the electron density of states at the Fermi level, determined with the electrical and magnetic transport measurements. The change in optical absorptance of the irradiated SNSPD was negligible as confirmed by the measured optical reflectance and system detection efficiency (SDE). Benefited with the IDE enhancement, the SDE of an irradiated device was significantly increased from 49% to 92% at 2.2 K for a 1550 nm wavelength.': 1,\n",
       "         'In the present study, mixed convection of CuO/water nanofluid in a lid-driven U-shaped enclosure filled with a baffle is studied using lattice Boltzmann method (LBM). The bottom wall is fixed at a uniform temperature and the effect of magnetic field is investigated. KKL (Koo-Kleinstreuer-Li) model is used to get the effective thermal conductivity and viscosity of nanofluid. In this model, Brownian motion of nanoparticle is considered. Effect of Hartmann number, Richardson number, Reynolds number and nanoparticle volume fraction on streamlines, isotherms and averaged Nusselt number have been examined. The results revealed that at Re = 100, the nanofluid strategy has a detrimental effect on the Nusselt number when the Richardson number is high. As Reynolds number increases, the average Nusselt number increases but adverse trends can be observed when the Hartmann numbers increases. The effect of increasing Reynolds number on the heat transfer rate is more conspicuous at higher Richardson numbers.': 1,\n",
       "         'This article describes the growth of self-assembled spinel-perovskite nanocomposite thin films using a sputtering technique. Vertically aligned nanocomposites, consisting of CoFe2O4 grown as pillars in a BiFeO3 matrix, were observed under optimum growth conditions. The magnetic hysteresis loops of these nanocomposites showed a strong out-of-plane anisotropy. The physical properties of these nanocomposites were dramatically changed by modulating the growth conditions, which affected the growth rates and strain states. Finally, we provide a mapping that summarizes the structure and magnetic anisotropy changes that occur with growth rate, for optimizing synthesis conditions for self-assembled oxide nanostructures.': 1,\n",
       "         'Herein we report the optical function(s) of PDMS as determined from reflection spectroscopic ellipsometry (SE) and transmission ultraviolet-visible data. These functions were obtained from 191 to 1688 nm from two commercial samples of liquid PDMS (PDMS700 and PDMS2000) that had molecular weights of 700-1500 g/mol and 2000-3500 g/mol, respectively. Both samples were linear polymers terminated with silanol groups. The optical functions determined from the two materials were essentially identical. In addition to analyzing the data from the individual samples, the SE data from the samples were combined in a multi-sample analysis (MSA). Both the reflection and transmission measurements required special experimental considerations. For the reflection SE measurements, these included roughening (frosting) the inside of the vessel that held the PDMS and the need to level the instrument instead of the samples. The transmission measurements were obtained via a dual cuvette approach that eliminated the effects of the cuvettes and their interfaces. Because both samples of PDMS were transparent over the measured wavelength range, and because of the relatively wide wavelength range considered, the optical functions were fit with a Sellmeier model. This produced a good fit for the MSA with a mean squared error, MSE, value of 1.24. The optical functions obtained in this work agreed well with previously reported values. For example, for the MSA, we obtained the following nx values, where x is the wavelength in nanometers: n300 = 1.439, n500 = 1.407, and n1000 = 1.395.': 1,\n",
       "         'Surface energy plays a key role in the physicochemical interactions of materials surfaces and it is closely related to the unique properties and numerous surface functionalization possibilities of gold nanoparticles. Herein, we have reported an atomic force microscopy based technique to measure the surface energies of different materials under the peakforce quantitative nanomechanical mapping mode. Our study on gold nanoparticles focuses on the particles with diameters ranging from 2 to 14 nm. The experimental results indicate a clear size-dependent behavior in the surface energy of gold nanoparticles when the size is smaller than 5 nm, and the smallest gold nanoparticle displays a 3-fold higher surface energy compared to bulk gold. Therefore, our experimental results provide essential evidence that can lead to a better understanding of the size-property relations allowing for process design in gold nanoparticles.': 1})"
      ]
     },
     "execution_count": 109,
     "metadata": {},
     "output_type": "execute_result"
    }
   ],
   "source": [
    "Counter(data.ABSTRACT)"
   ]
  },
  {
   "cell_type": "code",
   "execution_count": 110,
   "metadata": {},
   "outputs": [],
   "source": [
    "document_a=data['TITLE']\n",
    "document_b=data['ABSTRACT']"
   ]
  },
  {
   "cell_type": "markdown",
   "metadata": {},
   "source": [
    "## i) Using K-Means Clustering Algorithm"
   ]
  },
  {
   "cell_type": "code",
   "execution_count": 111,
   "metadata": {},
   "outputs": [],
   "source": [
    "from sklearn.feature_extraction.text import TfidfVectorizer\n",
    "from sklearn.cluster import KMeans\n",
    "from sklearn.metrics import accuracy_score, precision_score,recall_score, f1_score,classification_report"
   ]
  },
  {
   "cell_type": "code",
   "execution_count": 112,
   "metadata": {},
   "outputs": [
    {
     "name": "stdout",
     "output_type": "stream",
     "text": [
      "  (0, 173)\t0.37610298910638396\n",
      "  (0, 58)\t0.46355505151626175\n",
      "  (0, 224)\t0.412398874395757\n",
      "  (0, 113)\t0.20934147373041875\n",
      "  (0, 177)\t0.46355505151626175\n",
      "  (0, 205)\t0.46355505151626175\n",
      "  (1, 59)\t0.31531126820621674\n",
      "  (1, 53)\t0.31531126820621674\n",
      "  (1, 19)\t0.31531126820621674\n",
      "  (1, 195)\t0.31531126820621674\n",
      "  (1, 7)\t0.19634105909938987\n",
      "  (1, 154)\t0.2558261636528033\n",
      "  (1, 233)\t0.31531126820621674\n",
      "  (1, 222)\t0.31531126820621674\n",
      "  (1, 161)\t0.12210796048711692\n",
      "  (1, 116)\t0.31531126820621674\n",
      "  (1, 166)\t0.31531126820621674\n",
      "  (1, 173)\t0.2558261636528033\n",
      "  (1, 113)\t0.14239457720110973\n",
      "  (2, 132)\t0.3951304143186279\n",
      "  (2, 101)\t0.3951304143186279\n",
      "  (2, 163)\t0.2604040333209863\n",
      "  (2, 23)\t0.35152532060976754\n",
      "  (2, 124)\t0.3951304143186279\n",
      "  (2, 97)\t0.35152532060976754\n",
      "  :\t:\n",
      "  (26, 152)\t0.24200722257250865\n",
      "  (26, 0)\t0.24200722257250865\n",
      "  (26, 150)\t0.4840144451450173\n",
      "  (26, 1)\t0.24200722257250865\n",
      "  (26, 46)\t0.24200722257250865\n",
      "  (26, 170)\t0.24200722257250865\n",
      "  (26, 175)\t0.24200722257250865\n",
      "  (26, 103)\t0.2153002234752798\n",
      "  (26, 164)\t0.2153002234752798\n",
      "  (26, 30)\t0.16964430696045404\n",
      "  (27, 215)\t0.3043622391310039\n",
      "  (27, 24)\t0.3043622391310039\n",
      "  (27, 194)\t0.3043622391310039\n",
      "  (27, 82)\t0.27077397693247873\n",
      "  (27, 60)\t0.27077397693247873\n",
      "  (27, 106)\t0.27077397693247873\n",
      "  (27, 20)\t0.27077397693247873\n",
      "  (27, 134)\t0.24694272564575187\n",
      "  (27, 89)\t0.27077397693247873\n",
      "  (27, 145)\t0.21335446344722667\n",
      "  (27, 99)\t0.24694272564575187\n",
      "  (27, 160)\t0.27077397693247873\n",
      "  (27, 208)\t0.20058479881128066\n",
      "  (27, 161)\t0.23573564294741753\n",
      "  (27, 113)\t0.1374499953763082\n"
     ]
    }
   ],
   "source": [
    "vectorizer1 = TfidfVectorizer()\n",
    "X1 = vectorizer1.fit_transform(document_a)\n",
    "print(X1)"
   ]
  },
  {
   "cell_type": "code",
   "execution_count": 113,
   "metadata": {},
   "outputs": [
    {
     "name": "stdout",
     "output_type": "stream",
     "text": [
      "  (0, 472)\t0.062192685706763756\n",
      "  (0, 128)\t0.06990740134529855\n",
      "  (0, 563)\t0.056719007851657684\n",
      "  (0, 1285)\t0.056719007851657684\n",
      "  (0, 358)\t0.056719007851657684\n",
      "  (0, 956)\t0.062192685706763756\n",
      "  (0, 1482)\t0.0490042922131229\n",
      "  (0, 1322)\t0.0490042922131229\n",
      "  (0, 333)\t0.06990740134529855\n",
      "  (0, 105)\t0.02038646744241245\n",
      "  (0, 1247)\t0.1398148026905971\n",
      "  (0, 612)\t0.062192685706763756\n",
      "  (0, 1410)\t0.06990740134529855\n",
      "  (0, 1359)\t0.0407729348848249\n",
      "  (0, 287)\t0.06990740134529855\n",
      "  (0, 1111)\t0.05247329345962499\n",
      "  (0, 1108)\t0.06990740134529855\n",
      "  (0, 184)\t0.20972220403589564\n",
      "  (0, 777)\t0.062192685706763756\n",
      "  (0, 1413)\t0.20972220403589564\n",
      "  (0, 262)\t0.062192685706763756\n",
      "  (0, 1477)\t0.05033636863671718\n",
      "  (0, 942)\t0.056719007851657684\n",
      "  (0, 503)\t0.06990740134529855\n",
      "  (0, 1311)\t0.062192685706763756\n",
      "  :\t:\n",
      "  (27, 248)\t0.06052422123744483\n",
      "  (27, 147)\t0.06437732482323114\n",
      "  (27, 97)\t0.05424244209865592\n",
      "  (27, 1460)\t0.04147399991695478\n",
      "  (27, 576)\t0.047051628369047006\n",
      "  (27, 384)\t0.05424244209865592\n",
      "  (27, 1069)\t0.06052422123744483\n",
      "  (27, 1074)\t0.07451220754780635\n",
      "  (27, 1224)\t0.07451220754780635\n",
      "  (27, 1070)\t0.08170302127741526\n",
      "  (27, 707)\t0.07451220754780635\n",
      "  (27, 1290)\t0.04505090515265538\n",
      "  (27, 1302)\t0.23525814184523502\n",
      "  (27, 189)\t0.047051628369047006\n",
      "  (27, 105)\t0.08034558875968971\n",
      "  (27, 1359)\t0.13390931459948288\n",
      "  (27, 1477)\t0.03306364205868547\n",
      "  (27, 1334)\t0.03306364205868547\n",
      "  (27, 723)\t0.05718651109362223\n",
      "  (27, 940)\t0.06612728411737094\n",
      "  (27, 721)\t0.05945186382972575\n",
      "  (27, 672)\t0.07761848498722966\n",
      "  (27, 558)\t0.03190084187347379\n",
      "  (27, 936)\t0.12497848177199472\n",
      "  (27, 1335)\t0.24995696354398944\n"
     ]
    }
   ],
   "source": [
    "vectorizer2 = TfidfVectorizer()\n",
    "X2 = vectorizer2.fit_transform(document_b)\n",
    "print(X2)"
   ]
  },
  {
   "cell_type": "code",
   "execution_count": 114,
   "metadata": {},
   "outputs": [
    {
     "data": {
      "text/plain": [
       "KMeans(algorithm='auto', copy_x=True, init='k-means++', max_iter=300,\n",
       "       n_clusters=2, n_init=10, n_jobs=5, precompute_distances='auto',\n",
       "       random_state=10, tol=0.0001, verbose=0)"
      ]
     },
     "execution_count": 114,
     "metadata": {},
     "output_type": "execute_result"
    }
   ],
   "source": [
    "model=KMeans(n_clusters=2,init='k-means++',n_init=10,max_iter=300,tol=0.0001,precompute_distances='auto',\n",
    "    verbose=0,random_state=10,copy_x=True,n_jobs=5,algorithm='auto')\n",
    "model.fit(X1)"
   ]
  },
  {
   "cell_type": "code",
   "execution_count": 115,
   "metadata": {},
   "outputs": [
    {
     "data": {
      "text/plain": [
       "array([[  0, 105, 104, 102, 101, 196,  97,  96, 200,  92,  90, 194, 202,\n",
       "        169,  83,  81, 204, 208, 209,  69,  68,  66,  60,  87, 215, 114,\n",
       "        122, 168, 164, 174, 162, 175, 159, 158, 155, 152, 150, 191, 147,\n",
       "        181, 182, 183, 142, 136, 188, 132, 127, 124, 123, 146,  56, 170,\n",
       "        231,  36,  51,  46, 223,  24,  28,  13, 229,  29, 235,   5,   4,\n",
       "         30,   1, 232,  15, 106,  99, 226, 110,  80,  25,  71,  70, 190,\n",
       "        130, 220, 230,  62, 192,  82,  20, 193, 128,   9, 234,   3,  31,\n",
       "        218, 111,  37, 216, 237, 140, 184,  18, 151, 165, 210,  78,  50,\n",
       "         63, 133, 153,  45, 219,  85,  33, 217, 197,  32, 228,  39,  17,\n",
       "        187, 180, 198, 141,  26,  43, 160,  65,  64, 227, 171, 148, 120,\n",
       "        206,  77, 109, 117,  84,  23,  89, 199,   2,   6, 126,  10, 179,\n",
       "         91, 186,  41, 178,  34,  48,  22, 125, 189, 135,  79,  67, 107,\n",
       "         54, 115, 103,  53, 166, 195,  59, 233, 222,  19, 116,  76,  42,\n",
       "        149,  86, 238,  27,  55,  74, 156,  72,  14,  11, 225,  38, 221,\n",
       "         40, 167,  49, 100, 157,  16,  21, 131,  57, 112,  61, 207, 213,\n",
       "        138,  44, 185, 139,  47, 137,  88, 121, 176,  52,  75, 134, 144,\n",
       "         58, 177, 205, 172, 201, 119,  95,  12, 211,  73,  93,  94,   8,\n",
       "        143, 118, 236, 203, 212, 108,   7, 129, 224, 214,  35, 154, 145,\n",
       "         98, 163, 173, 113, 161],\n",
       "       [119, 133, 135, 137, 138, 139, 140, 141, 143, 144, 148, 149, 151,\n",
       "        153, 154, 156, 157, 165, 131, 130, 128, 126,  93,  94,  95, 100,\n",
       "        107, 108, 109, 110, 166, 111, 115, 116, 117, 118, 237, 120, 121,\n",
       "        125, 112, 167, 171, 172, 213, 214, 216, 217, 218, 219, 220, 221,\n",
       "        211, 222, 225, 226, 227, 228, 230, 233, 234, 236, 224,  91, 210,\n",
       "        206, 173, 176, 177, 178, 179, 180, 184, 185, 207, 186, 189, 190,\n",
       "        195, 197, 198, 201, 203, 205, 187,  88, 238,  26,  45,  27,  65,\n",
       "         31,  64,  32,  63,  62,  33,  61,  34,  35,  37,  59,  58,  57,\n",
       "         38,  44,  47,  43,  48,  49,  50,  25,  42,  52,  40,  53,  54,\n",
       "         39,  55,  41,  67,  86,  21,  85,   2,  84,   3,   6,   8,   9,\n",
       "         10,  80,  11,  22,  16,  17,  14,  78,  70,  71,  72,  73,  79,\n",
       "         18,  19,  74,  75,  76,  77, 145, 103,  98,  15, 175,   5,   4,\n",
       "        170, 196,   1,  87,   0, 152,  46,  81, 134, 136, 202, 204, 191,\n",
       "        122,  29,  83, 235, 223, 129, 106,  20,  82,  89, 160, 192, 199,\n",
       "        193, 194,  24, 215, 231, 200, 209, 162, 188, 127, 159, 169, 147,\n",
       "        181, 158,  96,  92,  36, 183, 142, 174,  66,  23, 232, 146, 102,\n",
       "        104, 105, 229,  13,  51,  69,  56,  28, 132, 101, 124,  12,  90,\n",
       "         68, 168, 155, 163, 150, 212, 164, 182,  99,  60, 123,  97, 113,\n",
       "        161,   7, 114,  30, 208]], dtype=int64)"
      ]
     },
     "execution_count": 115,
     "metadata": {},
     "output_type": "execute_result"
    }
   ],
   "source": [
    "centroid=model.cluster_centers_.argsort()[:,:]\n",
    "centroid"
   ]
  },
  {
   "cell_type": "code",
   "execution_count": 116,
   "metadata": {},
   "outputs": [
    {
     "data": {
      "text/plain": [
       "['1688',\n",
       " '191',\n",
       " '30',\n",
       " '410',\n",
       " '491',\n",
       " '735',\n",
       " 'above',\n",
       " 'acoustic',\n",
       " 'ag',\n",
       " 'aisi',\n",
       " 'an',\n",
       " 'analysis',\n",
       " 'and',\n",
       " 'anisotropy',\n",
       " 'applications',\n",
       " 'approach',\n",
       " 'as',\n",
       " 'assembled',\n",
       " 'assisted',\n",
       " 'at',\n",
       " 'atomic',\n",
       " 'au',\n",
       " 'baffeled',\n",
       " 'based',\n",
       " 'behavior',\n",
       " 'between',\n",
       " 'bifeo3',\n",
       " 'biological',\n",
       " 'broadband',\n",
       " 'bulk',\n",
       " 'by',\n",
       " 'bythe',\n",
       " 'calibrate',\n",
       " 'cantilevers',\n",
       " 'cavity',\n",
       " 'characteristics',\n",
       " 'circular',\n",
       " 'coated',\n",
       " 'coefficient',\n",
       " 'cofe2o4',\n",
       " 'collector',\n",
       " 'compact',\n",
       " 'comparative',\n",
       " 'conditions',\n",
       " 'conduction',\n",
       " 'constant',\n",
       " 'constants',\n",
       " 'constitutive',\n",
       " 'convection',\n",
       " 'convective',\n",
       " 'cooling',\n",
       " 'core',\n",
       " 'correlation',\n",
       " 'critical',\n",
       " 'cross',\n",
       " 'cu',\n",
       " 'cylinder',\n",
       " 'defect',\n",
       " 'dense',\n",
       " 'densities',\n",
       " 'dependent',\n",
       " 'deposition',\n",
       " 'der',\n",
       " 'destructive',\n",
       " 'detection',\n",
       " 'detectors',\n",
       " 'dichroism',\n",
       " 'diffused',\n",
       " 'dislocations',\n",
       " 'displacement',\n",
       " 'distinguishing',\n",
       " 'dominates',\n",
       " 'doped',\n",
       " 'driven',\n",
       " 'dynamical',\n",
       " 'effect',\n",
       " 'effects',\n",
       " 'efficiency',\n",
       " 'electrochromic',\n",
       " 'electrostatic',\n",
       " 'electrostatics',\n",
       " 'ellipsometry',\n",
       " 'energy',\n",
       " 'enhancement',\n",
       " 'enhancing',\n",
       " 'environments',\n",
       " 'esters',\n",
       " 'ev',\n",
       " 'exchange',\n",
       " 'experimental',\n",
       " 'extended',\n",
       " 'felds',\n",
       " 'femtosecond',\n",
       " 'field',\n",
       " 'film',\n",
       " 'films',\n",
       " 'fluence',\n",
       " 'focusing',\n",
       " 'for',\n",
       " 'force',\n",
       " 'formation',\n",
       " 'fractal',\n",
       " 'fracture',\n",
       " 'from',\n",
       " 'generated',\n",
       " 'glass',\n",
       " 'gold',\n",
       " 'gradient',\n",
       " 'heat',\n",
       " 'helium',\n",
       " 'how',\n",
       " 'hss',\n",
       " 'impact',\n",
       " 'in',\n",
       " 'induced',\n",
       " 'instability',\n",
       " 'interaction',\n",
       " 'intrinsic',\n",
       " 'investigation',\n",
       " 'ion',\n",
       " 'irradiation',\n",
       " 'kdv',\n",
       " 'kinetic',\n",
       " 'laser',\n",
       " 'lens',\n",
       " 'lid',\n",
       " 'low',\n",
       " 'lubricating',\n",
       " 'machining',\n",
       " 'magnetic',\n",
       " 'membrane',\n",
       " 'memristive',\n",
       " 'metamaterials',\n",
       " 'method',\n",
       " 'microscope',\n",
       " 'mixed',\n",
       " 'mobility',\n",
       " 'models',\n",
       " 'monosized',\n",
       " 'nano',\n",
       " 'nanocomposit',\n",
       " 'nanocomposite',\n",
       " 'nanocrystals',\n",
       " 'nanofluids',\n",
       " 'nanoparticle',\n",
       " 'nanoparticles',\n",
       " 'nanosecond',\n",
       " 'nanostructures',\n",
       " 'nanowire',\n",
       " 'natural',\n",
       " 'ndash',\n",
       " 'new',\n",
       " 'nm',\n",
       " 'non',\n",
       " 'nonlinear',\n",
       " 'nonlinearity',\n",
       " 'nps',\n",
       " 'nuclei',\n",
       " 'number',\n",
       " 'numerical',\n",
       " 'observation',\n",
       " 'of',\n",
       " 'oil',\n",
       " 'on',\n",
       " 'optical',\n",
       " 'optimization',\n",
       " 'overtaking',\n",
       " 'parabolic',\n",
       " 'parameter',\n",
       " 'particles',\n",
       " 'pdms',\n",
       " 'photon',\n",
       " 'plasma',\n",
       " 'plasmas',\n",
       " 'plasmon',\n",
       " 'polydimethylsiloxane',\n",
       " 'potential',\n",
       " 'potentials',\n",
       " 'presence',\n",
       " 'probe',\n",
       " 'properties',\n",
       " 'pulse',\n",
       " 'quantum',\n",
       " 'resonance',\n",
       " 'saving',\n",
       " 'scale',\n",
       " 'scanning',\n",
       " 'self',\n",
       " 'separating',\n",
       " 'shaped',\n",
       " 'silica',\n",
       " 'silicon',\n",
       " 'simulation',\n",
       " 'single',\n",
       " 'size',\n",
       " 'solitons',\n",
       " 'spectroscopic',\n",
       " 'spring',\n",
       " 'sputtering',\n",
       " 'srtio3',\n",
       " 'standing',\n",
       " 'steel',\n",
       " 'strain',\n",
       " 'structure',\n",
       " 'structures',\n",
       " 'subsonic',\n",
       " 'superconducting',\n",
       " 'supersonic',\n",
       " 'surface',\n",
       " 'suspended',\n",
       " 'system',\n",
       " 'temperature',\n",
       " 'the',\n",
       " 'thick',\n",
       " 'thin',\n",
       " 'through',\n",
       " 'tialn',\n",
       " 'to',\n",
       " 'tool',\n",
       " 'torsional',\n",
       " 'towards',\n",
       " 'transfer',\n",
       " 'two',\n",
       " 'type',\n",
       " 'ultra',\n",
       " 'using',\n",
       " 'van',\n",
       " 'via',\n",
       " 'viscous',\n",
       " 'vortex',\n",
       " 'waals',\n",
       " 'wave',\n",
       " 'waves',\n",
       " 'weakly',\n",
       " 'wear',\n",
       " 'well',\n",
       " 'with',\n",
       " 'wo3',\n",
       " 'zno']"
      ]
     },
     "execution_count": 116,
     "metadata": {},
     "output_type": "execute_result"
    }
   ],
   "source": [
    "terms1=vectorizer1.get_feature_names()\n",
    "terms1"
   ]
  },
  {
   "cell_type": "code",
   "execution_count": 117,
   "metadata": {},
   "outputs": [
    {
     "name": "stdout",
     "output_type": "stream",
     "text": [
      "Cluster 0:\n",
      " 1688\n",
      " glass\n",
      " generated\n",
      " fracture\n",
      " fractal\n",
      " spectroscopic\n",
      " focusing\n",
      " fluence\n",
      " standing\n",
      " femtosecond\n",
      "Cluster 1:\n",
      " ion\n",
      " method\n",
      " mixed\n",
      " models\n",
      " monosized\n",
      " nano\n",
      " nanocomposit\n",
      " nanocomposite\n",
      " nanofluids\n",
      " nanoparticle\n"
     ]
    }
   ],
   "source": [
    "for i in range(2):\n",
    "    print(\"Cluster %d:\" % i),\n",
    "    for ind in centroid[i, :10]:\n",
    "        print(' %s' % terms1[ind])"
   ]
  },
  {
   "cell_type": "code",
   "execution_count": 118,
   "metadata": {},
   "outputs": [
    {
     "data": {
      "text/plain": [
       "['10',\n",
       " '100',\n",
       " '14',\n",
       " '1500',\n",
       " '1550',\n",
       " '1688',\n",
       " '191',\n",
       " '1mm',\n",
       " '20',\n",
       " '2000',\n",
       " '24',\n",
       " '25',\n",
       " '30',\n",
       " '300',\n",
       " '34',\n",
       " '3400',\n",
       " '3500',\n",
       " '38',\n",
       " '395',\n",
       " '407',\n",
       " '42',\n",
       " '439',\n",
       " '45',\n",
       " '4500',\n",
       " '48',\n",
       " '49',\n",
       " '4al0',\n",
       " '4n',\n",
       " '53',\n",
       " '5600',\n",
       " '5mm',\n",
       " '600',\n",
       " '63',\n",
       " '65m',\n",
       " '70',\n",
       " '700',\n",
       " '72',\n",
       " '79',\n",
       " '84',\n",
       " '85',\n",
       " '87',\n",
       " '90',\n",
       " '91',\n",
       " '92',\n",
       " '98',\n",
       " '_ce',\n",
       " '_ci',\n",
       " '_en',\n",
       " '_in',\n",
       " '_m',\n",
       " '_s',\n",
       " 'abbas',\n",
       " 'abilities',\n",
       " 'ablation',\n",
       " 'able',\n",
       " 'about',\n",
       " 'above',\n",
       " 'abrasivewear',\n",
       " 'absorber',\n",
       " 'absorptance',\n",
       " 'absorption',\n",
       " 'accepted',\n",
       " 'accessed',\n",
       " 'according',\n",
       " 'achieved',\n",
       " 'achrial',\n",
       " 'acoustic',\n",
       " 'across',\n",
       " 'activity',\n",
       " 'addition',\n",
       " 'additionally',\n",
       " 'adequately',\n",
       " 'adhesion',\n",
       " 'adjusting',\n",
       " 'admit',\n",
       " 'adopted',\n",
       " 'advantage',\n",
       " 'adverse',\n",
       " 'aerosols',\n",
       " 'affect',\n",
       " 'affected',\n",
       " 'affects',\n",
       " 'afm',\n",
       " 'after',\n",
       " 'ag',\n",
       " 'agreed',\n",
       " 'aims',\n",
       " 'aisi410',\n",
       " 'al2o3',\n",
       " 'aligned',\n",
       " 'all',\n",
       " 'allowing',\n",
       " 'allows',\n",
       " 'along',\n",
       " 'also',\n",
       " 'aluminum',\n",
       " 'amplitude',\n",
       " 'an',\n",
       " 'analysis',\n",
       " 'analysissof',\n",
       " 'analytic',\n",
       " 'analytical',\n",
       " 'analyze',\n",
       " 'analyzed',\n",
       " 'analyzing',\n",
       " 'and',\n",
       " 'andmechanical',\n",
       " 'andsclassical',\n",
       " 'angular',\n",
       " 'anisotropic',\n",
       " 'anisotropy',\n",
       " 'anti',\n",
       " 'application',\n",
       " 'applications',\n",
       " 'applied',\n",
       " 'applies',\n",
       " 'approach',\n",
       " 'approached',\n",
       " 'approaches',\n",
       " 'approaching',\n",
       " 'are',\n",
       " 'area',\n",
       " 'arise',\n",
       " 'article',\n",
       " 'artificial',\n",
       " 'as',\n",
       " 'assembled',\n",
       " 'assembly',\n",
       " 'astrophysical',\n",
       " 'asymmetry',\n",
       " 'at',\n",
       " 'atom',\n",
       " 'atomic',\n",
       " 'attachment',\n",
       " 'attention',\n",
       " 'attocube',\n",
       " 'attraction',\n",
       " 'attributed',\n",
       " 'au',\n",
       " 'august',\n",
       " 'aureus',\n",
       " 'average',\n",
       " 'averaged',\n",
       " 'bacterial',\n",
       " 'baffle',\n",
       " 'bandar',\n",
       " 'base',\n",
       " 'based',\n",
       " 'basic',\n",
       " 'be',\n",
       " 'because',\n",
       " 'been',\n",
       " 'before',\n",
       " 'behavior',\n",
       " 'behaviorand',\n",
       " 'behind',\n",
       " 'beneath',\n",
       " 'benefited',\n",
       " 'best',\n",
       " 'better',\n",
       " 'between',\n",
       " 'biaxial',\n",
       " 'bifeo3',\n",
       " 'biological',\n",
       " 'biomolecules',\n",
       " 'bitter',\n",
       " 'bleached',\n",
       " 'blending',\n",
       " 'bn',\n",
       " 'boltzmann',\n",
       " 'boron',\n",
       " 'borosilicate',\n",
       " 'both',\n",
       " 'bottom',\n",
       " 'breaking',\n",
       " 'broad',\n",
       " 'broadband',\n",
       " 'broadly',\n",
       " 'brownian',\n",
       " 'bulk',\n",
       " 'burgers',\n",
       " 'but',\n",
       " 'by',\n",
       " 'bysusing',\n",
       " 'c_s',\n",
       " 'calculated',\n",
       " 'calculation',\n",
       " 'calculations',\n",
       " 'calibration',\n",
       " 'can',\n",
       " 'candidate',\n",
       " 'cantilever',\n",
       " 'cantilevers',\n",
       " 'capture',\n",
       " 'carried',\n",
       " 'case',\n",
       " 'cases',\n",
       " 'caused',\n",
       " 'cd',\n",
       " 'cdot',\n",
       " 'cells',\n",
       " 'cellular',\n",
       " 'center',\n",
       " 'centers',\n",
       " 'centre',\n",
       " 'certain',\n",
       " 'challenging',\n",
       " 'change',\n",
       " 'changed',\n",
       " 'changes',\n",
       " 'changing',\n",
       " 'channel',\n",
       " 'chaotic',\n",
       " 'characteristic',\n",
       " 'characteristics',\n",
       " 'characterization',\n",
       " 'characterized',\n",
       " 'charge',\n",
       " 'charged',\n",
       " 'charges',\n",
       " 'chemically',\n",
       " 'chip',\n",
       " 'circular',\n",
       " 'cities',\n",
       " 'classical',\n",
       " 'classically',\n",
       " 'clear',\n",
       " 'climate',\n",
       " 'climates',\n",
       " 'closely',\n",
       " 'coarse',\n",
       " 'coated',\n",
       " 'coatedhss',\n",
       " 'coating',\n",
       " 'coatings',\n",
       " 'coefficient',\n",
       " 'coexist',\n",
       " 'cofe2o4',\n",
       " 'coli',\n",
       " 'collector',\n",
       " 'collisions',\n",
       " 'colored',\n",
       " 'combined',\n",
       " 'come',\n",
       " 'comfort',\n",
       " 'commercial',\n",
       " 'common',\n",
       " 'compact',\n",
       " 'compared',\n",
       " 'comparison',\n",
       " 'completely',\n",
       " 'complicated',\n",
       " 'components',\n",
       " 'composition',\n",
       " 'compressive',\n",
       " 'comprises',\n",
       " 'comprising',\n",
       " 'concentrate',\n",
       " 'concentration',\n",
       " 'concentrations',\n",
       " 'concerning',\n",
       " 'concluded',\n",
       " 'condition',\n",
       " 'conditions',\n",
       " 'conducting',\n",
       " 'conduction',\n",
       " 'conductive',\n",
       " 'conductivity',\n",
       " 'confinement',\n",
       " 'confirmed',\n",
       " 'conservation',\n",
       " 'considerably',\n",
       " 'consideration',\n",
       " 'considerations',\n",
       " 'considered',\n",
       " 'consistency',\n",
       " 'consistently',\n",
       " 'consistentswith',\n",
       " 'consisting',\n",
       " 'consists',\n",
       " 'conspicuous',\n",
       " 'constant',\n",
       " 'constants',\n",
       " 'constitutes',\n",
       " 'constitutive',\n",
       " 'consuming',\n",
       " 'consumption',\n",
       " 'contrary',\n",
       " 'contrast',\n",
       " 'contribute',\n",
       " 'controlled',\n",
       " 'controlling',\n",
       " 'controls',\n",
       " 'convection',\n",
       " 'conventional',\n",
       " 'converges',\n",
       " 'converted',\n",
       " 'cooled',\n",
       " 'cooling',\n",
       " 'copper',\n",
       " 'core',\n",
       " 'correlation',\n",
       " 'coupled',\n",
       " 'coupling',\n",
       " 'cover',\n",
       " 'covering',\n",
       " 'crater',\n",
       " 'critical',\n",
       " 'crucial',\n",
       " 'cryogenic',\n",
       " 'crystal',\n",
       " 'crystalline',\n",
       " 'crystallite',\n",
       " 'crystallites',\n",
       " 'cu',\n",
       " 'cubic',\n",
       " 'cuo',\n",
       " 'cut0',\n",
       " 'cutting',\n",
       " 'cuvette',\n",
       " 'cuvettes',\n",
       " 'cyclotron',\n",
       " 'cylinder',\n",
       " 'cylindrical',\n",
       " 'damage',\n",
       " 'dasws',\n",
       " 'data',\n",
       " 'de',\n",
       " 'deal',\n",
       " 'decreases',\n",
       " 'defect',\n",
       " 'defective',\n",
       " 'defects',\n",
       " 'defined',\n",
       " 'deflection',\n",
       " 'degenerate',\n",
       " 'delayed',\n",
       " 'delays',\n",
       " 'delivery',\n",
       " 'deltane',\n",
       " 'demagnetizing',\n",
       " 'demonstrated',\n",
       " 'demonstrates',\n",
       " 'demonstrating',\n",
       " 'dense',\n",
       " 'densities',\n",
       " 'density',\n",
       " 'depend',\n",
       " 'dependence',\n",
       " 'dependent',\n",
       " 'deposit',\n",
       " 'deposited',\n",
       " 'deposition',\n",
       " 'deposits',\n",
       " 'depths',\n",
       " 'der',\n",
       " 'derivation',\n",
       " 'derived',\n",
       " 'describe',\n",
       " 'described',\n",
       " 'describes',\n",
       " 'description',\n",
       " 'design',\n",
       " 'designbuilder',\n",
       " 'designed',\n",
       " 'desired',\n",
       " 'destructive',\n",
       " 'detail',\n",
       " 'detecting',\n",
       " 'detection',\n",
       " 'detector',\n",
       " 'determine',\n",
       " 'determined',\n",
       " 'determines',\n",
       " 'detrimental',\n",
       " 'developed',\n",
       " 'deviation',\n",
       " 'device',\n",
       " 'devices',\n",
       " 'diamagnetic',\n",
       " 'diameter',\n",
       " 'diameters',\n",
       " 'dichroism',\n",
       " 'difference',\n",
       " 'different',\n",
       " 'diffused',\n",
       " 'dilatometer',\n",
       " 'dimension',\n",
       " 'dimensional',\n",
       " 'dipolar',\n",
       " 'direction',\n",
       " 'directions',\n",
       " 'disc',\n",
       " 'discuss',\n",
       " 'dislocation',\n",
       " 'dislocations',\n",
       " 'dispersion',\n",
       " 'displacement',\n",
       " 'displacements',\n",
       " 'displays',\n",
       " 'dissimilar',\n",
       " 'distance',\n",
       " 'distinct',\n",
       " 'distorted',\n",
       " 'distribution',\n",
       " 'diverges',\n",
       " 'diverse',\n",
       " 'does',\n",
       " 'domain',\n",
       " 'dominate',\n",
       " 'dominates',\n",
       " 'done',\n",
       " 'dopant',\n",
       " 'doped',\n",
       " 'double',\n",
       " 'dramatically',\n",
       " 'drift',\n",
       " 'drifts',\n",
       " 'driven',\n",
       " 'driving',\n",
       " 'dropped',\n",
       " 'drude',\n",
       " 'drug',\n",
       " 'dry',\n",
       " 'dual',\n",
       " 'due',\n",
       " 'during',\n",
       " 'dust',\n",
       " 'dusty',\n",
       " 'dynamic',\n",
       " 'dynamical',\n",
       " 'dynamics',\n",
       " 'e_s',\n",
       " 'each',\n",
       " 'earlier',\n",
       " 'easy',\n",
       " 'ecd',\n",
       " 'ecp',\n",
       " 'eds',\n",
       " 'educational',\n",
       " 'eef',\n",
       " 'effect',\n",
       " 'effective',\n",
       " 'effects',\n",
       " 'efficiency',\n",
       " 'either',\n",
       " 'ejection',\n",
       " 'electric',\n",
       " 'electrical',\n",
       " 'electrochromic',\n",
       " 'electromechanical',\n",
       " 'electron',\n",
       " 'electronics',\n",
       " 'electrons',\n",
       " 'electrostatic',\n",
       " 'electrostatics',\n",
       " 'elements',\n",
       " 'eliminated',\n",
       " 'ellipsometry',\n",
       " 'ellipticity',\n",
       " 'emanating',\n",
       " 'embedded',\n",
       " 'employed',\n",
       " 'employing',\n",
       " 'enclosure',\n",
       " 'end',\n",
       " 'energies',\n",
       " 'energy',\n",
       " 'enforcing',\n",
       " 'enhanced',\n",
       " 'enhancement',\n",
       " 'ensuring',\n",
       " 'environment',\n",
       " 'environments',\n",
       " 'equation',\n",
       " 'equilibrium',\n",
       " 'error',\n",
       " 'essential',\n",
       " 'essentially',\n",
       " 'established',\n",
       " 'esters',\n",
       " 'estimating',\n",
       " 'evaluation',\n",
       " 'even',\n",
       " 'evidence',\n",
       " 'evolution',\n",
       " 'ex',\n",
       " 'examine',\n",
       " 'examined',\n",
       " 'example',\n",
       " 'exceeding',\n",
       " 'exceeds',\n",
       " 'excellent',\n",
       " 'excess',\n",
       " 'exchange',\n",
       " 'excitation',\n",
       " 'exciting',\n",
       " 'exert',\n",
       " 'exerted',\n",
       " 'exhibits',\n",
       " 'exist',\n",
       " 'existence',\n",
       " 'existing',\n",
       " 'exists',\n",
       " 'experiment',\n",
       " 'experimental',\n",
       " 'experimentally',\n",
       " 'experimentation',\n",
       " 'experiments',\n",
       " 'explain',\n",
       " 'exposed',\n",
       " 'expressions',\n",
       " 'extended',\n",
       " 'extending',\n",
       " 'external',\n",
       " 'extreme',\n",
       " 'extremely',\n",
       " 'fact',\n",
       " 'factor',\n",
       " 'fascinating',\n",
       " 'faster',\n",
       " 'fault',\n",
       " 'fdtd',\n",
       " 'fe3o4',\n",
       " 'feasibility',\n",
       " 'features',\n",
       " 'feedback',\n",
       " 'femtosecond',\n",
       " 'fermi',\n",
       " 'ferric',\n",
       " 'ferrous',\n",
       " 'field',\n",
       " 'filled',\n",
       " 'film',\n",
       " 'films',\n",
       " 'filter',\n",
       " 'finally',\n",
       " 'find',\n",
       " 'findings',\n",
       " 'finite',\n",
       " 'first',\n",
       " 'fit',\n",
       " 'five',\n",
       " 'fixed',\n",
       " 'fixing',\n",
       " 'float',\n",
       " 'flow',\n",
       " 'fluctuations',\n",
       " 'fluence',\n",
       " 'fluid',\n",
       " 'fluids',\n",
       " 'focal',\n",
       " 'focus',\n",
       " 'focused',\n",
       " 'focuses',\n",
       " 'focusing',\n",
       " 'fold',\n",
       " 'following',\n",
       " 'for',\n",
       " 'force',\n",
       " 'forces',\n",
       " 'form',\n",
       " 'formalism',\n",
       " 'formation',\n",
       " 'formed',\n",
       " 'forti0',\n",
       " 'found',\n",
       " 'four',\n",
       " 'fourth',\n",
       " 'fractal',\n",
       " 'fraction',\n",
       " 'fracture',\n",
       " 'free',\n",
       " 'frequencies',\n",
       " 'frequency',\n",
       " 'friction',\n",
       " 'from',\n",
       " 'frosting',\n",
       " 'frustrated',\n",
       " 'function',\n",
       " 'functionality',\n",
       " 'functionalization',\n",
       " 'functions',\n",
       " 'fundamental',\n",
       " 'further',\n",
       " 'gap',\n",
       " 'gas',\n",
       " 'gases',\n",
       " 'generalized',\n",
       " 'generated',\n",
       " 'generation',\n",
       " 'geometrical',\n",
       " 'get',\n",
       " 'given',\n",
       " 'glass',\n",
       " 'glazed',\n",
       " 'gnp',\n",
       " 'gold',\n",
       " 'good',\n",
       " 'gpa',\n",
       " 'gradient',\n",
       " 'gradients',\n",
       " 'gradte',\n",
       " 'gradually',\n",
       " 'grains',\n",
       " 'grainsize',\n",
       " 'gram',\n",
       " 'greater',\n",
       " 'grooving',\n",
       " 'groups',\n",
       " 'grown',\n",
       " 'growth',\n",
       " 'gt',\n",
       " 'had',\n",
       " 'hamaker',\n",
       " 'handed',\n",
       " 'hardness',\n",
       " 'hartmann',\n",
       " 'has',\n",
       " 'hat',\n",
       " 'have',\n",
       " 'havenesssparameter',\n",
       " 'having',\n",
       " 'head',\n",
       " 'heat',\n",
       " 'height',\n",
       " 'heights',\n",
       " 'held',\n",
       " 'helical',\n",
       " 'helium',\n",
       " 'help',\n",
       " 'helpful',\n",
       " 'hence',\n",
       " 'here',\n",
       " 'hereafter',\n",
       " 'herein',\n",
       " 'hf',\n",
       " 'high',\n",
       " 'higher',\n",
       " 'highlighted',\n",
       " 'highly',\n",
       " 'hirota',\n",
       " 'ho',\n",
       " 'holds',\n",
       " 'hole',\n",
       " 'honge',\n",
       " 'hot',\n",
       " 'how',\n",
       " 'however',\n",
       " 'hss',\n",
       " 'hsssingle',\n",
       " 'humid',\n",
       " 'hydrodynamic',\n",
       " 'hysteresis',\n",
       " 'iaw',\n",
       " 'ide',\n",
       " 'ideal',\n",
       " 'identical',\n",
       " 'identified',\n",
       " 'identify',\n",
       " 'images',\n",
       " 'imaging',\n",
       " 'impact',\n",
       " 'impacting',\n",
       " 'implementation',\n",
       " 'implemented',\n",
       " 'important',\n",
       " 'improved',\n",
       " 'improvement',\n",
       " 'improves',\n",
       " 'impurities',\n",
       " 'impurity',\n",
       " 'in',\n",
       " 'included',\n",
       " 'including',\n",
       " 'increase',\n",
       " 'increased',\n",
       " 'increases',\n",
       " 'increasing',\n",
       " 'incubation',\n",
       " 'independent',\n",
       " 'indicate',\n",
       " 'indicates',\n",
       " 'individual',\n",
       " 'induced',\n",
       " 'induces',\n",
       " 'induction',\n",
       " 'inferred',\n",
       " 'infin',\n",
       " 'influence',\n",
       " 'information',\n",
       " 'infrared',\n",
       " 'inhibition',\n",
       " 'input',\n",
       " 'inserting',\n",
       " 'inside',\n",
       " 'instead',\n",
       " 'instrument',\n",
       " 'insufficient',\n",
       " 'int_',\n",
       " 'integrability',\n",
       " 'integrable',\n",
       " 'integral',\n",
       " 'intense',\n",
       " 'interact',\n",
       " 'interacting',\n",
       " 'interaction',\n",
       " 'interactions',\n",
       " 'interfaces',\n",
       " 'interferometric',\n",
       " 'interpreting',\n",
       " 'into',\n",
       " 'intrinsic',\n",
       " 'investigate',\n",
       " 'investigated',\n",
       " 'investigation',\n",
       " 'ion',\n",
       " 'ions',\n",
       " 'iran',\n",
       " 'irradiated',\n",
       " 'irradiation',\n",
       " 'is',\n",
       " 'isotherms',\n",
       " 'it',\n",
       " 'its',\n",
       " 'k_s',\n",
       " 'kdv',\n",
       " 'kev',\n",
       " 'key',\n",
       " 'khz',\n",
       " 'kind',\n",
       " 'kinetic',\n",
       " 'kkl',\n",
       " 'kleinstreuer',\n",
       " 'knowledge',\n",
       " 'known',\n",
       " 'koo',\n",
       " 'korteweg',\n",
       " 'lacunarity',\n",
       " 'large',\n",
       " 'larger',\n",
       " 'laser',\n",
       " 'lateral',\n",
       " 'lattice',\n",
       " 'layer',\n",
       " 'lbm',\n",
       " 'lchar',\n",
       " 'lead',\n",
       " 'leading',\n",
       " 'leads',\n",
       " 'least',\n",
       " 'leaving',\n",
       " 'left',\n",
       " 'length',\n",
       " 'lens',\n",
       " 'less',\n",
       " 'letter',\n",
       " 'level',\n",
       " 'levels',\n",
       " 'li',\n",
       " 'lid',\n",
       " 'life',\n",
       " 'ligand',\n",
       " 'light',\n",
       " 'like',\n",
       " 'limit',\n",
       " 'linear',\n",
       " 'liquid',\n",
       " 'liquids',\n",
       " 'little',\n",
       " 'local',\n",
       " 'long',\n",
       " 'longer',\n",
       " 'longitudinal',\n",
       " 'loops',\n",
       " 'low',\n",
       " 'lower',\n",
       " 'lt',\n",
       " 'lubricating',\n",
       " 'lubrication',\n",
       " 'm_0',\n",
       " 'magnet',\n",
       " 'magnetic',\n",
       " 'magnetically',\n",
       " 'magnetized',\n",
       " 'magnetostriction',\n",
       " 'magnificent',\n",
       " 'magnitude',\n",
       " 'main',\n",
       " 'major',\n",
       " 'making',\n",
       " 'manifesting',\n",
       " 'manipulate',\n",
       " 'mantle',\n",
       " 'many',\n",
       " 'mapping',\n",
       " 'marker',\n",
       " 'massive',\n",
       " 'matching',\n",
       " 'material',\n",
       " 'materials',\n",
       " 'mathcal',\n",
       " 'matrix',\n",
       " 'may',\n",
       " 'mean',\n",
       " 'measure',\n",
       " 'measured',\n",
       " 'measurement',\n",
       " 'measurements',\n",
       " 'measuring',\n",
       " 'mechanical',\n",
       " 'media',\n",
       " 'membrane',\n",
       " 'memristive',\n",
       " 'metallic',\n",
       " 'metamaterial',\n",
       " 'metamaterials',\n",
       " 'method',\n",
       " 'methods',\n",
       " 'micro',\n",
       " 'microfluidic',\n",
       " 'micron',\n",
       " 'microparticle',\n",
       " 'microscope',\n",
       " 'microscopy',\n",
       " 'microstructural',\n",
       " 'microstructure',\n",
       " 'mild',\n",
       " 'minus',\n",
       " 'mitigation',\n",
       " 'mixed',\n",
       " 'mkdv',\n",
       " 'mm',\n",
       " 'mo',\n",
       " 'mobility',\n",
       " 'mode',\n",
       " 'model',\n",
       " 'modeled',\n",
       " 'modeling',\n",
       " 'models',\n",
       " 'moderate',\n",
       " 'modes',\n",
       " 'modified',\n",
       " 'modulating',\n",
       " 'mol',\n",
       " 'molecular',\n",
       " 'molecule',\n",
       " 'molecules',\n",
       " 'momentum',\n",
       " 'month',\n",
       " 'months',\n",
       " 'more',\n",
       " 'moreover',\n",
       " 'mortem',\n",
       " 'most',\n",
       " 'motion',\n",
       " 'msa',\n",
       " 'mse',\n",
       " 'mu_0',\n",
       " 'much',\n",
       " 'multi',\n",
       " 'multispecies',\n",
       " 'mustard',\n",
       " 'n1000',\n",
       " 'n300',\n",
       " 'n500',\n",
       " 'n_e',\n",
       " 'n_y',\n",
       " 'nano',\n",
       " 'nanocomposit',\n",
       " 'nanocomposite',\n",
       " 'nanocomposites',\n",
       " 'nanocrystal',\n",
       " 'nanocrystals',\n",
       " 'nanofluid',\n",
       " 'nanofluids',\n",
       " 'nanoindentation',\n",
       " 'nanomechanical',\n",
       " 'nanometer',\n",
       " 'nanometers',\n",
       " 'nanoparticle',\n",
       " 'nanoparticles',\n",
       " 'nanorods',\n",
       " 'nanoscale',\n",
       " 'nanosecond',\n",
       " 'nanostructure',\n",
       " 'nanostructures',\n",
       " 'nanosystems',\n",
       " 'nanowire',\n",
       " 'natural',\n",
       " 'nature',\n",
       " 'nb',\n",
       " 'nbn',\n",
       " 'ne',\n",
       " 'near',\n",
       " 'necessitate',\n",
       " 'need',\n",
       " 'needed',\n",
       " 'neem',\n",
       " 'negative',\n",
       " 'negligible',\n",
       " 'neither',\n",
       " 'new',\n",
       " 'nitrate',\n",
       " 'nld',\n",
       " 'nm',\n",
       " 'no',\n",
       " 'noise',\n",
       " 'non',\n",
       " 'nondestructive',\n",
       " 'nondestructively',\n",
       " 'nonlinear',\n",
       " 'nonlinearity',\n",
       " 'nontrivial',\n",
       " 'nor',\n",
       " 'normal',\n",
       " 'normallysgoverned',\n",
       " 'not',\n",
       " 'noticed',\n",
       " 'np',\n",
       " 'nsa',\n",
       " 'nucleation',\n",
       " 'number',\n",
       " 'numbers',\n",
       " 'numerical',\n",
       " 'numerically',\n",
       " 'numerous',\n",
       " 'nusselt',\n",
       " 'nx',\n",
       " 'obey',\n",
       " 'observation',\n",
       " 'observed',\n",
       " 'obtained',\n",
       " 'occur',\n",
       " 'occurred',\n",
       " 'octahedra',\n",
       " 'of',\n",
       " 'off',\n",
       " 'ofti0',\n",
       " 'oil',\n",
       " 'on',\n",
       " 'one',\n",
       " 'only',\n",
       " 'onthe',\n",
       " 'operation',\n",
       " 'opposite',\n",
       " 'optic',\n",
       " 'optical',\n",
       " 'optically',\n",
       " 'optimization',\n",
       " 'optimizing',\n",
       " 'optimum',\n",
       " 'optoelectronics',\n",
       " 'optomechanical',\n",
       " 'or',\n",
       " 'orbital',\n",
       " 'order',\n",
       " 'ordering',\n",
       " 'orientation',\n",
       " 'orientations',\n",
       " 'original',\n",
       " 'oscillator',\n",
       " 'oscillatory',\n",
       " 'other',\n",
       " 'our',\n",
       " 'out',\n",
       " 'outlet',\n",
       " 'over',\n",
       " 'overall',\n",
       " 'overtaking',\n",
       " 'owing',\n",
       " 'oxide',\n",
       " 'oxygen',\n",
       " 'paid',\n",
       " 'parabolic',\n",
       " 'parallel',\n",
       " 'parameter',\n",
       " 'parameters',\n",
       " 'partial',\n",
       " 'partials',\n",
       " 'particle',\n",
       " 'particles',\n",
       " 'particular',\n",
       " 'past',\n",
       " 'pathogens',\n",
       " 'patterned',\n",
       " 'patterns',\n",
       " 'pdms',\n",
       " 'pdms2000',\n",
       " 'pdms700',\n",
       " 'peakforce',\n",
       " 'per',\n",
       " 'percentage',\n",
       " 'performance',\n",
       " 'performances',\n",
       " 'performed',\n",
       " 'periodicity',\n",
       " 'perovskite',\n",
       " 'perpendicular',\n",
       " 'persist',\n",
       " ...]"
      ]
     },
     "execution_count": 118,
     "metadata": {},
     "output_type": "execute_result"
    }
   ],
   "source": [
    "terms2=vectorizer2.get_feature_names()\n",
    "terms2"
   ]
  },
  {
   "cell_type": "code",
   "execution_count": 119,
   "metadata": {},
   "outputs": [
    {
     "name": "stdout",
     "output_type": "stream",
     "text": [
      "Cluster 0:\n",
      " 10\n",
      " and\n",
      " analyzing\n",
      " analyze\n",
      " analytical\n",
      " cases\n",
      " an\n",
      " amplitude\n",
      " cells\n",
      " allows\n",
      "Cluster 1:\n",
      " approaching\n",
      " attachment\n",
      " attocube\n",
      " attributed\n",
      " au\n",
      " august\n",
      " aureus\n",
      " average\n",
      " bacterial\n",
      " baffle\n"
     ]
    }
   ],
   "source": [
    "for i in range(2):\n",
    "    print(\"Cluster %d:\" % i),\n",
    "    for ind in centroid[i, :10]:\n",
    "        print(' %s' % terms2[ind])"
   ]
  },
  {
   "cell_type": "code",
   "execution_count": 120,
   "metadata": {},
   "outputs": [
    {
     "name": "stdout",
     "output_type": "stream",
     "text": [
      "Prediction\n",
      "[0]\n"
     ]
    }
   ],
   "source": [
    "print(\"Prediction\")\n",
    "X2=vectorizer1.transform([\"Acoustic damping is another relevant factor in AEH applications as it influences the quality of the acoustic resonator. \"])\n",
    "y_predict=model.predict(X2)\n",
    "print(y_predict)"
   ]
  },
  {
   "cell_type": "markdown",
   "metadata": {},
   "source": [
    "## ii) MiniBatch K-Means Clustering Algorithm"
   ]
  },
  {
   "cell_type": "code",
   "execution_count": 121,
   "metadata": {},
   "outputs": [],
   "source": [
    "from sklearn.cluster import MiniBatchKMeans\n",
    "from sklearn.feature_extraction.text import TfidfVectorizer\n",
    "from sklearn.decomposition import PCA\n",
    "import matplotlib.pyplot as plt"
   ]
  },
  {
   "cell_type": "code",
   "execution_count": 122,
   "metadata": {},
   "outputs": [
    {
     "data": {
      "text/plain": [
       "<28x1503 sparse matrix of type '<class 'numpy.float64'>'\n",
       "\twith 2680 stored elements in Compressed Sparse Row format>"
      ]
     },
     "execution_count": 122,
     "metadata": {},
     "output_type": "execute_result"
    }
   ],
   "source": [
    "tfidfvectorizer1 = TfidfVectorizer()\n",
    "tfidfvectorizer1.fit(data.ABSTRACT.values)\n",
    "features1 = tfidfvectorizer1.transform(data.ABSTRACT.values)\n",
    "features1"
   ]
  },
  {
   "cell_type": "code",
   "execution_count": 123,
   "metadata": {},
   "outputs": [
    {
     "data": {
      "text/plain": [
       "MiniBatchKMeans(batch_size=100, compute_labels=True, init='k-means++',\n",
       "                init_size=None, max_iter=100, max_no_improvement=10,\n",
       "                n_clusters=5, n_init=3, random_state=10,\n",
       "                reassignment_ratio=0.01, tol=0.0, verbose=0)"
      ]
     },
     "execution_count": 123,
     "metadata": {},
     "output_type": "execute_result"
    }
   ],
   "source": [
    "model = MiniBatchKMeans(n_clusters=5, random_state=10)\n",
    "model.fit(features1)"
   ]
  },
  {
   "cell_type": "code",
   "execution_count": 124,
   "metadata": {},
   "outputs": [
    {
     "data": {
      "text/plain": [
       "array([1, 1, 1, 1, 0, 1, 1, 1, 2, 1, 4, 3, 1, 1, 1, 0, 0, 1, 1, 0, 1, 1,\n",
       "       1, 1, 1, 3, 1, 1])"
      ]
     },
     "execution_count": 124,
     "metadata": {},
     "output_type": "execute_result"
    }
   ],
   "source": [
    "model.predict(features1)"
   ]
  },
  {
   "cell_type": "code",
   "execution_count": 125,
   "metadata": {},
   "outputs": [
    {
     "data": {
      "text/plain": [
       "array([1, 1, 1, 1, 0, 1, 1, 1, 2, 1, 4, 3, 1, 1, 1, 0, 0, 1, 1, 0, 1, 1,\n",
       "       1, 1, 1, 3, 1, 1])"
      ]
     },
     "execution_count": 125,
     "metadata": {},
     "output_type": "execute_result"
    }
   ],
   "source": [
    "model.labels_"
   ]
  },
  {
   "cell_type": "code",
   "execution_count": 126,
   "metadata": {},
   "outputs": [],
   "source": [
    "pca=PCA(random_state=10,n_components=2)"
   ]
  },
  {
   "cell_type": "code",
   "execution_count": 127,
   "metadata": {},
   "outputs": [
    {
     "data": {
      "text/plain": [
       "array([[-0.13937109,  0.17637842],\n",
       "       [-0.0196768 ,  0.4408702 ],\n",
       "       [ 0.0280062 ,  0.09396677],\n",
       "       [ 0.03289389,  0.07004447],\n",
       "       [ 0.36852108,  0.23920165],\n",
       "       [-0.04378498,  0.32009557],\n",
       "       [-0.29098478, -0.13977091],\n",
       "       [-0.06564167,  0.48602276],\n",
       "       [ 0.0419101 ,  0.24626672],\n",
       "       [-0.21497951, -0.15040361],\n",
       "       [-0.11471063, -0.09843462],\n",
       "       [ 0.2181603 , -0.3333124 ],\n",
       "       [ 0.55355325, -0.06267547],\n",
       "       [-0.19732615, -0.12644825],\n",
       "       [-0.04209464, -0.14257173],\n",
       "       [ 0.08607665, -0.22144226],\n",
       "       [ 0.04004057, -0.05077902],\n",
       "       [-0.23873051, -0.02603309],\n",
       "       [ 0.04752702, -0.01997097],\n",
       "       [ 0.13911899,  0.0207692 ],\n",
       "       [ 0.06749871,  0.08470447],\n",
       "       [-0.34018072, -0.20173354],\n",
       "       [-0.03826043,  0.04748733],\n",
       "       [ 0.00438791, -0.03909674],\n",
       "       [-0.21863065, -0.07990011],\n",
       "       [ 0.43229678, -0.29730035],\n",
       "       [ 0.03370841, -0.06714339],\n",
       "       [-0.12932728, -0.16879112]])"
      ]
     },
     "execution_count": 127,
     "metadata": {},
     "output_type": "execute_result"
    }
   ],
   "source": [
    "trimmed_features1=pca.fit_transform(features1.toarray())\n",
    "trimmed_features1"
   ]
  },
  {
   "cell_type": "code",
   "execution_count": 128,
   "metadata": {},
   "outputs": [
    {
     "data": {
      "text/plain": [
       "array([[0.01338824, 0.00067788, 0.01888116, ..., 0.        , 0.        ,\n",
       "        0.        ],\n",
       "       [0.00170193, 0.00718056, 0.00366343, ..., 0.00586909, 0.00293455,\n",
       "        0.00293455],\n",
       "       [0.        , 0.        , 0.        , ..., 0.        , 0.        ,\n",
       "        0.        ],\n",
       "       [0.        , 0.        , 0.        , ..., 0.        , 0.        ,\n",
       "        0.        ],\n",
       "       [0.        , 0.        , 0.        , ..., 0.        , 0.        ,\n",
       "        0.        ]])"
      ]
     },
     "execution_count": 128,
     "metadata": {},
     "output_type": "execute_result"
    }
   ],
   "source": [
    "model.cluster_centers_"
   ]
  },
  {
   "cell_type": "code",
   "execution_count": 129,
   "metadata": {},
   "outputs": [
    {
     "data": {
      "text/plain": [
       "array([[ 0.15332939, -0.00158443],\n",
       "       [-0.05463975,  0.03316541],\n",
       "       [ 0.0419101 ,  0.24626672],\n",
       "       [ 0.35327022, -0.31059051],\n",
       "       [-0.11471063, -0.09843462]])"
      ]
     },
     "execution_count": 129,
     "metadata": {},
     "output_type": "execute_result"
    }
   ],
   "source": [
    "trim_cluster_centers=pca.transform(model.cluster_centers_)\n",
    "trim_cluster_centers"
   ]
  },
  {
   "cell_type": "code",
   "execution_count": 130,
   "metadata": {},
   "outputs": [
    {
     "data": {
      "text/plain": [
       "<matplotlib.collections.PathCollection at 0x53d2748>"
      ]
     },
     "execution_count": 130,
     "metadata": {},
     "output_type": "execute_result"
    },
    {
     "data": {
      "image/png": "[encoded data removed]",
      "text/plain": [
       "<Figure size 1440x360 with 1 Axes>"
      ]
     },
     "metadata": {
      "needs_background": "light"
     },
     "output_type": "display_data"
    }
   ],
   "source": [
    "plt.figure(figsize=(20,5))\n",
    "plt.scatter(trimmed_features1[:,0], trimmed_features1[:,1], c=model.predict(features1))\n",
    "plt.scatter(trim_cluster_centers[:,0],trim_cluster_centers[:,1],marker='X',c='red',s=100)"
   ]
  },
  {
   "cell_type": "code",
   "execution_count": 131,
   "metadata": {},
   "outputs": [
    {
     "name": "stdout",
     "output_type": "stream",
     "text": [
      " Homogeneity score of CORPUS ONE =  28.354897665496264\n"
     ]
    }
   ],
   "source": [
    "from sklearn.metrics import homogeneity_score\n",
    "print(\" Homogeneity score of CORPUS ONE = \", homogeneity_score(data.ABSTRACT, model.predict(features1))*100)"
   ]
  },
  {
   "cell_type": "code",
   "execution_count": 132,
   "metadata": {},
   "outputs": [
    {
     "name": "stdout",
     "output_type": "stream",
     "text": [
      " Silhouette score of CORPUS ONE =  0.42613694111319317\n"
     ]
    }
   ],
   "source": [
    "from sklearn.metrics import silhouette_score\n",
    "print(\" Silhouette score of CORPUS ONE = \", silhouette_score(features1, labels=model.predict(features1))*100)"
   ]
  },
  {
   "cell_type": "markdown",
   "metadata": {},
   "source": [
    "## iii) DBSCAN Clustering Algorithm"
   ]
  },
  {
   "cell_type": "code",
   "execution_count": 133,
   "metadata": {},
   "outputs": [],
   "source": [
    "from sklearn.cluster import DBSCAN\n",
    "from sklearn import metrics\n",
    "from sklearn.datasets import make_blobs\n",
    "from sklearn.preprocessing import StandardScaler"
   ]
  },
  {
   "cell_type": "code",
   "execution_count": 134,
   "metadata": {},
   "outputs": [],
   "source": [
    "X2, true_label = make_blobs(n_samples=50, cluster_std=0.4,random_state=0)\n",
    "X2= StandardScaler().fit_transform(X2)"
   ]
  },
  {
   "cell_type": "code",
   "execution_count": 135,
   "metadata": {},
   "outputs": [
    {
     "data": {
      "text/plain": [
       "DBSCAN(algorithm='auto', eps=3, leaf_size=30, metric='euclidean',\n",
       "       metric_params=None, min_samples=10, n_jobs=None, p=None)"
      ]
     },
     "execution_count": 135,
     "metadata": {},
     "output_type": "execute_result"
    }
   ],
   "source": [
    "dbscan_clustering = DBSCAN(eps=3, min_samples=10).fit(X2)\n",
    "dbscan_clustering"
   ]
  },
  {
   "cell_type": "code",
   "execution_count": 136,
   "metadata": {},
   "outputs": [],
   "source": [
    "core_samples_mask = np.zeros_like(dbscan_clustering.labels_, dtype=bool)\n",
    "core_samples_mask[dbscan_clustering.core_sample_indices_] = True"
   ]
  },
  {
   "cell_type": "code",
   "execution_count": 137,
   "metadata": {},
   "outputs": [
    {
     "data": {
      "text/plain": [
       "array([0, 0, 0, 0, 0, 0, 0, 0, 0, 0, 0, 0, 0, 0, 0, 0, 0, 0, 0, 0, 0, 0,\n",
       "       0, 0, 0, 0, 0, 0, 0, 0, 0, 0, 0, 0, 0, 0, 0, 0, 0, 0, 0, 0, 0, 0,\n",
       "       0, 0, 0, 0, 0, 0], dtype=int64)"
      ]
     },
     "execution_count": 137,
     "metadata": {},
     "output_type": "execute_result"
    }
   ],
   "source": [
    "dbscan_clustering.labels_\n",
    "label=dbscan_clustering.labels_\n",
    "label"
   ]
  },
  {
   "cell_type": "code",
   "execution_count": 138,
   "metadata": {},
   "outputs": [
    {
     "name": "stdout",
     "output_type": "stream",
     "text": [
      "1\n",
      "50\n"
     ]
    }
   ],
   "source": [
    "n_clusters=len(set(label))  - (1 if -1 in label else 0)\n",
    "print(n_clusters)\n",
    "n_noise = list(label).count(0)\n",
    "print(n_noise)"
   ]
  },
  {
   "cell_type": "code",
   "execution_count": 139,
   "metadata": {},
   "outputs": [
    {
     "name": "stdout",
     "output_type": "stream",
     "text": [
      "Estimated number of clusters: 1\n",
      "Estimated number of noise points: 50\n",
      "Homogeneity: -0.000\n",
      "Completeness: 1.000\n",
      "V-measure: -0.000\n",
      "Adjusted Rand Index: 0.000\n",
      "Adjusted Mutual Information: -0.000\n"
     ]
    }
   ],
   "source": [
    "print('Estimated number of clusters: %d' % n_clusters)\n",
    "print('Estimated number of noise points: %d' % n_noise)\n",
    "print(\"Homogeneity: %0.3f\" % metrics.homogeneity_score(true_label, label))\n",
    "print(\"Completeness: %0.3f\" % metrics.completeness_score(true_label, label))\n",
    "print(\"V-measure: %0.3f\" % metrics.v_measure_score(true_label, label))\n",
    "print(\"Adjusted Rand Index: %0.3f\"\n",
    "      % metrics.adjusted_rand_score(true_label, label))\n",
    "print(\"Adjusted Mutual Information: %0.3f\"\n",
    "      % metrics.adjusted_mutual_info_score(true_label, label))"
   ]
  },
  {
   "cell_type": "code",
   "execution_count": 140,
   "metadata": {},
   "outputs": [
    {
     "data": {
      "image/png": "[encoded data removed]",
      "text/plain": [
       "<Figure size 432x288 with 1 Axes>"
      ]
     },
     "metadata": {
      "needs_background": "light"
     },
     "output_type": "display_data"
    }
   ],
   "source": [
    "unique_labels = set(label)\n",
    "colors = [plt.cm.Spectral(each)\n",
    "          for each in np.linspace(0, 1, len(unique_labels))]\n",
    "for k, col in zip(unique_labels, colors):\n",
    "    if k == 1:\n",
    "        col = [1,1,1,1]\n",
    "\n",
    "    class_member_mask = (label == k)\n",
    "\n",
    "    xy = X2[class_member_mask & core_samples_mask]\n",
    "    plt.plot(xy[:, 0], xy[:, 1], 'o', markerfacecolor=tuple(col),\n",
    "             markeredgecolor='k', markersize=14)\n",
    "\n",
    "    xy = X2[class_member_mask & ~core_samples_mask]\n",
    "    plt.plot(xy[:, 0], xy[:, 1], 'o', markerfacecolor=tuple(col),\n",
    "             markeredgecolor='k', markersize=6)\n",
    "\n",
    "plt.title('Estimated number of clusters: %d' % n_clusters)\n",
    "plt.show()"
   ]
  },
  {
   "cell_type": "markdown",
   "metadata": {},
   "source": [
    "## Calculating the accuracy, precision, recall, F1 score and displaying a classification report "
   ]
  },
  {
   "cell_type": "code",
   "execution_count": 141,
   "metadata": {},
   "outputs": [
    {
     "name": "stdout",
     "output_type": "stream",
     "text": [
      "Accuracy =  34.0\n",
      "Precision =  33.33333333333333\n",
      "Recall =  34.0\n",
      "F1 score =  50.74626865671642\n",
      "              precision    recall  f1-score   support\n",
      "\n",
      "           0       1.00      0.34      0.51        50\n",
      "           1       0.00      0.00      0.00         0\n",
      "           2       0.00      0.00      0.00         0\n",
      "\n",
      "    accuracy                           0.34        50\n",
      "   macro avg       0.33      0.11      0.17        50\n",
      "weighted avg       1.00      0.34      0.51        50\n",
      "\n"
     ]
    }
   ],
   "source": [
    "print(\"Accuracy = \",accuracy_score(label,true_label,normalize=True)*100)\n",
    "print(\"Precision = \",precision_score(label,true_label,average='macro')*100)\n",
    "print(\"Recall = \",recall_score(label,true_label,average='weighted')*100)\n",
    "print(\"F1 score = \",f1_score(label,true_label,average='weighted')*100)\n",
    "\n",
    "print(classification_report(label,true_label))\n"
   ]
  },
  {
   "cell_type": "markdown",
   "metadata": {},
   "source": [
    "## iv) Mean Shift Clustering Algorithm"
   ]
  },
  {
   "cell_type": "code",
   "execution_count": 142,
   "metadata": {},
   "outputs": [],
   "source": [
    "from sklearn.cluster import MeanShift"
   ]
  },
  {
   "cell_type": "code",
   "execution_count": 143,
   "metadata": {},
   "outputs": [],
   "source": [
    "X2,true_label=make_blobs(n_samples=150,cluster_std=1.0)"
   ]
  },
  {
   "cell_type": "code",
   "execution_count": 144,
   "metadata": {},
   "outputs": [],
   "source": [
    "mean_shift_clustering = MeanShift(bandwidth=2).fit(X2)"
   ]
  },
  {
   "cell_type": "code",
   "execution_count": 145,
   "metadata": {},
   "outputs": [
    {
     "data": {
      "text/plain": [
       "MeanShift(bandwidth=2, bin_seeding=False, cluster_all=True, max_iter=300,\n",
       "          min_bin_freq=1, n_jobs=None, seeds=None)"
      ]
     },
     "execution_count": 145,
     "metadata": {},
     "output_type": "execute_result"
    }
   ],
   "source": [
    "mean_shift_clustering"
   ]
  },
  {
   "cell_type": "code",
   "execution_count": 146,
   "metadata": {},
   "outputs": [
    {
     "data": {
      "text/plain": [
       "array([[ 3.65669231, -4.74707594],\n",
       "       [-8.53133874, -6.64877217],\n",
       "       [-9.4379158 ,  3.81491934]])"
      ]
     },
     "execution_count": 146,
     "metadata": {},
     "output_type": "execute_result"
    }
   ],
   "source": [
    "centers=mean_shift_clustering.cluster_centers_\n",
    "centers"
   ]
  },
  {
   "cell_type": "code",
   "execution_count": 147,
   "metadata": {},
   "outputs": [
    {
     "data": {
      "text/plain": [
       "array([2, 1, 0, 2, 0, 1, 1, 0, 2, 0, 1, 0, 0, 2, 0, 2, 2, 2, 1, 2, 1, 1,\n",
       "       0, 0, 2, 2, 0, 0, 2, 0, 1, 2, 0, 1, 0, 1, 1, 1, 0, 2, 0, 1, 0, 1,\n",
       "       0, 1, 0, 2, 1, 1, 1, 2, 0, 2, 0, 2, 1, 1, 0, 2, 1, 0, 2, 2, 2, 2,\n",
       "       1, 2, 0, 0, 1, 0, 0, 1, 0, 0, 0, 0, 2, 0, 1, 1, 0, 1, 2, 1, 1, 1,\n",
       "       1, 0, 0, 2, 1, 1, 0, 2, 0, 1, 2, 0, 2, 1, 0, 2, 2, 0, 1, 2, 2, 0,\n",
       "       2, 2, 0, 1, 1, 1, 2, 0, 0, 2, 2, 2, 2, 0, 1, 0, 1, 1, 1, 0, 2, 2,\n",
       "       1, 1, 1, 2, 0, 2, 0, 2, 1, 1, 2, 2, 0, 1, 2, 2, 2, 1], dtype=int64)"
      ]
     },
     "execution_count": 147,
     "metadata": {},
     "output_type": "execute_result"
    }
   ],
   "source": [
    "mean_shift_clustering.labels_"
   ]
  },
  {
   "cell_type": "code",
   "execution_count": 148,
   "metadata": {},
   "outputs": [
    {
     "data": {
      "image/png": "[encoded data removed]",
      "text/plain": [
       "<Figure size 432x288 with 1 Axes>"
      ]
     },
     "metadata": {
      "needs_background": "light"
     },
     "output_type": "display_data"
    }
   ],
   "source": [
    "# Plotting the graph\n",
    "fig = plt.figure() \n",
    "  \n",
    "ax = fig.add_subplot(projection ='rectilinear') \n",
    "  \n",
    "ax.scatter(X2[:, 0], X2[:, 1], marker ='o',color='black') \n",
    "  \n",
    "ax.scatter(centers[:, 0],centers[:,1] ,marker ='x', color ='red', s = 300, \n",
    "           linewidth = 5, zorder = 10) \n",
    "  \n",
    "plt.title('Number of clusters along with centroids')    \n",
    "plt.show() "
   ]
  },
  {
   "cell_type": "markdown",
   "metadata": {},
   "source": [
    "## iv) Spectral Clustering"
   ]
  },
  {
   "cell_type": "code",
   "execution_count": 149,
   "metadata": {},
   "outputs": [],
   "source": [
    "from sklearn.cluster import SpectralClustering \n",
    "from sklearn.preprocessing import StandardScaler, normalize \n",
    "from sklearn.decomposition import PCA \n",
    "from sklearn.metrics import silhouette_score "
   ]
  },
  {
   "cell_type": "code",
   "execution_count": 150,
   "metadata": {},
   "outputs": [
    {
     "data": {
      "text/plain": [
       "array([[-0.5939615 ,  1.58647572],\n",
       "       [-0.61656256, -0.60535231],\n",
       "       [ 1.52084911, -0.37114433],\n",
       "       [-0.86423264,  1.69040093],\n",
       "       [ 1.46464859, -0.39649038],\n",
       "       [-0.76360322, -1.03246863],\n",
       "       [-0.61552857, -0.58867693],\n",
       "       [ 1.28913543, -0.24368935],\n",
       "       [-0.38267717,  1.2728836 ],\n",
       "       [ 1.49167723, -0.83983475],\n",
       "       [-0.49017984, -0.75906375],\n",
       "       [ 1.67240371, -0.84953812],\n",
       "       [ 1.36743717, -0.05958405],\n",
       "       [-0.67143019,  1.2629792 ],\n",
       "       [ 1.51827784, -0.09849399],\n",
       "       [-0.66057767,  0.93772785],\n",
       "       [-0.86766686,  1.1859149 ],\n",
       "       [-0.53801404,  1.50715435],\n",
       "       [-0.26484381, -1.17688288],\n",
       "       [-0.74529925,  1.131561  ],\n",
       "       [-0.75756434, -0.6319519 ],\n",
       "       [-0.71602957, -1.17964941],\n",
       "       [ 1.15011426, -0.48592755],\n",
       "       [ 1.40907255, -0.74240026],\n",
       "       [-0.91122179,  1.4330077 ],\n",
       "       [-0.81619061,  1.10622555],\n",
       "       [ 1.53612743, -0.63689457],\n",
       "       [ 1.20835342, -0.43221351],\n",
       "       [-0.68927137,  1.59896537],\n",
       "       [ 1.59003807, -0.41948098],\n",
       "       [-0.68150939, -0.47185137],\n",
       "       [-0.84251644,  1.60072736],\n",
       "       [ 1.53090902, -0.48072183],\n",
       "       [-1.07010541, -0.9194449 ],\n",
       "       [ 1.36508592, -0.25621433],\n",
       "       [-0.61519637, -0.68335147],\n",
       "       [-0.63180103, -1.23555192],\n",
       "       [-0.63357493, -0.7004615 ],\n",
       "       [ 1.55964531, -0.64721539],\n",
       "       [-0.6250164 ,  1.11050998],\n",
       "       [ 1.61642282, -0.70193009],\n",
       "       [-0.56289793, -0.55113868],\n",
       "       [ 1.32325536, -0.68208855],\n",
       "       [-0.45542692, -1.05747574],\n",
       "       [ 0.84111011, -0.63448177],\n",
       "       [-0.52216269, -0.77710829],\n",
       "       [ 1.29587311, -0.26472707],\n",
       "       [-0.65701596,  1.1212204 ],\n",
       "       [-0.78302271, -1.03631948],\n",
       "       [-0.78489633, -0.7448284 ],\n",
       "       [-0.36135749, -0.91736607],\n",
       "       [-0.61483843,  1.34815347],\n",
       "       [ 1.67958016, -0.3340913 ],\n",
       "       [-0.59822905,  1.3370345 ],\n",
       "       [ 1.50601429, -1.06539641],\n",
       "       [-0.88711142,  1.38639724],\n",
       "       [-0.54061057, -0.78402401],\n",
       "       [-0.58444604, -0.60348938],\n",
       "       [ 1.06521107, -0.48161493],\n",
       "       [-0.77766442,  1.11364666],\n",
       "       [-0.89759682, -0.96169633],\n",
       "       [ 1.29837151, -0.63454771],\n",
       "       [-0.90709296,  1.51367287],\n",
       "       [-0.91003164,  1.38956629],\n",
       "       [-1.04110239,  1.59819267],\n",
       "       [-0.58145121,  1.12446029],\n",
       "       [-0.54727894, -0.99030328],\n",
       "       [-0.90294242,  1.27767697],\n",
       "       [ 1.30369556, -0.41069577],\n",
       "       [ 1.27665303, -0.38772595],\n",
       "       [-0.52259195, -1.10200615],\n",
       "       [ 1.2183233 , -0.74226274],\n",
       "       [ 1.31373159, -0.25447477],\n",
       "       [-0.65442897, -0.93430748],\n",
       "       [ 1.41538996, -0.54542512],\n",
       "       [ 1.24982385, -0.2962665 ],\n",
       "       [ 1.41612769, -0.46033805],\n",
       "       [ 1.57071326, -0.5885298 ],\n",
       "       [-0.801026  ,  1.51607215],\n",
       "       [ 1.31922241, -0.40170697],\n",
       "       [-0.802788  , -1.07238887],\n",
       "       [-0.70280666, -0.68992725],\n",
       "       [ 1.5952821 , -0.38932689],\n",
       "       [-0.74486663, -0.88894467],\n",
       "       [-0.9921086 ,  1.38503652],\n",
       "       [-0.55023917, -0.92835875],\n",
       "       [-0.68461895, -0.95693838],\n",
       "       [-0.25330785, -0.79141138],\n",
       "       [-0.62895156, -0.91620728],\n",
       "       [ 1.2955058 , -0.90699396],\n",
       "       [ 1.29102406, -0.53639566],\n",
       "       [-0.79894342,  1.29987764],\n",
       "       [-0.10837202, -0.97291548],\n",
       "       [-0.78441285, -1.10337716],\n",
       "       [ 1.24826661, -0.28234048],\n",
       "       [-0.74958424,  1.60891732],\n",
       "       [ 1.63323489, -0.27964228],\n",
       "       [-0.61960089, -1.17143229],\n",
       "       [-0.89895974,  1.23043324],\n",
       "       [ 1.40013378, -0.64082553],\n",
       "       [-0.72954346,  1.46406245],\n",
       "       [-0.47797503, -1.0240161 ],\n",
       "       [ 1.34176607, -0.7855745 ],\n",
       "       [-0.78811428,  1.56020407],\n",
       "       [-0.73215145,  1.34542207],\n",
       "       [ 1.30162752, -0.07844727],\n",
       "       [-0.54134789, -0.89067598],\n",
       "       [-0.93680238,  1.56356151],\n",
       "       [-0.77159584,  1.29123417],\n",
       "       [ 1.2472795 , -0.1918134 ],\n",
       "       [-0.86397589,  1.08787767],\n",
       "       [-0.62276699,  1.31031417],\n",
       "       [ 1.57555877, -0.54720577],\n",
       "       [-0.67116105, -0.92373228],\n",
       "       [-0.737174  , -0.83506835],\n",
       "       [-0.74819534, -0.92715848],\n",
       "       [-0.94589283,  1.2425534 ],\n",
       "       [ 1.59026118, -0.72873848],\n",
       "       [ 1.31292216, -0.30282097],\n",
       "       [-0.74083039,  1.31595349],\n",
       "       [-1.28940606,  1.49150744],\n",
       "       [-0.98569678,  1.42889493],\n",
       "       [-1.11828371,  1.2671116 ],\n",
       "       [ 1.23478852, -0.19598736],\n",
       "       [-0.61782209, -0.99184293],\n",
       "       [ 1.60741698, -0.73737063],\n",
       "       [-0.67567807, -1.00702385],\n",
       "       [-0.78640389, -0.79132509],\n",
       "       [-0.60613592, -0.85377285],\n",
       "       [ 1.06777895, -0.48160368],\n",
       "       [-0.96613393,  1.05050381],\n",
       "       [-0.91914435,  1.76467066],\n",
       "       [-0.43096631, -0.9487436 ],\n",
       "       [-0.67733005, -0.36639748],\n",
       "       [-0.08201138, -0.90281905],\n",
       "       [-0.78989359,  1.39708403],\n",
       "       [ 1.24771532, -0.82224365],\n",
       "       [-0.45571283,  1.38914795],\n",
       "       [ 1.45659541, -0.54952452],\n",
       "       [-0.75256686,  1.35359055],\n",
       "       [-0.41152551, -0.87421881],\n",
       "       [-0.41023129, -0.8973897 ],\n",
       "       [-0.44088501,  1.87294959],\n",
       "       [-0.8846133 ,  1.3866403 ],\n",
       "       [ 1.57945315, -0.6047542 ],\n",
       "       [-0.58477863, -0.67248005],\n",
       "       [-0.70092067,  1.33366922],\n",
       "       [-0.78123254,  1.43237421],\n",
       "       [-0.652633  ,  1.36843543],\n",
       "       [-0.80301354, -0.64156195]])"
      ]
     },
     "execution_count": 150,
     "metadata": {},
     "output_type": "execute_result"
    }
   ],
   "source": [
    "scaler = StandardScaler() \n",
    "X_scaled = scaler.fit_transform(X2)\n",
    "X_scaled"
   ]
  },
  {
   "cell_type": "code",
   "execution_count": 151,
   "metadata": {},
   "outputs": [
    {
     "data": {
      "text/plain": [
       "array([[-0.35062299,  0.93651669],\n",
       "       [-0.71356398, -0.70059007],\n",
       "       [ 0.97149011, -0.23708009],\n",
       "       [-0.45521544,  0.89038133],\n",
       "       [ 0.96525718, -0.26130171],\n",
       "       [-0.59462986, -0.80399959],\n",
       "       [-0.72269436, -0.69116776],\n",
       "       [ 0.98259824, -0.18574366],\n",
       "       [-0.28790837,  0.95765796],\n",
       "       [ 0.87138419, -0.49060125],\n",
       "       [-0.5424873 , -0.84006401],\n",
       "       [ 0.89156526, -0.45289225],\n",
       "       [ 0.99905202, -0.04353222],\n",
       "       [-0.46941283,  0.88297882],\n",
       "       [ 0.99790242, -0.0647361 ],\n",
       "       [-0.57589863,  0.81752111],\n",
       "       [-0.59047642,  0.80705489],\n",
       "       [-0.33619487,  0.94179245],\n",
       "       [-0.21954783, -0.97560174],\n",
       "       [-0.55005488,  0.83512851],\n",
       "       [-0.767898  , -0.64057213],\n",
       "       [-0.51887957, -0.85484735],\n",
       "       [ 0.92115662, -0.3891921 ],\n",
       "       [ 0.88471548, -0.46613143],\n",
       "       [-0.53658534,  0.84384606],\n",
       "       [-0.59370669,  0.80468153],\n",
       "       [ 0.92374984, -0.38299639],\n",
       "       [ 0.94157922, -0.33679158],\n",
       "       [-0.39585945,  0.91831111],\n",
       "       [ 0.96691722, -0.25509036],\n",
       "       [-0.8221712 , -0.56924029],\n",
       "       [-0.46575871,  0.88491176],\n",
       "       [ 0.95406873, -0.2995878 ],\n",
       "       [-0.75848147, -0.6516946 ],\n",
       "       [ 0.98283817, -0.18446987],\n",
       "       [-0.66907291, -0.74319677],\n",
       "       [-0.45528058, -0.89034802],\n",
       "       [-0.67081088, -0.74162845],\n",
       "       [ 0.92363036, -0.38328445],\n",
       "       [-0.49047257,  0.87145663],\n",
       "       [ 0.91724892, -0.39831448],\n",
       "       [-0.71453087, -0.69960392],\n",
       "       [ 0.88886198, -0.45817505],\n",
       "       [-0.39554983, -0.91844452],\n",
       "       [ 0.7983344 , -0.60221441],\n",
       "       [-0.55772126, -0.83002831],\n",
       "       [ 0.97976506, -0.20015102],\n",
       "       [-0.50557565,  0.86278228],\n",
       "       [-0.60284572, -0.79785778],\n",
       "       [-0.72537917, -0.68834952],\n",
       "       [-0.36649893, -0.93041847],\n",
       "       [-0.41494442,  0.90984676],\n",
       "       [ 0.98078505, -0.19509146],\n",
       "       [-0.40841273,  0.91279737],\n",
       "       [ 0.81637301, -0.57752498],\n",
       "       [-0.5389749 ,  0.84232183],\n",
       "       [-0.56766489, -0.82325972],\n",
       "       [-0.69568204, -0.71834984],\n",
       "       [ 0.91119344, -0.41197878],\n",
       "       [-0.57252898,  0.81988448],\n",
       "       [-0.68232376, -0.73105012],\n",
       "       [ 0.89844215, -0.4390919 ],\n",
       "       [-0.51403285,  0.8577705 ],\n",
       "       [-0.54786877,  0.83656429],\n",
       "       [-0.54582735,  0.83789767],\n",
       "       [-0.45931935,  0.88827121],\n",
       "       [-0.48369023, -0.87523926],\n",
       "       [-0.57713224,  0.81665071],\n",
       "       [ 0.95379201, -0.30046765],\n",
       "       [ 0.95684503, -0.29059866],\n",
       "       [-0.42848076, -0.90355091],\n",
       "       [ 0.85398846, -0.52029195],\n",
       "       [ 0.98175138, -0.19016895],\n",
       "       [-0.57370574, -0.81906149],\n",
       "       [ 0.93311473, -0.35957879],\n",
       "       [ 0.97303564, -0.2306548 ],\n",
       "       [ 0.95101501, -0.30914472],\n",
       "       [ 0.93642473, -0.35086854],\n",
       "       [-0.46715852,  0.88417358],\n",
       "       [ 0.95663257, -0.29129733],\n",
       "       [-0.59928137, -0.80053847],\n",
       "       [-0.71361529, -0.70053781],\n",
       "       [ 0.97148757, -0.2370905 ],\n",
       "       [-0.64225793, -0.76648858],\n",
       "       [-0.58232468,  0.81295631],\n",
       "       [-0.50987142, -0.86025063],\n",
       "       [-0.58185231, -0.81329447],\n",
       "       [-0.30483709, -0.95240451],\n",
       "       [-0.56595374, -0.824437  ],\n",
       "       [ 0.81919036, -0.57352171],\n",
       "       [ 0.92346526, -0.38368205],\n",
       "       [-0.52363087,  0.85194525],\n",
       "       [-0.11070427, -0.99385339],\n",
       "       [-0.57942031, -0.81502889],\n",
       "       [ 0.97536139, -0.22061313],\n",
       "       [-0.42230993,  0.9064515 ],\n",
       "       [ 0.98565649, -0.16876398],\n",
       "       [-0.46755223, -0.88396545],\n",
       "       [-0.58992974,  0.80745458],\n",
       "       [ 0.90928668, -0.41617032],\n",
       "       [-0.44599649,  0.89503471],\n",
       "       [-0.42295875, -0.90614894],\n",
       "       [ 0.86297228, -0.50525127],\n",
       "       [-0.45087685,  0.89258617],\n",
       "       [-0.47798892,  0.87836587],\n",
       "       [ 0.99818878, -0.06015944],\n",
       "       [-0.5193849 , -0.85454042],\n",
       "       [-0.5139573 ,  0.85781577],\n",
       "       [-0.51295774,  0.85841386],\n",
       "       [ 0.98838072, -0.15199854],\n",
       "       [-0.62191438,  0.78308524],\n",
       "       [-0.42926363,  0.90317924],\n",
       "       [ 0.94464826, -0.32808486],\n",
       "       [-0.5878026 , -0.80900439],\n",
       "       [-0.66179777, -0.7496824 ],\n",
       "       [-0.62800005, -0.7782133 ],\n",
       "       [-0.60571315,  0.79568309],\n",
       "       [ 0.90909323, -0.41659272],\n",
       "       [ 0.97441738, -0.22474601],\n",
       "       [-0.49056632,  0.87140386],\n",
       "       [-0.65399339,  0.75650026],\n",
       "       [-0.56783133,  0.82314493],\n",
       "       [-0.66170283,  0.7497662 ],\n",
       "       [ 0.98763687, -0.15675911],\n",
       "       [-0.52871848, -0.84879725],\n",
       "       [ 0.90892816, -0.41695275],\n",
       "       [-0.55716901, -0.83039912],\n",
       "       [-0.70489777, -0.70930892],\n",
       "       [-0.57889474, -0.81540228],\n",
       "       [ 0.91156874, -0.4111477 ],\n",
       "       [-0.67693145,  0.73604606],\n",
       "       [-0.46195223,  0.88690481],\n",
       "       [-0.41357962, -0.91046796],\n",
       "       [-0.8795581 , -0.47579149],\n",
       "       [-0.09046673, -0.99589948],\n",
       "       [-0.49216936,  0.87049947],\n",
       "       [ 0.83499331, -0.55026009],\n",
       "       [-0.31170784,  0.950178  ],\n",
       "       [ 0.93563018, -0.35298183],\n",
       "       [-0.48592519,  0.87400041],\n",
       "       [-0.42590584, -0.90476749],\n",
       "       [-0.41575641, -0.90947601],\n",
       "       [-0.22913338,  0.97339503],\n",
       "       [-0.5378297 ,  0.8430535 ],\n",
       "       [ 0.93388494, -0.35757366],\n",
       "       [-0.65618725, -0.7545981 ],\n",
       "       [-0.46522114,  0.88519449],\n",
       "       [-0.47882261,  0.87791167],\n",
       "       [-0.4304696 ,  0.90260507],\n",
       "       [-0.78127153, -0.62419132]])"
      ]
     },
     "execution_count": 151,
     "metadata": {},
     "output_type": "execute_result"
    }
   ],
   "source": [
    "X_normalized = normalize(X_scaled) \n",
    "X_normalized"
   ]
  },
  {
   "cell_type": "code",
   "execution_count": 152,
   "metadata": {},
   "outputs": [],
   "source": [
    "X_normalized = pd.DataFrame(X_normalized) "
   ]
  },
  {
   "cell_type": "code",
   "execution_count": 153,
   "metadata": {},
   "outputs": [
    {
     "data": {
      "text/html": [
       "<div>\n",
       "<style scoped>\n",
       "    .dataframe tbody tr th:only-of-type {\n",
       "        vertical-align: middle;\n",
       "    }\n",
       "\n",
       "    .dataframe tbody tr th {\n",
       "        vertical-align: top;\n",
       "    }\n",
       "\n",
       "    .dataframe thead th {\n",
       "        text-align: right;\n",
       "    }\n",
       "</style>\n",
       "<table border=\"1\" class=\"dataframe\">\n",
       "  <thead>\n",
       "    <tr style=\"text-align: right;\">\n",
       "      <th></th>\n",
       "      <th>P1</th>\n",
       "      <th>P2</th>\n",
       "    </tr>\n",
       "  </thead>\n",
       "  <tbody>\n",
       "    <tr>\n",
       "      <th>0</th>\n",
       "      <td>0.960001</td>\n",
       "      <td>-0.476989</td>\n",
       "    </tr>\n",
       "    <tr>\n",
       "      <th>1</th>\n",
       "      <td>0.013855</td>\n",
       "      <td>0.907444</td>\n",
       "    </tr>\n",
       "    <tr>\n",
       "      <th>2</th>\n",
       "      <td>-0.800424</td>\n",
       "      <td>-0.638906</td>\n",
       "    </tr>\n",
       "    <tr>\n",
       "      <th>3</th>\n",
       "      <td>0.997875</td>\n",
       "      <td>-0.369129</td>\n",
       "    </tr>\n",
       "    <tr>\n",
       "      <th>4</th>\n",
       "      <td>-0.813832</td>\n",
       "      <td>-0.617793</td>\n",
       "    </tr>\n",
       "  </tbody>\n",
       "</table>\n",
       "</div>"
      ],
      "text/plain": [
       "         P1        P2\n",
       "0  0.960001 -0.476989\n",
       "1  0.013855  0.907444\n",
       "2 -0.800424 -0.638906\n",
       "3  0.997875 -0.369129\n",
       "4 -0.813832 -0.617793"
      ]
     },
     "execution_count": 153,
     "metadata": {},
     "output_type": "execute_result"
    }
   ],
   "source": [
    "pca = PCA(n_components = 2) \n",
    "X_principal = pca.fit_transform(X_normalized) \n",
    "X_principal = pd.DataFrame(X_principal) \n",
    "X_principal.columns = ['P1', 'P2'] \n",
    "  \n",
    "X_principal.head() "
   ]
  },
  {
   "cell_type": "markdown",
   "metadata": {},
   "source": [
    "#### 1) Using affinity='rbf'"
   ]
  },
  {
   "cell_type": "code",
   "execution_count": 154,
   "metadata": {},
   "outputs": [
    {
     "data": {
      "text/plain": [
       "SpectralClustering(affinity='rbf', assign_labels='kmeans', coef0=1, degree=3,\n",
       "                   eigen_solver=None, eigen_tol=0.0, gamma=1.0,\n",
       "                   kernel_params=None, n_clusters=3, n_components=None,\n",
       "                   n_init=10, n_jobs=None, n_neighbors=10, random_state=None)"
      ]
     },
     "execution_count": 154,
     "metadata": {},
     "output_type": "execute_result"
    }
   ],
   "source": [
    "rbf_spectral_model= SpectralClustering(n_clusters = 3, affinity ='rbf') \n",
    "rbf_spectral_model"
   ]
  },
  {
   "cell_type": "code",
   "execution_count": 155,
   "metadata": {},
   "outputs": [
    {
     "data": {
      "text/plain": [
       "array([1, 0, 2, 1, 2, 0, 0, 2, 1, 2, 0, 2, 2, 1, 2, 1, 1, 1, 0, 1, 0, 0,\n",
       "       2, 2, 1, 1, 2, 2, 1, 2, 0, 1, 2, 0, 2, 0, 0, 0, 2, 1, 2, 0, 2, 0,\n",
       "       2, 0, 2, 1, 0, 0, 0, 1, 2, 1, 2, 1, 0, 0, 2, 1, 0, 2, 1, 1, 1, 1,\n",
       "       0, 1, 2, 2, 0, 2, 2, 0, 2, 2, 2, 2, 1, 2, 0, 0, 2, 0, 1, 0, 0, 0,\n",
       "       0, 2, 2, 1, 0, 0, 2, 1, 2, 0, 1, 2, 1, 0, 2, 1, 1, 2, 0, 1, 1, 2,\n",
       "       1, 1, 2, 0, 0, 0, 1, 2, 2, 1, 1, 1, 1, 2, 0, 2, 0, 0, 0, 2, 1, 1,\n",
       "       0, 0, 0, 1, 2, 1, 2, 1, 0, 0, 1, 1, 2, 0, 1, 1, 1, 0])"
      ]
     },
     "execution_count": 155,
     "metadata": {},
     "output_type": "execute_result"
    }
   ],
   "source": [
    "rbf_labels = rbf_spectral_model.fit_predict(X_principal) \n",
    "rbf_labels"
   ]
  },
  {
   "cell_type": "code",
   "execution_count": 156,
   "metadata": {},
   "outputs": [
    {
     "data": {
      "image/png": "[encoded data removed]",
      "text/plain": [
       "<Figure size 648x648 with 1 Axes>"
      ]
     },
     "metadata": {
      "needs_background": "light"
     },
     "output_type": "display_data"
    }
   ],
   "source": [
    "colours = {} \n",
    "colours[0] = 'blue'\n",
    "colours[1] = 'green'\n",
    "colours[2]='yellow'\n",
    "  \n",
    "cvec = [colours[label] for label in rbf_labels] \n",
    "  \n",
    "# blue = plt.scatter(X_principal['P1'], X_principal['P2'], color ='blue'); \n",
    "# green = plt.scatter(X_principal['P1'], X_principal['P2'], color ='green'); \n",
    "# yellow = plt.scatter(X_principal['P1'], X_principal['P2'], color ='yellow'); \n",
    "\n",
    "plt.figure(figsize =(9, 9)) \n",
    "plt.scatter(X_principal['P1'], X_principal['P2'], c = cvec) \n",
    "plt.legend((blue, green,yellow), ('Label 0', 'Label 1','Label 2')) \n",
    "plt.show() "
   ]
  },
  {
   "cell_type": "markdown",
   "metadata": {},
   "source": [
    "#### 2) Using affinity='nearest_neighbors'"
   ]
  },
  {
   "cell_type": "code",
   "execution_count": 157,
   "metadata": {},
   "outputs": [
    {
     "data": {
      "text/plain": [
       "SpectralClustering(affinity='nearest_neighbors', assign_labels='kmeans',\n",
       "                   coef0=1, degree=3, eigen_solver=None, eigen_tol=0.0,\n",
       "                   gamma=1.0, kernel_params=None, n_clusters=3,\n",
       "                   n_components=None, n_init=10, n_jobs=None, n_neighbors=10,\n",
       "                   random_state=None)"
      ]
     },
     "execution_count": 157,
     "metadata": {},
     "output_type": "execute_result"
    }
   ],
   "source": [
    "nn_spectral_model = SpectralClustering(n_clusters = 3, affinity ='nearest_neighbors') \n",
    "nn_spectral_model"
   ]
  },
  {
   "cell_type": "code",
   "execution_count": 158,
   "metadata": {},
   "outputs": [
    {
     "data": {
      "text/plain": [
       "array([0, 1, 0, 0, 0, 2, 1, 0, 0, 0, 2, 0, 0, 0, 0, 0, 0, 0, 2, 0, 1, 2,\n",
       "       0, 0, 0, 0, 0, 0, 0, 0, 1, 0, 0, 1, 0, 1, 2, 1, 0, 0, 0, 1, 0, 2,\n",
       "       0, 2, 0, 0, 2, 1, 2, 0, 0, 0, 0, 0, 2, 1, 0, 0, 1, 0, 0, 0, 0, 0,\n",
       "       2, 0, 0, 0, 2, 0, 0, 2, 0, 0, 0, 0, 0, 0, 2, 1, 0, 1, 0, 2, 2, 2,\n",
       "       2, 0, 0, 0, 2, 2, 0, 0, 0, 2, 0, 0, 0, 2, 0, 0, 0, 0, 2, 0, 0, 0,\n",
       "       0, 0, 0, 2, 1, 1, 0, 0, 0, 0, 0, 0, 0, 0, 2, 0, 2, 1, 2, 0, 0, 0,\n",
       "       2, 1, 2, 0, 0, 0, 0, 0, 2, 2, 0, 0, 0, 1, 0, 0, 0, 1])"
      ]
     },
     "execution_count": 158,
     "metadata": {},
     "output_type": "execute_result"
    }
   ],
   "source": [
    "nn_labels = nn_spectral_model.fit_predict(X_principal) \n",
    "nn_labels"
   ]
  },
  {
   "cell_type": "code",
   "execution_count": 164,
   "metadata": {},
   "outputs": [
    {
     "data": {
      "image/png": "[encoded data removed]",
      "text/plain": [
       "<Figure size 648x648 with 1 Axes>"
      ]
     },
     "metadata": {
      "needs_background": "light"
     },
     "output_type": "display_data"
    }
   ],
   "source": [
    "colours = {} \n",
    "colours[0] = 'red'\n",
    "colours[1] = 'yellow'\n",
    "colours[2]='pink'\n",
    "  \n",
    "cvec = [colours[label] for label in nn_labels] \n",
    "    \n",
    "# red = plt.scatter(X_principal['P1'], X_principal['P2'], color ='red'); \n",
    "# yellow = plt.scatter(X_principal['P1'], X_principal['P2'], color ='yellow'); \n",
    "# pink = plt.scatter(X_principal['P1'], X_principal['P2'], color ='pink'); \n",
    "\n",
    "\n",
    "plt.figure(figsize =(9, 9)) \n",
    "plt.scatter(X_principal['P1'], X_principal['P2'], c = cvec) \n",
    "plt.legend((red,yellow,pink), ('Label 0', 'Label 1','Label 2')) \n",
    "plt.show() "
   ]
  },
  {
   "cell_type": "markdown",
   "metadata": {},
   "source": [
    "### Calculating the performances of both the affinities and comparing them"
   ]
  },
  {
   "cell_type": "code",
   "execution_count": 160,
   "metadata": {},
   "outputs": [],
   "source": [
    "affinity = ['rbf', 'nearest-neighbours'] "
   ]
  },
  {
   "cell_type": "code",
   "execution_count": 161,
   "metadata": {},
   "outputs": [
    {
     "name": "stdout",
     "output_type": "stream",
     "text": [
      "[0.8353742948514151, 0.21551914741780023]\n"
     ]
    }
   ],
   "source": [
    "scores=[]\n",
    "scores.append(silhouette_score(X2, rbf_labels)) \n",
    "scores.append(silhouette_score(X2, nn_labels)) \n",
    "  \n",
    "print(scores) "
   ]
  },
  {
   "cell_type": "code",
   "execution_count": 162,
   "metadata": {
    "scrolled": true
   },
   "outputs": [
    {
     "data": {
      "image/png": "[encoded data removed]",
      "text/plain": [
       "<Figure size 432x288 with 1 Axes>"
      ]
     },
     "metadata": {
      "needs_background": "light"
     },
     "output_type": "display_data"
    }
   ],
   "source": [
    "import matplotlib.pyplot as plt\n",
    "plt.bar(affinity, scores,color='red') \n",
    "plt.xlabel('Affinity') \n",
    "plt.ylabel('Silhouette Score') \n",
    "plt.title('Comparison') \n",
    "plt.show() "
   ]
  },
  {
   "cell_type": "code",
   "execution_count": null,
   "metadata": {},
   "outputs": [],
   "source": []
  }
 ],
 "metadata": {
  "kernelspec": {
   "display_name": "Python 3",
   "language": "python",
   "name": "python3"
  },
  "language_info": {
   "codemirror_mode": {
    "name": "ipython",
    "version": 3
   },
   "file_extension": ".py",
   "mimetype": "text/x-python",
   "name": "python",
   "nbconvert_exporter": "python",
   "pygments_lexer": "ipython3",
   "version": "3.8.3"
  }
 },
 "nbformat": 4,
 "nbformat_minor": 4
}
